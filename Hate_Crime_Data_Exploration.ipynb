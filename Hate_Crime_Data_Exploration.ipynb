{
  "cells": [
    {
      "cell_type": "markdown",
      "metadata": {
        "id": "view-in-github",
        "colab_type": "text"
      },
      "source": [
        "<a href=\"https://colab.research.google.com/github/IsaacFigNewton/Analyzing-Hate-Crime-Data/blob/main/Hate_Crime_Data_Exploration.ipynb\" target=\"_parent\"><img src=\"https://colab.research.google.com/assets/colab-badge.svg\" alt=\"Open In Colab\"/></a>"
      ]
    },
    {
      "cell_type": "markdown",
      "metadata": {
        "id": "mOiwCxBSfrVr"
      },
      "source": [
        "#TODO:\n",
        "####Add Point-Bierial correlation coefficients to correlation heatmap of merged_df\n",
        "####Add the ethnicity_race_cols to demo_df"
      ]
    },
    {
      "cell_type": "markdown",
      "metadata": {
        "id": "1drJWUkF4odQ"
      },
      "source": [
        "#Import Stuff"
      ]
    },
    {
      "cell_type": "markdown",
      "metadata": {
        "id": "UXLq0TJ6dd75"
      },
      "source": [
        "###Import all libraries"
      ]
    },
    {
      "cell_type": "code",
      "execution_count": 1,
      "metadata": {
        "id": "YVKUvdikdVxP"
      },
      "outputs": [],
      "source": [
        "import pandas as pd\n",
        "import sklearn as sk\n",
        "import numpy as np\n",
        "from matplotlib import pyplot as plt\n",
        "import seaborn as sns\n",
        "import altair as alt\n",
        "import re"
      ]
    },
    {
      "cell_type": "markdown",
      "metadata": {
        "id": "cH0vaj3TdsQ_"
      },
      "source": [
        "###Import datasets"
      ]
    },
    {
      "cell_type": "code",
      "execution_count": 2,
      "metadata": {
        "id": "bCX3rTyyddMq"
      },
      "outputs": [],
      "source": [
        "crime_df = pd.read_csv(\"https://raw.githubusercontent.com/IsaacFigNewton/Analyzing-Hate-Crime-Data/main/hate_crime/hate_crime.csv\", on_bad_lines='skip')\n",
        "city_demo_df = pd.read_csv(\"https://raw.githubusercontent.com/IsaacFigNewton/Analyzing-Hate-Crime-Data/main/demographics/city/ACSST1Y2022.S0101-Data.csv\", on_bad_lines='skip')\n",
        "county_demo_df = pd.read_csv(\"https://raw.githubusercontent.com/IsaacFigNewton/Analyzing-Hate-Crime-Data/main/demographics/county/ACSDP1Y2022.DP05-Data.csv\", on_bad_lines='skip')"
      ]
    },
    {
      "cell_type": "markdown",
      "metadata": {
        "id": "CMmPAMsD4kTu"
      },
      "source": [
        "#Data Cleaning"
      ]
    },
    {
      "cell_type": "code",
      "execution_count": 3,
      "metadata": {
        "id": "n5X6ugA1wk7E"
      },
      "outputs": [],
      "source": [
        "pd.set_option('display.max_columns', None)\n",
        "pd.set_option('display.max_rows', None)"
      ]
    },
    {
      "cell_type": "code",
      "execution_count": 4,
      "metadata": {
        "id": "ad1nsDl75WNg"
      },
      "outputs": [],
      "source": [
        "#only consider 2022 crime data from cities and counties\n",
        "crime_df = crime_df[(crime_df['data_year'] == 2022) & ((crime_df['agency_type_name'] == \"City\") | (crime_df['agency_type_name'] == \"County\"))]"
      ]
    },
    {
      "cell_type": "markdown",
      "source": [
        "##Clean city and county demographic datasets"
      ],
      "metadata": {
        "id": "91_ky8rB7u13"
      }
    },
    {
      "cell_type": "code",
      "execution_count": 5,
      "metadata": {
        "id": "MvzdSWFyzeW_"
      },
      "outputs": [],
      "source": [
        "# use the entries of the first row as the column headers for easier management\n",
        "def fixHeaders(df):\n",
        "  new_headers = df.iloc[0]\n",
        "  new_df = df[1:]\n",
        "  new_df.columns = new_headers\n",
        "  return new_df"
      ]
    },
    {
      "cell_type": "code",
      "execution_count": 6,
      "metadata": {
        "id": "9WA3B15xen01"
      },
      "outputs": [],
      "source": [
        "#fix the headers\n",
        "city_demo_df = fixHeaders(city_demo_df)\n",
        "county_demo_df = fixHeaders(county_demo_df)"
      ]
    },
    {
      "cell_type": "code",
      "execution_count": 7,
      "metadata": {
        "id": "wptIjBBS43De"
      },
      "outputs": [],
      "source": [
        "def split_area_name(area):\n",
        "    result = [np.nan, np.nan, np.nan]\n",
        "    if \", \" in area:\n",
        "        result = area.split(\", \") + [np.nan]\n",
        "    if \" city\" in result[0].lower():\n",
        "        result[0] = result[0][0:-5]\n",
        "        result[2] = result[1]\n",
        "        result[1] = \"City\"\n",
        "    elif \" county\" in result[0].lower():\n",
        "        result[0] = result[0][0:-7]\n",
        "        result[2] = result[1]\n",
        "        result[1] = \"County\"\n",
        "\n",
        "    return result + [np.nan] * (3 - len(result))\n",
        "\n",
        "def splitArea(df):\n",
        "    df[[\"pug_agency_name\", \"agency_type_name\", \"state_name\"]] = df[\"Geographic Area Name\"].map(split_area_name).apply(pd.Series)"
      ]
    },
    {
      "cell_type": "code",
      "execution_count": 8,
      "metadata": {
        "id": "vDxDbqFs5ax-",
        "colab": {
          "base_uri": "https://localhost:8080/"
        },
        "outputId": "0fec9642-ec3f-4b26-878b-a4bfd2ef07bc"
      },
      "outputs": [
        {
          "output_type": "stream",
          "name": "stderr",
          "text": [
            "<ipython-input-7-05c1ba8e5616>:17: SettingWithCopyWarning: \n",
            "A value is trying to be set on a copy of a slice from a DataFrame.\n",
            "Try using .loc[row_indexer,col_indexer] = value instead\n",
            "\n",
            "See the caveats in the documentation: https://pandas.pydata.org/pandas-docs/stable/user_guide/indexing.html#returning-a-view-versus-a-copy\n",
            "  df[[\"pug_agency_name\", \"agency_type_name\", \"state_name\"]] = df[\"Geographic Area Name\"].map(split_area_name).apply(pd.Series)\n",
            "<ipython-input-7-05c1ba8e5616>:17: SettingWithCopyWarning: \n",
            "A value is trying to be set on a copy of a slice from a DataFrame.\n",
            "Try using .loc[row_indexer,col_indexer] = value instead\n",
            "\n",
            "See the caveats in the documentation: https://pandas.pydata.org/pandas-docs/stable/user_guide/indexing.html#returning-a-view-versus-a-copy\n",
            "  df[[\"pug_agency_name\", \"agency_type_name\", \"state_name\"]] = df[\"Geographic Area Name\"].map(split_area_name).apply(pd.Series)\n",
            "<ipython-input-7-05c1ba8e5616>:17: SettingWithCopyWarning: \n",
            "A value is trying to be set on a copy of a slice from a DataFrame.\n",
            "Try using .loc[row_indexer,col_indexer] = value instead\n",
            "\n",
            "See the caveats in the documentation: https://pandas.pydata.org/pandas-docs/stable/user_guide/indexing.html#returning-a-view-versus-a-copy\n",
            "  df[[\"pug_agency_name\", \"agency_type_name\", \"state_name\"]] = df[\"Geographic Area Name\"].map(split_area_name).apply(pd.Series)\n"
          ]
        }
      ],
      "source": [
        "splitArea(city_demo_df)\n",
        "splitArea(county_demo_df)\n",
        "\n",
        "# city_demo_df.head()"
      ]
    },
    {
      "cell_type": "markdown",
      "source": [
        "##Clean crime dataset"
      ],
      "metadata": {
        "id": "Cxkvqx0R8A29"
      }
    },
    {
      "cell_type": "markdown",
      "source": [
        "###Important functions"
      ],
      "metadata": {
        "id": "8PgKZ6LO0rur"
      }
    },
    {
      "cell_type": "code",
      "source": [
        "def get_max_cols(df, column, character, prefix):\n",
        "    # for each entry\n",
        "    for i in df.index:\n",
        "      # Count occurrences of character in the specified column\n",
        "      # then store the result in the prefix + \"_req_cols\" column\n",
        "      col_val = df.loc[i, column]\n",
        "      # print(col_val)\n",
        "      df.loc[i, prefix + \"_req_cols\"] = str(col_val).count(character)\n",
        "\n",
        "    return df[prefix + \"_req_cols\"].idxmax()"
      ],
      "metadata": {
        "id": "whQdcLBmrJus"
      },
      "execution_count": 29,
      "outputs": []
    },
    {
      "cell_type": "code",
      "source": [
        "def split_multiCol(val, replacementDict, max_cols):\n",
        "\n",
        "  # break up the entries' values into individual col_vals\n",
        "  col_vals = val.split(\";\")\n",
        "  # for each col_vals in the entry\n",
        "  for i in range(len(col_vals)):\n",
        "\n",
        "      # and for each replacement to be made\n",
        "      for before, after in replacementDict.items():\n",
        "        col_vals[i] = col_vals[i].replace(before, after)\n",
        "      # remove extra whitespace\n",
        "      col_vals[i].strip()\n",
        "\n",
        "  # add placeholders\n",
        "  col_vals = col_vals + [0] * (max_cols - len(col_vals))\n",
        "\n",
        "  return col_vals"
      ],
      "metadata": {
        "id": "Y5Xs8UBRqRtP"
      },
      "execution_count": 10,
      "outputs": []
    },
    {
      "cell_type": "code",
      "source": [
        "def get_unique_types(df, type_cols):\n",
        "  all_types = []\n",
        "  for col in type_cols:\n",
        "    all_types.extend(df[col].unique())\n",
        "\n",
        "  # create a set of just the unique ones\n",
        "  unique_types = set(all_types)\n",
        "\n",
        "  # remove 0, which got in there somehow\n",
        "  unique_types.remove(0)\n",
        "\n",
        "  return unique_types"
      ],
      "metadata": {
        "id": "UtuXXR3g0nwq"
      },
      "execution_count": 11,
      "outputs": []
    },
    {
      "cell_type": "code",
      "source": [
        "def get_unique_dummies(df, unique_types):\n",
        "  unique_dummies = pd.get_dummies(list(unique_types))\n",
        "\n",
        "  # combine the dummy columns with crime_df\n",
        "  df = pd.concat([df, unique_dummies], axis=1)\n",
        "\n",
        "  # set all dummy values to 0\n",
        "  df.loc[:, unique_dummies.columns] = 0\n",
        "\n",
        "  return unique_dummies"
      ],
      "metadata": {
        "id": "SdJyFKJfzdHr"
      },
      "execution_count": 12,
      "outputs": []
    },
    {
      "cell_type": "markdown",
      "source": [
        "###Break up incident date information"
      ],
      "metadata": {
        "id": "_jVRTkrMofxu"
      }
    },
    {
      "cell_type": "code",
      "execution_count": 13,
      "metadata": {
        "id": "LWs_l73xYNHa"
      },
      "outputs": [],
      "source": [
        "def split_incident_date(date):\n",
        "    result = date.split(\"-\")\n",
        "\n",
        "    return result + [np.nan] * (3 - len(result))\n",
        "\n",
        "crime_df[[\"data_year\", \"incident_month\", \"incident_day\"]] = crime_df[\"incident_date\"].map(split_incident_date).apply(pd.Series)"
      ]
    },
    {
      "cell_type": "markdown",
      "source": [
        "###Break up bias descriptions into dummy columns"
      ],
      "metadata": {
        "id": "HA6an_zn7d6a"
      }
    },
    {
      "cell_type": "markdown",
      "source": [
        "####Parse the bias_desc's into their own individual columns"
      ],
      "metadata": {
        "id": "HiZ4Oczk1F9_"
      }
    },
    {
      "cell_type": "code",
      "execution_count": 14,
      "metadata": {
        "id": "TvKgWiX_QI1v"
      },
      "outputs": [],
      "source": [
        "# TODO: find max bias count in mapping function below?\n",
        "max_bias_count = 5\n",
        "\n",
        "def split_bias_desc(desc):\n",
        "  # break up the biases into individual biases\n",
        "  biases = desc.split(\";\")\n",
        "  for i in range(len(biases)):\n",
        "      biases[i] = biases[i]\\\n",
        "                    .replace(\"(Male)\", \"\")\\\n",
        "                    .replace(\"(Female)\", \"\")\\\n",
        "                    .replace(\"Lesbian, Gay, Bisexual, or Transgender (Mixed Group)\", \"LGBTQ\")\\\n",
        "                    .strip()\n",
        "\n",
        "  # add placeholders\n",
        "  biases = biases + [0] * (max_bias_count - len(biases))\n",
        "\n",
        "  return biases"
      ]
    },
    {
      "cell_type": "code",
      "source": [
        "bias_cols = [\"bias\" + str(i) for i in range(max_bias_count)]\n",
        "\n",
        "crime_df[bias_cols] = crime_df[\"bias_desc\"]\\\n",
        "                          .map(split_bias_desc)\\\n",
        "                          .apply(pd.Series)\n",
        "\n",
        "# remove the \"0\" column, which I'm not entirely sure why exists\n",
        "if \"0\" in crime_df.columns:\n",
        "  crime_df = crime_df.drop(columns=[\"0\"])"
      ],
      "metadata": {
        "id": "J3UqsEOSP2Zk"
      },
      "execution_count": 15,
      "outputs": []
    },
    {
      "cell_type": "code",
      "source": [
        "# max_bias_desc_cols = get_max_cols(crime_df, \"bias_desc\", \";\", \"bias_desc\")\n",
        "\n",
        "# bias_cols = [\"bias\" + str(i) for i in range(max_bias_desc_cols)]\n",
        "\n",
        "# def split_bias_desc(val):\n",
        "#   return split_multiCol(val, {\"(Male)\":\"\", \"(Female)\":\"\", \"Lesbian, Gay, Bisexual, or Transgender (Mixed Group)\": \"LGBTQ\"}, max_bias_desc_cols)\n",
        "\n",
        "# crime_df[bias_cols] = crime_df[\"bias_desc\"]\\\n",
        "#                           .map(split_bias_desc)\\\n",
        "#                           .apply(pd.Series)\n",
        "\n",
        "# # remove the \"0\" column, which I'm not entirely sure why exists\n",
        "# if \"0\" in crime_df.columns:\n",
        "#   crime_df = crime_df.drop(columns=[\"0\"])"
      ],
      "metadata": {
        "id": "yc8VmLG_vlP4"
      },
      "execution_count": 16,
      "outputs": []
    },
    {
      "cell_type": "markdown",
      "source": [
        "####Get a list of all unique biases"
      ],
      "metadata": {
        "id": "B6hhocTJ_N5q"
      }
    },
    {
      "cell_type": "code",
      "execution_count": 17,
      "metadata": {
        "id": "kTkdUjjzZgB3"
      },
      "outputs": [],
      "source": [
        "all_biases = []\n",
        "for col in bias_cols:\n",
        "  all_biases.extend(crime_df[col].unique())\n",
        "\n",
        "# create a set of just the unique ones\n",
        "unique_biases = set(all_biases)\n",
        "\n",
        "# remove 0, which got in there somehow\n",
        "unique_biases.remove(0)"
      ]
    },
    {
      "cell_type": "code",
      "source": [
        "unique_biases"
      ],
      "metadata": {
        "id": "OtnNQnfR0_uu",
        "colab": {
          "base_uri": "https://localhost:8080/"
        },
        "outputId": "6102aed1-138a-48ed-fe5d-d19b36688ebd"
      },
      "execution_count": 18,
      "outputs": [
        {
          "output_type": "execute_result",
          "data": {
            "text/plain": [
              "{'Anti-American Indian or Alaska Native',\n",
              " 'Anti-Arab',\n",
              " 'Anti-Asian',\n",
              " 'Anti-Atheism/Agnosticism',\n",
              " 'Anti-Bisexual',\n",
              " 'Anti-Black or African American',\n",
              " 'Anti-Buddhist',\n",
              " 'Anti-Catholic',\n",
              " 'Anti-Church of Jesus Christ',\n",
              " 'Anti-Eastern Orthodox (Russian, Greek, Other)',\n",
              " 'Anti-Female',\n",
              " 'Anti-Gay',\n",
              " 'Anti-Gender Non-Conforming',\n",
              " 'Anti-Heterosexual',\n",
              " 'Anti-Hindu',\n",
              " 'Anti-Hispanic or Latino',\n",
              " 'Anti-Islamic (Muslim)',\n",
              " \"Anti-Jehovah's Witness\",\n",
              " 'Anti-Jewish',\n",
              " 'Anti-LGBTQ',\n",
              " 'Anti-Lesbian',\n",
              " 'Anti-Male',\n",
              " 'Anti-Mental Disability',\n",
              " 'Anti-Multiple Races, Group',\n",
              " 'Anti-Multiple Religions, Group',\n",
              " 'Anti-Native Hawaiian or Other Pacific Islander',\n",
              " 'Anti-Other Christian',\n",
              " 'Anti-Other Race/Ethnicity/Ancestry',\n",
              " 'Anti-Other Religion',\n",
              " 'Anti-Physical Disability',\n",
              " 'Anti-Protestant',\n",
              " 'Anti-Sikh',\n",
              " 'Anti-Transgender',\n",
              " 'Anti-White'}"
            ]
          },
          "metadata": {},
          "execution_count": 18
        }
      ]
    },
    {
      "cell_type": "markdown",
      "source": [
        "####Create dummy columns for all hate crime biases"
      ],
      "metadata": {
        "id": "NXLlSu1U_T9I"
      }
    },
    {
      "cell_type": "code",
      "execution_count": 19,
      "metadata": {
        "id": "mn4wwlX1jsOk"
      },
      "outputs": [],
      "source": [
        "dummies = pd.get_dummies(list(unique_biases))\n",
        "\n",
        "# combine the dummy columns with crime_df\n",
        "crime_df = pd.concat([crime_df, dummies], axis=1)\n",
        "\n",
        "# set all dummy values to 0\n",
        "crime_df.loc[:, dummies.columns] = 0"
      ]
    },
    {
      "cell_type": "code",
      "execution_count": 20,
      "metadata": {
        "id": "7PYIcRq2hNT8"
      },
      "outputs": [],
      "source": [
        "#set dummy column values according to biases parsed from bias_desc\n",
        "\n",
        "# for each entry\n",
        "for i in crime_df.index:\n",
        "    # for each bias column\n",
        "    for j in range(0, 5):\n",
        "        bias = crime_df.loc[i][\"bias\" + str(j)]\n",
        "        if bias in unique_biases:\n",
        "            # Use the iloc method to access the DataFrame by row and column indices\n",
        "            crime_df.loc[i, bias] = 1"
      ]
    },
    {
      "cell_type": "code",
      "source": [
        "crime_df.head()"
      ],
      "metadata": {
        "id": "eBGe3zZi6RUN",
        "colab": {
          "base_uri": "https://localhost:8080/",
          "height": 0
        },
        "outputId": "8ea9cd8e-468b-4291-b805-8198bd18ed8b"
      },
      "execution_count": 21,
      "outputs": [
        {
          "output_type": "execute_result",
          "data": {
            "text/plain": [
              "        incident_id data_year        ori pug_agency_name pub_agency_unit  \\\n",
              "230020    1476719.0      2022  AK0010500          Kodiak             NaN   \n",
              "230021    1483026.0      2022  AK0015600         Wasilla             NaN   \n",
              "230022    1484192.0      2022  AK0010100       Anchorage             NaN   \n",
              "230023    1484193.0      2022  AK0010100       Anchorage             NaN   \n",
              "230024    1484194.0      2022  AK0010100       Anchorage             NaN   \n",
              "\n",
              "       agency_type_name state_abbr state_name division_name region_name  \\\n",
              "230020             City         AK     Alaska       Pacific        West   \n",
              "230021             City         AK     Alaska       Pacific        West   \n",
              "230022             City         AK     Alaska       Pacific        West   \n",
              "230023             City         AK     Alaska       Pacific        West   \n",
              "230024             City         AK     Alaska       Pacific        West   \n",
              "\n",
              "       population_group_code      population_group_description incident_date  \\\n",
              "230020                     6      Cities from 2,500 thru 9,999    2022-07-31   \n",
              "230021                     6      Cities from 2,500 thru 9,999    2022-10-06   \n",
              "230022                    1C  Cities from 250,000 thru 499,999    2022-03-25   \n",
              "230023                    1C  Cities from 250,000 thru 499,999    2022-06-30   \n",
              "230024                    1C  Cities from 250,000 thru 499,999    2022-07-05   \n",
              "\n",
              "        adult_victim_count  juvenile_victim_count  total_offender_count  \\\n",
              "230020                 1.0                    0.0                   1.0   \n",
              "230021                 0.0                    0.0                   0.0   \n",
              "230022                 1.0                    0.0                   0.0   \n",
              "230023                 NaN                    NaN                   0.0   \n",
              "230024                 NaN                    NaN                   0.0   \n",
              "\n",
              "        adult_offender_count  juvenile_offender_count  \\\n",
              "230020                   1.0                      0.0   \n",
              "230021                   NaN                      NaN   \n",
              "230022                   0.0                      0.0   \n",
              "230023                   0.0                      0.0   \n",
              "230024                   0.0                      0.0   \n",
              "\n",
              "                           offender_race offender_ethnicity  victim_count  \\\n",
              "230020  American Indian or Alaska Native      Not Specified           1.0   \n",
              "230021                     Not Specified      Not Specified           1.0   \n",
              "230022                           Unknown            Unknown           1.0   \n",
              "230023                           Unknown            Unknown           1.0   \n",
              "230024                           Unknown            Unknown           1.0   \n",
              "\n",
              "                                    offense_name  total_individual_victims  \\\n",
              "230020  Destruction/Damage/Vandalism of Property                       1.0   \n",
              "230021  Destruction/Damage/Vandalism of Property                       0.0   \n",
              "230022                              Intimidation                       1.0   \n",
              "230023  Destruction/Damage/Vandalism of Property                       NaN   \n",
              "230024  Destruction/Damage/Vandalism of Property                       NaN   \n",
              "\n",
              "                         location_name  \\\n",
              "230020                  Residence/Home   \n",
              "230021  Church/Synagogue/Temple/Mosque   \n",
              "230022                Community Center   \n",
              "230023  Church/Synagogue/Temple/Mosque   \n",
              "230024  Church/Synagogue/Temple/Mosque   \n",
              "\n",
              "                                                bias_desc  \\\n",
              "230020  Anti-Lesbian, Gay, Bisexual, or Transgender (M...   \n",
              "230021                               Anti-Other Christian   \n",
              "230022                                        Anti-Jewish   \n",
              "230023                               Anti-Other Christian   \n",
              "230024                                        Anti-Jewish   \n",
              "\n",
              "                  victim_types multiple_offense multiple_bias incident_month  \\\n",
              "230020              Individual                S             S             07   \n",
              "230021  Religious Organization                S             S             10   \n",
              "230022              Individual                S             S             03   \n",
              "230023  Religious Organization                S             S             06   \n",
              "230024                Business                S             S             07   \n",
              "\n",
              "       incident_day                 bias0 bias1 bias2 bias3 bias4  \\\n",
              "230020           31            Anti-LGBTQ     0     0     0     0   \n",
              "230021           06  Anti-Other Christian     0     0     0     0   \n",
              "230022           25           Anti-Jewish     0     0     0     0   \n",
              "230023           30  Anti-Other Christian     0     0     0     0   \n",
              "230024           05           Anti-Jewish     0     0     0     0   \n",
              "\n",
              "       Anti-American Indian or Alaska Native Anti-Arab Anti-Asian  \\\n",
              "230020                                     0         0          0   \n",
              "230021                                     0         0          0   \n",
              "230022                                     0         0          0   \n",
              "230023                                     0         0          0   \n",
              "230024                                     0         0          0   \n",
              "\n",
              "       Anti-Atheism/Agnosticism Anti-Bisexual Anti-Black or African American  \\\n",
              "230020                        0             0                              0   \n",
              "230021                        0             0                              0   \n",
              "230022                        0             0                              0   \n",
              "230023                        0             0                              0   \n",
              "230024                        0             0                              0   \n",
              "\n",
              "       Anti-Buddhist Anti-Catholic Anti-Church of Jesus Christ  \\\n",
              "230020             0             0                           0   \n",
              "230021             0             0                           0   \n",
              "230022             0             0                           0   \n",
              "230023             0             0                           0   \n",
              "230024             0             0                           0   \n",
              "\n",
              "       Anti-Eastern Orthodox (Russian, Greek, Other) Anti-Female Anti-Gay  \\\n",
              "230020                                             0           0        0   \n",
              "230021                                             0           0        0   \n",
              "230022                                             0           0        0   \n",
              "230023                                             0           0        0   \n",
              "230024                                             0           0        0   \n",
              "\n",
              "       Anti-Gender Non-Conforming Anti-Heterosexual Anti-Hindu  \\\n",
              "230020                          0                 0          0   \n",
              "230021                          0                 0          0   \n",
              "230022                          0                 0          0   \n",
              "230023                          0                 0          0   \n",
              "230024                          0                 0          0   \n",
              "\n",
              "       Anti-Hispanic or Latino Anti-Islamic (Muslim) Anti-Jehovah's Witness  \\\n",
              "230020                       0                     0                      0   \n",
              "230021                       0                     0                      0   \n",
              "230022                       0                     0                      0   \n",
              "230023                       0                     0                      0   \n",
              "230024                       0                     0                      0   \n",
              "\n",
              "       Anti-Jewish Anti-LGBTQ Anti-Lesbian Anti-Male Anti-Mental Disability  \\\n",
              "230020           0          1            0         0                      0   \n",
              "230021           0          0            0         0                      0   \n",
              "230022           1          0            0         0                      0   \n",
              "230023           0          0            0         0                      0   \n",
              "230024           1          0            0         0                      0   \n",
              "\n",
              "       Anti-Multiple Races, Group Anti-Multiple Religions, Group  \\\n",
              "230020                          0                              0   \n",
              "230021                          0                              0   \n",
              "230022                          0                              0   \n",
              "230023                          0                              0   \n",
              "230024                          0                              0   \n",
              "\n",
              "       Anti-Native Hawaiian or Other Pacific Islander Anti-Other Christian  \\\n",
              "230020                                              0                    0   \n",
              "230021                                              0                    1   \n",
              "230022                                              0                    0   \n",
              "230023                                              0                    1   \n",
              "230024                                              0                    0   \n",
              "\n",
              "       Anti-Other Race/Ethnicity/Ancestry Anti-Other Religion  \\\n",
              "230020                                  0                   0   \n",
              "230021                                  0                   0   \n",
              "230022                                  0                   0   \n",
              "230023                                  0                   0   \n",
              "230024                                  0                   0   \n",
              "\n",
              "       Anti-Physical Disability Anti-Protestant Anti-Sikh Anti-Transgender  \\\n",
              "230020                        0               0         0                0   \n",
              "230021                        0               0         0                0   \n",
              "230022                        0               0         0                0   \n",
              "230023                        0               0         0                0   \n",
              "230024                        0               0         0                0   \n",
              "\n",
              "       Anti-White  \n",
              "230020          0  \n",
              "230021          0  \n",
              "230022          0  \n",
              "230023          0  \n",
              "230024          0  "
            ],
            "text/html": [
              "\n",
              "  <div id=\"df-8513902e-5067-44f0-b7e0-e83a3bbc1ca7\" class=\"colab-df-container\">\n",
              "    <div>\n",
              "<style scoped>\n",
              "    .dataframe tbody tr th:only-of-type {\n",
              "        vertical-align: middle;\n",
              "    }\n",
              "\n",
              "    .dataframe tbody tr th {\n",
              "        vertical-align: top;\n",
              "    }\n",
              "\n",
              "    .dataframe thead th {\n",
              "        text-align: right;\n",
              "    }\n",
              "</style>\n",
              "<table border=\"1\" class=\"dataframe\">\n",
              "  <thead>\n",
              "    <tr style=\"text-align: right;\">\n",
              "      <th></th>\n",
              "      <th>incident_id</th>\n",
              "      <th>data_year</th>\n",
              "      <th>ori</th>\n",
              "      <th>pug_agency_name</th>\n",
              "      <th>pub_agency_unit</th>\n",
              "      <th>agency_type_name</th>\n",
              "      <th>state_abbr</th>\n",
              "      <th>state_name</th>\n",
              "      <th>division_name</th>\n",
              "      <th>region_name</th>\n",
              "      <th>population_group_code</th>\n",
              "      <th>population_group_description</th>\n",
              "      <th>incident_date</th>\n",
              "      <th>adult_victim_count</th>\n",
              "      <th>juvenile_victim_count</th>\n",
              "      <th>total_offender_count</th>\n",
              "      <th>adult_offender_count</th>\n",
              "      <th>juvenile_offender_count</th>\n",
              "      <th>offender_race</th>\n",
              "      <th>offender_ethnicity</th>\n",
              "      <th>victim_count</th>\n",
              "      <th>offense_name</th>\n",
              "      <th>total_individual_victims</th>\n",
              "      <th>location_name</th>\n",
              "      <th>bias_desc</th>\n",
              "      <th>victim_types</th>\n",
              "      <th>multiple_offense</th>\n",
              "      <th>multiple_bias</th>\n",
              "      <th>incident_month</th>\n",
              "      <th>incident_day</th>\n",
              "      <th>bias0</th>\n",
              "      <th>bias1</th>\n",
              "      <th>bias2</th>\n",
              "      <th>bias3</th>\n",
              "      <th>bias4</th>\n",
              "      <th>Anti-American Indian or Alaska Native</th>\n",
              "      <th>Anti-Arab</th>\n",
              "      <th>Anti-Asian</th>\n",
              "      <th>Anti-Atheism/Agnosticism</th>\n",
              "      <th>Anti-Bisexual</th>\n",
              "      <th>Anti-Black or African American</th>\n",
              "      <th>Anti-Buddhist</th>\n",
              "      <th>Anti-Catholic</th>\n",
              "      <th>Anti-Church of Jesus Christ</th>\n",
              "      <th>Anti-Eastern Orthodox (Russian, Greek, Other)</th>\n",
              "      <th>Anti-Female</th>\n",
              "      <th>Anti-Gay</th>\n",
              "      <th>Anti-Gender Non-Conforming</th>\n",
              "      <th>Anti-Heterosexual</th>\n",
              "      <th>Anti-Hindu</th>\n",
              "      <th>Anti-Hispanic or Latino</th>\n",
              "      <th>Anti-Islamic (Muslim)</th>\n",
              "      <th>Anti-Jehovah's Witness</th>\n",
              "      <th>Anti-Jewish</th>\n",
              "      <th>Anti-LGBTQ</th>\n",
              "      <th>Anti-Lesbian</th>\n",
              "      <th>Anti-Male</th>\n",
              "      <th>Anti-Mental Disability</th>\n",
              "      <th>Anti-Multiple Races, Group</th>\n",
              "      <th>Anti-Multiple Religions, Group</th>\n",
              "      <th>Anti-Native Hawaiian or Other Pacific Islander</th>\n",
              "      <th>Anti-Other Christian</th>\n",
              "      <th>Anti-Other Race/Ethnicity/Ancestry</th>\n",
              "      <th>Anti-Other Religion</th>\n",
              "      <th>Anti-Physical Disability</th>\n",
              "      <th>Anti-Protestant</th>\n",
              "      <th>Anti-Sikh</th>\n",
              "      <th>Anti-Transgender</th>\n",
              "      <th>Anti-White</th>\n",
              "    </tr>\n",
              "  </thead>\n",
              "  <tbody>\n",
              "    <tr>\n",
              "      <th>230020</th>\n",
              "      <td>1476719.0</td>\n",
              "      <td>2022</td>\n",
              "      <td>AK0010500</td>\n",
              "      <td>Kodiak</td>\n",
              "      <td>NaN</td>\n",
              "      <td>City</td>\n",
              "      <td>AK</td>\n",
              "      <td>Alaska</td>\n",
              "      <td>Pacific</td>\n",
              "      <td>West</td>\n",
              "      <td>6</td>\n",
              "      <td>Cities from 2,500 thru 9,999</td>\n",
              "      <td>2022-07-31</td>\n",
              "      <td>1.0</td>\n",
              "      <td>0.0</td>\n",
              "      <td>1.0</td>\n",
              "      <td>1.0</td>\n",
              "      <td>0.0</td>\n",
              "      <td>American Indian or Alaska Native</td>\n",
              "      <td>Not Specified</td>\n",
              "      <td>1.0</td>\n",
              "      <td>Destruction/Damage/Vandalism of Property</td>\n",
              "      <td>1.0</td>\n",
              "      <td>Residence/Home</td>\n",
              "      <td>Anti-Lesbian, Gay, Bisexual, or Transgender (M...</td>\n",
              "      <td>Individual</td>\n",
              "      <td>S</td>\n",
              "      <td>S</td>\n",
              "      <td>07</td>\n",
              "      <td>31</td>\n",
              "      <td>Anti-LGBTQ</td>\n",
              "      <td>0</td>\n",
              "      <td>0</td>\n",
              "      <td>0</td>\n",
              "      <td>0</td>\n",
              "      <td>0</td>\n",
              "      <td>0</td>\n",
              "      <td>0</td>\n",
              "      <td>0</td>\n",
              "      <td>0</td>\n",
              "      <td>0</td>\n",
              "      <td>0</td>\n",
              "      <td>0</td>\n",
              "      <td>0</td>\n",
              "      <td>0</td>\n",
              "      <td>0</td>\n",
              "      <td>0</td>\n",
              "      <td>0</td>\n",
              "      <td>0</td>\n",
              "      <td>0</td>\n",
              "      <td>0</td>\n",
              "      <td>0</td>\n",
              "      <td>0</td>\n",
              "      <td>0</td>\n",
              "      <td>1</td>\n",
              "      <td>0</td>\n",
              "      <td>0</td>\n",
              "      <td>0</td>\n",
              "      <td>0</td>\n",
              "      <td>0</td>\n",
              "      <td>0</td>\n",
              "      <td>0</td>\n",
              "      <td>0</td>\n",
              "      <td>0</td>\n",
              "      <td>0</td>\n",
              "      <td>0</td>\n",
              "      <td>0</td>\n",
              "      <td>0</td>\n",
              "      <td>0</td>\n",
              "    </tr>\n",
              "    <tr>\n",
              "      <th>230021</th>\n",
              "      <td>1483026.0</td>\n",
              "      <td>2022</td>\n",
              "      <td>AK0015600</td>\n",
              "      <td>Wasilla</td>\n",
              "      <td>NaN</td>\n",
              "      <td>City</td>\n",
              "      <td>AK</td>\n",
              "      <td>Alaska</td>\n",
              "      <td>Pacific</td>\n",
              "      <td>West</td>\n",
              "      <td>6</td>\n",
              "      <td>Cities from 2,500 thru 9,999</td>\n",
              "      <td>2022-10-06</td>\n",
              "      <td>0.0</td>\n",
              "      <td>0.0</td>\n",
              "      <td>0.0</td>\n",
              "      <td>NaN</td>\n",
              "      <td>NaN</td>\n",
              "      <td>Not Specified</td>\n",
              "      <td>Not Specified</td>\n",
              "      <td>1.0</td>\n",
              "      <td>Destruction/Damage/Vandalism of Property</td>\n",
              "      <td>0.0</td>\n",
              "      <td>Church/Synagogue/Temple/Mosque</td>\n",
              "      <td>Anti-Other Christian</td>\n",
              "      <td>Religious Organization</td>\n",
              "      <td>S</td>\n",
              "      <td>S</td>\n",
              "      <td>10</td>\n",
              "      <td>06</td>\n",
              "      <td>Anti-Other Christian</td>\n",
              "      <td>0</td>\n",
              "      <td>0</td>\n",
              "      <td>0</td>\n",
              "      <td>0</td>\n",
              "      <td>0</td>\n",
              "      <td>0</td>\n",
              "      <td>0</td>\n",
              "      <td>0</td>\n",
              "      <td>0</td>\n",
              "      <td>0</td>\n",
              "      <td>0</td>\n",
              "      <td>0</td>\n",
              "      <td>0</td>\n",
              "      <td>0</td>\n",
              "      <td>0</td>\n",
              "      <td>0</td>\n",
              "      <td>0</td>\n",
              "      <td>0</td>\n",
              "      <td>0</td>\n",
              "      <td>0</td>\n",
              "      <td>0</td>\n",
              "      <td>0</td>\n",
              "      <td>0</td>\n",
              "      <td>0</td>\n",
              "      <td>0</td>\n",
              "      <td>0</td>\n",
              "      <td>0</td>\n",
              "      <td>0</td>\n",
              "      <td>0</td>\n",
              "      <td>0</td>\n",
              "      <td>1</td>\n",
              "      <td>0</td>\n",
              "      <td>0</td>\n",
              "      <td>0</td>\n",
              "      <td>0</td>\n",
              "      <td>0</td>\n",
              "      <td>0</td>\n",
              "      <td>0</td>\n",
              "    </tr>\n",
              "    <tr>\n",
              "      <th>230022</th>\n",
              "      <td>1484192.0</td>\n",
              "      <td>2022</td>\n",
              "      <td>AK0010100</td>\n",
              "      <td>Anchorage</td>\n",
              "      <td>NaN</td>\n",
              "      <td>City</td>\n",
              "      <td>AK</td>\n",
              "      <td>Alaska</td>\n",
              "      <td>Pacific</td>\n",
              "      <td>West</td>\n",
              "      <td>1C</td>\n",
              "      <td>Cities from 250,000 thru 499,999</td>\n",
              "      <td>2022-03-25</td>\n",
              "      <td>1.0</td>\n",
              "      <td>0.0</td>\n",
              "      <td>0.0</td>\n",
              "      <td>0.0</td>\n",
              "      <td>0.0</td>\n",
              "      <td>Unknown</td>\n",
              "      <td>Unknown</td>\n",
              "      <td>1.0</td>\n",
              "      <td>Intimidation</td>\n",
              "      <td>1.0</td>\n",
              "      <td>Community Center</td>\n",
              "      <td>Anti-Jewish</td>\n",
              "      <td>Individual</td>\n",
              "      <td>S</td>\n",
              "      <td>S</td>\n",
              "      <td>03</td>\n",
              "      <td>25</td>\n",
              "      <td>Anti-Jewish</td>\n",
              "      <td>0</td>\n",
              "      <td>0</td>\n",
              "      <td>0</td>\n",
              "      <td>0</td>\n",
              "      <td>0</td>\n",
              "      <td>0</td>\n",
              "      <td>0</td>\n",
              "      <td>0</td>\n",
              "      <td>0</td>\n",
              "      <td>0</td>\n",
              "      <td>0</td>\n",
              "      <td>0</td>\n",
              "      <td>0</td>\n",
              "      <td>0</td>\n",
              "      <td>0</td>\n",
              "      <td>0</td>\n",
              "      <td>0</td>\n",
              "      <td>0</td>\n",
              "      <td>0</td>\n",
              "      <td>0</td>\n",
              "      <td>0</td>\n",
              "      <td>0</td>\n",
              "      <td>1</td>\n",
              "      <td>0</td>\n",
              "      <td>0</td>\n",
              "      <td>0</td>\n",
              "      <td>0</td>\n",
              "      <td>0</td>\n",
              "      <td>0</td>\n",
              "      <td>0</td>\n",
              "      <td>0</td>\n",
              "      <td>0</td>\n",
              "      <td>0</td>\n",
              "      <td>0</td>\n",
              "      <td>0</td>\n",
              "      <td>0</td>\n",
              "      <td>0</td>\n",
              "      <td>0</td>\n",
              "    </tr>\n",
              "    <tr>\n",
              "      <th>230023</th>\n",
              "      <td>1484193.0</td>\n",
              "      <td>2022</td>\n",
              "      <td>AK0010100</td>\n",
              "      <td>Anchorage</td>\n",
              "      <td>NaN</td>\n",
              "      <td>City</td>\n",
              "      <td>AK</td>\n",
              "      <td>Alaska</td>\n",
              "      <td>Pacific</td>\n",
              "      <td>West</td>\n",
              "      <td>1C</td>\n",
              "      <td>Cities from 250,000 thru 499,999</td>\n",
              "      <td>2022-06-30</td>\n",
              "      <td>NaN</td>\n",
              "      <td>NaN</td>\n",
              "      <td>0.0</td>\n",
              "      <td>0.0</td>\n",
              "      <td>0.0</td>\n",
              "      <td>Unknown</td>\n",
              "      <td>Unknown</td>\n",
              "      <td>1.0</td>\n",
              "      <td>Destruction/Damage/Vandalism of Property</td>\n",
              "      <td>NaN</td>\n",
              "      <td>Church/Synagogue/Temple/Mosque</td>\n",
              "      <td>Anti-Other Christian</td>\n",
              "      <td>Religious Organization</td>\n",
              "      <td>S</td>\n",
              "      <td>S</td>\n",
              "      <td>06</td>\n",
              "      <td>30</td>\n",
              "      <td>Anti-Other Christian</td>\n",
              "      <td>0</td>\n",
              "      <td>0</td>\n",
              "      <td>0</td>\n",
              "      <td>0</td>\n",
              "      <td>0</td>\n",
              "      <td>0</td>\n",
              "      <td>0</td>\n",
              "      <td>0</td>\n",
              "      <td>0</td>\n",
              "      <td>0</td>\n",
              "      <td>0</td>\n",
              "      <td>0</td>\n",
              "      <td>0</td>\n",
              "      <td>0</td>\n",
              "      <td>0</td>\n",
              "      <td>0</td>\n",
              "      <td>0</td>\n",
              "      <td>0</td>\n",
              "      <td>0</td>\n",
              "      <td>0</td>\n",
              "      <td>0</td>\n",
              "      <td>0</td>\n",
              "      <td>0</td>\n",
              "      <td>0</td>\n",
              "      <td>0</td>\n",
              "      <td>0</td>\n",
              "      <td>0</td>\n",
              "      <td>0</td>\n",
              "      <td>0</td>\n",
              "      <td>0</td>\n",
              "      <td>1</td>\n",
              "      <td>0</td>\n",
              "      <td>0</td>\n",
              "      <td>0</td>\n",
              "      <td>0</td>\n",
              "      <td>0</td>\n",
              "      <td>0</td>\n",
              "      <td>0</td>\n",
              "    </tr>\n",
              "    <tr>\n",
              "      <th>230024</th>\n",
              "      <td>1484194.0</td>\n",
              "      <td>2022</td>\n",
              "      <td>AK0010100</td>\n",
              "      <td>Anchorage</td>\n",
              "      <td>NaN</td>\n",
              "      <td>City</td>\n",
              "      <td>AK</td>\n",
              "      <td>Alaska</td>\n",
              "      <td>Pacific</td>\n",
              "      <td>West</td>\n",
              "      <td>1C</td>\n",
              "      <td>Cities from 250,000 thru 499,999</td>\n",
              "      <td>2022-07-05</td>\n",
              "      <td>NaN</td>\n",
              "      <td>NaN</td>\n",
              "      <td>0.0</td>\n",
              "      <td>0.0</td>\n",
              "      <td>0.0</td>\n",
              "      <td>Unknown</td>\n",
              "      <td>Unknown</td>\n",
              "      <td>1.0</td>\n",
              "      <td>Destruction/Damage/Vandalism of Property</td>\n",
              "      <td>NaN</td>\n",
              "      <td>Church/Synagogue/Temple/Mosque</td>\n",
              "      <td>Anti-Jewish</td>\n",
              "      <td>Business</td>\n",
              "      <td>S</td>\n",
              "      <td>S</td>\n",
              "      <td>07</td>\n",
              "      <td>05</td>\n",
              "      <td>Anti-Jewish</td>\n",
              "      <td>0</td>\n",
              "      <td>0</td>\n",
              "      <td>0</td>\n",
              "      <td>0</td>\n",
              "      <td>0</td>\n",
              "      <td>0</td>\n",
              "      <td>0</td>\n",
              "      <td>0</td>\n",
              "      <td>0</td>\n",
              "      <td>0</td>\n",
              "      <td>0</td>\n",
              "      <td>0</td>\n",
              "      <td>0</td>\n",
              "      <td>0</td>\n",
              "      <td>0</td>\n",
              "      <td>0</td>\n",
              "      <td>0</td>\n",
              "      <td>0</td>\n",
              "      <td>0</td>\n",
              "      <td>0</td>\n",
              "      <td>0</td>\n",
              "      <td>0</td>\n",
              "      <td>1</td>\n",
              "      <td>0</td>\n",
              "      <td>0</td>\n",
              "      <td>0</td>\n",
              "      <td>0</td>\n",
              "      <td>0</td>\n",
              "      <td>0</td>\n",
              "      <td>0</td>\n",
              "      <td>0</td>\n",
              "      <td>0</td>\n",
              "      <td>0</td>\n",
              "      <td>0</td>\n",
              "      <td>0</td>\n",
              "      <td>0</td>\n",
              "      <td>0</td>\n",
              "      <td>0</td>\n",
              "    </tr>\n",
              "  </tbody>\n",
              "</table>\n",
              "</div>\n",
              "    <div class=\"colab-df-buttons\">\n",
              "\n",
              "  <div class=\"colab-df-container\">\n",
              "    <button class=\"colab-df-convert\" onclick=\"convertToInteractive('df-8513902e-5067-44f0-b7e0-e83a3bbc1ca7')\"\n",
              "            title=\"Convert this dataframe to an interactive table.\"\n",
              "            style=\"display:none;\">\n",
              "\n",
              "  <svg xmlns=\"http://www.w3.org/2000/svg\" height=\"24px\" viewBox=\"0 -960 960 960\">\n",
              "    <path d=\"M120-120v-720h720v720H120Zm60-500h600v-160H180v160Zm220 220h160v-160H400v160Zm0 220h160v-160H400v160ZM180-400h160v-160H180v160Zm440 0h160v-160H620v160ZM180-180h160v-160H180v160Zm440 0h160v-160H620v160Z\"/>\n",
              "  </svg>\n",
              "    </button>\n",
              "\n",
              "  <style>\n",
              "    .colab-df-container {\n",
              "      display:flex;\n",
              "      gap: 12px;\n",
              "    }\n",
              "\n",
              "    .colab-df-convert {\n",
              "      background-color: #E8F0FE;\n",
              "      border: none;\n",
              "      border-radius: 50%;\n",
              "      cursor: pointer;\n",
              "      display: none;\n",
              "      fill: #1967D2;\n",
              "      height: 32px;\n",
              "      padding: 0 0 0 0;\n",
              "      width: 32px;\n",
              "    }\n",
              "\n",
              "    .colab-df-convert:hover {\n",
              "      background-color: #E2EBFA;\n",
              "      box-shadow: 0px 1px 2px rgba(60, 64, 67, 0.3), 0px 1px 3px 1px rgba(60, 64, 67, 0.15);\n",
              "      fill: #174EA6;\n",
              "    }\n",
              "\n",
              "    .colab-df-buttons div {\n",
              "      margin-bottom: 4px;\n",
              "    }\n",
              "\n",
              "    [theme=dark] .colab-df-convert {\n",
              "      background-color: #3B4455;\n",
              "      fill: #D2E3FC;\n",
              "    }\n",
              "\n",
              "    [theme=dark] .colab-df-convert:hover {\n",
              "      background-color: #434B5C;\n",
              "      box-shadow: 0px 1px 3px 1px rgba(0, 0, 0, 0.15);\n",
              "      filter: drop-shadow(0px 1px 2px rgba(0, 0, 0, 0.3));\n",
              "      fill: #FFFFFF;\n",
              "    }\n",
              "  </style>\n",
              "\n",
              "    <script>\n",
              "      const buttonEl =\n",
              "        document.querySelector('#df-8513902e-5067-44f0-b7e0-e83a3bbc1ca7 button.colab-df-convert');\n",
              "      buttonEl.style.display =\n",
              "        google.colab.kernel.accessAllowed ? 'block' : 'none';\n",
              "\n",
              "      async function convertToInteractive(key) {\n",
              "        const element = document.querySelector('#df-8513902e-5067-44f0-b7e0-e83a3bbc1ca7');\n",
              "        const dataTable =\n",
              "          await google.colab.kernel.invokeFunction('convertToInteractive',\n",
              "                                                    [key], {});\n",
              "        if (!dataTable) return;\n",
              "\n",
              "        const docLinkHtml = 'Like what you see? Visit the ' +\n",
              "          '<a target=\"_blank\" href=https://colab.research.google.com/notebooks/data_table.ipynb>data table notebook</a>'\n",
              "          + ' to learn more about interactive tables.';\n",
              "        element.innerHTML = '';\n",
              "        dataTable['output_type'] = 'display_data';\n",
              "        await google.colab.output.renderOutput(dataTable, element);\n",
              "        const docLink = document.createElement('div');\n",
              "        docLink.innerHTML = docLinkHtml;\n",
              "        element.appendChild(docLink);\n",
              "      }\n",
              "    </script>\n",
              "  </div>\n",
              "\n",
              "\n",
              "<div id=\"df-86531341-8ec9-43ab-a401-dfcc8baf889c\">\n",
              "  <button class=\"colab-df-quickchart\" onclick=\"quickchart('df-86531341-8ec9-43ab-a401-dfcc8baf889c')\"\n",
              "            title=\"Suggest charts\"\n",
              "            style=\"display:none;\">\n",
              "\n",
              "<svg xmlns=\"http://www.w3.org/2000/svg\" height=\"24px\"viewBox=\"0 0 24 24\"\n",
              "     width=\"24px\">\n",
              "    <g>\n",
              "        <path d=\"M19 3H5c-1.1 0-2 .9-2 2v14c0 1.1.9 2 2 2h14c1.1 0 2-.9 2-2V5c0-1.1-.9-2-2-2zM9 17H7v-7h2v7zm4 0h-2V7h2v10zm4 0h-2v-4h2v4z\"/>\n",
              "    </g>\n",
              "</svg>\n",
              "  </button>\n",
              "\n",
              "<style>\n",
              "  .colab-df-quickchart {\n",
              "      --bg-color: #E8F0FE;\n",
              "      --fill-color: #1967D2;\n",
              "      --hover-bg-color: #E2EBFA;\n",
              "      --hover-fill-color: #174EA6;\n",
              "      --disabled-fill-color: #AAA;\n",
              "      --disabled-bg-color: #DDD;\n",
              "  }\n",
              "\n",
              "  [theme=dark] .colab-df-quickchart {\n",
              "      --bg-color: #3B4455;\n",
              "      --fill-color: #D2E3FC;\n",
              "      --hover-bg-color: #434B5C;\n",
              "      --hover-fill-color: #FFFFFF;\n",
              "      --disabled-bg-color: #3B4455;\n",
              "      --disabled-fill-color: #666;\n",
              "  }\n",
              "\n",
              "  .colab-df-quickchart {\n",
              "    background-color: var(--bg-color);\n",
              "    border: none;\n",
              "    border-radius: 50%;\n",
              "    cursor: pointer;\n",
              "    display: none;\n",
              "    fill: var(--fill-color);\n",
              "    height: 32px;\n",
              "    padding: 0;\n",
              "    width: 32px;\n",
              "  }\n",
              "\n",
              "  .colab-df-quickchart:hover {\n",
              "    background-color: var(--hover-bg-color);\n",
              "    box-shadow: 0 1px 2px rgba(60, 64, 67, 0.3), 0 1px 3px 1px rgba(60, 64, 67, 0.15);\n",
              "    fill: var(--button-hover-fill-color);\n",
              "  }\n",
              "\n",
              "  .colab-df-quickchart-complete:disabled,\n",
              "  .colab-df-quickchart-complete:disabled:hover {\n",
              "    background-color: var(--disabled-bg-color);\n",
              "    fill: var(--disabled-fill-color);\n",
              "    box-shadow: none;\n",
              "  }\n",
              "\n",
              "  .colab-df-spinner {\n",
              "    border: 2px solid var(--fill-color);\n",
              "    border-color: transparent;\n",
              "    border-bottom-color: var(--fill-color);\n",
              "    animation:\n",
              "      spin 1s steps(1) infinite;\n",
              "  }\n",
              "\n",
              "  @keyframes spin {\n",
              "    0% {\n",
              "      border-color: transparent;\n",
              "      border-bottom-color: var(--fill-color);\n",
              "      border-left-color: var(--fill-color);\n",
              "    }\n",
              "    20% {\n",
              "      border-color: transparent;\n",
              "      border-left-color: var(--fill-color);\n",
              "      border-top-color: var(--fill-color);\n",
              "    }\n",
              "    30% {\n",
              "      border-color: transparent;\n",
              "      border-left-color: var(--fill-color);\n",
              "      border-top-color: var(--fill-color);\n",
              "      border-right-color: var(--fill-color);\n",
              "    }\n",
              "    40% {\n",
              "      border-color: transparent;\n",
              "      border-right-color: var(--fill-color);\n",
              "      border-top-color: var(--fill-color);\n",
              "    }\n",
              "    60% {\n",
              "      border-color: transparent;\n",
              "      border-right-color: var(--fill-color);\n",
              "    }\n",
              "    80% {\n",
              "      border-color: transparent;\n",
              "      border-right-color: var(--fill-color);\n",
              "      border-bottom-color: var(--fill-color);\n",
              "    }\n",
              "    90% {\n",
              "      border-color: transparent;\n",
              "      border-bottom-color: var(--fill-color);\n",
              "    }\n",
              "  }\n",
              "</style>\n",
              "\n",
              "  <script>\n",
              "    async function quickchart(key) {\n",
              "      const quickchartButtonEl =\n",
              "        document.querySelector('#' + key + ' button');\n",
              "      quickchartButtonEl.disabled = true;  // To prevent multiple clicks.\n",
              "      quickchartButtonEl.classList.add('colab-df-spinner');\n",
              "      try {\n",
              "        const charts = await google.colab.kernel.invokeFunction(\n",
              "            'suggestCharts', [key], {});\n",
              "      } catch (error) {\n",
              "        console.error('Error during call to suggestCharts:', error);\n",
              "      }\n",
              "      quickchartButtonEl.classList.remove('colab-df-spinner');\n",
              "      quickchartButtonEl.classList.add('colab-df-quickchart-complete');\n",
              "    }\n",
              "    (() => {\n",
              "      let quickchartButtonEl =\n",
              "        document.querySelector('#df-86531341-8ec9-43ab-a401-dfcc8baf889c button');\n",
              "      quickchartButtonEl.style.display =\n",
              "        google.colab.kernel.accessAllowed ? 'block' : 'none';\n",
              "    })();\n",
              "  </script>\n",
              "</div>\n",
              "\n",
              "    </div>\n",
              "  </div>\n"
            ],
            "application/vnd.google.colaboratory.intrinsic+json": {
              "type": "dataframe",
              "variable_name": "crime_df"
            }
          },
          "metadata": {},
          "execution_count": 21
        }
      ]
    },
    {
      "cell_type": "markdown",
      "source": [
        "###Break victim_types column up into dummy columns"
      ],
      "metadata": {
        "id": "e4P7-iemnZMl"
      }
    },
    {
      "cell_type": "markdown",
      "source": [
        "####Parse the victim_types into their own individual columns"
      ],
      "metadata": {
        "id": "k9ASyJ510639"
      }
    },
    {
      "cell_type": "code",
      "source": [
        "max_victim_type_cols = get_max_cols(crime_df, \"victim_types\", \";\", \"types\")\n",
        "print(max_victim_type_cols)\n",
        "\n",
        "\n",
        "victim_type_cols = [\"victim_type\" + str(i) for i in range(max_victim_type_cols)]\n",
        "\n",
        "def split_victim_types(val):\n",
        "  return split_multiCol(val, {}, max_victim_type_cols)\n",
        "\n",
        "crime_df[victim_type_cols] = crime_df[\"victim_types\"]\\\n",
        "                          .map(split_victim_types)\\\n",
        "                          .apply(pd.Series)\n",
        "\n",
        "# remove the \"0\" column, which I'm not entirely sure why exists\n",
        "if \"0\" in crime_df.columns:\n",
        "  crime_df = crime_df.drop(columns=[\"0\"])"
      ],
      "metadata": {
        "colab": {
          "base_uri": "https://localhost:8080/",
          "height": 220
        },
        "id": "pKqzDrg0pBTO",
        "outputId": "32c826da-3b15-4673-d52c-d0af130ea326"
      },
      "execution_count": 1,
      "outputs": [
        {
          "output_type": "error",
          "ename": "NameError",
          "evalue": "name 'get_max_cols' is not defined",
          "traceback": [
            "\u001b[0;31m---------------------------------------------------------------------------\u001b[0m",
            "\u001b[0;31mNameError\u001b[0m                                 Traceback (most recent call last)",
            "\u001b[0;32m<ipython-input-1-33ed691f468a>\u001b[0m in \u001b[0;36m<cell line: 1>\u001b[0;34m()\u001b[0m\n\u001b[0;32m----> 1\u001b[0;31m \u001b[0mmax_victim_type_cols\u001b[0m \u001b[0;34m=\u001b[0m \u001b[0mget_max_cols\u001b[0m\u001b[0;34m(\u001b[0m\u001b[0mcrime_df\u001b[0m\u001b[0;34m,\u001b[0m \u001b[0;34m\"victim_types\"\u001b[0m\u001b[0;34m,\u001b[0m \u001b[0;34m\";\"\u001b[0m\u001b[0;34m,\u001b[0m \u001b[0;34m\"types\"\u001b[0m\u001b[0;34m)\u001b[0m\u001b[0;34m\u001b[0m\u001b[0;34m\u001b[0m\u001b[0m\n\u001b[0m\u001b[1;32m      2\u001b[0m \u001b[0mprint\u001b[0m\u001b[0;34m(\u001b[0m\u001b[0mmax_victim_type_cols\u001b[0m\u001b[0;34m)\u001b[0m\u001b[0;34m\u001b[0m\u001b[0;34m\u001b[0m\u001b[0m\n\u001b[1;32m      3\u001b[0m \u001b[0;34m\u001b[0m\u001b[0m\n\u001b[1;32m      4\u001b[0m \u001b[0;34m\u001b[0m\u001b[0m\n\u001b[1;32m      5\u001b[0m \u001b[0mvictim_type_cols\u001b[0m \u001b[0;34m=\u001b[0m \u001b[0;34m[\u001b[0m\u001b[0;34m\"victim_type\"\u001b[0m \u001b[0;34m+\u001b[0m \u001b[0mstr\u001b[0m\u001b[0;34m(\u001b[0m\u001b[0mi\u001b[0m\u001b[0;34m)\u001b[0m \u001b[0;32mfor\u001b[0m \u001b[0mi\u001b[0m \u001b[0;32min\u001b[0m \u001b[0mrange\u001b[0m\u001b[0;34m(\u001b[0m\u001b[0mmax_victim_type_cols\u001b[0m\u001b[0;34m)\u001b[0m\u001b[0;34m]\u001b[0m\u001b[0;34m\u001b[0m\u001b[0;34m\u001b[0m\u001b[0m\n",
            "\u001b[0;31mNameError\u001b[0m: name 'get_max_cols' is not defined"
          ]
        }
      ]
    },
    {
      "cell_type": "markdown",
      "source": [
        "####Get a list of all unique victim types"
      ],
      "metadata": {
        "id": "eA_zceh1oTPM"
      }
    },
    {
      "cell_type": "code",
      "source": [
        "unique_victim_types = get_unique_types(crime_df, victim_type_cols)"
      ],
      "metadata": {
        "id": "svH9cD7F0Xeq"
      },
      "execution_count": null,
      "outputs": []
    },
    {
      "cell_type": "code",
      "source": [
        "# all_victim_types = []\n",
        "# for col in victim_type_cols:\n",
        "#   all_victim_types.extend(crime_df[col].unique())\n",
        "\n",
        "# # create a set of just the unique ones\n",
        "# unique_victims = set(all_victim_types)\n",
        "\n",
        "# # remove 0, which got in there somehow\n",
        "# unique_victims.remove(0)"
      ],
      "metadata": {
        "id": "Ykh_LNceoWES"
      },
      "execution_count": null,
      "outputs": []
    },
    {
      "cell_type": "markdown",
      "source": [
        "####Create dummy columns for all victim types"
      ],
      "metadata": {
        "id": "jzeM5TSsoKeU"
      }
    },
    {
      "cell_type": "code",
      "source": [
        "dummies = get_unique_dummies(crime_df, unique_victims)"
      ],
      "metadata": {
        "id": "8Xg9rWdfzTVA"
      },
      "execution_count": null,
      "outputs": []
    },
    {
      "cell_type": "code",
      "source": [
        "# dummies = pd.get_dummies(list(unique_victims))\n",
        "\n",
        "# # combine the dummy columns with crime_df\n",
        "# crime_df = pd.concat([crime_df, dummies], axis=1)\n",
        "\n",
        "# # set all dummy values to 0\n",
        "# crime_df.loc[:, dummies.columns] = 0"
      ],
      "metadata": {
        "id": "DlaF8eekn2Nb"
      },
      "execution_count": null,
      "outputs": []
    },
    {
      "cell_type": "code",
      "source": [
        "#set dummy column values according to biases parsed from bias_desc\n",
        "\n",
        "# for each entry\n",
        "for i in crime_df.index:\n",
        "    # for each bias column\n",
        "    for j in range(0, max_victim_type_cols):\n",
        "        victim = crime_df.loc[i][\"victim_type\" + str(j)]\n",
        "        if victim in unique_victims:\n",
        "            # Use the iloc method to access the DataFrame by row and column indices\n",
        "            crime_df.loc[i, victim] = 1"
      ],
      "metadata": {
        "id": "OsF_vsoXpVmY"
      },
      "execution_count": null,
      "outputs": []
    },
    {
      "cell_type": "code",
      "source": [
        "crime_df.head()"
      ],
      "metadata": {
        "id": "EL_LlmFVpXRA"
      },
      "execution_count": null,
      "outputs": []
    },
    {
      "cell_type": "markdown",
      "source": [
        "###Create dummy columns for other categorical variables"
      ],
      "metadata": {
        "id": "7s_ph3jfiVxi"
      }
    },
    {
      "cell_type": "code",
      "source": [
        "nonbias_categorical_cols = [\"agency_type_name\", \"state_name\", \"division_name\", \"offender_race\", \"offender_ethnicity\",\n",
        "                            \"offense_name\", \"location_name\", \"multiple_offense\", \"multiple_bias\"]"
      ],
      "metadata": {
        "id": "1wlb0NsBibhK"
      },
      "execution_count": null,
      "outputs": []
    },
    {
      "cell_type": "code",
      "source": [
        "dummies = pd.get_dummies(crime_df[nonbias_categorical_cols])\n",
        "\n",
        "nonbias_categorical_cols = dummies.columns\n",
        "\n",
        "# combine the dummy columns with crime_df\n",
        "crime_df = pd.concat([crime_df, dummies], axis=1)"
      ],
      "metadata": {
        "id": "FS9mO9kYmujy"
      },
      "execution_count": null,
      "outputs": []
    },
    {
      "cell_type": "code",
      "source": [
        "crime_df.head()"
      ],
      "metadata": {
        "id": "S3UCnCYvnEca"
      },
      "execution_count": null,
      "outputs": []
    },
    {
      "cell_type": "markdown",
      "source": [
        "###Fix column names\n",
        "\n"
      ],
      "metadata": {
        "id": "zouCbvk6_ccD"
      }
    },
    {
      "cell_type": "code",
      "execution_count": null,
      "metadata": {
        "id": "ZfZR5Bv1OalM"
      },
      "outputs": [],
      "source": [
        "def fix_column_names(df):\n",
        "  removalList = {\"SEX AND AGE!!\", \"SEX AND \", \"Estimate!!\", \"Total!!\", \"Total population!!\", \"CITIZEN, VOTING AGE POPULATION!!\", \"AGE!!\"}\n",
        "\n",
        "  new_cols = []\n",
        "  for col in df.columns:\n",
        "    col = str(col)\n",
        "    for term in removalList:\n",
        "      if term in col:\n",
        "        col = col.replace(term, \"\")\n",
        "    new_cols.append(col)\n",
        "\n",
        "  return new_cols\n",
        "\n",
        "county_demo_df.columns = fix_column_names(county_demo_df)\n",
        "city_demo_df.columns = fix_column_names(city_demo_df)"
      ]
    },
    {
      "cell_type": "code",
      "execution_count": null,
      "metadata": {
        "id": "oLuvQpJzkLlT"
      },
      "outputs": [],
      "source": [
        "#combine the city_df age-related columns as needed to merge better with the county_demo_df\n",
        "def combine_city_df_cols(df_s0101):\n",
        "    formatted_df = df_s0101.copy(deep=True)\n",
        "\n",
        "    formatted_df['25 to 34 years'] = df_s0101['25 to 29 years'] + df_s0101['30 to 34 years']\n",
        "    formatted_df['35 to 44 years'] = df_s0101['35 to 39 years'] + df_s0101['40 to 44 years']\n",
        "    formatted_df['45 to 54 years'] = df_s0101['45 to 49 years'] + df_s0101['50 to 54 years']\n",
        "    formatted_df['65 to 74 years'] = df_s0101['65 to 69 years'] + df_s0101['70 to 74 years']\n",
        "    formatted_df['75 to 84 years'] = df_s0101['75 to 79 years'] + df_s0101['80 to 84 years']\n",
        "\n",
        "    return formatted_df\n",
        "\n",
        "city_demo_df = combine_city_df_cols(city_demo_df)\n",
        "# city_demo_df"
      ]
    },
    {
      "cell_type": "code",
      "execution_count": null,
      "metadata": {
        "id": "yUk3NyAxVAc2"
      },
      "outputs": [],
      "source": [
        "# fix any missing values\n",
        "city_demo_df = city_demo_df.replace(\"(X)\", np.nan)\n",
        "county_demo_df = county_demo_df.replace(\"(X)\", np.nan)"
      ]
    },
    {
      "cell_type": "markdown",
      "metadata": {
        "id": "Fm5xNM5iePPX"
      },
      "source": [
        "##Combine the datasets"
      ]
    },
    {
      "cell_type": "code",
      "execution_count": null,
      "metadata": {
        "id": "x_GEL4MtXNb-"
      },
      "outputs": [],
      "source": [
        "ethnicity_race_cols = pd.read_csv(\"https://raw.githubusercontent.com/IsaacFigNewton/Analyzing-Hate-Crime-Data/main/demographics/county/ethnicity_race_col_names\")[\"One race\"]\n",
        "ethnicity_race_cols"
      ]
    },
    {
      "cell_type": "code",
      "execution_count": null,
      "metadata": {
        "id": "hUmBIXPtTTW0"
      },
      "outputs": [],
      "source": [
        "# Create new columns that combine data shared between all the city and county entries\n",
        "overlapping_columns = set(city_demo_df.columns).intersection(set(county_demo_df.columns))\n",
        "\n",
        "# include overlapping data and race and ethnicity data from the county dataset\n",
        "print(overlapping_columns.union(ethnicity_race_cols))\n",
        "demo_df = pd.concat([city_demo_df[list(overlapping_columns)], county_demo_df[list(overlapping_columns)]])\n",
        "# demo_df = pd.concat([demo_df, county_demo_df[list(ethnicity_race_cols)]])"
      ]
    },
    {
      "cell_type": "code",
      "execution_count": null,
      "metadata": {
        "id": "V0Re5w41IIEq"
      },
      "outputs": [],
      "source": [
        "# combine the crime and population datasets\n",
        "merged_df = pd.merge(crime_df, demo_df, on=[\"pug_agency_name\", \"agency_type_name\", \"state_name\"])"
      ]
    },
    {
      "cell_type": "markdown",
      "metadata": {
        "id": "1e9s9cIrfq1o"
      },
      "source": [
        "##Clean the merged dataset"
      ]
    },
    {
      "cell_type": "code",
      "execution_count": null,
      "metadata": {
        "id": "ZTWdt8V0VEhi"
      },
      "outputs": [],
      "source": [
        "# merged_df.drop([\"ori\", \"state_abbr\", \"population_group_code\", \"pub_agency_unit\",\n",
        "#                 \"nan\", \"Geography\", \"Percent!!Total population\", \"population_group_description\",\n",
        "#                 \"Geographic Area Name\", \"incident_date\", \"pub_agency_unit\"], axis=1, inplace=True)\n",
        "# merged_df.drop(list(merged_df.filter(regex = \"Margin of Error\")), axis = 1, inplace = True)\n",
        "\n",
        "merged_df.drop([\"ori\", \"state_abbr\", \"population_group_code\", \"pub_agency_unit\",\n",
        "                \"nan\", \"Geography\", \"Percent!!Total population\", \"population_group_description\",\n",
        "                \"Geographic Area Name\", \"incident_date\", \"pub_agency_unit\", \"pug_agency_name\",\n",
        "                \"agency_type_name\", \"state_name\", \"division_name\", \"offender_race\", \"offender_ethnicity\",\n",
        "                \"offense_name\", \"location_name\", \"bias_desc\", \"victim_types\", \"multiple_offense\",\n",
        "                  \"multiple_bias\"], axis=1, inplace=True)\n",
        "merged_df.drop(list(merged_df.filter(regex = \"Margin of Error\")), axis = 1, inplace = True)"
      ]
    },
    {
      "cell_type": "code",
      "source": [
        "# # Convert object columns to string dtype\n",
        "# object_columns = [\"pug_agency_name\", \"agency_type_name\", \"state_name\", \"division_name\", \"offender_race\",\n",
        "#                   \"offender_ethnicity\", \"offense_name\", \"location_name\", \"bias_desc\", \"victim_types\", \"multiple_offense\",\n",
        "#                   \"multiple_bias\"]\n",
        "\n",
        "# merged_df[object_columns] = merged_df[object_columns].astype(str)"
      ],
      "metadata": {
        "id": "c931D6byfnZL"
      },
      "execution_count": null,
      "outputs": []
    },
    {
      "cell_type": "code",
      "source": [
        "# continuous quantitative variables\n",
        "continuous_int_columns = [\"Total population\", \"Under 5 years\", \"5 to 9 years\", \"45 to 54 years\", \"10 to 14 years\", \"75 to 84 years\", \"60 to 64 years\",\\\n",
        "                      \"25 to 34 years\", \"15 to 19 years\", \"20 to 24 years\", \"35 to 44 years\", \"55 to 59 years\", \"65 to 74 years\",\\\n",
        "                      \"85 years and over\", \"incident_month\", \"incident_day\"]\n",
        "\n",
        "# categorical variables\n",
        "binary_int_columns = list(unique_biases) + list(nonbias_categorical_cols)\n",
        "int_columns = continuous_int_columns + binary_int_columns"
      ],
      "metadata": {
        "id": "xYiZQtC32YWW"
      },
      "execution_count": null,
      "outputs": []
    },
    {
      "cell_type": "code",
      "source": [
        "# Replace all infinite values with np.nan\n",
        "# non_na_cols = merged_df.replace([np.inf, -np.inf], np.nan).dropna(subset=int_columns).columns\n",
        "\n",
        "# Drop the 5 bias columns from the non_na_cols\n",
        "cols_to_remove = [\"bias\" + str(i) for i in range(max_bias_count)]\n",
        "\n",
        "non_na_cols.drop(cols_to_remove)"
      ],
      "metadata": {
        "id": "MQTs7XZt5LD7"
      },
      "execution_count": null,
      "outputs": []
    },
    {
      "cell_type": "code",
      "source": [
        "# Convert the non_na_cols column to integers\n",
        "merged_df[int_columns] = merged_df[int_columns].astype(int)"
      ],
      "metadata": {
        "id": "6equL8vUAMzq"
      },
      "execution_count": null,
      "outputs": []
    },
    {
      "cell_type": "markdown",
      "metadata": {
        "id": "lON7Xj2bUrnC"
      },
      "source": [
        "# Explore the Data"
      ]
    },
    {
      "cell_type": "markdown",
      "metadata": {
        "id": "bgSAMKYblqV3"
      },
      "source": [
        "##Individual Datasets"
      ]
    },
    {
      "cell_type": "markdown",
      "metadata": {
        "id": "Eh9zD204ltAu"
      },
      "source": [
        "###Hate Crime Dataset"
      ]
    },
    {
      "cell_type": "code",
      "execution_count": null,
      "metadata": {
        "id": "iwJOPMQEemwE"
      },
      "outputs": [],
      "source": [
        "crime_df.head()"
      ]
    },
    {
      "cell_type": "code",
      "execution_count": null,
      "metadata": {
        "id": "Fsivn3pPdSRI"
      },
      "outputs": [],
      "source": [
        "crime_df.groupby('region_name').size().sort_values(ascending=False).plot.bar(color=sns.palettes.mpl_palette('Dark2'))\n",
        "plt.xticks(rotation=0)"
      ]
    },
    {
      "cell_type": "code",
      "execution_count": null,
      "metadata": {
        "id": "R7gqXZ5adQSX"
      },
      "outputs": [],
      "source": [
        "crime_df.groupby('agency_type_name').size().sort_values(ascending=False).plot.bar(color=sns.palettes.mpl_palette('Dark2'))\n",
        "plt.xticks(rotation=0)"
      ]
    },
    {
      "cell_type": "code",
      "execution_count": null,
      "metadata": {
        "id": "MAWBUw5cdDuf"
      },
      "outputs": [],
      "source": [
        "crime_df['total_offender_count'].plot.hist(bins=14, title='total_offender_count', logy=True)"
      ]
    },
    {
      "cell_type": "code",
      "execution_count": null,
      "metadata": {
        "id": "PpKKqeYKdS9X"
      },
      "outputs": [],
      "source": [
        "crime_df.groupby('offender_race').size().sort_values(ascending=False).plot.bar(color=sns.palettes.mpl_palette('Dark2'), figsize=(30,10))\n",
        "plt.xticks(rotation=0, wrap=True)"
      ]
    },
    {
      "cell_type": "code",
      "source": [
        "# prompt: please modify the chart above to be wider and wrap the x labels\n",
        "\n",
        "import matplotlib.pyplot as plt\n",
        "crime_df.groupby('offender_race').size().sort_values(ascending=True).plot.bar(color=sns.palettes.mpl_palette('Dark2'), figsize=(20,10))\n",
        "plt.xticks(rotation=90, wrap=True)\n"
      ],
      "metadata": {
        "id": "aQCBCN6qdz52"
      },
      "execution_count": null,
      "outputs": []
    },
    {
      "cell_type": "code",
      "source": [
        "# Create a dictionary of unique biases and their counts\n",
        "unique_bias_counts = {}\n",
        "for bias in unique_biases:\n",
        "    unique_bias_counts[bias] = crime_df[bias].sum()\n",
        "\n",
        "# Sort the dictionary by values in descending order\n",
        "sorted_biases_counts = dict(sorted(unique_bias_counts.items(), key=lambda item: item[1], reverse=True))\n",
        "\n",
        "# Create a bar chart of the sorted biases and their counts\n",
        "plt.figure(figsize=(20, 10))\n",
        "sns.barplot(x=list(sorted_biases_counts.keys()), y=list(sorted_biases_counts.values()), log=True)\n",
        "\n",
        "# Set the title and labels\n",
        "plt.title(\"Frequency of Different Biases in Hate Crimes\", fontsize=16)\n",
        "plt.xlabel(\"Bias\", fontsize=14)\n",
        "plt.ylabel(\"Frequency (Log Scale)\", fontsize=14)\n",
        "\n",
        "# Rotate the x-axis labels for readability\n",
        "plt.xticks(rotation=90)\n",
        "\n",
        "# Show the plot\n",
        "plt.show()\n"
      ],
      "metadata": {
        "id": "p__cKs9lBeSj"
      },
      "execution_count": null,
      "outputs": []
    },
    {
      "cell_type": "code",
      "execution_count": null,
      "metadata": {
        "id": "_wJm4Vx5dBUZ"
      },
      "outputs": [],
      "source": [
        "crime_df['adult_victim_count'].plot.hist(bins=15, title='adult_victim_count', logy=True)"
      ]
    },
    {
      "cell_type": "code",
      "execution_count": null,
      "metadata": {
        "id": "vdsK32w2dCMQ"
      },
      "outputs": [],
      "source": [
        "crime_df['juvenile_victim_count'].plot(kind='hist', bins=10, title='juvenile_victim_count', logy=True)"
      ]
    },
    {
      "cell_type": "code",
      "source": [
        "ignore_list = [\"Not Specified\", \"Unknown\", \"Multiple\"]"
      ],
      "metadata": {
        "id": "1bSbfApGYkZT"
      },
      "execution_count": null,
      "outputs": []
    },
    {
      "cell_type": "code",
      "execution_count": null,
      "metadata": {
        "id": "v0xr78kpdlJQ"
      },
      "outputs": [],
      "source": [
        "plt.subplots(figsize=(8, 8))\n",
        "df_2dhist = pd.DataFrame({\n",
        "    x_label: grp['offender_race'].value_counts()\n",
        "    for x_label, grp in crime_df.groupby('region_name')\n",
        "})\n",
        "\n",
        "# Drop less relevant columns for easier comparison with victim race heatmap\n",
        "for item in ignore_list:\n",
        "  df_2dhist = df_2dhist.drop(item)\n",
        "\n",
        "# Apply logarithmic transformation to the counts\n",
        "df_2dhist_log = df_2dhist.applymap(lambda x: 0 if x == 0 else np.log10(x))\n",
        "\n",
        "sns.heatmap(df_2dhist_log, cmap='viridis')\n",
        "plt.title(\"Logarithmic Frequency of Offender Races by Region\")\n",
        "plt.xlabel(\"Region Name\")\n",
        "plt.ylabel(\"Offender Race\")"
      ]
    },
    {
      "cell_type": "code",
      "source": [
        "# Get some victim races to start with\n",
        "unique_offender_races = crime_df['offender_race'].unique().tolist()\n",
        "unique_offender_races.remove(np.nan)\n",
        "\n",
        "# Drop categories absent from victim data\n",
        "for item in ignore_list:\n",
        "  unique_offender_races.remove(item)\n",
        "\n",
        "unique_victim_races = [\"Anti-\" + str(race) for race in unique_offender_races]\n",
        "\n",
        "print(unique_victim_races)"
      ],
      "metadata": {
        "id": "YvQ1lreAFY9F"
      },
      "execution_count": null,
      "outputs": []
    },
    {
      "cell_type": "code",
      "source": [
        "plt.subplots(figsize=(8, 8))\n",
        "\n",
        "# Initialize an empty DataFrame with the correct index and columns\n",
        "df_2dhist = pd.DataFrame(index=unique_victim_races, columns=crime_df['region_name'].unique())\n",
        "\n",
        "# Iterate over each region and calculate the value counts for each victim race\n",
        "for region in df_2dhist.columns:\n",
        "    region_data = crime_df[crime_df['region_name'] == region]\n",
        "\n",
        "    for victim_race in unique_victim_races:\n",
        "        # Sum of occurrences of victim_race in the region\n",
        "        count = region_data[victim_race].sum()\n",
        "        # Update the DataFrame cell with the count\n",
        "        df_2dhist.loc[victim_race, region] = count\n",
        "\n",
        "# Convert DataFrame entries to numeric type and drop nan values\n",
        "df_2dhist = df_2dhist.apply(pd.to_numeric)\n",
        "df_2dhist.drop(columns=[np.nan], inplace=True)\n",
        "\n",
        "# Apply logarithmic transformation to the counts\n",
        "df_2dhist = df_2dhist.applymap(lambda x: 0 if x == 0 else np.log10(x))\n",
        "\n",
        "# Create the heatmap with logarithmic scale\n",
        "sns.heatmap(df_2dhist, cmap='viridis')\n",
        "\n",
        "# Give the plot a title and axis labels\n",
        "plt.title(\"Logarithmic Frequency of Victim Races by Region\")\n",
        "plt.xlabel(\"Region Name\")\n",
        "plt.ylabel(\"Victim Races\")\n",
        "plt.yticks(rotation=0)\n",
        "\n",
        "plt.show()"
      ],
      "metadata": {
        "id": "dUBI_MwLKA8K"
      },
      "execution_count": null,
      "outputs": []
    },
    {
      "cell_type": "markdown",
      "metadata": {
        "id": "YjDExfePlzX2"
      },
      "source": [
        "###City Demographics Dataset"
      ]
    },
    {
      "cell_type": "code",
      "execution_count": null,
      "metadata": {
        "id": "gLkZrxTNl6sp"
      },
      "outputs": [],
      "source": [
        "city_demo_df.head()"
      ]
    },
    {
      "cell_type": "markdown",
      "metadata": {
        "id": "YUTlcM64l91f"
      },
      "source": [
        "###County Demographics Dataset"
      ]
    },
    {
      "cell_type": "code",
      "execution_count": null,
      "metadata": {
        "id": "4MA9UiHVmB2m"
      },
      "outputs": [],
      "source": [
        "county_demo_df.head()"
      ]
    },
    {
      "cell_type": "markdown",
      "metadata": {
        "id": "Vinl2fh1mEf2"
      },
      "source": [
        "##Merged Dataset"
      ]
    },
    {
      "cell_type": "code",
      "execution_count": null,
      "metadata": {
        "id": "QrV7bfizmKKG"
      },
      "outputs": [],
      "source": [
        "merged_df.head()"
      ]
    },
    {
      "cell_type": "code",
      "execution_count": null,
      "metadata": {
        "id": "pxfaYPA0BWSS"
      },
      "outputs": [],
      "source": []
    },
    {
      "cell_type": "code",
      "execution_count": null,
      "metadata": {
        "id": "Op0QoPC9b2fP"
      },
      "outputs": [],
      "source": [
        "#convert the categorical columns to numerical ones and store the modified df as a new df for correlation analysis\n",
        "categorical_to_int_df = merged_df\n",
        "# Select only the numerical columns\n",
        "numerical_cols = categorical_to_int_df.select_dtypes(include=['int64', 'float64', np.number]).drop(labels=[\"incident_id\"], axis=1)\n",
        "# numerical_cols"
      ]
    },
    {
      "cell_type": "code",
      "execution_count": null,
      "metadata": {
        "id": "PHN8Dby4dvXw"
      },
      "outputs": [],
      "source": [
        "# Create a correlation matrix\n",
        "corr = merged_df[int_columns].dropna().corr()\n",
        "\n",
        "# Create a heatmap of the correlation matrix\n",
        "fig, ax = plt.subplots(figsize=(40,20))\n",
        "sns.heatmap(corr, annot=True, ax=ax)"
      ]
    },
    {
      "cell_type": "code",
      "source": [
        "merged_df.head()"
      ],
      "metadata": {
        "id": "ksMn-FVsW-WU"
      },
      "execution_count": null,
      "outputs": []
    },
    {
      "cell_type": "code",
      "execution_count": null,
      "metadata": {
        "id": "vyei2nuHfjgI"
      },
      "outputs": [],
      "source": [
        "# merged_df[\"color\"] = merged_df[\"region_name\"].map({\n",
        "#     \"Midwest\": \"red\",\n",
        "#     \"West\": \"yellow\",\n",
        "#     \"Northeast\": \"green\",\n",
        "#     \"South\": \"blue\"\n",
        "# })\n",
        "# merged_df[\"size\"] = merged_df.groupby([\"incident_month\", \"region_name\"]).count().reset_index()[\"incident_id\"]\n",
        "\n",
        "# #remove the max row limit for altair\n",
        "# alt.data_transformers.disable_max_rows()\n",
        "\n",
        "# alt.Chart(merged_df.dropna()).mark_circle().encode(\n",
        "#     x=\"total_offender_count\",\n",
        "#     y=\"total_individual_victims\",\n",
        "#     color=alt.Color(\"color\", scale=None),\n",
        "#     size=\"size\"\n",
        "# )"
      ]
    },
    {
      "cell_type": "code",
      "source": [],
      "metadata": {
        "id": "Oh4_xXvj5uXc"
      },
      "execution_count": null,
      "outputs": []
    }
  ],
  "metadata": {
    "colab": {
      "collapsed_sections": [
        "_jVRTkrMofxu",
        "HiZ4Oczk1F9_",
        "B6hhocTJ_N5q",
        "NXLlSu1U_T9I",
        "eA_zceh1oTPM",
        "zouCbvk6_ccD",
        "Fm5xNM5iePPX",
        "1e9s9cIrfq1o"
      ],
      "provenance": [],
      "include_colab_link": true
    },
    "kernelspec": {
      "display_name": "Python 3",
      "name": "python3"
    },
    "language_info": {
      "name": "python"
    }
  },
  "nbformat": 4,
  "nbformat_minor": 0
}