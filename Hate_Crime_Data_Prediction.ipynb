{
  "cells": [
    {
      "cell_type": "markdown",
      "metadata": {
        "id": "view-in-github",
        "colab_type": "text"
      },
      "source": [
        "<a href=\"https://colab.research.google.com/github/IsaacFigNewton/Analyzing-Hate-Crime-Data/blob/main/Hate_Crime_Data_Prediction.ipynb\" target=\"_parent\"><img src=\"https://colab.research.google.com/assets/colab-badge.svg\" alt=\"Open In Colab\"/></a>"
      ]
    },
    {
      "cell_type": "markdown",
      "metadata": {
        "id": "mOiwCxBSfrVr"
      },
      "source": [
        "#TODO:\n",
        "####Replace Anti-Church of Jesus Christ bias with Anti-Mormon\n",
        "####Add county demographic data from other years\n",
        "####Get p-values for in merged_df?"
      ]
    },
    {
      "cell_type": "markdown",
      "metadata": {
        "id": "1drJWUkF4odQ"
      },
      "source": [
        "#Import Stuff"
      ]
    },
    {
      "cell_type": "markdown",
      "metadata": {
        "id": "UXLq0TJ6dd75"
      },
      "source": [
        "##Import all libraries"
      ]
    },
    {
      "cell_type": "code",
      "execution_count": 64,
      "metadata": {
        "id": "YVKUvdikdVxP"
      },
      "outputs": [],
      "source": [
        "import pandas as pd\n",
        "import sklearn as sk\n",
        "from sklearn import preprocessing\n",
        "from sklearn.linear_model import LinearRegression\n",
        "from sklearn.neighbors import KNeighborsRegressor\n",
        "import numpy as np\n",
        "from matplotlib import pyplot as plt\n",
        "import seaborn as sns\n",
        "import altair as alt\n",
        "import re\n",
        "import warnings"
      ]
    },
    {
      "cell_type": "markdown",
      "metadata": {
        "id": "R3Rb2kf7CR15"
      },
      "source": [
        "##Config"
      ]
    },
    {
      "cell_type": "code",
      "execution_count": 65,
      "metadata": {
        "id": "p464U50nCX35"
      },
      "outputs": [],
      "source": [
        "warnings.filterwarnings(action='ignore')"
      ]
    },
    {
      "cell_type": "code",
      "execution_count": 66,
      "metadata": {
        "id": "n5X6ugA1wk7E"
      },
      "outputs": [],
      "source": [
        "pd.set_option('display.max_columns', None)\n",
        "pd.set_option('display.max_rows', None)"
      ]
    },
    {
      "cell_type": "code",
      "execution_count": 89,
      "metadata": {
        "id": "cWUjSy7vFbn4"
      },
      "outputs": [],
      "source": [
        "minimum_categorical_positive_count = 5\n",
        "default_z_threshold_for_outliers = 2.5\n",
        "# years to draw crime data from\n",
        "years = [i for i in range(2010, 2020)] + [2021, 2022] #[2022]  #"
      ]
    },
    {
      "cell_type": "markdown",
      "metadata": {
        "id": "cH0vaj3TdsQ_"
      },
      "source": [
        "##Import datasets"
      ]
    },
    {
      "cell_type": "code",
      "source": [
        "# use the entries of the first row as the column headers for easier management\n",
        "def fixHeaders(df):\n",
        "  new_headers = df.iloc[0]\n",
        "  new_df = df[1:]\n",
        "  new_df.columns = new_headers\n",
        "  return new_df"
      ],
      "metadata": {
        "id": "MI_L_MTc4pc-"
      },
      "execution_count": 68,
      "outputs": []
    },
    {
      "cell_type": "code",
      "execution_count": 69,
      "metadata": {
        "id": "bCX3rTyyddMq"
      },
      "outputs": [],
      "source": [
        "crime_df = pd.read_csv(\"https://raw.githubusercontent.com/IsaacFigNewton/Analyzing-Hate-Crime-Data/main/datasets/hate_crime/hate_crime.csv\", on_bad_lines='skip')"
      ]
    },
    {
      "cell_type": "code",
      "source": [
        "# create the county_demo_df\n",
        "county_demo_df = pd.DataFrame()\n",
        "\n",
        "# combine all datasets of the specified years\n",
        "for year in years:\n",
        "  temp_df = pd.read_csv(\"https://raw.githubusercontent.com/IsaacFigNewton/Analyzing-Hate-Crime-Data/main/datasets/demographics/county/data/ACSDP1Y\" + str(year) + \".DP05-Data.csv\", on_bad_lines='skip')\n",
        "\n",
        "  #fix the headers\n",
        "  temp_df = fixHeaders(temp_df)\n",
        "  temp_df[\"year\"] = year\n",
        "\n",
        "  print()\n",
        "  print(year)\n",
        "\n",
        "  if county_demo_df.empty:\n",
        "    county_demo_df = temp_df\n",
        "  else:\n",
        "    # drop all column duplicates\n",
        "    county_demo_df = county_demo_df.loc[:,~county_demo_df.columns.duplicated()].copy()\n",
        "    temp_df = temp_df.loc[:,~temp_df.columns.duplicated()].copy()\n",
        "\n",
        "    cols_to_merge_on = list(set(temp_df.columns).intersection(set(county_demo_df.columns)))\n",
        "    county_demo_df = pd.merge(county_demo_df, temp_df, how=\"outer\")"
      ],
      "metadata": {
        "colab": {
          "base_uri": "https://localhost:8080/"
        },
        "id": "kIWQP31m3Z8s",
        "outputId": "72c2ff91-54fd-4147-a563-c1545ac4938f"
      },
      "execution_count": 90,
      "outputs": [
        {
          "output_type": "stream",
          "name": "stdout",
          "text": [
            "\n",
            "2010\n",
            "\n",
            "2011\n",
            "['Estimate!!RACE!!One race!!American Indian and Alaska Native!!Navajo tribal grouping', 'Estimate!!RACE!!One race!!Asian!!Korean', 'Percent!!RACE!!One race!!American Indian and Alaska Native!!Cherokee tribal grouping', 'Percent!!RACE!!One race!!Asian!!Asian Indian', 'Percent!!RACE!!One race!!Asian', 'Percent!!RACE!!One race!!Native Hawaiian and Other Pacific Islander!!Samoan', 'Percent Margin of Error!!RACE!!One race', 'Percent Margin of Error!!Total housing units', 'Percent!!RACE!!One race!!American Indian and Alaska Native', 'Percent Margin of Error!!RACE!!One race!!American Indian and Alaska Native!!Chippewa tribal grouping', 'Percent Margin of Error!!RACE!!Black or African American', 'Percent!!RACE!!One race!!Asian!!Korean', 'Percent!!SEX AND AGE!!10 to 14 years', 'Percent Margin of Error!!SEX AND AGE!!5 to 9 years', 'Percent!!RACE!!One race!!American Indian and Alaska Native!!Navajo tribal grouping', 'Percent Margin of Error!!HISPANIC OR LATINO AND RACE!!Not Hispanic or Latino', 'Percent!!SEX AND AGE!!65 to 74 years', 'Percent Margin of Error!!RACE!!Asian', 'Estimate!!HISPANIC OR LATINO AND RACE!!Hispanic or Latino (of any race)!!Cuban', 'Percent Margin of Error!!SEX AND AGE!!21 years and over', 'Percent Margin of Error!!HISPANIC OR LATINO AND RACE!!Not Hispanic or Latino!!Some other race alone', 'Percent Margin of Error!!RACE!!One race!!Native Hawaiian and Other Pacific Islander!!Samoan', 'Estimate!!SEX AND AGE!!5 to 9 years', 'Estimate!!RACE!!One race!!Asian!!Filipino', 'Percent Margin of Error!!RACE!!Some other race', 'Percent Margin of Error!!HISPANIC OR LATINO AND RACE!!Not Hispanic or Latino!!Native Hawaiian and Other Pacific Islander alone', 'Estimate!!RACE!!Two or more races!!Black or African American and American Indian and Alaska Native', 'Percent Margin of Error!!SEX AND AGE!!55 to 59 years', 'Estimate!!RACE!!White', 'Percent!!HISPANIC OR LATINO AND RACE!!Not Hispanic or Latino!!Two or more races', 'Percent!!RACE!!One race!!Native Hawaiian and Other Pacific Islander!!Other Pacific Islander', 'Estimate!!HISPANIC OR LATINO AND RACE!!Not Hispanic or Latino!!Two or more races!!Two races including Some other race', 'Estimate!!SEX AND AGE!!55 to 59 years', 'Percent!!RACE!!One race!!Native Hawaiian and Other Pacific Islander', 'Estimate!!RACE!!One race!!Asian!!Asian Indian', 'Percent Margin of Error!!SEX AND AGE!!10 to 14 years', 'Estimate!!RACE!!Two or more races!!White and American Indian and Alaska Native', 'Percent!!RACE!!One race!!Asian!!Filipino', 'Estimate!!SEX AND AGE!!85 years and over', 'Estimate!!RACE!!One race!!Asian!!Vietnamese', 'Percent Margin of Error!!SEX AND AGE!!85 years and over', 'Percent!!SEX AND AGE!!75 to 84 years', 'Geography', 'Percent!!SEX AND AGE!!45 to 54 years', 'Percent!!HISPANIC OR LATINO AND RACE!!Not Hispanic or Latino!!Asian alone', 'Percent Margin of Error!!SEX AND AGE!!65 to 74 years', 'Percent!!RACE!!Two or more races!!White and Asian', 'Estimate!!HISPANIC OR LATINO AND RACE!!Hispanic or Latino (of any race)!!Other Hispanic or Latino', 'Estimate!!SEX AND AGE!!15 to 19 years', 'Estimate!!RACE!!One race!!White', 'Estimate!!HISPANIC OR LATINO AND RACE!!Not Hispanic or Latino!!Black or African American alone', 'Estimate!!RACE!!Two or more races!!White and Asian', 'Estimate!!SEX AND AGE!!45 to 54 years', 'Estimate!!SEX AND AGE!!65 years and over', 'Estimate!!RACE!!One race!!Asian', 'Percent!!RACE!!White', 'Percent!!RACE!!One race!!American Indian and Alaska Native!!Sioux tribal grouping', 'Percent!!RACE!!One race!!Asian!!Vietnamese', 'Estimate!!RACE!!Black or African American', 'Percent!!HISPANIC OR LATINO AND RACE!!Hispanic or Latino (of any race)!!Puerto Rican', 'Percent!!SEX AND AGE!!Total population', 'Percent!!HISPANIC OR LATINO AND RACE!!Hispanic or Latino (of any race)', 'Estimate!!HISPANIC OR LATINO AND RACE!!Hispanic or Latino (of any race)', 'Percent!!HISPANIC OR LATINO AND RACE!!Not Hispanic or Latino!!Some other race alone', 'Estimate!!RACE!!Asian', 'Percent!!SEX AND AGE!!20 to 24 years', 'Percent!!SEX AND AGE!!Median age (years)', 'Percent Margin of Error!!HISPANIC OR LATINO AND RACE!!Hispanic or Latino (of any race)!!Mexican', 'Percent!!HISPANIC OR LATINO AND RACE!!Not Hispanic or Latino!!White alone', 'Geographic Area Name', 'Percent Margin of Error!!RACE!!Two or more races!!Black or African American and American Indian and Alaska Native', 'Estimate!!SEX AND AGE!!75 to 84 years', 'Percent Margin of Error!!RACE!!One race!!American Indian and Alaska Native!!Cherokee tribal grouping', 'Estimate!!SEX AND AGE!!Under 5 years', 'Percent Margin of Error!!SEX AND AGE!!25 to 34 years', 'Estimate!!SEX AND AGE!!35 to 44 years', 'Percent Margin of Error!!RACE!!White', 'Percent Margin of Error!!HISPANIC OR LATINO AND RACE!!Total population', 'Percent Margin of Error!!RACE!!One race!!Asian!!Other Asian', 'Percent Margin of Error!!RACE!!Two or more races', 'Estimate!!HISPANIC OR LATINO AND RACE!!Not Hispanic or Latino!!Native Hawaiian and Other Pacific Islander alone', 'Percent!!RACE!!Two or more races', 'Percent Margin of Error!!SEX AND AGE!!35 to 44 years', 'Percent!!RACE!!One race!!White', 'Percent Margin of Error!!SEX AND AGE!!15 to 19 years', 'Estimate!!RACE!!One race!!Some other race', 'Estimate!!RACE!!One race!!Native Hawaiian and Other Pacific Islander!!Samoan', 'Estimate!!SEX AND AGE!!Female', 'Percent Margin of Error!!SEX AND AGE!!65 years and over', 'Percent!!RACE!!One race!!Asian!!Chinese', 'Estimate!!SEX AND AGE!!10 to 14 years', 'Percent!!RACE!!Native Hawaiian and Other Pacific Islander', 'Percent Margin of Error!!SEX AND AGE!!Median age (years)', 'Percent Margin of Error!!RACE!!One race!!White', 'Estimate!!RACE!!One race!!Native Hawaiian and Other Pacific Islander', 'Estimate!!RACE!!One race!!American Indian and Alaska Native!!Chippewa tribal grouping', 'Percent Margin of Error!!RACE!!One race!!Native Hawaiian and Other Pacific Islander!!Other Pacific Islander', 'Percent Margin of Error!!HISPANIC OR LATINO AND RACE!!Hispanic or Latino (of any race)!!Other Hispanic or Latino', 'Percent Margin of Error!!HISPANIC OR LATINO AND RACE!!Not Hispanic or Latino!!Two or more races!!Two races including Some other race', 'Percent!!SEX AND AGE!!15 to 19 years', 'Percent Margin of Error!!SEX AND AGE!!62 years and over', 'Percent Margin of Error!!RACE!!One race!!Asian!!Vietnamese', 'Estimate!!RACE!!One race!!Asian!!Japanese', 'Estimate!!RACE!!Race alone or in combination with one or more other races!!Total population', 'Percent!!HISPANIC OR LATINO AND RACE!!Hispanic or Latino (of any race)!!Other Hispanic or Latino', 'Percent!!Total housing units', 'Percent!!RACE!!One race!!Black or African American', 'Estimate!!SEX AND AGE!!21 years and over', 'Percent!!SEX AND AGE!!62 years and over', 'Percent Margin of Error!!RACE!!One race!!American Indian and Alaska Native!!Navajo tribal grouping', 'Percent!!HISPANIC OR LATINO AND RACE!!Not Hispanic or Latino!!Black or African American alone', 'Percent!!RACE!!One race!!Native Hawaiian and Other Pacific Islander!!Guamanian or Chamorro', 'Percent!!RACE!!Black or African American', 'Estimate!!HISPANIC OR LATINO AND RACE!!Not Hispanic or Latino!!Two or more races', 'Percent Margin of Error!!RACE!!Two or more races!!White and Asian', 'Percent Margin of Error!!RACE!!One race!!Asian!!Chinese', 'Percent Margin of Error!!HISPANIC OR LATINO AND RACE!!Not Hispanic or Latino!!Asian alone', 'Percent Margin of Error!!RACE!!Two or more races!!White and Black or African American', 'Estimate!!RACE!!One race!!American Indian and Alaska Native!!Cherokee tribal grouping', 'Percent Margin of Error!!RACE!!One race!!Asian!!Korean', 'Percent!!RACE!!Two or more races!!White and Black or African American', 'Percent Margin of Error!!HISPANIC OR LATINO AND RACE!!Not Hispanic or Latino!!American Indian and Alaska Native alone', 'Percent!!HISPANIC OR LATINO AND RACE!!Not Hispanic or Latino!!Two or more races!!Two races including Some other race', 'Percent!!SEX AND AGE!!Male', 'Percent Margin of Error!!RACE!!One race!!Black or African American', 'Estimate!!HISPANIC OR LATINO AND RACE!!Hispanic or Latino (of any race)!!Puerto Rican', 'Percent Margin of Error!!RACE!!Race alone or in combination with one or more other races!!Total population', 'Percent!!SEX AND AGE!!35 to 44 years', 'Percent!!SEX AND AGE!!25 to 34 years', 'Percent Margin of Error!!SEX AND AGE!!Male', 'Percent Margin of Error!!SEX AND AGE!!75 to 84 years', 'Estimate!!HISPANIC OR LATINO AND RACE!!Not Hispanic or Latino!!Two or more races!!Two races excluding Some other race, and Three or more races', 'Percent Margin of Error!!SEX AND AGE!!Female', 'Percent Margin of Error!!RACE!!Native Hawaiian and Other Pacific Islander', 'Percent Margin of Error!!RACE!!One race!!Native Hawaiian and Other Pacific Islander', 'Percent!!HISPANIC OR LATINO AND RACE!!Total population', 'Percent Margin of Error!!SEX AND AGE!!Under 5 years', 'Estimate!!RACE!!Some other race', 'Percent Margin of Error!!RACE!!One race!!Asian!!Filipino', 'Percent!!HISPANIC OR LATINO AND RACE!!Hispanic or Latino (of any race)!!Cuban', 'Estimate!!HISPANIC OR LATINO AND RACE!!Hispanic or Latino (of any race)!!Mexican', 'Estimate!!SEX AND AGE!!65 to 74 years', 'Percent!!SEX AND AGE!!60 to 64 years', 'Estimate!!RACE!!One race!!Asian!!Other Asian', 'Percent!!RACE!!Two or more races!!White and American Indian and Alaska Native', 'Percent Margin of Error!!HISPANIC OR LATINO AND RACE!!Not Hispanic or Latino!!Two or more races', 'Percent!!SEX AND AGE!!85 years and over', 'Percent!!SEX AND AGE!!65 years and over', 'Estimate!!SEX AND AGE!!20 to 24 years', 'Percent!!RACE!!Asian', 'Percent!!RACE!!Total population', 'Estimate!!HISPANIC OR LATINO AND RACE!!Not Hispanic or Latino', 'year', 'Percent Margin of Error!!RACE!!One race!!Native Hawaiian and Other Pacific Islander!!Native Hawaiian', 'Estimate!!RACE!!Total population', 'Estimate!!SEX AND AGE!!Total population', 'Percent Margin of Error!!RACE!!One race!!Asian!!Japanese', 'Percent!!RACE!!Two or more races!!Black or African American and American Indian and Alaska Native', 'Percent!!RACE!!One race!!Asian!!Japanese', 'Percent Margin of Error!!RACE!!One race!!American Indian and Alaska Native', 'Estimate!!RACE!!Two or more races!!White and Black or African American', 'Percent Margin of Error!!RACE!!One race!!American Indian and Alaska Native!!Sioux tribal grouping', 'Estimate!!RACE!!Two or more races', 'Percent Margin of Error!!HISPANIC OR LATINO AND RACE!!Not Hispanic or Latino!!White alone', 'Estimate!!RACE!!One race!!Native Hawaiian and Other Pacific Islander!!Other Pacific Islander', 'Percent Margin of Error!!SEX AND AGE!!18 years and over', 'Estimate!!RACE!!One race!!Asian!!Chinese', 'Percent!!RACE!!One race!!Asian!!Other Asian', 'Percent Margin of Error!!HISPANIC OR LATINO AND RACE!!Hispanic or Latino (of any race)!!Cuban', 'Percent!!RACE!!One race!!Native Hawaiian and Other Pacific Islander!!Native Hawaiian', 'Percent!!RACE!!One race!!Some other race', 'Percent!!HISPANIC OR LATINO AND RACE!!Not Hispanic or Latino!!American Indian and Alaska Native alone', 'Percent Margin of Error!!RACE!!One race!!Asian!!Asian Indian', 'Percent Margin of Error!!HISPANIC OR LATINO AND RACE!!Not Hispanic or Latino!!Two or more races!!Two races excluding Some other race, and Three or more races', 'Percent Margin of Error!!RACE!!One race!!Asian', 'Estimate!!HISPANIC OR LATINO AND RACE!!Not Hispanic or Latino!!White alone', 'Percent!!RACE!!One race', 'Estimate!!SEX AND AGE!!Male', 'Percent Margin of Error!!HISPANIC OR LATINO AND RACE!!Hispanic or Latino (of any race)!!Puerto Rican', 'Estimate!!RACE!!Native Hawaiian and Other Pacific Islander', 'Percent!!SEX AND AGE!!55 to 59 years', 'Percent Margin of Error!!HISPANIC OR LATINO AND RACE!!Not Hispanic or Latino!!Black or African American alone', 'Estimate!!RACE!!One race!!American Indian and Alaska Native', 'Percent Margin of Error!!RACE!!Two or more races!!White and American Indian and Alaska Native', 'Estimate!!RACE!!One race!!Black or African American', 'Estimate!!HISPANIC OR LATINO AND RACE!!Not Hispanic or Latino!!Asian alone', 'Percent!!SEX AND AGE!!Under 5 years', 'Percent!!SEX AND AGE!!18 years and over', 'Estimate!!RACE!!One race', 'Estimate!!HISPANIC OR LATINO AND RACE!!Total population', 'Percent Margin of Error!!SEX AND AGE!!45 to 54 years', 'Percent!!SEX AND AGE!!Female', 'Percent!!SEX AND AGE!!21 years and over', 'Estimate!!HISPANIC OR LATINO AND RACE!!Not Hispanic or Latino!!American Indian and Alaska Native alone', 'Estimate!!RACE!!One race!!Native Hawaiian and Other Pacific Islander!!Native Hawaiian', 'Estimate!!Total housing units', 'Estimate!!SEX AND AGE!!Median age (years)', 'Percent Margin of Error!!SEX AND AGE!!Total population', 'Percent Margin of Error!!RACE!!One race!!Native Hawaiian and Other Pacific Islander!!Guamanian or Chamorro', 'Percent Margin of Error!!RACE!!American Indian and Alaska Native', 'Estimate!!RACE!!One race!!American Indian and Alaska Native!!Sioux tribal grouping', 'Estimate!!SEX AND AGE!!25 to 34 years', 'Percent!!RACE!!One race!!American Indian and Alaska Native!!Chippewa tribal grouping', 'Percent!!HISPANIC OR LATINO AND RACE!!Not Hispanic or Latino!!Native Hawaiian and Other Pacific Islander alone', 'Percent!!RACE!!American Indian and Alaska Native', 'Percent Margin of Error!!HISPANIC OR LATINO AND RACE!!Hispanic or Latino (of any race)', 'Percent Margin of Error!!SEX AND AGE!!60 to 64 years', 'Estimate!!HISPANIC OR LATINO AND RACE!!Not Hispanic or Latino!!Some other race alone', 'Percent Margin of Error!!RACE!!Total population', 'Percent!!RACE!!Some other race', 'Estimate!!RACE!!American Indian and Alaska Native', 'Estimate!!SEX AND AGE!!18 years and over', 'Percent!!RACE!!Race alone or in combination with one or more other races!!Total population', 'Estimate!!SEX AND AGE!!62 years and over', 'Percent Margin of Error!!RACE!!One race!!Some other race', 'Estimate!!RACE!!One race!!Native Hawaiian and Other Pacific Islander!!Guamanian or Chamorro', 'Estimate!!SEX AND AGE!!60 to 64 years', 'Percent!!HISPANIC OR LATINO AND RACE!!Not Hispanic or Latino!!Two or more races!!Two races excluding Some other race, and Three or more races', 'Percent Margin of Error!!SEX AND AGE!!20 to 24 years', 'Percent!!HISPANIC OR LATINO AND RACE!!Not Hispanic or Latino', 'Percent!!HISPANIC OR LATINO AND RACE!!Hispanic or Latino (of any race)!!Mexican', 'Percent!!SEX AND AGE!!5 to 9 years']\n",
            "\n",
            "2012\n",
            "['Margin of Error!!RACE!!One race!!Some other race', 'Margin of Error!!RACE!!Two or more races!!White and Black or African American', 'Estimate!!RACE!!One race!!American Indian and Alaska Native!!Navajo tribal grouping', 'Estimate!!RACE!!One race!!Asian!!Korean', 'Percent!!RACE!!One race!!American Indian and Alaska Native!!Cherokee tribal grouping', 'Percent!!RACE!!One race!!Asian!!Asian Indian', 'Percent!!RACE!!One race!!Asian', 'Percent!!RACE!!One race!!Native Hawaiian and Other Pacific Islander!!Samoan', 'Percent Margin of Error!!RACE!!One race', 'Percent Margin of Error!!Total housing units', 'Margin of Error!!RACE!!One race!!Asian!!Japanese', 'Percent!!RACE!!One race!!American Indian and Alaska Native', 'Percent Margin of Error!!RACE!!One race!!American Indian and Alaska Native!!Chippewa tribal grouping', 'Margin of Error!!RACE!!Two or more races!!Black or African American and American Indian and Alaska Native', 'Percent Margin of Error!!RACE!!Black or African American', 'Margin of Error!!RACE!!One race!!Native Hawaiian and Other Pacific Islander!!Guamanian or Chamorro', 'Percent!!RACE!!One race!!Asian!!Korean', 'Percent!!SEX AND AGE!!10 to 14 years', 'Percent Margin of Error!!SEX AND AGE!!5 to 9 years', 'Percent!!RACE!!One race!!American Indian and Alaska Native!!Navajo tribal grouping', 'Margin of Error!!SEX AND AGE!!65 years and over', 'Percent Margin of Error!!HISPANIC OR LATINO AND RACE!!Not Hispanic or Latino', 'Margin of Error!!SEX AND AGE!!25 to 34 years', 'Percent!!SEX AND AGE!!65 to 74 years', 'Percent Margin of Error!!RACE!!Asian', 'Margin of Error!!HISPANIC OR LATINO AND RACE!!Hispanic or Latino (of any race)!!Mexican', 'Estimate!!HISPANIC OR LATINO AND RACE!!Hispanic or Latino (of any race)!!Cuban', 'Percent Margin of Error!!SEX AND AGE!!21 years and over', 'Percent Margin of Error!!HISPANIC OR LATINO AND RACE!!Not Hispanic or Latino!!Some other race alone', 'Percent Margin of Error!!RACE!!One race!!Native Hawaiian and Other Pacific Islander!!Samoan', 'Estimate!!SEX AND AGE!!5 to 9 years', 'Estimate!!RACE!!One race!!Asian!!Filipino', 'Percent Margin of Error!!RACE!!Some other race', 'Percent Margin of Error!!HISPANIC OR LATINO AND RACE!!Not Hispanic or Latino!!Native Hawaiian and Other Pacific Islander alone', 'Estimate!!RACE!!Two or more races!!Black or African American and American Indian and Alaska Native', 'Percent Margin of Error!!SEX AND AGE!!55 to 59 years', 'Estimate!!RACE!!White', 'Percent!!HISPANIC OR LATINO AND RACE!!Not Hispanic or Latino!!Two or more races', 'Percent!!RACE!!One race!!Native Hawaiian and Other Pacific Islander!!Other Pacific Islander', 'Margin of Error!!RACE!!Some other race', 'Margin of Error!!HISPANIC OR LATINO AND RACE!!Not Hispanic or Latino!!Two or more races', 'Estimate!!HISPANIC OR LATINO AND RACE!!Not Hispanic or Latino!!Two or more races!!Two races including Some other race', 'Estimate!!SEX AND AGE!!55 to 59 years', 'Percent!!RACE!!One race!!Native Hawaiian and Other Pacific Islander', 'Margin of Error!!SEX AND AGE!!Female', 'Percent Margin of Error!!SEX AND AGE!!10 to 14 years', 'Estimate!!RACE!!One race!!Asian!!Asian Indian', 'Percent!!RACE!!One race!!Asian!!Filipino', 'Estimate!!SEX AND AGE!!85 years and over', 'Estimate!!RACE!!Two or more races!!White and American Indian and Alaska Native', 'Margin of Error!!RACE!!One race!!Asian!!Korean', 'Margin of Error!!RACE!!Two or more races!!White and Asian', 'Estimate!!RACE!!One race!!Asian!!Vietnamese', 'Margin of Error!!RACE!!One race!!Asian!!Other Asian', 'Percent Margin of Error!!SEX AND AGE!!85 years and over', 'Percent!!SEX AND AGE!!75 to 84 years', 'Geography', 'Percent!!SEX AND AGE!!45 to 54 years', 'Margin of Error!!RACE!!White', 'Percent!!HISPANIC OR LATINO AND RACE!!Not Hispanic or Latino!!Asian alone', 'Percent Margin of Error!!SEX AND AGE!!65 to 74 years', 'Percent!!RACE!!Two or more races!!White and Asian', 'Estimate!!HISPANIC OR LATINO AND RACE!!Hispanic or Latino (of any race)!!Other Hispanic or Latino', 'Estimate!!SEX AND AGE!!15 to 19 years', 'Margin of Error!!RACE!!American Indian and Alaska Native', 'Margin of Error!!HISPANIC OR LATINO AND RACE!!Not Hispanic or Latino!!Two or more races!!Two races including Some other race', 'Estimate!!RACE!!One race!!White', 'Margin of Error!!RACE!!Two or more races!!White and American Indian and Alaska Native', 'Estimate!!HISPANIC OR LATINO AND RACE!!Not Hispanic or Latino!!Black or African American alone', 'Estimate!!SEX AND AGE!!45 to 54 years', 'Estimate!!SEX AND AGE!!65 years and over', 'Estimate!!RACE!!Two or more races!!White and Asian', 'Estimate!!RACE!!One race!!Asian', 'Margin of Error!!RACE!!One race!!Native Hawaiian and Other Pacific Islander', 'Margin of Error!!RACE!!One race!!American Indian and Alaska Native!!Cherokee tribal grouping', 'Percent!!RACE!!One race!!American Indian and Alaska Native!!Sioux tribal grouping', 'Percent!!RACE!!One race!!Asian!!Vietnamese', 'Percent!!RACE!!White', 'Percent!!SEX AND AGE!!Total population', 'Estimate!!RACE!!Black or African American', 'Percent!!HISPANIC OR LATINO AND RACE!!Hispanic or Latino (of any race)!!Puerto Rican', 'Percent!!HISPANIC OR LATINO AND RACE!!Hispanic or Latino (of any race)', 'Margin of Error!!HISPANIC OR LATINO AND RACE!!Not Hispanic or Latino!!Some other race alone', 'Estimate!!HISPANIC OR LATINO AND RACE!!Hispanic or Latino (of any race)', 'Percent!!HISPANIC OR LATINO AND RACE!!Not Hispanic or Latino!!Some other race alone', 'Estimate!!RACE!!Asian', 'Margin of Error!!SEX AND AGE!!20 to 24 years', 'Percent!!SEX AND AGE!!20 to 24 years', 'Percent!!SEX AND AGE!!Median age (years)', 'Margin of Error!!HISPANIC OR LATINO AND RACE!!Not Hispanic or Latino!!Two or more races!!Two races excluding Some other race, and Three or more races', 'Percent Margin of Error!!HISPANIC OR LATINO AND RACE!!Hispanic or Latino (of any race)!!Mexican', 'Percent!!HISPANIC OR LATINO AND RACE!!Not Hispanic or Latino!!White alone', 'Geographic Area Name', 'Percent Margin of Error!!RACE!!Two or more races!!Black or African American and American Indian and Alaska Native', 'Estimate!!SEX AND AGE!!75 to 84 years', 'Percent Margin of Error!!RACE!!One race!!American Indian and Alaska Native!!Cherokee tribal grouping', 'Margin of Error!!RACE!!One race!!American Indian and Alaska Native', 'Estimate!!SEX AND AGE!!Under 5 years', 'Percent Margin of Error!!SEX AND AGE!!25 to 34 years', 'Estimate!!SEX AND AGE!!35 to 44 years', 'Percent Margin of Error!!RACE!!White', 'Percent Margin of Error!!HISPANIC OR LATINO AND RACE!!Total population', 'Percent Margin of Error!!RACE!!One race!!Asian!!Other Asian', 'Percent Margin of Error!!RACE!!Two or more races', 'Estimate!!HISPANIC OR LATINO AND RACE!!Not Hispanic or Latino!!Native Hawaiian and Other Pacific Islander alone', 'Percent!!RACE!!Two or more races', 'Margin of Error!!SEX AND AGE!!Male', 'Percent Margin of Error!!SEX AND AGE!!35 to 44 years', 'Margin of Error!!RACE!!One race!!White', 'Percent!!RACE!!One race!!White', 'Margin of Error!!Total housing units', 'Percent Margin of Error!!SEX AND AGE!!15 to 19 years', 'Estimate!!RACE!!One race!!Some other race', 'Estimate!!RACE!!One race!!Native Hawaiian and Other Pacific Islander!!Samoan', 'Margin of Error!!HISPANIC OR LATINO AND RACE!!Not Hispanic or Latino!!Black or African American alone', 'Estimate!!SEX AND AGE!!Female', 'Margin of Error!!RACE!!One race!!Asian!!Asian Indian', 'Margin of Error!!RACE!!Race alone or in combination with one or more other races!!Total population', 'Percent Margin of Error!!SEX AND AGE!!65 years and over', 'Percent!!RACE!!One race!!Asian!!Chinese', 'Margin of Error!!HISPANIC OR LATINO AND RACE!!Not Hispanic or Latino!!American Indian and Alaska Native alone', 'Margin of Error!!SEX AND AGE!!15 to 19 years', 'Estimate!!SEX AND AGE!!10 to 14 years', 'Percent!!RACE!!Native Hawaiian and Other Pacific Islander', 'Percent Margin of Error!!SEX AND AGE!!Median age (years)', 'Percent Margin of Error!!RACE!!One race!!White', 'Estimate!!RACE!!One race!!Native Hawaiian and Other Pacific Islander', 'Estimate!!RACE!!One race!!American Indian and Alaska Native!!Chippewa tribal grouping', 'Percent Margin of Error!!RACE!!One race!!Native Hawaiian and Other Pacific Islander!!Other Pacific Islander', 'Percent Margin of Error!!HISPANIC OR LATINO AND RACE!!Hispanic or Latino (of any race)!!Other Hispanic or Latino', 'Margin of Error!!HISPANIC OR LATINO AND RACE!!Not Hispanic or Latino!!White alone', 'Percent!!SEX AND AGE!!15 to 19 years', 'Percent Margin of Error!!HISPANIC OR LATINO AND RACE!!Not Hispanic or Latino!!Two or more races!!Two races including Some other race', 'Percent Margin of Error!!SEX AND AGE!!62 years and over', 'Percent Margin of Error!!RACE!!One race!!Asian!!Vietnamese', 'Margin of Error!!HISPANIC OR LATINO AND RACE!!Hispanic or Latino (of any race)!!Cuban', 'Estimate!!RACE!!One race!!Asian!!Japanese', 'Margin of Error!!RACE!!Asian', 'Estimate!!RACE!!Race alone or in combination with one or more other races!!Total population', 'Percent!!HISPANIC OR LATINO AND RACE!!Hispanic or Latino (of any race)!!Other Hispanic or Latino', 'Percent!!Total housing units', 'Margin of Error!!SEX AND AGE!!65 to 74 years', 'Estimate!!SEX AND AGE!!21 years and over', 'Margin of Error!!SEX AND AGE!!21 years and over', 'Percent!!SEX AND AGE!!62 years and over', 'Percent!!RACE!!One race!!Black or African American', 'Percent Margin of Error!!RACE!!One race!!American Indian and Alaska Native!!Navajo tribal grouping', 'Percent!!HISPANIC OR LATINO AND RACE!!Not Hispanic or Latino!!Black or African American alone', 'Margin of Error!!SEX AND AGE!!35 to 44 years', 'Percent!!RACE!!One race!!Native Hawaiian and Other Pacific Islander!!Guamanian or Chamorro', 'Percent!!RACE!!Black or African American', 'Estimate!!HISPANIC OR LATINO AND RACE!!Not Hispanic or Latino!!Two or more races', 'Percent Margin of Error!!RACE!!Two or more races!!White and Asian', 'Margin of Error!!RACE!!One race', 'Percent Margin of Error!!RACE!!One race!!Asian!!Chinese', 'Margin of Error!!SEX AND AGE!!10 to 14 years', 'Margin of Error!!HISPANIC OR LATINO AND RACE!!Not Hispanic or Latino', 'Margin of Error!!RACE!!One race!!Asian!!Filipino', 'Percent Margin of Error!!RACE!!Two or more races!!White and Black or African American', 'Percent Margin of Error!!HISPANIC OR LATINO AND RACE!!Not Hispanic or Latino!!Asian alone', 'Margin of Error!!RACE!!Total population', 'Estimate!!RACE!!One race!!American Indian and Alaska Native!!Cherokee tribal grouping', 'Margin of Error!!SEX AND AGE!!60 to 64 years', 'Percent Margin of Error!!RACE!!One race!!Asian!!Korean', 'Percent!!RACE!!Two or more races!!White and Black or African American', 'Percent Margin of Error!!HISPANIC OR LATINO AND RACE!!Not Hispanic or Latino!!American Indian and Alaska Native alone', 'Percent!!HISPANIC OR LATINO AND RACE!!Not Hispanic or Latino!!Two or more races!!Two races including Some other race', 'Percent!!SEX AND AGE!!Male', 'Percent Margin of Error!!RACE!!One race!!Black or African American', 'Estimate!!HISPANIC OR LATINO AND RACE!!Hispanic or Latino (of any race)!!Puerto Rican', 'Percent Margin of Error!!RACE!!Race alone or in combination with one or more other races!!Total population', 'Percent!!SEX AND AGE!!35 to 44 years', 'Percent!!SEX AND AGE!!25 to 34 years', 'Percent Margin of Error!!SEX AND AGE!!Male', 'Percent Margin of Error!!SEX AND AGE!!75 to 84 years', 'Estimate!!HISPANIC OR LATINO AND RACE!!Not Hispanic or Latino!!Two or more races!!Two races excluding Some other race, and Three or more races', 'Percent Margin of Error!!SEX AND AGE!!Female', 'Margin of Error!!SEX AND AGE!!5 to 9 years', 'Percent Margin of Error!!RACE!!Native Hawaiian and Other Pacific Islander', 'Percent Margin of Error!!RACE!!One race!!Native Hawaiian and Other Pacific Islander', 'Percent!!HISPANIC OR LATINO AND RACE!!Total population', 'Percent Margin of Error!!SEX AND AGE!!Under 5 years', 'Margin of Error!!SEX AND AGE!!45 to 54 years', 'Estimate!!RACE!!Some other race', 'Margin of Error!!RACE!!One race!!Native Hawaiian and Other Pacific Islander!!Samoan', 'Percent Margin of Error!!RACE!!One race!!Asian!!Filipino', 'Percent!!HISPANIC OR LATINO AND RACE!!Hispanic or Latino (of any race)!!Cuban', 'Estimate!!HISPANIC OR LATINO AND RACE!!Hispanic or Latino (of any race)!!Mexican', 'Margin of Error!!SEX AND AGE!!62 years and over', 'Estimate!!SEX AND AGE!!65 to 74 years', 'Percent!!SEX AND AGE!!60 to 64 years', 'Estimate!!RACE!!One race!!Asian!!Other Asian', 'Percent!!RACE!!Two or more races!!White and American Indian and Alaska Native', 'Percent Margin of Error!!HISPANIC OR LATINO AND RACE!!Not Hispanic or Latino!!Two or more races', 'Percent!!SEX AND AGE!!85 years and over', 'Margin of Error!!RACE!!One race!!Native Hawaiian and Other Pacific Islander!!Native Hawaiian', 'Percent!!SEX AND AGE!!65 years and over', 'Estimate!!SEX AND AGE!!20 to 24 years', 'Margin of Error!!RACE!!One race!!American Indian and Alaska Native!!Chippewa tribal grouping', 'Margin of Error!!RACE!!One race!!Asian', 'Percent!!RACE!!Asian', 'Percent!!RACE!!Total population', 'Estimate!!HISPANIC OR LATINO AND RACE!!Not Hispanic or Latino', 'year', 'Percent Margin of Error!!RACE!!One race!!Native Hawaiian and Other Pacific Islander!!Native Hawaiian', 'Estimate!!RACE!!Total population', 'Estimate!!SEX AND AGE!!Total population', 'Percent Margin of Error!!RACE!!One race!!Asian!!Japanese', 'Percent!!RACE!!Two or more races!!Black or African American and American Indian and Alaska Native', 'Margin of Error!!HISPANIC OR LATINO AND RACE!!Not Hispanic or Latino!!Native Hawaiian and Other Pacific Islander alone', 'Percent!!RACE!!One race!!Asian!!Japanese', 'Percent Margin of Error!!RACE!!One race!!American Indian and Alaska Native', 'Estimate!!RACE!!Two or more races!!White and Black or African American', 'Percent Margin of Error!!RACE!!One race!!American Indian and Alaska Native!!Sioux tribal grouping', 'Estimate!!RACE!!Two or more races', 'Percent Margin of Error!!HISPANIC OR LATINO AND RACE!!Not Hispanic or Latino!!White alone', 'Margin of Error!!SEX AND AGE!!Median age (years)', 'Estimate!!RACE!!One race!!Native Hawaiian and Other Pacific Islander!!Other Pacific Islander', 'Percent Margin of Error!!SEX AND AGE!!18 years and over', 'Estimate!!RACE!!One race!!Asian!!Chinese', 'Percent!!RACE!!One race!!Asian!!Other Asian', 'Percent Margin of Error!!HISPANIC OR LATINO AND RACE!!Hispanic or Latino (of any race)!!Cuban', 'Percent!!RACE!!One race!!Native Hawaiian and Other Pacific Islander!!Native Hawaiian', 'Percent!!RACE!!One race!!Some other race', 'Margin of Error!!SEX AND AGE!!85 years and over', 'Percent Margin of Error!!RACE!!One race!!Asian!!Asian Indian', 'Percent!!HISPANIC OR LATINO AND RACE!!Not Hispanic or Latino!!American Indian and Alaska Native alone', 'Percent Margin of Error!!HISPANIC OR LATINO AND RACE!!Not Hispanic or Latino!!Two or more races!!Two races excluding Some other race, and Three or more races', 'Percent Margin of Error!!RACE!!One race!!Asian', 'Estimate!!HISPANIC OR LATINO AND RACE!!Not Hispanic or Latino!!White alone', 'Margin of Error!!RACE!!Two or more races', 'Percent!!RACE!!One race', 'Margin of Error!!SEX AND AGE!!55 to 59 years', 'Estimate!!SEX AND AGE!!Male', 'Percent Margin of Error!!HISPANIC OR LATINO AND RACE!!Hispanic or Latino (of any race)!!Puerto Rican', 'Estimate!!RACE!!Native Hawaiian and Other Pacific Islander', 'Percent!!SEX AND AGE!!55 to 59 years', 'Percent Margin of Error!!HISPANIC OR LATINO AND RACE!!Not Hispanic or Latino!!Black or African American alone', 'Estimate!!RACE!!One race!!American Indian and Alaska Native', 'Percent Margin of Error!!RACE!!Two or more races!!White and American Indian and Alaska Native', 'Estimate!!RACE!!One race!!Black or African American', 'Margin of Error!!HISPANIC OR LATINO AND RACE!!Hispanic or Latino (of any race)!!Puerto Rican', 'Estimate!!HISPANIC OR LATINO AND RACE!!Not Hispanic or Latino!!Asian alone', 'Percent!!SEX AND AGE!!Under 5 years', 'Percent!!SEX AND AGE!!18 years and over', 'Estimate!!RACE!!One race', 'Estimate!!HISPANIC OR LATINO AND RACE!!Total population', 'Percent Margin of Error!!SEX AND AGE!!45 to 54 years', 'Margin of Error!!HISPANIC OR LATINO AND RACE!!Hispanic or Latino (of any race)', 'Margin of Error!!RACE!!One race!!Asian!!Vietnamese', 'Percent!!SEX AND AGE!!Female', 'Percent!!SEX AND AGE!!21 years and over', 'Margin of Error!!RACE!!One race!!Asian!!Chinese', 'Estimate!!RACE!!One race!!Native Hawaiian and Other Pacific Islander!!Native Hawaiian', 'Estimate!!HISPANIC OR LATINO AND RACE!!Not Hispanic or Latino!!American Indian and Alaska Native alone', 'Margin of Error!!SEX AND AGE!!75 to 84 years', 'Estimate!!Total housing units', 'Estimate!!SEX AND AGE!!Median age (years)', 'Percent Margin of Error!!SEX AND AGE!!Total population', 'Percent Margin of Error!!RACE!!One race!!Native Hawaiian and Other Pacific Islander!!Guamanian or Chamorro', 'Percent Margin of Error!!RACE!!American Indian and Alaska Native', 'Estimate!!RACE!!One race!!American Indian and Alaska Native!!Sioux tribal grouping', 'Estimate!!SEX AND AGE!!25 to 34 years', 'Percent!!RACE!!One race!!American Indian and Alaska Native!!Chippewa tribal grouping', 'Margin of Error!!SEX AND AGE!!Under 5 years', 'Margin of Error!!RACE!!Native Hawaiian and Other Pacific Islander', 'Margin of Error!!HISPANIC OR LATINO AND RACE!!Total population', 'Percent!!RACE!!American Indian and Alaska Native', 'Percent!!HISPANIC OR LATINO AND RACE!!Not Hispanic or Latino!!Native Hawaiian and Other Pacific Islander alone', 'Percent Margin of Error!!HISPANIC OR LATINO AND RACE!!Hispanic or Latino (of any race)', 'Percent Margin of Error!!SEX AND AGE!!60 to 64 years', 'Margin of Error!!SEX AND AGE!!18 years and over', 'Margin of Error!!RACE!!One race!!Native Hawaiian and Other Pacific Islander!!Other Pacific Islander', 'Estimate!!HISPANIC OR LATINO AND RACE!!Not Hispanic or Latino!!Some other race alone', 'Percent Margin of Error!!RACE!!Total population', 'Margin of Error!!RACE!!Black or African American', 'Margin of Error!!RACE!!One race!!American Indian and Alaska Native!!Sioux tribal grouping', 'Percent!!RACE!!Some other race', 'Estimate!!RACE!!American Indian and Alaska Native', 'Estimate!!SEX AND AGE!!18 years and over', 'Margin of Error!!HISPANIC OR LATINO AND RACE!!Not Hispanic or Latino!!Asian alone', 'Margin of Error!!RACE!!One race!!Black or African American', 'Percent!!RACE!!Race alone or in combination with one or more other races!!Total population', 'Margin of Error!!HISPANIC OR LATINO AND RACE!!Hispanic or Latino (of any race)!!Other Hispanic or Latino', 'Estimate!!SEX AND AGE!!62 years and over', 'Percent Margin of Error!!RACE!!One race!!Some other race', 'Estimate!!RACE!!One race!!Native Hawaiian and Other Pacific Islander!!Guamanian or Chamorro', 'Margin of Error!!SEX AND AGE!!Total population', 'Estimate!!SEX AND AGE!!60 to 64 years', 'Percent!!HISPANIC OR LATINO AND RACE!!Not Hispanic or Latino!!Two or more races!!Two races excluding Some other race, and Three or more races', 'Percent Margin of Error!!SEX AND AGE!!20 to 24 years', 'Percent!!HISPANIC OR LATINO AND RACE!!Not Hispanic or Latino', 'Percent!!HISPANIC OR LATINO AND RACE!!Hispanic or Latino (of any race)!!Mexican', 'Margin of Error!!RACE!!One race!!American Indian and Alaska Native!!Navajo tribal grouping', 'Percent!!SEX AND AGE!!5 to 9 years']\n",
            "\n",
            "2013\n",
            "['Margin of Error!!RACE!!One race!!Some other race', 'Margin of Error!!RACE!!Two or more races!!White and Black or African American', 'Estimate!!RACE!!One race!!American Indian and Alaska Native!!Navajo tribal grouping', 'Estimate!!RACE!!One race!!Asian!!Korean', 'Percent!!RACE!!One race!!Asian!!Asian Indian', 'Percent!!RACE!!One race!!Native Hawaiian and Other Pacific Islander!!Samoan', 'Percent!!RACE!!One race!!Asian', 'Percent Margin of Error!!Total housing units', 'Percent Margin of Error!!RACE!!One race', 'Percent!!RACE!!One race!!American Indian and Alaska Native!!Cherokee tribal grouping', 'Margin of Error!!RACE!!One race!!Asian!!Japanese', 'Percent!!RACE!!One race!!American Indian and Alaska Native', 'Percent Margin of Error!!RACE!!One race!!American Indian and Alaska Native!!Chippewa tribal grouping', 'Margin of Error!!RACE!!Two or more races!!Black or African American and American Indian and Alaska Native', 'Margin of Error!!RACE!!One race!!Native Hawaiian and Other Pacific Islander!!Guamanian or Chamorro', 'Percent!!SEX AND AGE!!10 to 14 years', 'Percent!!RACE!!One race!!Asian!!Korean', 'Percent Margin of Error!!SEX AND AGE!!5 to 9 years', 'Percent!!RACE!!One race!!American Indian and Alaska Native!!Navajo tribal grouping', 'Margin of Error!!SEX AND AGE!!65 years and over', 'Margin of Error!!SEX AND AGE!!25 to 34 years', 'Percent!!SEX AND AGE!!65 to 74 years', 'Percent Margin of Error!!SEX AND AGE!!21 years and over', 'Percent Margin of Error!!RACE!!One race!!Native Hawaiian and Other Pacific Islander!!Samoan', 'Estimate!!SEX AND AGE!!5 to 9 years', 'Estimate!!RACE!!One race!!Asian!!Filipino', 'Estimate!!RACE!!Two or more races!!Black or African American and American Indian and Alaska Native', 'Percent Margin of Error!!SEX AND AGE!!55 to 59 years', 'Percent!!RACE!!One race!!Native Hawaiian and Other Pacific Islander!!Other Pacific Islander', 'Estimate!!SEX AND AGE!!55 to 59 years', 'Percent!!RACE!!One race!!Native Hawaiian and Other Pacific Islander', 'Estimate!!RACE!!Two or more races!!White and American Indian and Alaska Native', 'Percent Margin of Error!!SEX AND AGE!!10 to 14 years', 'Estimate!!RACE!!One race!!Asian!!Asian Indian', 'Percent!!RACE!!One race!!Asian!!Filipino', 'Margin of Error!!RACE!!Two or more races!!White and Asian', 'Estimate!!SEX AND AGE!!85 years and over', 'Margin of Error!!RACE!!One race!!Asian!!Korean', 'Estimate!!RACE!!One race!!Asian!!Vietnamese', 'Margin of Error!!RACE!!One race!!Asian!!Other Asian', 'Percent Margin of Error!!SEX AND AGE!!85 years and over', 'Percent!!SEX AND AGE!!75 to 84 years', 'Geography', 'Percent!!SEX AND AGE!!45 to 54 years', 'Percent Margin of Error!!SEX AND AGE!!65 to 74 years', 'Percent!!RACE!!Two or more races!!White and Asian', 'Estimate!!SEX AND AGE!!15 to 19 years', 'Estimate!!RACE!!One race!!White', 'Margin of Error!!RACE!!Two or more races!!White and American Indian and Alaska Native', 'Estimate!!SEX AND AGE!!45 to 54 years', 'Estimate!!SEX AND AGE!!65 years and over', 'Estimate!!RACE!!One race!!Asian', 'Margin of Error!!RACE!!One race!!Native Hawaiian and Other Pacific Islander', 'Margin of Error!!RACE!!One race!!American Indian and Alaska Native!!Cherokee tribal grouping', 'Percent!!RACE!!One race!!Asian!!Vietnamese', 'Percent!!RACE!!One race!!American Indian and Alaska Native!!Sioux tribal grouping', 'Percent!!SEX AND AGE!!Total population', 'Margin of Error!!SEX AND AGE!!20 to 24 years', 'Percent!!SEX AND AGE!!20 to 24 years', 'Percent!!SEX AND AGE!!Median age (years)', 'Geographic Area Name', 'Percent Margin of Error!!RACE!!Two or more races!!Black or African American and American Indian and Alaska Native', 'Estimate!!SEX AND AGE!!75 to 84 years', 'Percent Margin of Error!!RACE!!One race!!American Indian and Alaska Native!!Cherokee tribal grouping', 'Margin of Error!!RACE!!One race!!American Indian and Alaska Native', 'Estimate!!SEX AND AGE!!Under 5 years', 'Percent Margin of Error!!SEX AND AGE!!25 to 34 years', 'Estimate!!SEX AND AGE!!35 to 44 years', 'Percent Margin of Error!!HISPANIC OR LATINO AND RACE!!Total population', 'Percent Margin of Error!!RACE!!One race!!Asian!!Other Asian', 'Percent Margin of Error!!RACE!!Two or more races', 'Percent!!RACE!!Two or more races', 'Percent Margin of Error!!SEX AND AGE!!35 to 44 years', 'Margin of Error!!RACE!!One race!!White', 'Percent!!RACE!!One race!!White', 'Margin of Error!!Total housing units', 'Percent Margin of Error!!SEX AND AGE!!15 to 19 years', 'Estimate!!RACE!!One race!!Some other race', 'Estimate!!RACE!!One race!!Native Hawaiian and Other Pacific Islander!!Samoan', 'Margin of Error!!RACE!!One race!!Asian!!Asian Indian', 'Margin of Error!!RACE!!Race alone or in combination with one or more other races!!Total population', 'Percent Margin of Error!!SEX AND AGE!!65 years and over', 'Percent!!RACE!!One race!!Asian!!Chinese', 'Margin of Error!!SEX AND AGE!!15 to 19 years', 'Estimate!!SEX AND AGE!!10 to 14 years', 'Percent Margin of Error!!SEX AND AGE!!Median age (years)', 'Percent Margin of Error!!RACE!!One race!!White', 'Estimate!!RACE!!One race!!Native Hawaiian and Other Pacific Islander', 'Estimate!!RACE!!One race!!American Indian and Alaska Native!!Chippewa tribal grouping', 'Percent Margin of Error!!RACE!!One race!!Native Hawaiian and Other Pacific Islander!!Other Pacific Islander', 'Percent!!SEX AND AGE!!15 to 19 years', 'Percent Margin of Error!!SEX AND AGE!!62 years and over', 'Percent Margin of Error!!RACE!!One race!!Asian!!Vietnamese', 'Estimate!!RACE!!One race!!Asian!!Japanese', 'Estimate!!RACE!!Race alone or in combination with one or more other races!!Total population', 'Percent!!Total housing units', 'Margin of Error!!SEX AND AGE!!65 to 74 years', 'Estimate!!SEX AND AGE!!21 years and over', 'Margin of Error!!SEX AND AGE!!21 years and over', 'Percent!!SEX AND AGE!!62 years and over', 'Percent!!RACE!!One race!!Black or African American', 'Percent Margin of Error!!RACE!!One race!!American Indian and Alaska Native!!Navajo tribal grouping', 'Margin of Error!!SEX AND AGE!!35 to 44 years', 'Percent!!RACE!!One race!!Native Hawaiian and Other Pacific Islander!!Guamanian or Chamorro', 'Percent Margin of Error!!RACE!!Two or more races!!White and Asian', 'Margin of Error!!RACE!!One race', 'Percent Margin of Error!!RACE!!One race!!Asian!!Chinese', 'Margin of Error!!SEX AND AGE!!10 to 14 years', 'Margin of Error!!RACE!!One race!!Asian!!Filipino', 'Percent Margin of Error!!RACE!!Two or more races!!White and Black or African American', 'Margin of Error!!RACE!!Total population', 'Percent!!RACE!!Two or more races!!White and Black or African American', 'Estimate!!RACE!!One race!!American Indian and Alaska Native!!Cherokee tribal grouping', 'Percent Margin of Error!!RACE!!One race!!Asian!!Korean', 'Margin of Error!!SEX AND AGE!!60 to 64 years', 'Percent Margin of Error!!RACE!!One race!!Black or African American', 'Percent Margin of Error!!RACE!!Race alone or in combination with one or more other races!!Total population', 'Percent!!SEX AND AGE!!35 to 44 years', 'Percent!!SEX AND AGE!!25 to 34 years', 'Percent Margin of Error!!SEX AND AGE!!75 to 84 years', 'Margin of Error!!SEX AND AGE!!5 to 9 years', 'Percent Margin of Error!!RACE!!One race!!Native Hawaiian and Other Pacific Islander', 'Percent!!HISPANIC OR LATINO AND RACE!!Total population', 'Margin of Error!!SEX AND AGE!!45 to 54 years', 'Percent Margin of Error!!SEX AND AGE!!Under 5 years', 'Margin of Error!!RACE!!One race!!Native Hawaiian and Other Pacific Islander!!Samoan', 'Percent Margin of Error!!RACE!!One race!!Asian!!Filipino', 'Margin of Error!!SEX AND AGE!!62 years and over', 'Estimate!!SEX AND AGE!!65 to 74 years', 'Percent!!SEX AND AGE!!60 to 64 years', 'Estimate!!RACE!!One race!!Asian!!Other Asian', 'Percent!!RACE!!Two or more races!!White and American Indian and Alaska Native', 'Percent!!SEX AND AGE!!85 years and over', 'Margin of Error!!RACE!!One race!!Native Hawaiian and Other Pacific Islander!!Native Hawaiian', 'Margin of Error!!RACE!!One race!!American Indian and Alaska Native!!Chippewa tribal grouping', 'Margin of Error!!RACE!!One race!!Asian', 'Estimate!!SEX AND AGE!!20 to 24 years', 'Percent!!SEX AND AGE!!65 years and over', 'Percent!!RACE!!Total population', 'year', 'Percent Margin of Error!!RACE!!One race!!Native Hawaiian and Other Pacific Islander!!Native Hawaiian', 'Estimate!!RACE!!Total population', 'Estimate!!SEX AND AGE!!Total population', 'Percent Margin of Error!!RACE!!One race!!Asian!!Japanese', 'Percent!!RACE!!Two or more races!!Black or African American and American Indian and Alaska Native', 'Percent!!RACE!!One race!!Asian!!Japanese', 'Percent Margin of Error!!RACE!!One race!!American Indian and Alaska Native', 'Estimate!!RACE!!Two or more races!!White and Black or African American', 'Percent Margin of Error!!RACE!!One race!!American Indian and Alaska Native!!Sioux tribal grouping', 'Estimate!!RACE!!Two or more races', 'Margin of Error!!SEX AND AGE!!Median age (years)', 'Estimate!!RACE!!One race!!Native Hawaiian and Other Pacific Islander!!Other Pacific Islander', 'Percent Margin of Error!!SEX AND AGE!!18 years and over', 'Estimate!!RACE!!One race!!Asian!!Chinese', 'Percent!!RACE!!One race!!Asian!!Other Asian', 'Percent!!RACE!!One race!!Native Hawaiian and Other Pacific Islander!!Native Hawaiian', 'Percent!!RACE!!One race!!Some other race', 'Margin of Error!!SEX AND AGE!!85 years and over', 'Percent Margin of Error!!RACE!!One race!!Asian!!Asian Indian', 'Percent Margin of Error!!RACE!!One race!!Asian', 'Margin of Error!!RACE!!Two or more races', 'Percent!!RACE!!One race', 'Margin of Error!!SEX AND AGE!!55 to 59 years', 'Percent!!SEX AND AGE!!55 to 59 years', 'Percent Margin of Error!!RACE!!Two or more races!!White and American Indian and Alaska Native', 'Estimate!!RACE!!One race!!American Indian and Alaska Native', 'Estimate!!RACE!!One race!!Black or African American', 'Percent!!SEX AND AGE!!18 years and over', 'Percent!!SEX AND AGE!!Under 5 years', 'Estimate!!RACE!!One race', 'Estimate!!HISPANIC OR LATINO AND RACE!!Total population', 'Percent Margin of Error!!SEX AND AGE!!45 to 54 years', 'Margin of Error!!RACE!!One race!!Asian!!Vietnamese', 'Percent!!SEX AND AGE!!21 years and over', 'Margin of Error!!RACE!!One race!!Asian!!Chinese', 'Estimate!!RACE!!One race!!Native Hawaiian and Other Pacific Islander!!Native Hawaiian', 'Margin of Error!!SEX AND AGE!!75 to 84 years', 'Estimate!!Total housing units', 'Estimate!!SEX AND AGE!!Median age (years)', 'Percent Margin of Error!!SEX AND AGE!!Total population', 'Percent Margin of Error!!RACE!!One race!!Native Hawaiian and Other Pacific Islander!!Guamanian or Chamorro', 'Estimate!!RACE!!One race!!American Indian and Alaska Native!!Sioux tribal grouping', 'Percent!!RACE!!One race!!American Indian and Alaska Native!!Chippewa tribal grouping', 'Margin of Error!!HISPANIC OR LATINO AND RACE!!Total population', 'Estimate!!SEX AND AGE!!25 to 34 years', 'Margin of Error!!SEX AND AGE!!Under 5 years', 'Percent Margin of Error!!SEX AND AGE!!60 to 64 years', 'Margin of Error!!SEX AND AGE!!18 years and over', 'Margin of Error!!RACE!!One race!!Native Hawaiian and Other Pacific Islander!!Other Pacific Islander', 'Percent Margin of Error!!RACE!!Total population', 'Margin of Error!!RACE!!One race!!American Indian and Alaska Native!!Sioux tribal grouping', 'Estimate!!SEX AND AGE!!18 years and over', 'Margin of Error!!RACE!!One race!!Black or African American', 'Percent!!RACE!!Race alone or in combination with one or more other races!!Total population', 'Estimate!!SEX AND AGE!!62 years and over', 'Percent Margin of Error!!RACE!!One race!!Some other race', 'Estimate!!RACE!!One race!!Native Hawaiian and Other Pacific Islander!!Guamanian or Chamorro', 'Margin of Error!!SEX AND AGE!!Total population', 'Estimate!!SEX AND AGE!!60 to 64 years', 'Percent Margin of Error!!SEX AND AGE!!20 to 24 years', 'Estimate!!RACE!!Two or more races!!White and Asian', 'Margin of Error!!RACE!!One race!!American Indian and Alaska Native!!Navajo tribal grouping', 'Percent!!SEX AND AGE!!5 to 9 years']\n",
            "\n",
            "2014\n",
            "['Estimate!!HISPANIC OR LATINO AND RACE!!Total population!!Not Hispanic or Latino', 'Estimate!!RACE!!One race!!Asian!!Korean', 'Percent!!RACE!!One race!!Asian!!Asian Indian', 'Percent Margin of Error!!RACE!!One race', 'Margin of Error!!RACE!!Two or more races!!Black or African American and American Indian and Alaska Native', 'Percent Margin of Error!!RACE!!Race alone or in combination with one or more other races!!Total population!!Native Hawaiian and Other Pacific Islander', 'Margin of Error!!RACE!!One race!!Native Hawaiian and Other Pacific Islander!!Guamanian or Chamorro', 'Percent Margin of Error!!RACE!!One race!!Native Hawaiian and Other Pacific Islander!!Samoan', 'Percent Margin of Error!!SEX AND AGE!!55 to 59 years', 'Estimate!!HISPANIC OR LATINO AND RACE!!Total population!!Not Hispanic or Latino!!Some other race alone', 'Margin of Error!!RACE!!Two or more races!!White and Asian', 'Margin of Error!!RACE!!One race!!Asian!!Korean', 'Margin of Error!!HISPANIC OR LATINO AND RACE!!Total population!!Hispanic or Latino (of any race)!!Puerto Rican', 'Estimate!!RACE!!One race!!Asian!!Vietnamese', 'Percent!!SEX AND AGE!!75 to 84 years', 'Percent!!SEX AND AGE!!65 years and over!!Female', 'Percent!!RACE!!Race alone or in combination with one or more other races!!Total population!!Asian', 'Percent!!SEX AND AGE!!45 to 54 years', 'Percent!!RACE!!Two or more races!!White and Asian', 'Estimate!!RACE!!One race!!White', 'Margin of Error!!RACE!!Two or more races!!White and American Indian and Alaska Native', 'Margin of Error!!RACE!!Race alone or in combination with one or more other races!!Total population!!Asian', 'Estimate!!SEX AND AGE!!45 to 54 years', 'Estimate!!SEX AND AGE!!65 years and over', 'Percent Margin of Error!!SEX AND AGE!!65 years and over!!Female', 'Margin of Error!!RACE!!Total population!!One race', 'Percent Margin of Error!!HISPANIC OR LATINO AND RACE!!Total population!!Not Hispanic or Latino', 'Estimate!!RACE!!One race!!Asian', 'Percent Margin of Error!!HISPANIC OR LATINO AND RACE!!Total population!!Hispanic or Latino (of any race)!!Cuban', 'Margin of Error!!RACE!!One race!!American Indian and Alaska Native!!Cherokee tribal grouping', 'Percent!!SEX AND AGE!!20 to 24 years', 'Percent Margin of Error!!RACE!!Two or more races!!Black or African American and American Indian and Alaska Native', 'Percent!!SEX AND AGE!!18 years and over!!Female', 'Estimate!!HISPANIC OR LATINO AND RACE!!Total population!!Not Hispanic or Latino!!Native Hawaiian and Other Pacific Islander alone', 'Percent!!HISPANIC OR LATINO AND RACE!!Total population!!Not Hispanic or Latino!!Asian alone', 'Percent!!HISPANIC OR LATINO AND RACE!!Total population!!Not Hispanic or Latino!!Two or more races!!Two races excluding Some other race, and Three or more races', 'Margin of Error!!RACE!!One race!!American Indian and Alaska Native', 'Estimate!!SEX AND AGE!!Under 5 years', 'Percent Margin of Error!!SEX AND AGE!!25 to 34 years', 'Estimate!!SEX AND AGE!!35 to 44 years', 'Percent Margin of Error!!HISPANIC OR LATINO AND RACE!!Total population', 'Percent Margin of Error!!RACE!!One race!!Asian!!Other Asian', 'Estimate!!RACE!!One race!!Some other race', 'Estimate!!RACE!!One race!!Native Hawaiian and Other Pacific Islander!!Samoan', 'Percent!!HISPANIC OR LATINO AND RACE!!Total population!!Hispanic or Latino (of any race)!!Cuban', 'Estimate!!RACE!!One race!!American Indian and Alaska Native!!Chippewa tribal grouping', 'Percent Margin of Error!!RACE!!One race!!Native Hawaiian and Other Pacific Islander!!Other Pacific Islander', 'Percent Margin of Error!!SEX AND AGE!!62 years and over', 'Percent!!HISPANIC OR LATINO AND RACE!!Total population!!Not Hispanic or Latino!!Some other race alone', 'Estimate!!SEX AND AGE!!21 years and over', 'Margin of Error!!SEX AND AGE!!21 years and over', 'Estimate!!HISPANIC OR LATINO AND RACE!!Total population!!Not Hispanic or Latino!!American Indian and Alaska Native alone', 'Margin of Error!!SEX AND AGE!!35 to 44 years', 'Percent Margin of Error!!RACE!!One race!!Asian!!Chinese', 'Margin of Error!!RACE!!Total population', 'Percent Margin of Error!!RACE!!Race alone or in combination with one or more other races!!Total population', 'Percent!!SEX AND AGE!!25 to 34 years', 'Percent!!SEX AND AGE!!Total population!!Male', 'Percent Margin of Error!!HISPANIC OR LATINO AND RACE!!Total population!!Not Hispanic or Latino!!Some other race alone', 'Estimate!!RACE!!One race!!Asian!!Other Asian', 'Percent!!RACE!!Race alone or in combination with one or more other races!!Total population!!Native Hawaiian and Other Pacific Islander', 'Percent!!SEX AND AGE!!85 years and over', 'Margin of Error!!RACE!!One race!!Native Hawaiian and Other Pacific Islander!!Native Hawaiian', 'Margin of Error!!RACE!!One race!!Asian', 'Percent!!RACE!!One race!!Asian!!Japanese', 'Margin of Error!!HISPANIC OR LATINO AND RACE!!Total population!!Hispanic or Latino (of any race)!!Other Hispanic or Latino', 'Margin of Error!!HISPANIC OR LATINO AND RACE!!Total population!!Not Hispanic or Latino!!Native Hawaiian and Other Pacific Islander alone', 'Margin of Error!!SEX AND AGE!!Total population!!Female', 'Percent Margin of Error!!RACE!!One race!!Asian!!Asian Indian', 'Margin of Error!!RACE!!Two or more races', 'Percent Margin of Error!!RACE!!Race alone or in combination with one or more other races!!Total population!!Black or African American', 'Percent!!SEX AND AGE!!55 to 59 years', 'Percent!!HISPANIC OR LATINO AND RACE!!Total population!!Not Hispanic or Latino!!Two or more races!!Two races including Some other race', 'Percent Margin of Error!!RACE!!Two or more races!!White and American Indian and Alaska Native', 'Percent!!SEX AND AGE!!18 years and over', 'Margin of Error!!HISPANIC OR LATINO AND RACE!!Total population!!Not Hispanic or Latino!!Black or African American alone', 'Estimate!!Total housing units', 'Percent Margin of Error!!HISPANIC OR LATINO AND RACE!!Total population!!Not Hispanic or Latino!!Black or African American alone', 'Percent!!RACE!!One race!!American Indian and Alaska Native!!Chippewa tribal grouping', 'Percent Margin of Error!!HISPANIC OR LATINO AND RACE!!Total population!!Not Hispanic or Latino!!White alone', 'Percent!!RACE!!Race alone or in combination with one or more other races!!Total population!!Some other race', 'Estimate!!HISPANIC OR LATINO AND RACE!!Total population!!Not Hispanic or Latino!!Two or more races', 'Percent!!HISPANIC OR LATINO AND RACE!!Total population!!Not Hispanic or Latino!!Black or African American alone', 'Percent!!RACE!!Race alone or in combination with one or more other races!!Total population', 'Percent Margin of Error!!RACE!!One race!!Some other race', 'Estimate!!RACE!!One race!!Native Hawaiian and Other Pacific Islander!!Guamanian or Chamorro', 'Margin of Error!!SEX AND AGE!!Total population', 'Percent!!HISPANIC OR LATINO AND RACE!!Total population!!Not Hispanic or Latino!!White alone', 'Margin of Error!!RACE!!One race!!American Indian and Alaska Native!!Navajo tribal grouping', 'Estimate!!SEX AND AGE!!Total population!!Female', 'Margin of Error!!SEX AND AGE!!18 years and over!!Male', 'Percent!!RACE!!One race!!Asian', 'Percent!!SEX AND AGE!!10 to 14 years', 'Percent Margin of Error!!SEX AND AGE!!5 to 9 years', 'Margin of Error!!SEX AND AGE!!65 years and over', 'Percent!!HISPANIC OR LATINO AND RACE!!Total population!!Hispanic or Latino (of any race)', 'Estimate!!SEX AND AGE!!5 to 9 years', 'Estimate!!RACE!!One race!!Asian!!Filipino', 'Percent!!RACE!!One race!!Native Hawaiian and Other Pacific Islander!!Other Pacific Islander', 'Margin of Error!!SEX AND AGE!!65 years and over!!Female', 'Percent Margin of Error!!SEX AND AGE!!85 years and over', 'Percent Margin of Error!!RACE!!Race alone or in combination with one or more other races!!Total population!!Asian', 'Margin of Error!!HISPANIC OR LATINO AND RACE!!Total population!!Hispanic or Latino (of any race)!!Cuban', 'Percent!!RACE!!Race alone or in combination with one or more other races!!Total population!!White', 'Margin of Error!!HISPANIC OR LATINO AND RACE!!Total population!!Not Hispanic or Latino!!Asian alone', 'Percent!!RACE!!One race!!Asian!!Vietnamese', 'Percent!!SEX AND AGE!!Median age (years)', 'Geographic Area Name', 'Percent Margin of Error!!RACE!!Two or more races', 'Percent Margin of Error!!SEX AND AGE!!18 years and over!!Male', 'Margin of Error!!RACE!!One race!!White', 'Percent!!RACE!!One race!!White', 'Margin of Error!!HISPANIC OR LATINO AND RACE!!Total population!!Not Hispanic or Latino!!Two or more races', 'Margin of Error!!RACE!!Race alone or in combination with one or more other races!!Total population!!Native Hawaiian and Other Pacific Islander', 'Margin of Error!!RACE!!Race alone or in combination with one or more other races!!Total population', 'Percent!!HISPANIC OR LATINO AND RACE!!Total population!!Not Hispanic or Latino!!Two or more races', 'Percent!!RACE!!One race!!Asian!!Chinese', 'Estimate!!HISPANIC OR LATINO AND RACE!!Total population!!Hispanic or Latino (of any race)!!Mexican', 'Percent Margin of Error!!SEX AND AGE!!Median age (years)', 'Estimate!!SEX AND AGE!!65 years and over!!Female', 'Percent Margin of Error!!SEX AND AGE!!Total population!!Female', 'Estimate!!RACE!!One race!!Asian!!Japanese', 'Percent!!SEX AND AGE!!62 years and over', 'Percent!!RACE!!One race!!Native Hawaiian and Other Pacific Islander!!Guamanian or Chamorro', 'Estimate!!RACE!!Race alone or in combination with one or more other races!!Total population!!White', 'Percent Margin of Error!!HISPANIC OR LATINO AND RACE!!Total population!!Not Hispanic or Latino!!Native Hawaiian and Other Pacific Islander alone', 'Percent!!RACE!!Two or more races!!White and Black or African American', 'Percent Margin of Error!!SEX AND AGE!!75 to 84 years', 'Percent Margin of Error!!RACE!!One race!!Native Hawaiian and Other Pacific Islander', 'Margin of Error!!SEX AND AGE!!45 to 54 years', 'Percent!!SEX AND AGE!!60 to 64 years', 'Estimate!!RACE!!Race alone or in combination with one or more other races!!Total population!!Some other race', 'Estimate!!RACE!!Race alone or in combination with one or more other races!!Total population!!Asian', 'Margin of Error!!RACE!!One race!!American Indian and Alaska Native!!Chippewa tribal grouping', 'Percent!!HISPANIC OR LATINO AND RACE!!Total population!!Hispanic or Latino (of any race)!!Other Hispanic or Latino', 'Margin of Error!!HISPANIC OR LATINO AND RACE!!Total population!!Hispanic or Latino (of any race)', 'Percent Margin of Error!!RACE!!One race!!Native Hawaiian and Other Pacific Islander!!Native Hawaiian', 'Estimate!!SEX AND AGE!!18 years and over!!Male', 'Estimate!!RACE!!Two or more races!!White and Black or African American', 'Percent Margin of Error!!RACE!!One race!!American Indian and Alaska Native!!Sioux tribal grouping', 'Percent Margin of Error!!SEX AND AGE!!18 years and over', 'Estimate!!RACE!!One race!!Asian!!Chinese', 'Percent!!RACE!!One race!!Native Hawaiian and Other Pacific Islander!!Native Hawaiian', 'Percent Margin of Error!!HISPANIC OR LATINO AND RACE!!Total population!!Hispanic or Latino (of any race)', 'Percent Margin of Error!!RACE!!Total population!!Two or more races', 'Percent!!RACE!!One race', 'Estimate!!RACE!!Total population!!One race', 'Estimate!!RACE!!One race!!American Indian and Alaska Native', 'Estimate!!RACE!!One race!!Black or African American', 'Margin of Error!!RACE!!Race alone or in combination with one or more other races!!Total population!!Some other race', 'Margin of Error!!HISPANIC OR LATINO AND RACE!!Total population!!Hispanic or Latino (of any race)!!Mexican', 'Margin of Error!!HISPANIC OR LATINO AND RACE!!Total population!!Not Hispanic or Latino!!Two or more races!!Two races excluding Some other race, and Three or more races', 'Estimate!!RACE!!One race!!Native Hawaiian and Other Pacific Islander!!Native Hawaiian', 'Margin of Error!!SEX AND AGE!!75 to 84 years', 'Estimate!!SEX AND AGE!!Median age (years)', 'Percent Margin of Error!!SEX AND AGE!!Total population', 'Margin of Error!!SEX AND AGE!!18 years and over!!Female', 'Percent Margin of Error!!SEX AND AGE!!65 years and over!!Male', 'Margin of Error!!RACE!!One race!!Black or African American', 'Percent!!RACE!!Total population!!Two or more races', 'Estimate!!SEX AND AGE!!60 to 64 years', 'Percent!!SEX AND AGE!!5 to 9 years', 'Estimate!!RACE!!One race!!American Indian and Alaska Native!!Navajo tribal grouping', 'Percent!!RACE!!One race!!Native Hawaiian and Other Pacific Islander!!Samoan', 'Percent Margin of Error!!Total housing units', 'Margin of Error!!RACE!!One race!!Asian!!Japanese', 'Percent!!RACE!!One race!!American Indian and Alaska Native', 'Estimate!!RACE!!Race alone or in combination with one or more other races!!Total population!!American Indian and Alaska Native', 'Percent!!HISPANIC OR LATINO AND RACE!!Total population!!Hispanic or Latino (of any race)!!Puerto Rican', 'Margin of Error!!SEX AND AGE!!25 to 34 years', 'Percent Margin of Error!!HISPANIC OR LATINO AND RACE!!Total population!!Hispanic or Latino (of any race)!!Mexican', 'Estimate!!RACE!!Two or more races!!White and American Indian and Alaska Native', 'Percent Margin of Error!!SEX AND AGE!!10 to 14 years', 'Estimate!!SEX AND AGE!!85 years and over', 'Percent!!SEX AND AGE!!65 years and over!!Male', 'Estimate!!RACE!!Total population!!Two or more races', 'Margin of Error!!RACE!!One race!!Asian!!Other Asian', 'Estimate!!SEX AND AGE!!18 years and over!!Female', 'Estimate!!HISPANIC OR LATINO AND RACE!!Total population!!Not Hispanic or Latino!!Two or more races!!Two races including Some other race', 'Margin of Error!!SEX AND AGE!!65 years and over!!Male', 'Percent!!RACE!!Race alone or in combination with one or more other races!!Total population!!Black or African American', 'Percent!!SEX AND AGE!!Total population', 'Margin of Error!!HISPANIC OR LATINO AND RACE!!Total population!!Not Hispanic or Latino!!American Indian and Alaska Native alone', 'Percent Margin of Error!!RACE!!One race!!American Indian and Alaska Native!!Cherokee tribal grouping', 'Margin of Error!!RACE!!Race alone or in combination with one or more other races!!Total population!!White', 'Estimate!!HISPANIC OR LATINO AND RACE!!Total population!!Hispanic or Latino (of any race)', 'Margin of Error!!Total housing units', 'Percent Margin of Error!!SEX AND AGE!!65 years and over', 'Percent Margin of Error!!HISPANIC OR LATINO AND RACE!!Total population!!Hispanic or Latino (of any race)!!Puerto Rican', 'Estimate!!RACE!!One race!!Native Hawaiian and Other Pacific Islander', 'Percent Margin of Error!!HISPANIC OR LATINO AND RACE!!Total population!!Not Hispanic or Latino!!Asian alone', 'Percent!!SEX AND AGE!!Total population!!Female', 'Percent!!Total housing units', 'Percent Margin of Error!!RACE!!One race!!American Indian and Alaska Native!!Navajo tribal grouping', 'Percent Margin of Error!!RACE!!Two or more races!!White and Asian', 'Margin of Error!!RACE!!One race', 'Margin of Error!!SEX AND AGE!!10 to 14 years', 'Margin of Error!!RACE!!One race!!Asian!!Filipino', 'Estimate!!HISPANIC OR LATINO AND RACE!!Total population!!Hispanic or Latino (of any race)!!Puerto Rican', 'Margin of Error!!HISPANIC OR LATINO AND RACE!!Total population!!Not Hispanic or Latino', 'Percent Margin of Error!!SEX AND AGE!!Under 5 years', 'Margin of Error!!RACE!!One race!!Native Hawaiian and Other Pacific Islander!!Samoan', 'Percent Margin of Error!!RACE!!One race!!Asian!!Filipino', 'Margin of Error!!SEX AND AGE!!62 years and over', 'Margin of Error!!SEX AND AGE!!Total population!!Male', 'Percent!!RACE!!Two or more races!!White and American Indian and Alaska Native', 'Percent Margin of Error!!RACE!!Race alone or in combination with one or more other races!!Total population!!American Indian and Alaska Native', 'Estimate!!SEX AND AGE!!20 to 24 years', 'Estimate!!SEX AND AGE!!Total population', 'Percent!!HISPANIC OR LATINO AND RACE!!Total population!!Not Hispanic or Latino!!Native Hawaiian and Other Pacific Islander alone', 'Margin of Error!!SEX AND AGE!!Median age (years)', 'Estimate!!RACE!!One race!!Native Hawaiian and Other Pacific Islander!!Other Pacific Islander', 'Percent!!RACE!!One race!!Some other race', 'Estimate!!HISPANIC OR LATINO AND RACE!!Total population!!Hispanic or Latino (of any race)!!Other Hispanic or Latino', 'Margin of Error!!SEX AND AGE!!85 years and over', 'Estimate!!SEX AND AGE!!Total population!!Male', 'Percent!!RACE!!Total population!!One race', 'Margin of Error!!SEX AND AGE!!55 to 59 years', 'Percent Margin of Error!!SEX AND AGE!!18 years and over!!Female', 'Percent Margin of Error!!RACE!!Total population!!One race', 'Estimate!!HISPANIC OR LATINO AND RACE!!Total population!!Not Hispanic or Latino!!Two or more races!!Two races excluding Some other race, and Three or more races', 'Percent!!SEX AND AGE!!Under 5 years', 'Estimate!!HISPANIC OR LATINO AND RACE!!Total population', 'Percent!!SEX AND AGE!!21 years and over', 'Margin of Error!!RACE!!One race!!Asian!!Chinese', 'Percent Margin of Error!!RACE!!One race!!Native Hawaiian and Other Pacific Islander!!Guamanian or Chamorro', 'Margin of Error!!HISPANIC OR LATINO AND RACE!!Total population', 'Percent Margin of Error!!SEX AND AGE!!60 to 64 years', 'Margin of Error!!RACE!!One race!!Native Hawaiian and Other Pacific Islander!!Other Pacific Islander', 'Estimate!!SEX AND AGE!!18 years and over', 'Estimate!!SEX AND AGE!!62 years and over', 'Percent Margin of Error!!SEX AND AGE!!20 to 24 years', 'Estimate!!RACE!!Two or more races!!White and Asian', 'Percent Margin of Error!!RACE!!Race alone or in combination with one or more other races!!Total population!!White', 'Estimate!!HISPANIC OR LATINO AND RACE!!Total population!!Not Hispanic or Latino!!Asian alone', 'Margin of Error!!RACE!!One race!!Some other race', 'Margin of Error!!RACE!!Two or more races!!White and Black or African American', 'Percent!!RACE!!One race!!American Indian and Alaska Native!!Cherokee tribal grouping', 'Percent!!SEX AND AGE!!18 years and over!!Male', 'Percent Margin of Error!!HISPANIC OR LATINO AND RACE!!Total population!!Not Hispanic or Latino!!Two or more races!!Two races including Some other race', 'Percent Margin of Error!!RACE!!One race!!American Indian and Alaska Native!!Chippewa tribal grouping', 'Estimate!!RACE!!Race alone or in combination with one or more other races!!Total population!!Native Hawaiian and Other Pacific Islander', 'Percent!!RACE!!One race!!Asian!!Korean', 'Percent!!RACE!!One race!!American Indian and Alaska Native!!Navajo tribal grouping', 'Percent!!SEX AND AGE!!65 to 74 years', 'Percent Margin of Error!!SEX AND AGE!!21 years and over', 'Estimate!!HISPANIC OR LATINO AND RACE!!Total population!!Not Hispanic or Latino!!Black or African American alone', 'Estimate!!RACE!!Two or more races!!Black or African American and American Indian and Alaska Native', 'Estimate!!SEX AND AGE!!55 to 59 years', 'Percent!!RACE!!One race!!Native Hawaiian and Other Pacific Islander', 'Estimate!!RACE!!One race!!Asian!!Asian Indian', 'Percent!!RACE!!One race!!Asian!!Filipino', 'Percent!!HISPANIC OR LATINO AND RACE!!Total population!!Hispanic or Latino (of any race)!!Mexican', 'Estimate!!RACE!!Race alone or in combination with one or more other races!!Total population!!Black or African American', 'Geography', 'Estimate!!SEX AND AGE!!15 to 19 years', 'Margin of Error!!RACE!!One race!!Native Hawaiian and Other Pacific Islander', 'Percent!!RACE!!One race!!American Indian and Alaska Native!!Sioux tribal grouping', 'Margin of Error!!HISPANIC OR LATINO AND RACE!!Total population!!Not Hispanic or Latino!!Some other race alone', 'Margin of Error!!SEX AND AGE!!20 to 24 years', 'Estimate!!SEX AND AGE!!75 to 84 years', 'Percent!!RACE!!Two or more races', 'Percent Margin of Error!!SEX AND AGE!!35 to 44 years', 'Percent Margin of Error!!SEX AND AGE!!15 to 19 years', 'Percent Margin of Error!!HISPANIC OR LATINO AND RACE!!Total population!!Hispanic or Latino (of any race)!!Other Hispanic or Latino', 'Margin of Error!!RACE!!One race!!Asian!!Asian Indian', 'Margin of Error!!SEX AND AGE!!15 to 19 years', 'Estimate!!SEX AND AGE!!10 to 14 years', 'Percent Margin of Error!!RACE!!One race!!White', 'Percent!!SEX AND AGE!!15 to 19 years', 'Percent Margin of Error!!RACE!!One race!!Asian!!Vietnamese', 'Estimate!!RACE!!Race alone or in combination with one or more other races!!Total population', 'Margin of Error!!SEX AND AGE!!65 to 74 years', 'Percent!!RACE!!One race!!Black or African American', 'Percent Margin of Error!!RACE!!Race alone or in combination with one or more other races!!Total population!!Some other race', 'Percent Margin of Error!!RACE!!Two or more races!!White and Black or African American', 'Estimate!!RACE!!One race!!American Indian and Alaska Native!!Cherokee tribal grouping', 'Percent Margin of Error!!RACE!!One race!!Asian!!Korean', 'Margin of Error!!SEX AND AGE!!60 to 64 years', 'Percent Margin of Error!!RACE!!One race!!Black or African American', 'Percent!!SEX AND AGE!!35 to 44 years', 'Margin of Error!!SEX AND AGE!!5 to 9 years', 'Percent!!HISPANIC OR LATINO AND RACE!!Total population', 'Estimate!!SEX AND AGE!!65 to 74 years', 'Margin of Error!!HISPANIC OR LATINO AND RACE!!Total population!!Not Hispanic or Latino!!Two or more races!!Two races including Some other race', 'Percent Margin of Error!!SEX AND AGE!!Total population!!Male', 'Percent Margin of Error!!HISPANIC OR LATINO AND RACE!!Total population!!Not Hispanic or Latino!!American Indian and Alaska Native alone', 'Percent!!SEX AND AGE!!65 years and over', 'Percent!!RACE!!Total population', 'Margin of Error!!RACE!!Race alone or in combination with one or more other races!!Total population!!American Indian and Alaska Native', 'year', 'Estimate!!RACE!!Total population', 'Percent Margin of Error!!RACE!!One race!!Asian!!Japanese', 'Percent!!RACE!!Two or more races!!Black or African American and American Indian and Alaska Native', 'Percent Margin of Error!!RACE!!One race!!American Indian and Alaska Native', 'Margin of Error!!RACE!!Total population!!Two or more races', 'Estimate!!RACE!!Two or more races', 'Margin of Error!!RACE!!Race alone or in combination with one or more other races!!Total population!!Black or African American', 'Percent!!HISPANIC OR LATINO AND RACE!!Total population!!Not Hispanic or Latino', 'Percent!!HISPANIC OR LATINO AND RACE!!Total population!!Not Hispanic or Latino!!American Indian and Alaska Native alone', 'Percent!!RACE!!One race!!Asian!!Other Asian', 'Percent!!RACE!!Race alone or in combination with one or more other races!!Total population!!American Indian and Alaska Native', 'Percent Margin of Error!!RACE!!One race!!Asian', 'Percent Margin of Error!!HISPANIC OR LATINO AND RACE!!Total population!!Not Hispanic or Latino!!Two or more races!!Two races excluding Some other race, and Three or more races', 'Estimate!!SEX AND AGE!!65 years and over!!Male', 'Estimate!!RACE!!One race', 'Percent Margin of Error!!SEX AND AGE!!45 to 54 years', 'Margin of Error!!RACE!!One race!!Asian!!Vietnamese', 'Margin of Error!!HISPANIC OR LATINO AND RACE!!Total population!!Not Hispanic or Latino!!White alone', 'Estimate!!RACE!!One race!!American Indian and Alaska Native!!Sioux tribal grouping', 'Estimate!!SEX AND AGE!!25 to 34 years', 'Percent Margin of Error!!HISPANIC OR LATINO AND RACE!!Total population!!Not Hispanic or Latino!!Two or more races', 'Margin of Error!!SEX AND AGE!!Under 5 years', 'Margin of Error!!SEX AND AGE!!18 years and over', 'Percent Margin of Error!!RACE!!Total population', 'Margin of Error!!RACE!!One race!!American Indian and Alaska Native!!Sioux tribal grouping', 'Estimate!!HISPANIC OR LATINO AND RACE!!Total population!!Not Hispanic or Latino!!White alone', 'Estimate!!HISPANIC OR LATINO AND RACE!!Total population!!Hispanic or Latino (of any race)!!Cuban', 'Percent Margin of Error!!SEX AND AGE!!65 to 74 years']\n",
            "\n",
            "2015\n",
            "['Estimate!!HISPANIC OR LATINO AND RACE!!Total population!!Not Hispanic or Latino', 'Estimate!!RACE!!One race!!Asian!!Korean', 'Percent!!RACE!!One race!!Asian!!Asian Indian', 'Percent Margin of Error!!RACE!!One race', 'Margin of Error!!RACE!!Two or more races!!Black or African American and American Indian and Alaska Native', 'Percent Margin of Error!!RACE!!Race alone or in combination with one or more other races!!Total population!!Native Hawaiian and Other Pacific Islander', 'Margin of Error!!RACE!!One race!!Native Hawaiian and Other Pacific Islander!!Guamanian or Chamorro', 'Percent Margin of Error!!RACE!!One race!!Native Hawaiian and Other Pacific Islander!!Samoan', 'Percent Margin of Error!!SEX AND AGE!!55 to 59 years', 'Estimate!!HISPANIC OR LATINO AND RACE!!Total population!!Not Hispanic or Latino!!Some other race alone', 'Margin of Error!!RACE!!Two or more races!!White and Asian', 'Margin of Error!!RACE!!One race!!Asian!!Korean', 'Margin of Error!!HISPANIC OR LATINO AND RACE!!Total population!!Hispanic or Latino (of any race)!!Puerto Rican', 'Estimate!!RACE!!One race!!Asian!!Vietnamese', 'Percent!!SEX AND AGE!!75 to 84 years', 'Percent!!SEX AND AGE!!65 years and over!!Female', 'Percent!!RACE!!Race alone or in combination with one or more other races!!Total population!!Asian', 'Percent!!SEX AND AGE!!45 to 54 years', 'Percent!!RACE!!Two or more races!!White and Asian', 'Estimate!!RACE!!One race!!White', 'Margin of Error!!RACE!!Two or more races!!White and American Indian and Alaska Native', 'Margin of Error!!RACE!!Race alone or in combination with one or more other races!!Total population!!Asian', 'Estimate!!SEX AND AGE!!45 to 54 years', 'Estimate!!SEX AND AGE!!65 years and over', 'Percent Margin of Error!!SEX AND AGE!!65 years and over!!Female', 'Margin of Error!!RACE!!Total population!!One race', 'Percent Margin of Error!!HISPANIC OR LATINO AND RACE!!Total population!!Not Hispanic or Latino', 'Estimate!!RACE!!One race!!Asian', 'Percent Margin of Error!!HISPANIC OR LATINO AND RACE!!Total population!!Hispanic or Latino (of any race)!!Cuban', 'Margin of Error!!RACE!!One race!!American Indian and Alaska Native!!Cherokee tribal grouping', 'Percent!!SEX AND AGE!!20 to 24 years', 'Percent Margin of Error!!RACE!!Two or more races!!Black or African American and American Indian and Alaska Native', 'Percent!!SEX AND AGE!!18 years and over!!Female', 'Estimate!!HISPANIC OR LATINO AND RACE!!Total population!!Not Hispanic or Latino!!Native Hawaiian and Other Pacific Islander alone', 'Percent!!HISPANIC OR LATINO AND RACE!!Total population!!Not Hispanic or Latino!!Asian alone', 'Percent!!HISPANIC OR LATINO AND RACE!!Total population!!Not Hispanic or Latino!!Two or more races!!Two races excluding Some other race, and Three or more races', 'Margin of Error!!RACE!!One race!!American Indian and Alaska Native', 'Estimate!!SEX AND AGE!!Under 5 years', 'Percent Margin of Error!!SEX AND AGE!!25 to 34 years', 'Estimate!!SEX AND AGE!!35 to 44 years', 'Percent Margin of Error!!HISPANIC OR LATINO AND RACE!!Total population', 'Percent Margin of Error!!RACE!!One race!!Asian!!Other Asian', 'Estimate!!RACE!!One race!!Some other race', 'Estimate!!RACE!!One race!!Native Hawaiian and Other Pacific Islander!!Samoan', 'Percent!!HISPANIC OR LATINO AND RACE!!Total population!!Hispanic or Latino (of any race)!!Cuban', 'Estimate!!RACE!!One race!!American Indian and Alaska Native!!Chippewa tribal grouping', 'Percent Margin of Error!!RACE!!One race!!Native Hawaiian and Other Pacific Islander!!Other Pacific Islander', 'Percent Margin of Error!!SEX AND AGE!!62 years and over', 'Percent!!HISPANIC OR LATINO AND RACE!!Total population!!Not Hispanic or Latino!!Some other race alone', 'Estimate!!SEX AND AGE!!21 years and over', 'Margin of Error!!SEX AND AGE!!21 years and over', 'Estimate!!HISPANIC OR LATINO AND RACE!!Total population!!Not Hispanic or Latino!!American Indian and Alaska Native alone', 'Margin of Error!!SEX AND AGE!!35 to 44 years', 'Percent Margin of Error!!RACE!!One race!!Asian!!Chinese', 'Margin of Error!!RACE!!Total population', 'Percent Margin of Error!!RACE!!Race alone or in combination with one or more other races!!Total population', 'Percent!!SEX AND AGE!!25 to 34 years', 'Percent!!SEX AND AGE!!Total population!!Male', 'Percent Margin of Error!!HISPANIC OR LATINO AND RACE!!Total population!!Not Hispanic or Latino!!Some other race alone', 'Estimate!!RACE!!One race!!Asian!!Other Asian', 'Percent!!RACE!!Race alone or in combination with one or more other races!!Total population!!Native Hawaiian and Other Pacific Islander', 'Percent!!SEX AND AGE!!85 years and over', 'Margin of Error!!RACE!!One race!!Native Hawaiian and Other Pacific Islander!!Native Hawaiian', 'Margin of Error!!RACE!!One race!!Asian', 'Percent!!RACE!!One race!!Asian!!Japanese', 'Margin of Error!!HISPANIC OR LATINO AND RACE!!Total population!!Hispanic or Latino (of any race)!!Other Hispanic or Latino', 'Margin of Error!!HISPANIC OR LATINO AND RACE!!Total population!!Not Hispanic or Latino!!Native Hawaiian and Other Pacific Islander alone', 'Margin of Error!!SEX AND AGE!!Total population!!Female', 'Percent Margin of Error!!RACE!!One race!!Asian!!Asian Indian', 'Margin of Error!!RACE!!Two or more races', 'Percent Margin of Error!!RACE!!Race alone or in combination with one or more other races!!Total population!!Black or African American', 'Percent!!SEX AND AGE!!55 to 59 years', 'Percent!!HISPANIC OR LATINO AND RACE!!Total population!!Not Hispanic or Latino!!Two or more races!!Two races including Some other race', 'Percent Margin of Error!!RACE!!Two or more races!!White and American Indian and Alaska Native', 'Percent!!SEX AND AGE!!18 years and over', 'Margin of Error!!HISPANIC OR LATINO AND RACE!!Total population!!Not Hispanic or Latino!!Black or African American alone', 'Estimate!!Total housing units', 'Percent Margin of Error!!HISPANIC OR LATINO AND RACE!!Total population!!Not Hispanic or Latino!!Black or African American alone', 'Percent!!RACE!!One race!!American Indian and Alaska Native!!Chippewa tribal grouping', 'Percent Margin of Error!!HISPANIC OR LATINO AND RACE!!Total population!!Not Hispanic or Latino!!White alone', 'Percent!!RACE!!Race alone or in combination with one or more other races!!Total population!!Some other race', 'Estimate!!HISPANIC OR LATINO AND RACE!!Total population!!Not Hispanic or Latino!!Two or more races', 'Percent!!HISPANIC OR LATINO AND RACE!!Total population!!Not Hispanic or Latino!!Black or African American alone', 'Percent!!RACE!!Race alone or in combination with one or more other races!!Total population', 'Percent Margin of Error!!RACE!!One race!!Some other race', 'Estimate!!RACE!!One race!!Native Hawaiian and Other Pacific Islander!!Guamanian or Chamorro', 'Margin of Error!!SEX AND AGE!!Total population', 'Percent!!HISPANIC OR LATINO AND RACE!!Total population!!Not Hispanic or Latino!!White alone', 'Margin of Error!!RACE!!One race!!American Indian and Alaska Native!!Navajo tribal grouping', 'Estimate!!SEX AND AGE!!Total population!!Female', 'Margin of Error!!SEX AND AGE!!18 years and over!!Male', 'Percent!!RACE!!One race!!Asian', 'Percent!!SEX AND AGE!!10 to 14 years', 'Percent Margin of Error!!SEX AND AGE!!5 to 9 years', 'Margin of Error!!SEX AND AGE!!65 years and over', 'Percent!!HISPANIC OR LATINO AND RACE!!Total population!!Hispanic or Latino (of any race)', 'Estimate!!SEX AND AGE!!5 to 9 years', 'Estimate!!RACE!!One race!!Asian!!Filipino', 'Percent!!RACE!!One race!!Native Hawaiian and Other Pacific Islander!!Other Pacific Islander', 'Margin of Error!!SEX AND AGE!!65 years and over!!Female', 'Percent Margin of Error!!SEX AND AGE!!85 years and over', 'Percent Margin of Error!!RACE!!Race alone or in combination with one or more other races!!Total population!!Asian', 'Margin of Error!!HISPANIC OR LATINO AND RACE!!Total population!!Hispanic or Latino (of any race)!!Cuban', 'Percent!!RACE!!Race alone or in combination with one or more other races!!Total population!!White', 'Margin of Error!!HISPANIC OR LATINO AND RACE!!Total population!!Not Hispanic or Latino!!Asian alone', 'Percent!!RACE!!One race!!Asian!!Vietnamese', 'Percent!!SEX AND AGE!!Median age (years)', 'Geographic Area Name', 'Percent Margin of Error!!RACE!!Two or more races', 'Percent Margin of Error!!SEX AND AGE!!18 years and over!!Male', 'Margin of Error!!RACE!!One race!!White', 'Percent!!RACE!!One race!!White', 'Margin of Error!!HISPANIC OR LATINO AND RACE!!Total population!!Not Hispanic or Latino!!Two or more races', 'Margin of Error!!RACE!!Race alone or in combination with one or more other races!!Total population!!Native Hawaiian and Other Pacific Islander', 'Margin of Error!!RACE!!Race alone or in combination with one or more other races!!Total population', 'Percent!!HISPANIC OR LATINO AND RACE!!Total population!!Not Hispanic or Latino!!Two or more races', 'Percent!!RACE!!One race!!Asian!!Chinese', 'Estimate!!HISPANIC OR LATINO AND RACE!!Total population!!Hispanic or Latino (of any race)!!Mexican', 'Percent Margin of Error!!SEX AND AGE!!Median age (years)', 'Estimate!!SEX AND AGE!!65 years and over!!Female', 'Percent Margin of Error!!SEX AND AGE!!Total population!!Female', 'Estimate!!RACE!!One race!!Asian!!Japanese', 'Percent!!SEX AND AGE!!62 years and over', 'Percent!!RACE!!One race!!Native Hawaiian and Other Pacific Islander!!Guamanian or Chamorro', 'Estimate!!RACE!!Race alone or in combination with one or more other races!!Total population!!White', 'Percent Margin of Error!!HISPANIC OR LATINO AND RACE!!Total population!!Not Hispanic or Latino!!Native Hawaiian and Other Pacific Islander alone', 'Percent!!RACE!!Two or more races!!White and Black or African American', 'Percent Margin of Error!!SEX AND AGE!!75 to 84 years', 'Percent Margin of Error!!RACE!!One race!!Native Hawaiian and Other Pacific Islander', 'Margin of Error!!SEX AND AGE!!45 to 54 years', 'Percent!!SEX AND AGE!!60 to 64 years', 'Estimate!!RACE!!Race alone or in combination with one or more other races!!Total population!!Some other race', 'Estimate!!RACE!!Race alone or in combination with one or more other races!!Total population!!Asian', 'Margin of Error!!RACE!!One race!!American Indian and Alaska Native!!Chippewa tribal grouping', 'Percent!!HISPANIC OR LATINO AND RACE!!Total population!!Hispanic or Latino (of any race)!!Other Hispanic or Latino', 'Margin of Error!!HISPANIC OR LATINO AND RACE!!Total population!!Hispanic or Latino (of any race)', 'Percent Margin of Error!!RACE!!One race!!Native Hawaiian and Other Pacific Islander!!Native Hawaiian', 'Estimate!!SEX AND AGE!!18 years and over!!Male', 'Estimate!!RACE!!Two or more races!!White and Black or African American', 'Percent Margin of Error!!RACE!!One race!!American Indian and Alaska Native!!Sioux tribal grouping', 'Percent Margin of Error!!SEX AND AGE!!18 years and over', 'Estimate!!RACE!!One race!!Asian!!Chinese', 'Percent!!RACE!!One race!!Native Hawaiian and Other Pacific Islander!!Native Hawaiian', 'Percent Margin of Error!!HISPANIC OR LATINO AND RACE!!Total population!!Hispanic or Latino (of any race)', 'Percent Margin of Error!!RACE!!Total population!!Two or more races', 'Percent!!RACE!!One race', 'Estimate!!RACE!!Total population!!One race', 'Estimate!!RACE!!One race!!American Indian and Alaska Native', 'Estimate!!RACE!!One race!!Black or African American', 'Margin of Error!!RACE!!Race alone or in combination with one or more other races!!Total population!!Some other race', 'Margin of Error!!HISPANIC OR LATINO AND RACE!!Total population!!Hispanic or Latino (of any race)!!Mexican', 'Margin of Error!!HISPANIC OR LATINO AND RACE!!Total population!!Not Hispanic or Latino!!Two or more races!!Two races excluding Some other race, and Three or more races', 'Estimate!!RACE!!One race!!Native Hawaiian and Other Pacific Islander!!Native Hawaiian', 'Margin of Error!!SEX AND AGE!!75 to 84 years', 'Estimate!!SEX AND AGE!!Median age (years)', 'Percent Margin of Error!!SEX AND AGE!!Total population', 'Margin of Error!!SEX AND AGE!!18 years and over!!Female', 'Percent Margin of Error!!SEX AND AGE!!65 years and over!!Male', 'Margin of Error!!RACE!!One race!!Black or African American', 'Percent!!RACE!!Total population!!Two or more races', 'Estimate!!SEX AND AGE!!60 to 64 years', 'Percent!!SEX AND AGE!!5 to 9 years', 'Estimate!!RACE!!One race!!American Indian and Alaska Native!!Navajo tribal grouping', 'Percent!!RACE!!One race!!Native Hawaiian and Other Pacific Islander!!Samoan', 'Percent Margin of Error!!Total housing units', 'Margin of Error!!RACE!!One race!!Asian!!Japanese', 'Percent!!RACE!!One race!!American Indian and Alaska Native', 'Estimate!!RACE!!Race alone or in combination with one or more other races!!Total population!!American Indian and Alaska Native', 'Percent!!HISPANIC OR LATINO AND RACE!!Total population!!Hispanic or Latino (of any race)!!Puerto Rican', 'Margin of Error!!SEX AND AGE!!25 to 34 years', 'Percent Margin of Error!!HISPANIC OR LATINO AND RACE!!Total population!!Hispanic or Latino (of any race)!!Mexican', 'Estimate!!RACE!!Two or more races!!White and American Indian and Alaska Native', 'Percent Margin of Error!!SEX AND AGE!!10 to 14 years', 'Estimate!!SEX AND AGE!!85 years and over', 'Percent!!SEX AND AGE!!65 years and over!!Male', 'Estimate!!RACE!!Total population!!Two or more races', 'Margin of Error!!RACE!!One race!!Asian!!Other Asian', 'Estimate!!SEX AND AGE!!18 years and over!!Female', 'Estimate!!HISPANIC OR LATINO AND RACE!!Total population!!Not Hispanic or Latino!!Two or more races!!Two races including Some other race', 'Margin of Error!!SEX AND AGE!!65 years and over!!Male', 'Percent!!RACE!!Race alone or in combination with one or more other races!!Total population!!Black or African American', 'Percent!!SEX AND AGE!!Total population', 'Margin of Error!!HISPANIC OR LATINO AND RACE!!Total population!!Not Hispanic or Latino!!American Indian and Alaska Native alone', 'Percent Margin of Error!!RACE!!One race!!American Indian and Alaska Native!!Cherokee tribal grouping', 'Margin of Error!!RACE!!Race alone or in combination with one or more other races!!Total population!!White', 'Estimate!!HISPANIC OR LATINO AND RACE!!Total population!!Hispanic or Latino (of any race)', 'Margin of Error!!Total housing units', 'Percent Margin of Error!!SEX AND AGE!!65 years and over', 'Percent Margin of Error!!HISPANIC OR LATINO AND RACE!!Total population!!Hispanic or Latino (of any race)!!Puerto Rican', 'Estimate!!RACE!!One race!!Native Hawaiian and Other Pacific Islander', 'Percent Margin of Error!!HISPANIC OR LATINO AND RACE!!Total population!!Not Hispanic or Latino!!Asian alone', 'Percent!!SEX AND AGE!!Total population!!Female', 'Percent!!Total housing units', 'Percent Margin of Error!!RACE!!One race!!American Indian and Alaska Native!!Navajo tribal grouping', 'Percent Margin of Error!!RACE!!Two or more races!!White and Asian', 'Margin of Error!!RACE!!One race', 'Margin of Error!!SEX AND AGE!!10 to 14 years', 'Margin of Error!!RACE!!One race!!Asian!!Filipino', 'Estimate!!HISPANIC OR LATINO AND RACE!!Total population!!Hispanic or Latino (of any race)!!Puerto Rican', 'Margin of Error!!HISPANIC OR LATINO AND RACE!!Total population!!Not Hispanic or Latino', 'Percent Margin of Error!!SEX AND AGE!!Under 5 years', 'Margin of Error!!RACE!!One race!!Native Hawaiian and Other Pacific Islander!!Samoan', 'Percent Margin of Error!!RACE!!One race!!Asian!!Filipino', 'Margin of Error!!SEX AND AGE!!62 years and over', 'Margin of Error!!SEX AND AGE!!Total population!!Male', 'Percent!!RACE!!Two or more races!!White and American Indian and Alaska Native', 'Percent Margin of Error!!RACE!!Race alone or in combination with one or more other races!!Total population!!American Indian and Alaska Native', 'Estimate!!SEX AND AGE!!20 to 24 years', 'Estimate!!SEX AND AGE!!Total population', 'Percent!!HISPANIC OR LATINO AND RACE!!Total population!!Not Hispanic or Latino!!Native Hawaiian and Other Pacific Islander alone', 'Margin of Error!!SEX AND AGE!!Median age (years)', 'Estimate!!RACE!!One race!!Native Hawaiian and Other Pacific Islander!!Other Pacific Islander', 'Percent!!RACE!!One race!!Some other race', 'Estimate!!HISPANIC OR LATINO AND RACE!!Total population!!Hispanic or Latino (of any race)!!Other Hispanic or Latino', 'Margin of Error!!SEX AND AGE!!85 years and over', 'Estimate!!SEX AND AGE!!Total population!!Male', 'Percent!!RACE!!Total population!!One race', 'Margin of Error!!SEX AND AGE!!55 to 59 years', 'Percent Margin of Error!!SEX AND AGE!!18 years and over!!Female', 'Percent Margin of Error!!RACE!!Total population!!One race', 'Estimate!!HISPANIC OR LATINO AND RACE!!Total population!!Not Hispanic or Latino!!Two or more races!!Two races excluding Some other race, and Three or more races', 'Percent!!SEX AND AGE!!Under 5 years', 'Estimate!!HISPANIC OR LATINO AND RACE!!Total population', 'Percent!!SEX AND AGE!!21 years and over', 'Margin of Error!!RACE!!One race!!Asian!!Chinese', 'Percent Margin of Error!!RACE!!One race!!Native Hawaiian and Other Pacific Islander!!Guamanian or Chamorro', 'Margin of Error!!HISPANIC OR LATINO AND RACE!!Total population', 'Percent Margin of Error!!SEX AND AGE!!60 to 64 years', 'Margin of Error!!RACE!!One race!!Native Hawaiian and Other Pacific Islander!!Other Pacific Islander', 'Estimate!!SEX AND AGE!!18 years and over', 'Estimate!!SEX AND AGE!!62 years and over', 'Percent Margin of Error!!SEX AND AGE!!20 to 24 years', 'Estimate!!RACE!!Two or more races!!White and Asian', 'Percent Margin of Error!!RACE!!Race alone or in combination with one or more other races!!Total population!!White', 'Estimate!!HISPANIC OR LATINO AND RACE!!Total population!!Not Hispanic or Latino!!Asian alone', 'Margin of Error!!RACE!!One race!!Some other race', 'Margin of Error!!RACE!!Two or more races!!White and Black or African American', 'Percent!!RACE!!One race!!American Indian and Alaska Native!!Cherokee tribal grouping', 'Percent!!SEX AND AGE!!18 years and over!!Male', 'Percent Margin of Error!!HISPANIC OR LATINO AND RACE!!Total population!!Not Hispanic or Latino!!Two or more races!!Two races including Some other race', 'Percent Margin of Error!!RACE!!One race!!American Indian and Alaska Native!!Chippewa tribal grouping', 'Estimate!!RACE!!Race alone or in combination with one or more other races!!Total population!!Native Hawaiian and Other Pacific Islander', 'Percent!!RACE!!One race!!Asian!!Korean', 'Percent!!RACE!!One race!!American Indian and Alaska Native!!Navajo tribal grouping', 'Percent!!SEX AND AGE!!65 to 74 years', 'Percent Margin of Error!!SEX AND AGE!!21 years and over', 'Estimate!!HISPANIC OR LATINO AND RACE!!Total population!!Not Hispanic or Latino!!Black or African American alone', 'Estimate!!RACE!!Two or more races!!Black or African American and American Indian and Alaska Native', 'Estimate!!SEX AND AGE!!55 to 59 years', 'Percent!!RACE!!One race!!Native Hawaiian and Other Pacific Islander', 'Estimate!!RACE!!One race!!Asian!!Asian Indian', 'Percent!!RACE!!One race!!Asian!!Filipino', 'Percent!!HISPANIC OR LATINO AND RACE!!Total population!!Hispanic or Latino (of any race)!!Mexican', 'Estimate!!RACE!!Race alone or in combination with one or more other races!!Total population!!Black or African American', 'Geography', 'Estimate!!SEX AND AGE!!15 to 19 years', 'Margin of Error!!RACE!!One race!!Native Hawaiian and Other Pacific Islander', 'Percent!!RACE!!One race!!American Indian and Alaska Native!!Sioux tribal grouping', 'Margin of Error!!HISPANIC OR LATINO AND RACE!!Total population!!Not Hispanic or Latino!!Some other race alone', 'Margin of Error!!SEX AND AGE!!20 to 24 years', 'Estimate!!SEX AND AGE!!75 to 84 years', 'Percent!!RACE!!Two or more races', 'Percent Margin of Error!!SEX AND AGE!!35 to 44 years', 'Percent Margin of Error!!SEX AND AGE!!15 to 19 years', 'Percent Margin of Error!!HISPANIC OR LATINO AND RACE!!Total population!!Hispanic or Latino (of any race)!!Other Hispanic or Latino', 'Margin of Error!!RACE!!One race!!Asian!!Asian Indian', 'Margin of Error!!SEX AND AGE!!15 to 19 years', 'Estimate!!SEX AND AGE!!10 to 14 years', 'Percent Margin of Error!!RACE!!One race!!White', 'Percent!!SEX AND AGE!!15 to 19 years', 'Percent Margin of Error!!RACE!!One race!!Asian!!Vietnamese', 'Estimate!!RACE!!Race alone or in combination with one or more other races!!Total population', 'Margin of Error!!SEX AND AGE!!65 to 74 years', 'Percent!!RACE!!One race!!Black or African American', 'Percent Margin of Error!!RACE!!Race alone or in combination with one or more other races!!Total population!!Some other race', 'Percent Margin of Error!!RACE!!Two or more races!!White and Black or African American', 'Estimate!!RACE!!One race!!American Indian and Alaska Native!!Cherokee tribal grouping', 'Percent Margin of Error!!RACE!!One race!!Asian!!Korean', 'Margin of Error!!SEX AND AGE!!60 to 64 years', 'Percent Margin of Error!!RACE!!One race!!Black or African American', 'Percent!!SEX AND AGE!!35 to 44 years', 'Margin of Error!!SEX AND AGE!!5 to 9 years', 'Percent!!HISPANIC OR LATINO AND RACE!!Total population', 'Estimate!!SEX AND AGE!!65 to 74 years', 'Margin of Error!!HISPANIC OR LATINO AND RACE!!Total population!!Not Hispanic or Latino!!Two or more races!!Two races including Some other race', 'Percent Margin of Error!!SEX AND AGE!!Total population!!Male', 'Percent Margin of Error!!HISPANIC OR LATINO AND RACE!!Total population!!Not Hispanic or Latino!!American Indian and Alaska Native alone', 'Percent!!SEX AND AGE!!65 years and over', 'Percent!!RACE!!Total population', 'Margin of Error!!RACE!!Race alone or in combination with one or more other races!!Total population!!American Indian and Alaska Native', 'year', 'Estimate!!RACE!!Total population', 'Percent Margin of Error!!RACE!!One race!!Asian!!Japanese', 'Percent!!RACE!!Two or more races!!Black or African American and American Indian and Alaska Native', 'Percent Margin of Error!!RACE!!One race!!American Indian and Alaska Native', 'Margin of Error!!RACE!!Total population!!Two or more races', 'Estimate!!RACE!!Two or more races', 'Margin of Error!!RACE!!Race alone or in combination with one or more other races!!Total population!!Black or African American', 'Percent!!HISPANIC OR LATINO AND RACE!!Total population!!Not Hispanic or Latino', 'Percent!!HISPANIC OR LATINO AND RACE!!Total population!!Not Hispanic or Latino!!American Indian and Alaska Native alone', 'Percent!!RACE!!One race!!Asian!!Other Asian', 'Percent!!RACE!!Race alone or in combination with one or more other races!!Total population!!American Indian and Alaska Native', 'Percent Margin of Error!!RACE!!One race!!Asian', 'Percent Margin of Error!!HISPANIC OR LATINO AND RACE!!Total population!!Not Hispanic or Latino!!Two or more races!!Two races excluding Some other race, and Three or more races', 'Estimate!!SEX AND AGE!!65 years and over!!Male', 'Estimate!!RACE!!One race', 'Percent Margin of Error!!SEX AND AGE!!45 to 54 years', 'Margin of Error!!RACE!!One race!!Asian!!Vietnamese', 'Margin of Error!!HISPANIC OR LATINO AND RACE!!Total population!!Not Hispanic or Latino!!White alone', 'Estimate!!RACE!!One race!!American Indian and Alaska Native!!Sioux tribal grouping', 'Estimate!!SEX AND AGE!!25 to 34 years', 'Percent Margin of Error!!HISPANIC OR LATINO AND RACE!!Total population!!Not Hispanic or Latino!!Two or more races', 'Margin of Error!!SEX AND AGE!!Under 5 years', 'Margin of Error!!SEX AND AGE!!18 years and over', 'Percent Margin of Error!!RACE!!Total population', 'Margin of Error!!RACE!!One race!!American Indian and Alaska Native!!Sioux tribal grouping', 'Estimate!!HISPANIC OR LATINO AND RACE!!Total population!!Not Hispanic or Latino!!White alone', 'Estimate!!HISPANIC OR LATINO AND RACE!!Total population!!Hispanic or Latino (of any race)!!Cuban', 'Percent Margin of Error!!SEX AND AGE!!65 to 74 years']\n",
            "\n",
            "2016\n",
            "['Estimate!!HISPANIC OR LATINO AND RACE!!Total population!!Not Hispanic or Latino', 'Estimate!!RACE!!One race!!Asian!!Korean', 'Percent!!RACE!!One race!!Asian!!Asian Indian', 'Estimate!!CITIZEN, VOTING AGE POPULATION!!Citizen, 18 and over population', 'Percent Margin of Error!!RACE!!One race', 'Margin of Error!!RACE!!Two or more races!!Black or African American and American Indian and Alaska Native', 'Percent Margin of Error!!RACE!!Race alone or in combination with one or more other races!!Total population!!Native Hawaiian and Other Pacific Islander', 'Margin of Error!!RACE!!One race!!Native Hawaiian and Other Pacific Islander!!Guamanian or Chamorro', 'Margin of Error!!CITIZEN, VOTING AGE POPULATION!!Citizen, 18 and over population!!Female', 'Percent Margin of Error!!RACE!!One race!!Native Hawaiian and Other Pacific Islander!!Samoan', 'Percent Margin of Error!!SEX AND AGE!!55 to 59 years', 'Estimate!!HISPANIC OR LATINO AND RACE!!Total population!!Not Hispanic or Latino!!Some other race alone', 'Margin of Error!!RACE!!Two or more races!!White and Asian', 'Margin of Error!!RACE!!One race!!Asian!!Korean', 'Margin of Error!!HISPANIC OR LATINO AND RACE!!Total population!!Hispanic or Latino (of any race)!!Puerto Rican', 'Estimate!!RACE!!One race!!Asian!!Vietnamese', 'Percent!!SEX AND AGE!!75 to 84 years', 'Percent!!SEX AND AGE!!65 years and over!!Female', 'Percent!!RACE!!Race alone or in combination with one or more other races!!Total population!!Asian', 'Percent!!SEX AND AGE!!45 to 54 years', 'Percent!!RACE!!Two or more races!!White and Asian', 'Estimate!!RACE!!One race!!White', 'Margin of Error!!RACE!!Two or more races!!White and American Indian and Alaska Native', 'Margin of Error!!RACE!!Race alone or in combination with one or more other races!!Total population!!Asian', 'Estimate!!SEX AND AGE!!45 to 54 years', 'Estimate!!SEX AND AGE!!65 years and over', 'Percent Margin of Error!!SEX AND AGE!!65 years and over!!Female', 'Margin of Error!!RACE!!Total population!!One race', 'Percent Margin of Error!!HISPANIC OR LATINO AND RACE!!Total population!!Not Hispanic or Latino', 'Estimate!!RACE!!One race!!Asian', 'Percent Margin of Error!!HISPANIC OR LATINO AND RACE!!Total population!!Hispanic or Latino (of any race)!!Cuban', 'Margin of Error!!RACE!!One race!!American Indian and Alaska Native!!Cherokee tribal grouping', 'Percent!!SEX AND AGE!!20 to 24 years', 'Percent Margin of Error!!RACE!!Two or more races!!Black or African American and American Indian and Alaska Native', 'Percent!!SEX AND AGE!!18 years and over!!Female', 'Estimate!!HISPANIC OR LATINO AND RACE!!Total population!!Not Hispanic or Latino!!Native Hawaiian and Other Pacific Islander alone', 'Percent!!HISPANIC OR LATINO AND RACE!!Total population!!Not Hispanic or Latino!!Asian alone', 'Percent!!HISPANIC OR LATINO AND RACE!!Total population!!Not Hispanic or Latino!!Two or more races!!Two races excluding Some other race, and Three or more races', 'Margin of Error!!RACE!!One race!!American Indian and Alaska Native', 'Estimate!!SEX AND AGE!!Under 5 years', 'Percent Margin of Error!!SEX AND AGE!!25 to 34 years', 'Estimate!!SEX AND AGE!!35 to 44 years', 'Percent Margin of Error!!HISPANIC OR LATINO AND RACE!!Total population', 'Percent Margin of Error!!RACE!!One race!!Asian!!Other Asian', 'Estimate!!RACE!!One race!!Some other race', 'Estimate!!RACE!!One race!!Native Hawaiian and Other Pacific Islander!!Samoan', 'Percent!!HISPANIC OR LATINO AND RACE!!Total population!!Hispanic or Latino (of any race)!!Cuban', 'Estimate!!RACE!!One race!!American Indian and Alaska Native!!Chippewa tribal grouping', 'Percent Margin of Error!!RACE!!One race!!Native Hawaiian and Other Pacific Islander!!Other Pacific Islander', 'Percent Margin of Error!!SEX AND AGE!!62 years and over', 'Percent!!HISPANIC OR LATINO AND RACE!!Total population!!Not Hispanic or Latino!!Some other race alone', 'Estimate!!SEX AND AGE!!21 years and over', 'Margin of Error!!SEX AND AGE!!21 years and over', 'Estimate!!HISPANIC OR LATINO AND RACE!!Total population!!Not Hispanic or Latino!!American Indian and Alaska Native alone', 'Margin of Error!!SEX AND AGE!!35 to 44 years', 'Percent Margin of Error!!RACE!!One race!!Asian!!Chinese', 'Margin of Error!!RACE!!Total population', 'Percent Margin of Error!!RACE!!Race alone or in combination with one or more other races!!Total population', 'Percent!!SEX AND AGE!!25 to 34 years', 'Percent!!SEX AND AGE!!Total population!!Male', 'Percent Margin of Error!!HISPANIC OR LATINO AND RACE!!Total population!!Not Hispanic or Latino!!Some other race alone', 'Estimate!!RACE!!One race!!Asian!!Other Asian', 'Percent!!RACE!!Race alone or in combination with one or more other races!!Total population!!Native Hawaiian and Other Pacific Islander', 'Percent!!SEX AND AGE!!85 years and over', 'Margin of Error!!RACE!!One race!!Native Hawaiian and Other Pacific Islander!!Native Hawaiian', 'Margin of Error!!RACE!!One race!!Asian', 'Percent!!RACE!!One race!!Asian!!Japanese', 'Margin of Error!!HISPANIC OR LATINO AND RACE!!Total population!!Hispanic or Latino (of any race)!!Other Hispanic or Latino', 'Margin of Error!!HISPANIC OR LATINO AND RACE!!Total population!!Not Hispanic or Latino!!Native Hawaiian and Other Pacific Islander alone', 'Margin of Error!!SEX AND AGE!!Total population!!Female', 'Margin of Error!!CITIZEN, VOTING AGE POPULATION!!Citizen, 18 and over population', 'Percent Margin of Error!!RACE!!One race!!Asian!!Asian Indian', 'Margin of Error!!RACE!!Two or more races', 'Percent Margin of Error!!RACE!!Race alone or in combination with one or more other races!!Total population!!Black or African American', 'Percent!!SEX AND AGE!!55 to 59 years', 'Percent!!HISPANIC OR LATINO AND RACE!!Total population!!Not Hispanic or Latino!!Two or more races!!Two races including Some other race', 'Percent Margin of Error!!RACE!!Two or more races!!White and American Indian and Alaska Native', 'Percent!!SEX AND AGE!!18 years and over', 'Margin of Error!!HISPANIC OR LATINO AND RACE!!Total population!!Not Hispanic or Latino!!Black or African American alone', 'Estimate!!Total housing units', 'Percent Margin of Error!!HISPANIC OR LATINO AND RACE!!Total population!!Not Hispanic or Latino!!Black or African American alone', 'Percent!!RACE!!One race!!American Indian and Alaska Native!!Chippewa tribal grouping', 'Percent Margin of Error!!HISPANIC OR LATINO AND RACE!!Total population!!Not Hispanic or Latino!!White alone', 'Percent!!RACE!!Race alone or in combination with one or more other races!!Total population!!Some other race', 'Estimate!!HISPANIC OR LATINO AND RACE!!Total population!!Not Hispanic or Latino!!Two or more races', 'Percent!!HISPANIC OR LATINO AND RACE!!Total population!!Not Hispanic or Latino!!Black or African American alone', 'Percent!!RACE!!Race alone or in combination with one or more other races!!Total population', 'Percent Margin of Error!!RACE!!One race!!Some other race', 'Estimate!!RACE!!One race!!Native Hawaiian and Other Pacific Islander!!Guamanian or Chamorro', 'Margin of Error!!SEX AND AGE!!Total population', 'Percent!!HISPANIC OR LATINO AND RACE!!Total population!!Not Hispanic or Latino!!White alone', 'Margin of Error!!RACE!!One race!!American Indian and Alaska Native!!Navajo tribal grouping', 'Estimate!!SEX AND AGE!!Total population!!Female', 'Margin of Error!!SEX AND AGE!!18 years and over!!Male', 'Percent!!RACE!!One race!!Asian', 'Percent!!SEX AND AGE!!10 to 14 years', 'Percent Margin of Error!!SEX AND AGE!!5 to 9 years', 'Margin of Error!!SEX AND AGE!!65 years and over', 'Percent!!HISPANIC OR LATINO AND RACE!!Total population!!Hispanic or Latino (of any race)', 'Estimate!!SEX AND AGE!!5 to 9 years', 'Estimate!!RACE!!One race!!Asian!!Filipino', 'Percent!!RACE!!One race!!Native Hawaiian and Other Pacific Islander!!Other Pacific Islander', 'Margin of Error!!SEX AND AGE!!65 years and over!!Female', 'Percent Margin of Error!!SEX AND AGE!!85 years and over', 'Percent Margin of Error!!RACE!!Race alone or in combination with one or more other races!!Total population!!Asian', 'Margin of Error!!HISPANIC OR LATINO AND RACE!!Total population!!Hispanic or Latino (of any race)!!Cuban', 'Percent!!RACE!!Race alone or in combination with one or more other races!!Total population!!White', 'Margin of Error!!HISPANIC OR LATINO AND RACE!!Total population!!Not Hispanic or Latino!!Asian alone', 'Percent!!RACE!!One race!!Asian!!Vietnamese', 'Percent!!CITIZEN, VOTING AGE POPULATION!!Citizen, 18 and over population!!Male', 'Percent!!SEX AND AGE!!Median age (years)', 'Geographic Area Name', 'Percent Margin of Error!!RACE!!Two or more races', 'Percent Margin of Error!!SEX AND AGE!!18 years and over!!Male', 'Margin of Error!!RACE!!One race!!White', 'Percent!!RACE!!One race!!White', 'Margin of Error!!HISPANIC OR LATINO AND RACE!!Total population!!Not Hispanic or Latino!!Two or more races', 'Margin of Error!!RACE!!Race alone or in combination with one or more other races!!Total population!!Native Hawaiian and Other Pacific Islander', 'Margin of Error!!RACE!!Race alone or in combination with one or more other races!!Total population', 'Percent!!HISPANIC OR LATINO AND RACE!!Total population!!Not Hispanic or Latino!!Two or more races', 'Percent!!RACE!!One race!!Asian!!Chinese', 'Estimate!!HISPANIC OR LATINO AND RACE!!Total population!!Hispanic or Latino (of any race)!!Mexican', 'Percent Margin of Error!!SEX AND AGE!!Median age (years)', 'Estimate!!SEX AND AGE!!65 years and over!!Female', 'Percent Margin of Error!!SEX AND AGE!!Total population!!Female', 'Estimate!!RACE!!One race!!Asian!!Japanese', 'Percent!!SEX AND AGE!!62 years and over', 'Percent!!RACE!!One race!!Native Hawaiian and Other Pacific Islander!!Guamanian or Chamorro', 'Estimate!!RACE!!Race alone or in combination with one or more other races!!Total population!!White', 'Percent Margin of Error!!HISPANIC OR LATINO AND RACE!!Total population!!Not Hispanic or Latino!!Native Hawaiian and Other Pacific Islander alone', 'Percent!!RACE!!Two or more races!!White and Black or African American', 'Percent Margin of Error!!SEX AND AGE!!75 to 84 years', 'Percent Margin of Error!!RACE!!One race!!Native Hawaiian and Other Pacific Islander', 'Margin of Error!!SEX AND AGE!!45 to 54 years', 'Percent!!SEX AND AGE!!60 to 64 years', 'Estimate!!RACE!!Race alone or in combination with one or more other races!!Total population!!Some other race', 'Estimate!!RACE!!Race alone or in combination with one or more other races!!Total population!!Asian', 'Margin of Error!!RACE!!One race!!American Indian and Alaska Native!!Chippewa tribal grouping', 'Percent!!HISPANIC OR LATINO AND RACE!!Total population!!Hispanic or Latino (of any race)!!Other Hispanic or Latino', 'Margin of Error!!HISPANIC OR LATINO AND RACE!!Total population!!Hispanic or Latino (of any race)', 'Percent Margin of Error!!RACE!!One race!!Native Hawaiian and Other Pacific Islander!!Native Hawaiian', 'Estimate!!SEX AND AGE!!18 years and over!!Male', 'Estimate!!RACE!!Two or more races!!White and Black or African American', 'Percent Margin of Error!!RACE!!One race!!American Indian and Alaska Native!!Sioux tribal grouping', 'Percent Margin of Error!!SEX AND AGE!!18 years and over', 'Estimate!!RACE!!One race!!Asian!!Chinese', 'Percent!!RACE!!One race!!Native Hawaiian and Other Pacific Islander!!Native Hawaiian', 'Percent Margin of Error!!HISPANIC OR LATINO AND RACE!!Total population!!Hispanic or Latino (of any race)', 'Percent Margin of Error!!RACE!!Total population!!Two or more races', 'Percent!!RACE!!One race', 'Estimate!!RACE!!Total population!!One race', 'Estimate!!RACE!!One race!!American Indian and Alaska Native', 'Estimate!!RACE!!One race!!Black or African American', 'Margin of Error!!RACE!!Race alone or in combination with one or more other races!!Total population!!Some other race', 'Margin of Error!!HISPANIC OR LATINO AND RACE!!Total population!!Hispanic or Latino (of any race)!!Mexican', 'Margin of Error!!HISPANIC OR LATINO AND RACE!!Total population!!Not Hispanic or Latino!!Two or more races!!Two races excluding Some other race, and Three or more races', 'Estimate!!RACE!!One race!!Native Hawaiian and Other Pacific Islander!!Native Hawaiian', 'Margin of Error!!SEX AND AGE!!75 to 84 years', 'Estimate!!SEX AND AGE!!Median age (years)', 'Percent Margin of Error!!SEX AND AGE!!Total population', 'Percent Margin of Error!!CITIZEN, VOTING AGE POPULATION!!Citizen, 18 and over population', 'Margin of Error!!SEX AND AGE!!18 years and over!!Female', 'Percent Margin of Error!!SEX AND AGE!!65 years and over!!Male', 'Margin of Error!!RACE!!One race!!Black or African American', 'Percent!!RACE!!Total population!!Two or more races', 'Estimate!!SEX AND AGE!!60 to 64 years', 'Percent!!SEX AND AGE!!5 to 9 years', 'Estimate!!RACE!!One race!!American Indian and Alaska Native!!Navajo tribal grouping', 'Percent!!RACE!!One race!!Native Hawaiian and Other Pacific Islander!!Samoan', 'Percent Margin of Error!!Total housing units', 'Margin of Error!!RACE!!One race!!Asian!!Japanese', 'Percent!!RACE!!One race!!American Indian and Alaska Native', 'Estimate!!RACE!!Race alone or in combination with one or more other races!!Total population!!American Indian and Alaska Native', 'Percent!!HISPANIC OR LATINO AND RACE!!Total population!!Hispanic or Latino (of any race)!!Puerto Rican', 'Percent Margin of Error!!CITIZEN, VOTING AGE POPULATION!!Citizen, 18 and over population!!Male', 'Margin of Error!!SEX AND AGE!!25 to 34 years', 'Percent Margin of Error!!HISPANIC OR LATINO AND RACE!!Total population!!Hispanic or Latino (of any race)!!Mexican', 'Estimate!!RACE!!Two or more races!!White and American Indian and Alaska Native', 'Percent Margin of Error!!SEX AND AGE!!10 to 14 years', 'Estimate!!SEX AND AGE!!85 years and over', 'Percent!!SEX AND AGE!!65 years and over!!Male', 'Estimate!!RACE!!Total population!!Two or more races', 'Margin of Error!!RACE!!One race!!Asian!!Other Asian', 'Estimate!!SEX AND AGE!!18 years and over!!Female', 'Estimate!!HISPANIC OR LATINO AND RACE!!Total population!!Not Hispanic or Latino!!Two or more races!!Two races including Some other race', 'Margin of Error!!SEX AND AGE!!65 years and over!!Male', 'Percent!!RACE!!Race alone or in combination with one or more other races!!Total population!!Black or African American', 'Percent!!SEX AND AGE!!Total population', 'Margin of Error!!HISPANIC OR LATINO AND RACE!!Total population!!Not Hispanic or Latino!!American Indian and Alaska Native alone', 'Percent Margin of Error!!RACE!!One race!!American Indian and Alaska Native!!Cherokee tribal grouping', 'Margin of Error!!RACE!!Race alone or in combination with one or more other races!!Total population!!White', 'Estimate!!HISPANIC OR LATINO AND RACE!!Total population!!Hispanic or Latino (of any race)', 'Margin of Error!!Total housing units', 'Percent Margin of Error!!SEX AND AGE!!65 years and over', 'Percent Margin of Error!!HISPANIC OR LATINO AND RACE!!Total population!!Hispanic or Latino (of any race)!!Puerto Rican', 'Estimate!!RACE!!One race!!Native Hawaiian and Other Pacific Islander', 'Percent Margin of Error!!HISPANIC OR LATINO AND RACE!!Total population!!Not Hispanic or Latino!!Asian alone', 'Percent!!SEX AND AGE!!Total population!!Female', 'Percent!!Total housing units', 'Percent Margin of Error!!RACE!!One race!!American Indian and Alaska Native!!Navajo tribal grouping', 'Percent Margin of Error!!RACE!!Two or more races!!White and Asian', 'Margin of Error!!RACE!!One race', 'Margin of Error!!SEX AND AGE!!10 to 14 years', 'Margin of Error!!RACE!!One race!!Asian!!Filipino', 'Estimate!!HISPANIC OR LATINO AND RACE!!Total population!!Hispanic or Latino (of any race)!!Puerto Rican', 'Margin of Error!!HISPANIC OR LATINO AND RACE!!Total population!!Not Hispanic or Latino', 'Percent Margin of Error!!SEX AND AGE!!Under 5 years', 'Margin of Error!!RACE!!One race!!Native Hawaiian and Other Pacific Islander!!Samoan', 'Percent Margin of Error!!RACE!!One race!!Asian!!Filipino', 'Percent!!CITIZEN, VOTING AGE POPULATION!!Citizen, 18 and over population!!Female', 'Margin of Error!!SEX AND AGE!!62 years and over', 'Margin of Error!!SEX AND AGE!!Total population!!Male', 'Percent!!RACE!!Two or more races!!White and American Indian and Alaska Native', 'Percent Margin of Error!!RACE!!Race alone or in combination with one or more other races!!Total population!!American Indian and Alaska Native', 'Estimate!!SEX AND AGE!!20 to 24 years', 'Estimate!!SEX AND AGE!!Total population', 'Percent!!HISPANIC OR LATINO AND RACE!!Total population!!Not Hispanic or Latino!!Native Hawaiian and Other Pacific Islander alone', 'Margin of Error!!SEX AND AGE!!Median age (years)', 'Estimate!!RACE!!One race!!Native Hawaiian and Other Pacific Islander!!Other Pacific Islander', 'Percent!!RACE!!One race!!Some other race', 'Estimate!!HISPANIC OR LATINO AND RACE!!Total population!!Hispanic or Latino (of any race)!!Other Hispanic or Latino', 'Margin of Error!!SEX AND AGE!!85 years and over', 'Estimate!!SEX AND AGE!!Total population!!Male', 'Percent!!RACE!!Total population!!One race', 'Margin of Error!!SEX AND AGE!!55 to 59 years', 'Percent Margin of Error!!SEX AND AGE!!18 years and over!!Female', 'Percent Margin of Error!!RACE!!Total population!!One race', 'Estimate!!HISPANIC OR LATINO AND RACE!!Total population!!Not Hispanic or Latino!!Two or more races!!Two races excluding Some other race, and Three or more races', 'Percent!!SEX AND AGE!!Under 5 years', 'Estimate!!HISPANIC OR LATINO AND RACE!!Total population', 'Percent!!SEX AND AGE!!21 years and over', 'Margin of Error!!RACE!!One race!!Asian!!Chinese', 'Percent Margin of Error!!RACE!!One race!!Native Hawaiian and Other Pacific Islander!!Guamanian or Chamorro', 'Margin of Error!!HISPANIC OR LATINO AND RACE!!Total population', 'Percent Margin of Error!!SEX AND AGE!!60 to 64 years', 'Margin of Error!!RACE!!One race!!Native Hawaiian and Other Pacific Islander!!Other Pacific Islander', 'Estimate!!SEX AND AGE!!18 years and over', 'Estimate!!SEX AND AGE!!62 years and over', 'Percent Margin of Error!!SEX AND AGE!!20 to 24 years', 'Estimate!!RACE!!Two or more races!!White and Asian', 'Percent Margin of Error!!RACE!!Race alone or in combination with one or more other races!!Total population!!White', 'Estimate!!HISPANIC OR LATINO AND RACE!!Total population!!Not Hispanic or Latino!!Asian alone', 'Margin of Error!!RACE!!One race!!Some other race', 'Margin of Error!!RACE!!Two or more races!!White and Black or African American', 'Percent!!RACE!!One race!!American Indian and Alaska Native!!Cherokee tribal grouping', 'Percent!!SEX AND AGE!!18 years and over!!Male', 'Percent Margin of Error!!HISPANIC OR LATINO AND RACE!!Total population!!Not Hispanic or Latino!!Two or more races!!Two races including Some other race', 'Percent Margin of Error!!RACE!!One race!!American Indian and Alaska Native!!Chippewa tribal grouping', 'Estimate!!RACE!!Race alone or in combination with one or more other races!!Total population!!Native Hawaiian and Other Pacific Islander', 'Percent!!RACE!!One race!!Asian!!Korean', 'Percent!!RACE!!One race!!American Indian and Alaska Native!!Navajo tribal grouping', 'Percent!!SEX AND AGE!!65 to 74 years', 'Percent Margin of Error!!SEX AND AGE!!21 years and over', 'Estimate!!HISPANIC OR LATINO AND RACE!!Total population!!Not Hispanic or Latino!!Black or African American alone', 'Estimate!!RACE!!Two or more races!!Black or African American and American Indian and Alaska Native', 'Estimate!!SEX AND AGE!!55 to 59 years', 'Percent!!RACE!!One race!!Native Hawaiian and Other Pacific Islander', 'Estimate!!RACE!!One race!!Asian!!Asian Indian', 'Percent!!RACE!!One race!!Asian!!Filipino', 'Percent!!HISPANIC OR LATINO AND RACE!!Total population!!Hispanic or Latino (of any race)!!Mexican', 'Estimate!!RACE!!Race alone or in combination with one or more other races!!Total population!!Black or African American', 'Geography', 'Estimate!!SEX AND AGE!!15 to 19 years', 'Margin of Error!!RACE!!One race!!Native Hawaiian and Other Pacific Islander', 'Percent!!RACE!!One race!!American Indian and Alaska Native!!Sioux tribal grouping', 'Margin of Error!!HISPANIC OR LATINO AND RACE!!Total population!!Not Hispanic or Latino!!Some other race alone', 'Margin of Error!!SEX AND AGE!!20 to 24 years', 'Estimate!!SEX AND AGE!!75 to 84 years', 'Percent!!RACE!!Two or more races', 'Percent Margin of Error!!SEX AND AGE!!35 to 44 years', 'Percent Margin of Error!!SEX AND AGE!!15 to 19 years', 'Percent Margin of Error!!HISPANIC OR LATINO AND RACE!!Total population!!Hispanic or Latino (of any race)!!Other Hispanic or Latino', 'Margin of Error!!RACE!!One race!!Asian!!Asian Indian', 'Margin of Error!!SEX AND AGE!!15 to 19 years', 'Estimate!!SEX AND AGE!!10 to 14 years', 'Percent Margin of Error!!RACE!!One race!!White', 'Percent!!SEX AND AGE!!15 to 19 years', 'Percent Margin of Error!!RACE!!One race!!Asian!!Vietnamese', 'Estimate!!RACE!!Race alone or in combination with one or more other races!!Total population', 'Margin of Error!!SEX AND AGE!!65 to 74 years', 'Percent!!RACE!!One race!!Black or African American', 'Percent Margin of Error!!RACE!!Race alone or in combination with one or more other races!!Total population!!Some other race', 'Percent Margin of Error!!RACE!!Two or more races!!White and Black or African American', 'Estimate!!RACE!!One race!!American Indian and Alaska Native!!Cherokee tribal grouping', 'Percent Margin of Error!!RACE!!One race!!Asian!!Korean', 'Margin of Error!!SEX AND AGE!!60 to 64 years', 'Percent Margin of Error!!RACE!!One race!!Black or African American', 'Percent!!SEX AND AGE!!35 to 44 years', 'Margin of Error!!SEX AND AGE!!5 to 9 years', 'Percent!!HISPANIC OR LATINO AND RACE!!Total population', 'Estimate!!SEX AND AGE!!65 to 74 years', 'Margin of Error!!HISPANIC OR LATINO AND RACE!!Total population!!Not Hispanic or Latino!!Two or more races!!Two races including Some other race', 'Estimate!!CITIZEN, VOTING AGE POPULATION!!Citizen, 18 and over population!!Male', 'Percent Margin of Error!!SEX AND AGE!!Total population!!Male', 'Percent!!CITIZEN, VOTING AGE POPULATION!!Citizen, 18 and over population', 'Percent Margin of Error!!HISPANIC OR LATINO AND RACE!!Total population!!Not Hispanic or Latino!!American Indian and Alaska Native alone', 'Percent!!SEX AND AGE!!65 years and over', 'Percent!!RACE!!Total population', 'Margin of Error!!RACE!!Race alone or in combination with one or more other races!!Total population!!American Indian and Alaska Native', 'year', 'Estimate!!RACE!!Total population', 'Percent Margin of Error!!RACE!!One race!!Asian!!Japanese', 'Percent!!RACE!!Two or more races!!Black or African American and American Indian and Alaska Native', 'Margin of Error!!CITIZEN, VOTING AGE POPULATION!!Citizen, 18 and over population!!Male', 'Percent Margin of Error!!RACE!!One race!!American Indian and Alaska Native', 'Margin of Error!!RACE!!Total population!!Two or more races', 'Estimate!!RACE!!Two or more races', 'Margin of Error!!RACE!!Race alone or in combination with one or more other races!!Total population!!Black or African American', 'Percent!!HISPANIC OR LATINO AND RACE!!Total population!!Not Hispanic or Latino', 'Percent!!HISPANIC OR LATINO AND RACE!!Total population!!Not Hispanic or Latino!!American Indian and Alaska Native alone', 'Percent!!RACE!!One race!!Asian!!Other Asian', 'Percent!!RACE!!Race alone or in combination with one or more other races!!Total population!!American Indian and Alaska Native', 'Percent Margin of Error!!CITIZEN, VOTING AGE POPULATION!!Citizen, 18 and over population!!Female', 'Percent Margin of Error!!RACE!!One race!!Asian', 'Percent Margin of Error!!HISPANIC OR LATINO AND RACE!!Total population!!Not Hispanic or Latino!!Two or more races!!Two races excluding Some other race, and Three or more races', 'Estimate!!SEX AND AGE!!65 years and over!!Male', 'Estimate!!RACE!!One race', 'Percent Margin of Error!!SEX AND AGE!!45 to 54 years', 'Margin of Error!!RACE!!One race!!Asian!!Vietnamese', 'Margin of Error!!HISPANIC OR LATINO AND RACE!!Total population!!Not Hispanic or Latino!!White alone', 'Estimate!!RACE!!One race!!American Indian and Alaska Native!!Sioux tribal grouping', 'Estimate!!SEX AND AGE!!25 to 34 years', 'Percent Margin of Error!!HISPANIC OR LATINO AND RACE!!Total population!!Not Hispanic or Latino!!Two or more races', 'Margin of Error!!SEX AND AGE!!Under 5 years', 'Margin of Error!!SEX AND AGE!!18 years and over', 'Percent Margin of Error!!RACE!!Total population', 'Margin of Error!!RACE!!One race!!American Indian and Alaska Native!!Sioux tribal grouping', 'Estimate!!HISPANIC OR LATINO AND RACE!!Total population!!Not Hispanic or Latino!!White alone', 'Estimate!!HISPANIC OR LATINO AND RACE!!Total population!!Hispanic or Latino (of any race)!!Cuban', 'Estimate!!CITIZEN, VOTING AGE POPULATION!!Citizen, 18 and over population!!Female', 'Percent Margin of Error!!SEX AND AGE!!65 to 74 years']\n",
            "\n",
            "2017\n",
            "['Estimate!!HISPANIC OR LATINO AND RACE!!Total population!!Not Hispanic or Latino', 'Estimate!!RACE!!One race!!Asian!!Korean', 'Percent!!RACE!!One race!!Asian!!Asian Indian', 'Estimate!!CITIZEN, VOTING AGE POPULATION!!Citizen, 18 and over population', 'Percent Margin of Error!!RACE!!One race', 'Margin of Error!!RACE!!Two or more races!!Black or African American and American Indian and Alaska Native', 'Percent Margin of Error!!RACE!!Race alone or in combination with one or more other races!!Total population!!Native Hawaiian and Other Pacific Islander', 'Margin of Error!!RACE!!One race!!Native Hawaiian and Other Pacific Islander!!Guamanian or Chamorro', 'Margin of Error!!CITIZEN, VOTING AGE POPULATION!!Citizen, 18 and over population!!Female', 'Percent Margin of Error!!RACE!!One race!!Native Hawaiian and Other Pacific Islander!!Samoan', 'Percent Margin of Error!!SEX AND AGE!!55 to 59 years', 'Estimate!!HISPANIC OR LATINO AND RACE!!Total population!!Not Hispanic or Latino!!Some other race alone', 'Margin of Error!!RACE!!Two or more races!!White and Asian', 'Margin of Error!!RACE!!One race!!Asian!!Korean', 'Margin of Error!!HISPANIC OR LATINO AND RACE!!Total population!!Hispanic or Latino (of any race)!!Puerto Rican', 'Estimate!!RACE!!One race!!Asian!!Vietnamese', 'Percent!!SEX AND AGE!!75 to 84 years', 'Percent!!SEX AND AGE!!65 years and over!!Female', 'Percent!!RACE!!Race alone or in combination with one or more other races!!Total population!!Asian', 'Percent!!SEX AND AGE!!45 to 54 years', 'Percent!!RACE!!Two or more races!!White and Asian', 'Estimate!!RACE!!One race!!White', 'Margin of Error!!RACE!!Two or more races!!White and American Indian and Alaska Native', 'Margin of Error!!RACE!!Race alone or in combination with one or more other races!!Total population!!Asian', 'Estimate!!SEX AND AGE!!45 to 54 years', 'Estimate!!SEX AND AGE!!65 years and over', 'Percent Margin of Error!!SEX AND AGE!!65 years and over!!Female', 'Margin of Error!!RACE!!Total population!!One race', 'Percent Margin of Error!!HISPANIC OR LATINO AND RACE!!Total population!!Not Hispanic or Latino', 'Estimate!!RACE!!One race!!Asian', 'Percent Margin of Error!!HISPANIC OR LATINO AND RACE!!Total population!!Hispanic or Latino (of any race)!!Cuban', 'Margin of Error!!RACE!!One race!!American Indian and Alaska Native!!Cherokee tribal grouping', 'Percent!!SEX AND AGE!!20 to 24 years', 'Percent Margin of Error!!RACE!!Two or more races!!Black or African American and American Indian and Alaska Native', 'Percent!!SEX AND AGE!!18 years and over!!Female', 'Estimate!!HISPANIC OR LATINO AND RACE!!Total population!!Not Hispanic or Latino!!Native Hawaiian and Other Pacific Islander alone', 'Percent!!HISPANIC OR LATINO AND RACE!!Total population!!Not Hispanic or Latino!!Asian alone', 'Percent!!HISPANIC OR LATINO AND RACE!!Total population!!Not Hispanic or Latino!!Two or more races!!Two races excluding Some other race, and Three or more races', 'Margin of Error!!RACE!!One race!!American Indian and Alaska Native', 'Estimate!!SEX AND AGE!!Under 5 years', 'Percent Margin of Error!!SEX AND AGE!!25 to 34 years', 'Estimate!!SEX AND AGE!!35 to 44 years', 'Percent Margin of Error!!HISPANIC OR LATINO AND RACE!!Total population', 'Percent Margin of Error!!RACE!!One race!!Asian!!Other Asian', 'Estimate!!RACE!!One race!!Some other race', 'Estimate!!RACE!!One race!!Native Hawaiian and Other Pacific Islander!!Samoan', 'Percent!!HISPANIC OR LATINO AND RACE!!Total population!!Hispanic or Latino (of any race)!!Cuban', 'Estimate!!RACE!!One race!!American Indian and Alaska Native!!Chippewa tribal grouping', 'Percent Margin of Error!!RACE!!One race!!Native Hawaiian and Other Pacific Islander!!Other Pacific Islander', 'Percent Margin of Error!!SEX AND AGE!!62 years and over', 'Percent!!HISPANIC OR LATINO AND RACE!!Total population!!Not Hispanic or Latino!!Some other race alone', 'Estimate!!SEX AND AGE!!21 years and over', 'Margin of Error!!SEX AND AGE!!21 years and over', 'Estimate!!HISPANIC OR LATINO AND RACE!!Total population!!Not Hispanic or Latino!!American Indian and Alaska Native alone', 'Margin of Error!!SEX AND AGE!!35 to 44 years', 'Percent Margin of Error!!RACE!!One race!!Asian!!Chinese', 'Margin of Error!!RACE!!Total population', 'Percent Margin of Error!!RACE!!Race alone or in combination with one or more other races!!Total population', 'Percent!!SEX AND AGE!!25 to 34 years', 'Percent!!SEX AND AGE!!Total population!!Male', 'Estimate!!RACE!!One race!!Asian!!Other Asian', 'Percent!!RACE!!Race alone or in combination with one or more other races!!Total population!!Native Hawaiian and Other Pacific Islander', 'Percent Margin of Error!!HISPANIC OR LATINO AND RACE!!Total population!!Not Hispanic or Latino!!Some other race alone', 'Percent!!SEX AND AGE!!85 years and over', 'Margin of Error!!RACE!!One race!!Native Hawaiian and Other Pacific Islander!!Native Hawaiian', 'Margin of Error!!RACE!!One race!!Asian', 'Percent!!RACE!!One race!!Asian!!Japanese', 'Margin of Error!!HISPANIC OR LATINO AND RACE!!Total population!!Hispanic or Latino (of any race)!!Other Hispanic or Latino', 'Margin of Error!!HISPANIC OR LATINO AND RACE!!Total population!!Not Hispanic or Latino!!Native Hawaiian and Other Pacific Islander alone', 'Margin of Error!!SEX AND AGE!!Total population!!Female', 'Margin of Error!!CITIZEN, VOTING AGE POPULATION!!Citizen, 18 and over population', 'Percent Margin of Error!!RACE!!One race!!Asian!!Asian Indian', 'Margin of Error!!RACE!!Two or more races', 'Percent Margin of Error!!RACE!!Race alone or in combination with one or more other races!!Total population!!Black or African American', 'Percent!!SEX AND AGE!!55 to 59 years', 'Percent!!HISPANIC OR LATINO AND RACE!!Total population!!Not Hispanic or Latino!!Two or more races!!Two races including Some other race', 'Percent Margin of Error!!RACE!!Two or more races!!White and American Indian and Alaska Native', 'Percent!!SEX AND AGE!!18 years and over', 'Margin of Error!!HISPANIC OR LATINO AND RACE!!Total population!!Not Hispanic or Latino!!Black or African American alone', 'Estimate!!Total housing units', 'Percent Margin of Error!!HISPANIC OR LATINO AND RACE!!Total population!!Not Hispanic or Latino!!Black or African American alone', 'Percent!!RACE!!One race!!American Indian and Alaska Native!!Chippewa tribal grouping', 'Percent Margin of Error!!HISPANIC OR LATINO AND RACE!!Total population!!Not Hispanic or Latino!!White alone', 'Percent!!RACE!!Race alone or in combination with one or more other races!!Total population!!Some other race', 'Estimate!!HISPANIC OR LATINO AND RACE!!Total population!!Not Hispanic or Latino!!Two or more races', 'Percent!!HISPANIC OR LATINO AND RACE!!Total population!!Not Hispanic or Latino!!Black or African American alone', 'Percent!!RACE!!Race alone or in combination with one or more other races!!Total population', 'Percent Margin of Error!!RACE!!One race!!Some other race', 'Estimate!!RACE!!One race!!Native Hawaiian and Other Pacific Islander!!Guamanian or Chamorro', 'Margin of Error!!SEX AND AGE!!Total population', 'Percent!!HISPANIC OR LATINO AND RACE!!Total population!!Not Hispanic or Latino!!White alone', 'Margin of Error!!RACE!!One race!!American Indian and Alaska Native!!Navajo tribal grouping', 'Estimate!!SEX AND AGE!!Total population!!Female', 'Margin of Error!!SEX AND AGE!!18 years and over!!Male', 'Percent!!RACE!!One race!!Asian', 'Percent!!SEX AND AGE!!10 to 14 years', 'Percent Margin of Error!!SEX AND AGE!!5 to 9 years', 'Margin of Error!!SEX AND AGE!!65 years and over', 'Percent!!HISPANIC OR LATINO AND RACE!!Total population!!Hispanic or Latino (of any race)', 'Estimate!!SEX AND AGE!!5 to 9 years', 'Estimate!!RACE!!One race!!Asian!!Filipino', 'Percent!!RACE!!One race!!Native Hawaiian and Other Pacific Islander!!Other Pacific Islander', 'Margin of Error!!SEX AND AGE!!65 years and over!!Female', 'Percent Margin of Error!!SEX AND AGE!!85 years and over', 'Percent Margin of Error!!RACE!!Race alone or in combination with one or more other races!!Total population!!Asian', 'Margin of Error!!HISPANIC OR LATINO AND RACE!!Total population!!Hispanic or Latino (of any race)!!Cuban', 'Percent!!RACE!!Race alone or in combination with one or more other races!!Total population!!White', 'Margin of Error!!HISPANIC OR LATINO AND RACE!!Total population!!Not Hispanic or Latino!!Asian alone', 'Percent!!RACE!!One race!!Asian!!Vietnamese', 'Percent!!CITIZEN, VOTING AGE POPULATION!!Citizen, 18 and over population!!Male', 'Percent!!SEX AND AGE!!Median age (years)', 'Geographic Area Name', 'Percent Margin of Error!!RACE!!Two or more races', 'Percent Margin of Error!!SEX AND AGE!!18 years and over!!Male', 'Margin of Error!!RACE!!One race!!White', 'Percent!!RACE!!One race!!White', 'Margin of Error!!HISPANIC OR LATINO AND RACE!!Total population!!Not Hispanic or Latino!!Two or more races', 'Margin of Error!!RACE!!Race alone or in combination with one or more other races!!Total population!!Native Hawaiian and Other Pacific Islander', 'Margin of Error!!RACE!!Race alone or in combination with one or more other races!!Total population', 'Percent!!HISPANIC OR LATINO AND RACE!!Total population!!Not Hispanic or Latino!!Two or more races', 'Percent!!RACE!!One race!!Asian!!Chinese', 'Estimate!!HISPANIC OR LATINO AND RACE!!Total population!!Hispanic or Latino (of any race)!!Mexican', 'Percent Margin of Error!!SEX AND AGE!!Median age (years)', 'Estimate!!SEX AND AGE!!65 years and over!!Female', 'Percent Margin of Error!!SEX AND AGE!!Total population!!Female', 'Estimate!!RACE!!One race!!Asian!!Japanese', 'Percent!!SEX AND AGE!!62 years and over', 'Percent!!RACE!!One race!!Native Hawaiian and Other Pacific Islander!!Guamanian or Chamorro', 'Estimate!!RACE!!Race alone or in combination with one or more other races!!Total population!!White', 'Percent Margin of Error!!HISPANIC OR LATINO AND RACE!!Total population!!Not Hispanic or Latino!!Native Hawaiian and Other Pacific Islander alone', 'Percent!!RACE!!Two or more races!!White and Black or African American', 'Percent Margin of Error!!SEX AND AGE!!75 to 84 years', 'Percent Margin of Error!!RACE!!One race!!Native Hawaiian and Other Pacific Islander', 'Margin of Error!!SEX AND AGE!!45 to 54 years', 'Percent!!SEX AND AGE!!60 to 64 years', 'Estimate!!RACE!!Race alone or in combination with one or more other races!!Total population!!Some other race', 'Estimate!!RACE!!Race alone or in combination with one or more other races!!Total population!!Asian', 'Margin of Error!!RACE!!One race!!American Indian and Alaska Native!!Chippewa tribal grouping', 'Percent!!HISPANIC OR LATINO AND RACE!!Total population!!Hispanic or Latino (of any race)!!Other Hispanic or Latino', 'Margin of Error!!HISPANIC OR LATINO AND RACE!!Total population!!Hispanic or Latino (of any race)', 'Percent Margin of Error!!RACE!!One race!!Native Hawaiian and Other Pacific Islander!!Native Hawaiian', 'Estimate!!SEX AND AGE!!18 years and over!!Male', 'Estimate!!RACE!!Two or more races!!White and Black or African American', 'Percent Margin of Error!!RACE!!One race!!American Indian and Alaska Native!!Sioux tribal grouping', 'Percent Margin of Error!!SEX AND AGE!!18 years and over', 'Estimate!!RACE!!One race!!Asian!!Chinese', 'Percent!!RACE!!One race!!Native Hawaiian and Other Pacific Islander!!Native Hawaiian', 'Percent Margin of Error!!HISPANIC OR LATINO AND RACE!!Total population!!Hispanic or Latino (of any race)', 'Percent Margin of Error!!RACE!!Total population!!Two or more races', 'Percent!!RACE!!One race', 'Estimate!!RACE!!Total population!!One race', 'Estimate!!RACE!!One race!!American Indian and Alaska Native', 'Estimate!!RACE!!One race!!Black or African American', 'Margin of Error!!RACE!!Race alone or in combination with one or more other races!!Total population!!Some other race', 'Margin of Error!!HISPANIC OR LATINO AND RACE!!Total population!!Hispanic or Latino (of any race)!!Mexican', 'Margin of Error!!HISPANIC OR LATINO AND RACE!!Total population!!Not Hispanic or Latino!!Two or more races!!Two races excluding Some other race, and Three or more races', 'Estimate!!RACE!!One race!!Native Hawaiian and Other Pacific Islander!!Native Hawaiian', 'Margin of Error!!SEX AND AGE!!75 to 84 years', 'Estimate!!SEX AND AGE!!Median age (years)', 'Percent Margin of Error!!SEX AND AGE!!Total population', 'Percent Margin of Error!!CITIZEN, VOTING AGE POPULATION!!Citizen, 18 and over population', 'Margin of Error!!SEX AND AGE!!18 years and over!!Female', 'Percent Margin of Error!!SEX AND AGE!!65 years and over!!Male', 'Margin of Error!!RACE!!One race!!Black or African American', 'Percent!!RACE!!Total population!!Two or more races', 'Estimate!!SEX AND AGE!!60 to 64 years', 'Percent!!SEX AND AGE!!5 to 9 years', 'Estimate!!RACE!!One race!!American Indian and Alaska Native!!Navajo tribal grouping', 'Percent!!RACE!!One race!!Native Hawaiian and Other Pacific Islander!!Samoan', 'Percent Margin of Error!!Total housing units', 'Margin of Error!!RACE!!One race!!Asian!!Japanese', 'Percent!!RACE!!One race!!American Indian and Alaska Native', 'Estimate!!RACE!!Race alone or in combination with one or more other races!!Total population!!American Indian and Alaska Native', 'Percent!!HISPANIC OR LATINO AND RACE!!Total population!!Hispanic or Latino (of any race)!!Puerto Rican', 'Percent Margin of Error!!CITIZEN, VOTING AGE POPULATION!!Citizen, 18 and over population!!Male', 'Margin of Error!!SEX AND AGE!!25 to 34 years', 'Percent Margin of Error!!HISPANIC OR LATINO AND RACE!!Total population!!Hispanic or Latino (of any race)!!Mexican', 'Estimate!!RACE!!Two or more races!!White and American Indian and Alaska Native', 'Percent Margin of Error!!SEX AND AGE!!10 to 14 years', 'Estimate!!SEX AND AGE!!85 years and over', 'Percent!!SEX AND AGE!!65 years and over!!Male', 'Estimate!!RACE!!Total population!!Two or more races', 'Margin of Error!!RACE!!One race!!Asian!!Other Asian', 'Estimate!!SEX AND AGE!!18 years and over!!Female', 'Estimate!!HISPANIC OR LATINO AND RACE!!Total population!!Not Hispanic or Latino!!Two or more races!!Two races including Some other race', 'Margin of Error!!SEX AND AGE!!65 years and over!!Male', 'Percent!!RACE!!Race alone or in combination with one or more other races!!Total population!!Black or African American', 'Percent!!SEX AND AGE!!Total population', 'Margin of Error!!HISPANIC OR LATINO AND RACE!!Total population!!Not Hispanic or Latino!!American Indian and Alaska Native alone', 'Percent Margin of Error!!RACE!!One race!!American Indian and Alaska Native!!Cherokee tribal grouping', 'Margin of Error!!RACE!!Race alone or in combination with one or more other races!!Total population!!White', 'Estimate!!HISPANIC OR LATINO AND RACE!!Total population!!Hispanic or Latino (of any race)', 'Margin of Error!!Total housing units', 'Percent Margin of Error!!SEX AND AGE!!65 years and over', 'Percent Margin of Error!!HISPANIC OR LATINO AND RACE!!Total population!!Hispanic or Latino (of any race)!!Puerto Rican', 'Estimate!!RACE!!One race!!Native Hawaiian and Other Pacific Islander', 'Percent Margin of Error!!HISPANIC OR LATINO AND RACE!!Total population!!Not Hispanic or Latino!!Asian alone', 'Percent!!SEX AND AGE!!Total population!!Female', 'Percent!!Total housing units', 'Percent Margin of Error!!RACE!!One race!!American Indian and Alaska Native!!Navajo tribal grouping', 'Percent Margin of Error!!RACE!!Two or more races!!White and Asian', 'Margin of Error!!RACE!!One race', 'Margin of Error!!SEX AND AGE!!10 to 14 years', 'Margin of Error!!RACE!!One race!!Asian!!Filipino', 'Estimate!!HISPANIC OR LATINO AND RACE!!Total population!!Hispanic or Latino (of any race)!!Puerto Rican', 'Margin of Error!!HISPANIC OR LATINO AND RACE!!Total population!!Not Hispanic or Latino', 'Percent Margin of Error!!SEX AND AGE!!Under 5 years', 'Margin of Error!!RACE!!One race!!Native Hawaiian and Other Pacific Islander!!Samoan', 'Percent Margin of Error!!RACE!!One race!!Asian!!Filipino', 'Percent!!CITIZEN, VOTING AGE POPULATION!!Citizen, 18 and over population!!Female', 'Margin of Error!!SEX AND AGE!!62 years and over', 'Margin of Error!!SEX AND AGE!!Total population!!Male', 'Percent!!RACE!!Two or more races!!White and American Indian and Alaska Native', 'Percent Margin of Error!!RACE!!Race alone or in combination with one or more other races!!Total population!!American Indian and Alaska Native', 'Estimate!!SEX AND AGE!!20 to 24 years', 'Estimate!!SEX AND AGE!!Total population', 'Percent!!HISPANIC OR LATINO AND RACE!!Total population!!Not Hispanic or Latino!!Native Hawaiian and Other Pacific Islander alone', 'Margin of Error!!SEX AND AGE!!Median age (years)', 'Estimate!!RACE!!One race!!Native Hawaiian and Other Pacific Islander!!Other Pacific Islander', 'Percent!!RACE!!One race!!Some other race', 'Estimate!!HISPANIC OR LATINO AND RACE!!Total population!!Hispanic or Latino (of any race)!!Other Hispanic or Latino', 'Margin of Error!!SEX AND AGE!!85 years and over', 'Estimate!!SEX AND AGE!!Total population!!Male', 'Percent!!RACE!!Total population!!One race', 'Margin of Error!!SEX AND AGE!!55 to 59 years', 'Percent Margin of Error!!SEX AND AGE!!18 years and over!!Female', 'Percent Margin of Error!!RACE!!Total population!!One race', 'Estimate!!HISPANIC OR LATINO AND RACE!!Total population!!Not Hispanic or Latino!!Two or more races!!Two races excluding Some other race, and Three or more races', 'Percent!!SEX AND AGE!!Under 5 years', 'Estimate!!HISPANIC OR LATINO AND RACE!!Total population', 'Percent!!SEX AND AGE!!21 years and over', 'Margin of Error!!RACE!!One race!!Asian!!Chinese', 'Percent Margin of Error!!RACE!!One race!!Native Hawaiian and Other Pacific Islander!!Guamanian or Chamorro', 'Margin of Error!!HISPANIC OR LATINO AND RACE!!Total population', 'Percent Margin of Error!!SEX AND AGE!!60 to 64 years', 'Margin of Error!!RACE!!One race!!Native Hawaiian and Other Pacific Islander!!Other Pacific Islander', 'Estimate!!SEX AND AGE!!18 years and over', 'Estimate!!SEX AND AGE!!62 years and over', 'Percent Margin of Error!!SEX AND AGE!!20 to 24 years', 'Estimate!!RACE!!Two or more races!!White and Asian', 'Percent Margin of Error!!RACE!!Race alone or in combination with one or more other races!!Total population!!White', 'Estimate!!HISPANIC OR LATINO AND RACE!!Total population!!Not Hispanic or Latino!!Asian alone', 'Margin of Error!!RACE!!One race!!Some other race', 'Margin of Error!!RACE!!Two or more races!!White and Black or African American', 'Percent!!RACE!!One race!!American Indian and Alaska Native!!Cherokee tribal grouping', 'Percent!!SEX AND AGE!!18 years and over!!Male', 'Percent Margin of Error!!HISPANIC OR LATINO AND RACE!!Total population!!Not Hispanic or Latino!!Two or more races!!Two races including Some other race', 'Percent Margin of Error!!RACE!!One race!!American Indian and Alaska Native!!Chippewa tribal grouping', 'Estimate!!RACE!!Race alone or in combination with one or more other races!!Total population!!Native Hawaiian and Other Pacific Islander', 'Percent!!RACE!!One race!!Asian!!Korean', 'Percent!!RACE!!One race!!American Indian and Alaska Native!!Navajo tribal grouping', 'Percent!!SEX AND AGE!!65 to 74 years', 'Percent Margin of Error!!SEX AND AGE!!21 years and over', 'Estimate!!HISPANIC OR LATINO AND RACE!!Total population!!Not Hispanic or Latino!!Black or African American alone', 'Estimate!!RACE!!Two or more races!!Black or African American and American Indian and Alaska Native', 'Estimate!!SEX AND AGE!!55 to 59 years', 'Percent!!RACE!!One race!!Native Hawaiian and Other Pacific Islander', 'Estimate!!RACE!!One race!!Asian!!Asian Indian', 'Percent!!RACE!!One race!!Asian!!Filipino', 'Percent!!HISPANIC OR LATINO AND RACE!!Total population!!Hispanic or Latino (of any race)!!Mexican', 'Estimate!!RACE!!Race alone or in combination with one or more other races!!Total population!!Black or African American', 'Geography', 'Estimate!!SEX AND AGE!!15 to 19 years', 'Margin of Error!!RACE!!One race!!Native Hawaiian and Other Pacific Islander', 'Percent!!RACE!!One race!!American Indian and Alaska Native!!Sioux tribal grouping', 'Margin of Error!!HISPANIC OR LATINO AND RACE!!Total population!!Not Hispanic or Latino!!Some other race alone', 'Margin of Error!!SEX AND AGE!!20 to 24 years', 'Estimate!!SEX AND AGE!!75 to 84 years', 'Percent!!RACE!!Two or more races', 'Percent Margin of Error!!SEX AND AGE!!35 to 44 years', 'Percent Margin of Error!!SEX AND AGE!!15 to 19 years', 'Percent Margin of Error!!HISPANIC OR LATINO AND RACE!!Total population!!Hispanic or Latino (of any race)!!Other Hispanic or Latino', 'Margin of Error!!RACE!!One race!!Asian!!Asian Indian', 'Margin of Error!!SEX AND AGE!!15 to 19 years', 'Estimate!!SEX AND AGE!!10 to 14 years', 'Percent Margin of Error!!RACE!!One race!!White', 'Percent!!SEX AND AGE!!15 to 19 years', 'Percent Margin of Error!!RACE!!One race!!Asian!!Vietnamese', 'Estimate!!RACE!!Race alone or in combination with one or more other races!!Total population', 'Margin of Error!!SEX AND AGE!!65 to 74 years', 'Percent!!RACE!!One race!!Black or African American', 'Percent Margin of Error!!RACE!!Race alone or in combination with one or more other races!!Total population!!Some other race', 'Percent Margin of Error!!RACE!!Two or more races!!White and Black or African American', 'Estimate!!RACE!!One race!!American Indian and Alaska Native!!Cherokee tribal grouping', 'Percent Margin of Error!!RACE!!One race!!Asian!!Korean', 'Margin of Error!!SEX AND AGE!!60 to 64 years', 'Percent Margin of Error!!RACE!!One race!!Black or African American', 'Percent!!SEX AND AGE!!35 to 44 years', 'Margin of Error!!SEX AND AGE!!5 to 9 years', 'Percent!!HISPANIC OR LATINO AND RACE!!Total population', 'Estimate!!SEX AND AGE!!65 to 74 years', 'Margin of Error!!HISPANIC OR LATINO AND RACE!!Total population!!Not Hispanic or Latino!!Two or more races!!Two races including Some other race', 'Estimate!!CITIZEN, VOTING AGE POPULATION!!Citizen, 18 and over population!!Male', 'Percent Margin of Error!!SEX AND AGE!!Total population!!Male', 'Percent!!CITIZEN, VOTING AGE POPULATION!!Citizen, 18 and over population', 'Percent Margin of Error!!HISPANIC OR LATINO AND RACE!!Total population!!Not Hispanic or Latino!!American Indian and Alaska Native alone', 'Percent!!SEX AND AGE!!65 years and over', 'Percent!!RACE!!Total population', 'Margin of Error!!RACE!!Race alone or in combination with one or more other races!!Total population!!American Indian and Alaska Native', 'year', 'Estimate!!RACE!!Total population', 'Percent Margin of Error!!RACE!!One race!!Asian!!Japanese', 'Percent!!RACE!!Two or more races!!Black or African American and American Indian and Alaska Native', 'Margin of Error!!CITIZEN, VOTING AGE POPULATION!!Citizen, 18 and over population!!Male', 'Percent Margin of Error!!RACE!!One race!!American Indian and Alaska Native', 'Margin of Error!!RACE!!Total population!!Two or more races', 'Estimate!!RACE!!Two or more races', 'Margin of Error!!RACE!!Race alone or in combination with one or more other races!!Total population!!Black or African American', 'Percent!!HISPANIC OR LATINO AND RACE!!Total population!!Not Hispanic or Latino', 'Percent!!HISPANIC OR LATINO AND RACE!!Total population!!Not Hispanic or Latino!!American Indian and Alaska Native alone', 'Percent!!RACE!!One race!!Asian!!Other Asian', 'Percent!!RACE!!Race alone or in combination with one or more other races!!Total population!!American Indian and Alaska Native', 'Percent Margin of Error!!CITIZEN, VOTING AGE POPULATION!!Citizen, 18 and over population!!Female', 'Percent Margin of Error!!RACE!!One race!!Asian', 'Percent Margin of Error!!HISPANIC OR LATINO AND RACE!!Total population!!Not Hispanic or Latino!!Two or more races!!Two races excluding Some other race, and Three or more races', 'Estimate!!SEX AND AGE!!65 years and over!!Male', 'Estimate!!RACE!!One race', 'Percent Margin of Error!!SEX AND AGE!!45 to 54 years', 'Margin of Error!!RACE!!One race!!Asian!!Vietnamese', 'Margin of Error!!HISPANIC OR LATINO AND RACE!!Total population!!Not Hispanic or Latino!!White alone', 'Estimate!!RACE!!One race!!American Indian and Alaska Native!!Sioux tribal grouping', 'Estimate!!SEX AND AGE!!25 to 34 years', 'Percent Margin of Error!!HISPANIC OR LATINO AND RACE!!Total population!!Not Hispanic or Latino!!Two or more races', 'Margin of Error!!SEX AND AGE!!Under 5 years', 'Margin of Error!!SEX AND AGE!!18 years and over', 'Percent Margin of Error!!RACE!!Total population', 'Margin of Error!!RACE!!One race!!American Indian and Alaska Native!!Sioux tribal grouping', 'Estimate!!HISPANIC OR LATINO AND RACE!!Total population!!Not Hispanic or Latino!!White alone', 'Estimate!!HISPANIC OR LATINO AND RACE!!Total population!!Hispanic or Latino (of any race)!!Cuban', 'Estimate!!CITIZEN, VOTING AGE POPULATION!!Citizen, 18 and over population!!Female', 'Percent Margin of Error!!SEX AND AGE!!65 to 74 years']\n",
            "\n",
            "2018\n",
            "['Estimate!!HISPANIC OR LATINO AND RACE!!Total population!!Not Hispanic or Latino', 'Estimate!!CITIZEN, VOTING AGE POPULATION!!Citizen, 18 and over population', 'Percent Margin of Error!!Total housing units', 'Percent Margin of Error!!HISPANIC OR LATINO AND RACE!!Total population!!Not Hispanic or Latino!!Two or more races!!Two races including Some other race', 'Percent Margin of Error!!CITIZEN, VOTING AGE POPULATION!!Citizen, 18 and over population!!Male', 'Margin of Error!!CITIZEN, VOTING AGE POPULATION!!Citizen, 18 and over population!!Female', 'Percent Margin of Error!!HISPANIC OR LATINO AND RACE!!Total population!!Hispanic or Latino (of any race)!!Mexican', 'Estimate!!HISPANIC OR LATINO AND RACE!!Total population!!Not Hispanic or Latino!!Black or African American alone', 'Percent Margin of Error!!SEX AND AGE!!Total population!!Sex ratio (males per 100 females)', 'Margin of Error!!SEX AND AGE!!Total population!!Sex ratio (males per 100 females)', 'Estimate!!SEX AND AGE!!Total population!!Sex ratio (males per 100 females)', 'Estimate!!HISPANIC OR LATINO AND RACE!!Total population!!Not Hispanic or Latino!!Some other race alone', 'Estimate!!RACE!!Total population!!Two or more races', 'Margin of Error!!HISPANIC OR LATINO AND RACE!!Total population!!Hispanic or Latino (of any race)!!Puerto Rican', 'Estimate!!HISPANIC OR LATINO AND RACE!!Total population!!Not Hispanic or Latino!!Two or more races!!Two races including Some other race', 'Geography', 'Margin of Error!!HISPANIC OR LATINO AND RACE!!Total population!!Hispanic or Latino (of any race)!!Cuban', 'Margin of Error!!HISPANIC OR LATINO AND RACE!!Total population!!Not Hispanic or Latino!!Asian alone', 'Percent Margin of Error!!HISPANIC OR LATINO AND RACE!!Total population!!Not Hispanic or Latino', 'Margin of Error!!RACE!!Total population!!One race', 'Percent Margin of Error!!HISPANIC OR LATINO AND RACE!!Total population!!Hispanic or Latino (of any race)!!Cuban', 'Margin of Error!!HISPANIC OR LATINO AND RACE!!Total population!!Not Hispanic or Latino!!Some other race alone', 'Margin of Error!!HISPANIC OR LATINO AND RACE!!Total population!!Not Hispanic or Latino!!American Indian and Alaska Native alone', 'Geographic Area Name', 'Estimate!!HISPANIC OR LATINO AND RACE!!Total population!!Not Hispanic or Latino!!Native Hawaiian and Other Pacific Islander alone', 'Percent Margin of Error!!HISPANIC OR LATINO AND RACE!!Total population', 'Estimate!!HISPANIC OR LATINO AND RACE!!Total population!!Hispanic or Latino (of any race)', 'Margin of Error!!Total housing units', 'Percent Margin of Error!!HISPANIC OR LATINO AND RACE!!Total population!!Hispanic or Latino (of any race)!!Other Hispanic or Latino', 'Margin of Error!!HISPANIC OR LATINO AND RACE!!Total population!!Not Hispanic or Latino!!Two or more races', 'Percent Margin of Error!!HISPANIC OR LATINO AND RACE!!Total population!!Hispanic or Latino (of any race)!!Puerto Rican', 'Estimate!!HISPANIC OR LATINO AND RACE!!Total population!!Hispanic or Latino (of any race)!!Mexican', 'Percent Margin of Error!!SEX AND AGE!!Total population!!Female', 'Percent Margin of Error!!HISPANIC OR LATINO AND RACE!!Total population!!Not Hispanic or Latino!!Asian alone', 'Estimate!!HISPANIC OR LATINO AND RACE!!Total population!!Not Hispanic or Latino!!American Indian and Alaska Native alone', 'Percent Margin of Error!!HISPANIC OR LATINO AND RACE!!Total population!!Not Hispanic or Latino!!Native Hawaiian and Other Pacific Islander alone', 'Margin of Error!!RACE!!Total population', 'Estimate!!HISPANIC OR LATINO AND RACE!!Total population!!Hispanic or Latino (of any race)!!Puerto Rican', 'Margin of Error!!HISPANIC OR LATINO AND RACE!!Total population!!Not Hispanic or Latino', 'Percent Margin of Error!!HISPANIC OR LATINO AND RACE!!Total population!!Not Hispanic or Latino!!Some other race alone', 'Margin of Error!!HISPANIC OR LATINO AND RACE!!Total population!!Not Hispanic or Latino!!Two or more races!!Two races including Some other race', 'Estimate!!CITIZEN, VOTING AGE POPULATION!!Citizen, 18 and over population!!Male', 'Percent Margin of Error!!SEX AND AGE!!Total population!!Male', 'Margin of Error!!SEX AND AGE!!Total population!!Male', 'Percent Margin of Error!!HISPANIC OR LATINO AND RACE!!Total population!!Not Hispanic or Latino!!American Indian and Alaska Native alone', 'Margin of Error!!HISPANIC OR LATINO AND RACE!!Total population!!Hispanic or Latino (of any race)', 'year', 'Estimate!!RACE!!Total population', 'Estimate!!SEX AND AGE!!Total population', 'Margin of Error!!CITIZEN, VOTING AGE POPULATION!!Citizen, 18 and over population!!Male', 'Margin of Error!!RACE!!Total population!!Two or more races', 'Margin of Error!!HISPANIC OR LATINO AND RACE!!Total population!!Hispanic or Latino (of any race)!!Other Hispanic or Latino', 'Margin of Error!!HISPANIC OR LATINO AND RACE!!Total population!!Not Hispanic or Latino!!Native Hawaiian and Other Pacific Islander alone', 'Percent Margin of Error!!CITIZEN, VOTING AGE POPULATION!!Citizen, 18 and over population!!Female', 'Estimate!!HISPANIC OR LATINO AND RACE!!Total population!!Hispanic or Latino (of any race)!!Other Hispanic or Latino', 'Margin of Error!!SEX AND AGE!!Total population!!Female', 'Percent Margin of Error!!HISPANIC OR LATINO AND RACE!!Total population!!Hispanic or Latino (of any race)', 'Margin of Error!!CITIZEN, VOTING AGE POPULATION!!Citizen, 18 and over population', 'Percent Margin of Error!!RACE!!Total population!!Two or more races', 'Estimate!!SEX AND AGE!!Total population!!Male', 'Percent Margin of Error!!HISPANIC OR LATINO AND RACE!!Total population!!Not Hispanic or Latino!!Two or more races!!Two races excluding Some other race, and Three or more races', 'Estimate!!RACE!!Total population!!One race', 'Estimate!!HISPANIC OR LATINO AND RACE!!Total population!!Not Hispanic or Latino!!Two or more races!!Two races excluding Some other race, and Three or more races', 'Percent Margin of Error!!RACE!!Total population!!One race', 'Estimate!!HISPANIC OR LATINO AND RACE!!Total population', 'Margin of Error!!HISPANIC OR LATINO AND RACE!!Total population!!Not Hispanic or Latino!!Black or African American alone', 'Margin of Error!!HISPANIC OR LATINO AND RACE!!Total population!!Hispanic or Latino (of any race)!!Mexican', 'Margin of Error!!HISPANIC OR LATINO AND RACE!!Total population!!Not Hispanic or Latino!!Two or more races!!Two races excluding Some other race, and Three or more races', 'Estimate!!Total housing units', 'Margin of Error!!HISPANIC OR LATINO AND RACE!!Total population!!Not Hispanic or Latino!!White alone', 'Percent Margin of Error!!HISPANIC OR LATINO AND RACE!!Total population!!Not Hispanic or Latino!!Black or African American alone', 'Percent Margin of Error!!SEX AND AGE!!Total population', 'Percent Margin of Error!!CITIZEN, VOTING AGE POPULATION!!Citizen, 18 and over population', 'Margin of Error!!HISPANIC OR LATINO AND RACE!!Total population', 'Percent Margin of Error!!HISPANIC OR LATINO AND RACE!!Total population!!Not Hispanic or Latino!!White alone', 'Percent Margin of Error!!HISPANIC OR LATINO AND RACE!!Total population!!Not Hispanic or Latino!!Two or more races', 'Percent Margin of Error!!RACE!!Total population', 'Estimate!!HISPANIC OR LATINO AND RACE!!Total population!!Not Hispanic or Latino!!Two or more races', 'Estimate!!HISPANIC OR LATINO AND RACE!!Total population!!Not Hispanic or Latino!!White alone', 'Margin of Error!!SEX AND AGE!!Total population', 'Estimate!!HISPANIC OR LATINO AND RACE!!Total population!!Hispanic or Latino (of any race)!!Cuban', 'Estimate!!CITIZEN, VOTING AGE POPULATION!!Citizen, 18 and over population!!Female', 'Estimate!!HISPANIC OR LATINO AND RACE!!Total population!!Not Hispanic or Latino!!Asian alone', 'Estimate!!SEX AND AGE!!Total population!!Female']\n",
            "\n",
            "2019\n",
            "['Margin of Error!!RACE!!Total population!!One race!!White', 'Estimate!!HISPANIC OR LATINO AND RACE!!Total population!!Not Hispanic or Latino', 'Estimate!!RACE!!Total population!!One race!!Native Hawaiian and Other Pacific Islander!!Other Pacific Islander', 'Estimate!!CITIZEN, VOTING AGE POPULATION!!Citizen, 18 and over population', 'Percent Margin of Error!!Total housing units', 'Estimate!!RACE!!Total population!!One race!!Asian!!Other Asian', 'Margin of Error!!SEX AND AGE!!Total population!!10 to 14 years', 'Estimate!!RACE!!Total population!!One race!!Native Hawaiian and Other Pacific Islander!!Native Hawaiian', 'Percent Margin of Error!!RACE!!Total population!!One race!!Some other race', 'Percent Margin of Error!!HISPANIC OR LATINO AND RACE!!Total population!!Not Hispanic or Latino!!Two or more races!!Two races including Some other race', 'Margin of Error!!RACE!!Total population!!One race!!American Indian and Alaska Native!!Navajo tribal grouping', 'Margin of Error!!RACE!!Total population!!One race!!American Indian and Alaska Native', 'Percent Margin of Error!!SEX AND AGE!!Total population!!Under 5 years', 'Percent Margin of Error!!SEX AND AGE!!Total population!!45 to 54 years', 'Percent Margin of Error!!RACE!!Total population!!One race!!American Indian and Alaska Native!!Sioux tribal grouping', 'Margin of Error!!RACE!!Total population!!One race!!Some other race', 'Estimate!!SEX AND AGE!!Total population!!Under 18 years', 'Percent!!HISPANIC OR LATINO AND RACE!!Total population!!Hispanic or Latino (of any race)!!Puerto Rican', 'Percent Margin of Error!!SEX AND AGE!!Total population!!18 years and over', 'Percent Margin of Error!!RACE!!Total population!!One race!!Native Hawaiian and Other Pacific Islander!!Other Pacific Islander', 'Margin of Error!!Race alone or in combination with one or more other races!!Total population', 'Percent Margin of Error!!CITIZEN, VOTING AGE POPULATION!!Citizen, 18 and over population!!Male', 'Estimate!!SEX AND AGE!!Total population!!18 years and over!!Male', 'Margin of Error!!SEX AND AGE!!Total population!!Under 18 years', 'Margin of Error!!SEX AND AGE!!Total population!!65 years and over!!Female', 'Percent Margin of Error!!SEX AND AGE!!Total population!!10 to 14 years', 'Percent Margin of Error!!SEX AND AGE!!Total population!!25 to 34 years', 'Margin of Error!!SEX AND AGE!!Total population!!Median age (years)', 'Margin of Error!!CITIZEN, VOTING AGE POPULATION!!Citizen, 18 and over population!!Female', 'Percent!!HISPANIC OR LATINO AND RACE!!Total population!!Hispanic or Latino (of any race)', 'Margin of Error!!SEX AND AGE!!Total population!!75 to 84 years', 'Estimate!!Race alone or in combination with one or more other races!!Total population', 'Percent Margin of Error!!HISPANIC OR LATINO AND RACE!!Total population!!Hispanic or Latino (of any race)!!Mexican', 'Estimate!!Race alone or in combination with one or more other races!!Total population!!Some other race', 'Estimate!!HISPANIC OR LATINO AND RACE!!Total population!!Not Hispanic or Latino!!Black or African American alone', 'Percent Margin of Error!!SEX AND AGE!!Total population!!Sex ratio (males per 100 females)', 'Estimate!!RACE!!Total population!!Two or more races!!White and American Indian and Alaska Native', 'Estimate!!RACE!!Total population!!One race!!American Indian and Alaska Native!!Navajo tribal grouping', 'Estimate!!SEX AND AGE!!Total population!!16 years and over', 'Percent Margin of Error!!SEX AND AGE!!Total population!!21 years and over', 'Margin of Error!!RACE!!Total population!!One race!!Native Hawaiian and Other Pacific Islander!!Native Hawaiian', 'Margin of Error!!SEX AND AGE!!Total population!!Sex ratio (males per 100 females)', 'Estimate!!SEX AND AGE!!Total population!!65 years and over', 'Estimate!!SEX AND AGE!!Total population!!Sex ratio (males per 100 females)', 'Percent Margin of Error!!RACE!!Total population!!One race!!Native Hawaiian and Other Pacific Islander', 'Percent Margin of Error!!Race alone or in combination with one or more other races!!Total population!!Some other race', 'Margin of Error!!RACE!!Total population!!One race!!Native Hawaiian and Other Pacific Islander!!Samoan', 'Percent Margin of Error!!SEX AND AGE!!Total population!!18 years and over!!Male', 'Margin of Error!!SEX AND AGE!!Total population!!20 to 24 years', 'Margin of Error!!SEX AND AGE!!Total population!!18 years and over!!Male', 'Percent Margin of Error!!RACE!!Total population!!One race!!American Indian and Alaska Native!!Chippewa tribal grouping', 'Estimate!!HISPANIC OR LATINO AND RACE!!Total population!!Not Hispanic or Latino!!Some other race alone', 'Margin of Error!!SEX AND AGE!!Total population!!62 years and over', 'Estimate!!RACE!!Total population!!Two or more races', 'Estimate!!SEX AND AGE!!Total population!!25 to 34 years', 'Estimate!!SEX AND AGE!!Total population!!Under 5 years', 'Margin of Error!!HISPANIC OR LATINO AND RACE!!Total population!!Hispanic or Latino (of any race)!!Puerto Rican', 'Estimate!!SEX AND AGE!!Total population!!10 to 14 years', 'Percent Margin of Error!!RACE!!Total population!!One race!!Native Hawaiian and Other Pacific Islander!!Native Hawaiian', 'Percent Margin of Error!!RACE!!Total population!!One race!!Asian!!Vietnamese', 'Percent!!HISPANIC OR LATINO AND RACE!!Total population!!Hispanic or Latino (of any race)!!Mexican', 'Estimate!!HISPANIC OR LATINO AND RACE!!Total population!!Not Hispanic or Latino!!Two or more races!!Two races including Some other race', 'Geography', 'Margin of Error!!HISPANIC OR LATINO AND RACE!!Total population!!Hispanic or Latino (of any race)!!Cuban', 'Margin of Error!!RACE!!Total population!!One race!!American Indian and Alaska Native!!Cherokee tribal grouping', 'Percent Margin of Error!!SEX AND AGE!!Total population!!62 years and over', 'Estimate!!SEX AND AGE!!Total population!!18 years and over', 'Percent Margin of Error!!RACE!!Total population!!One race!!Asian!!Korean', 'Percent Margin of Error!!SEX AND AGE!!Total population!!16 years and over', 'Estimate!!Race alone or in combination with one or more other races!!Total population!!Native Hawaiian and Other Pacific Islander', 'Percent Margin of Error!!Race alone or in combination with one or more other races!!Total population!!Black or African American', 'Margin of Error!!SEX AND AGE!!Total population!!5 to 9 years', 'Estimate!!RACE!!Total population!!Two or more races!!Black or African American and American Indian and Alaska Native', 'Percent Margin of Error!!HISPANIC OR LATINO AND RACE!!Total population!!Not Hispanic or Latino', 'Margin of Error!!HISPANIC OR LATINO AND RACE!!Total population!!Not Hispanic or Latino!!Asian alone', 'Estimate!!SEX AND AGE!!Total population!!65 years and over!!Female', 'Margin of Error!!Race alone or in combination with one or more other races!!Total population!!Black or African American', 'Margin of Error!!RACE!!Total population!!One race', 'Estimate!!SEX AND AGE!!Total population!!18 years and over!!Female', 'Estimate!!SEX AND AGE!!Total population!!21 years and over', 'Percent Margin of Error!!HISPANIC OR LATINO AND RACE!!Total population!!Hispanic or Latino (of any race)!!Cuban', 'Estimate!!SEX AND AGE!!Total population!!65 years and over!!Male', 'Estimate!!RACE!!Total population!!One race!!American Indian and Alaska Native!!Sioux tribal grouping', 'Margin of Error!!HISPANIC OR LATINO AND RACE!!Total population!!Not Hispanic or Latino!!Some other race alone', 'Percent!!SEX AND AGE!!Total population', 'Percent!!CITIZEN, VOTING AGE POPULATION!!Citizen, 18 and over population!!Male', 'Margin of Error!!RACE!!Total population!!Two or more races!!White and Asian', 'Estimate!!Race alone or in combination with one or more other races!!Total population!!White', 'Percent Margin of Error!!RACE!!Total population!!Two or more races!!Black or African American and American Indian and Alaska Native', 'Percent Margin of Error!!RACE!!Total population!!One race!!Asian!!Asian Indian', 'Estimate!!SEX AND AGE!!Total population!!15 to 19 years', 'Percent Margin of Error!!RACE!!Total population!!One race!!Native Hawaiian and Other Pacific Islander!!Samoan', 'Estimate!!SEX AND AGE!!Total population!!55 to 59 years', 'Margin of Error!!HISPANIC OR LATINO AND RACE!!Total population!!Not Hispanic or Latino!!American Indian and Alaska Native alone', 'Geographic Area Name', 'Estimate!!RACE!!Total population!!One race!!Asian!!Chinese', 'Estimate!!HISPANIC OR LATINO AND RACE!!Total population!!Not Hispanic or Latino!!Native Hawaiian and Other Pacific Islander alone', 'Percent!!HISPANIC OR LATINO AND RACE!!Total population!!Not Hispanic or Latino!!Asian alone', 'Percent Margin of Error!!SEX AND AGE!!Total population!!5 to 9 years', 'Percent!!HISPANIC OR LATINO AND RACE!!Total population!!Not Hispanic or Latino!!Two or more races!!Two races excluding Some other race, and Three or more races', 'Estimate!!RACE!!Total population!!One race!!White', 'Percent Margin of Error!!RACE!!Total population!!One race!!American Indian and Alaska Native!!Cherokee tribal grouping', 'Estimate!!RACE!!Total population!!One race!!Native Hawaiian and Other Pacific Islander', 'Percent Margin of Error!!HISPANIC OR LATINO AND RACE!!Total population', 'Percent Margin of Error!!RACE!!Total population!!One race!!American Indian and Alaska Native!!Navajo tribal grouping', 'Margin of Error!!SEX AND AGE!!Total population!!Under 5 years', 'Percent Margin of Error!!SEX AND AGE!!Total population!!60 to 64 years', 'Margin of Error!!SEX AND AGE!!Total population!!18 years and over!!Sex ratio (males per 100 females)', 'Estimate!!HISPANIC OR LATINO AND RACE!!Total population!!Hispanic or Latino (of any race)', 'Margin of Error!!SEX AND AGE!!Total population!!16 years and over', 'Margin of Error!!RACE!!Total population!!One race!!Asian!!Asian Indian', 'Margin of Error!!Total housing units', 'Percent Margin of Error!!Race alone or in combination with one or more other races!!Total population!!White', 'Percent!!SEX AND AGE!!Total population!!Sex ratio (males per 100 females)', 'Percent Margin of Error!!HISPANIC OR LATINO AND RACE!!Total population!!Hispanic or Latino (of any race)!!Other Hispanic or Latino', 'Margin of Error!!HISPANIC OR LATINO AND RACE!!Total population!!Not Hispanic or Latino!!Two or more races', 'Percent Margin of Error!!SEX AND AGE!!Total population!!35 to 44 years', 'Percent!!HISPANIC OR LATINO AND RACE!!Total population!!Not Hispanic or Latino!!Two or more races', 'Percent!!HISPANIC OR LATINO AND RACE!!Total population!!Hispanic or Latino (of any race)!!Cuban', 'Percent Margin of Error!!HISPANIC OR LATINO AND RACE!!Total population!!Hispanic or Latino (of any race)!!Puerto Rican', 'Margin of Error!!RACE!!Total population!!One race!!Asian', 'Percent Margin of Error!!RACE!!Total population!!Two or more races!!White and American Indian and Alaska Native', 'Estimate!!SEX AND AGE!!Total population!!20 to 24 years', 'Estimate!!HISPANIC OR LATINO AND RACE!!Total population!!Hispanic or Latino (of any race)!!Mexican', 'Margin of Error!!RACE!!Total population!!One race!!Asian!!Filipino', 'Percent Margin of Error!!RACE!!Total population!!One race!!Asian!!Filipino', 'Percent Margin of Error!!SEX AND AGE!!Total population!!Female', 'Margin of Error!!Race alone or in combination with one or more other races!!Total population!!Native Hawaiian and Other Pacific Islander', 'Margin of Error!!SEX AND AGE!!Total population!!18 years and over!!Female', 'Estimate!!RACE!!Total population!!One race!!Asian', 'Percent Margin of Error!!RACE!!Total population!!One race!!Asian!!Chinese', 'Percent Margin of Error!!HISPANIC OR LATINO AND RACE!!Total population!!Not Hispanic or Latino!!Asian alone', 'Estimate!!SEX AND AGE!!Total population!!85 years and over', 'Percent Margin of Error!!SEX AND AGE!!Total population!!15 to 19 years', 'Margin of Error!!RACE!!Total population!!Two or more races!!White and American Indian and Alaska Native', 'Percent!!SEX AND AGE!!Total population!!Female', 'Percent!!HISPANIC OR LATINO AND RACE!!Total population!!Not Hispanic or Latino!!Some other race alone', 'Margin of Error!!RACE!!Total population!!One race!!Black or African American', 'Percent!!Total housing units', 'Estimate!!RACE!!Total population!!One race!!Some other race', 'Estimate!!HISPANIC OR LATINO AND RACE!!Total population!!Not Hispanic or Latino!!American Indian and Alaska Native alone', 'Estimate!!RACE!!Total population!!One race!!American Indian and Alaska Native!!Chippewa tribal grouping', 'Estimate!!RACE!!Total population!!Two or more races!!White and Black or African American', 'Percent Margin of Error!!RACE!!Total population!!Two or more races!!White and Black or African American', 'Estimate!!RACE!!Total population!!One race!!Asian!!Filipino', 'Percent Margin of Error!!SEX AND AGE!!Total population!!75 to 84 years', 'Estimate!!RACE!!Total population!!One race!!Asian!!Korean', 'Percent Margin of Error!!HISPANIC OR LATINO AND RACE!!Total population!!Not Hispanic or Latino!!Native Hawaiian and Other Pacific Islander alone', 'Margin of Error!!RACE!!Total population', 'Estimate!!HISPANIC OR LATINO AND RACE!!Total population!!Hispanic or Latino (of any race)!!Puerto Rican', 'Estimate!!RACE!!Total population!!One race!!Asian!!Asian Indian', 'Margin of Error!!Race alone or in combination with one or more other races!!Total population!!White', 'Margin of Error!!SEX AND AGE!!Total population!!18 years and over', 'Percent Margin of Error!!SEX AND AGE!!Total population!!Median age (years)', 'Margin of Error!!HISPANIC OR LATINO AND RACE!!Total population!!Not Hispanic or Latino', 'Estimate!!Race alone or in combination with one or more other races!!Total population!!Black or African American', 'Percent Margin of Error!!RACE!!Total population!!One race!!Asian!!Japanese', 'Percent Margin of Error!!SEX AND AGE!!Total population!!65 to 74 years', 'Percent Margin of Error!!SEX AND AGE!!Total population!!18 years and over!!Female', 'Estimate!!SEX AND AGE!!Total population!!45 to 54 years', 'Percent Margin of Error!!RACE!!Total population!!One race!!Asian!!Other Asian', 'Estimate!!SEX AND AGE!!Total population!!18 years and over!!Sex ratio (males per 100 females)', 'Margin of Error!!SEX AND AGE!!Total population!!15 to 19 years', 'Percent!!HISPANIC OR LATINO AND RACE!!Total population', 'Margin of Error!!RACE!!Total population!!One race!!Native Hawaiian and Other Pacific Islander!!Other Pacific Islander', 'Margin of Error!!Race alone or in combination with one or more other races!!Total population!!Some other race', 'Estimate!!RACE!!Total population!!One race!!Native Hawaiian and Other Pacific Islander!!Samoan', 'Estimate!!RACE!!Total population!!One race!!Asian!!Vietnamese', 'Percent Margin of Error!!SEX AND AGE!!Total population!!85 years and over', 'Percent!!CITIZEN, VOTING AGE POPULATION!!Citizen, 18 and over population!!Female', 'Margin of Error!!RACE!!Total population!!One race!!Asian!!Chinese', 'Percent!!SEX AND AGE!!Total population!!Male', 'Percent Margin of Error!!HISPANIC OR LATINO AND RACE!!Total population!!Not Hispanic or Latino!!Some other race alone', 'Margin of Error!!HISPANIC OR LATINO AND RACE!!Total population!!Not Hispanic or Latino!!Two or more races!!Two races including Some other race', 'Estimate!!CITIZEN, VOTING AGE POPULATION!!Citizen, 18 and over population!!Male', 'Percent Margin of Error!!SEX AND AGE!!Total population!!Male', 'Estimate!!SEX AND AGE!!Total population!!75 to 84 years', 'Margin of Error!!SEX AND AGE!!Total population!!45 to 54 years', 'Margin of Error!!SEX AND AGE!!Total population!!Male', 'Percent!!CITIZEN, VOTING AGE POPULATION!!Citizen, 18 and over population', 'Percent Margin of Error!!HISPANIC OR LATINO AND RACE!!Total population!!Not Hispanic or Latino!!American Indian and Alaska Native alone', 'Estimate!!SEX AND AGE!!Total population!!62 years and over', 'Percent Margin of Error!!SEX AND AGE!!Total population!!65 years and over!!Male', 'Estimate!!RACE!!Total population!!Two or more races!!White and Asian', 'Margin of Error!!SEX AND AGE!!Total population!!21 years and over', 'Margin of Error!!SEX AND AGE!!Total population!!65 years and over!!Sex ratio (males per 100 females)', 'Percent!!HISPANIC OR LATINO AND RACE!!Total population!!Hispanic or Latino (of any race)!!Other Hispanic or Latino', 'Estimate!!RACE!!Total population!!One race!!Native Hawaiian and Other Pacific Islander!!Guamanian or Chamorro', 'Percent Margin of Error!!SEX AND AGE!!Total population!!65 years and over!!Sex ratio (males per 100 females)', 'Percent Margin of Error!!SEX AND AGE!!Total population!!65 years and over!!Female', 'Percent!!RACE!!Total population', 'Margin of Error!!HISPANIC OR LATINO AND RACE!!Total population!!Hispanic or Latino (of any race)', 'Percent Margin of Error!!SEX AND AGE!!Total population!!18 years and over!!Sex ratio (males per 100 females)', 'year', 'Estimate!!RACE!!Total population', 'Estimate!!RACE!!Total population!!One race!!American Indian and Alaska Native!!Cherokee tribal grouping', 'Estimate!!SEX AND AGE!!Total population', 'Estimate!!Race alone or in combination with one or more other races!!Total population!!American Indian and Alaska Native', 'Margin of Error!!RACE!!Total population!!Two or more races!!Black or African American and American Indian and Alaska Native', 'Margin of Error!!SEX AND AGE!!Total population!!35 to 44 years', 'Margin of Error!!CITIZEN, VOTING AGE POPULATION!!Citizen, 18 and over population!!Male', 'Estimate!!Race alone or in combination with one or more other races!!Total population!!Asian', 'Margin of Error!!RACE!!Total population!!Two or more races', 'Margin of Error!!HISPANIC OR LATINO AND RACE!!Total population!!Hispanic or Latino (of any race)!!Other Hispanic or Latino', 'Margin of Error!!HISPANIC OR LATINO AND RACE!!Total population!!Not Hispanic or Latino!!Native Hawaiian and Other Pacific Islander alone', 'Percent!!HISPANIC OR LATINO AND RACE!!Total population!!Not Hispanic or Latino!!Native Hawaiian and Other Pacific Islander alone', 'Estimate!!RACE!!Total population!!One race!!American Indian and Alaska Native', 'Percent Margin of Error!!RACE!!Total population!!One race!!Black or African American', 'Percent Margin of Error!!Race alone or in combination with one or more other races!!Total population', 'Estimate!!SEX AND AGE!!Total population!!65 years and over!!Sex ratio (males per 100 females)', 'Margin of Error!!Race alone or in combination with one or more other races!!Total population!!Asian', 'Margin of Error!!SEX AND AGE!!Total population!!65 to 74 years', 'Percent!!HISPANIC OR LATINO AND RACE!!Total population!!Not Hispanic or Latino', 'Percent!!HISPANIC OR LATINO AND RACE!!Total population!!Not Hispanic or Latino!!American Indian and Alaska Native alone', 'Estimate!!HISPANIC OR LATINO AND RACE!!Total population!!Hispanic or Latino (of any race)!!Other Hispanic or Latino', 'Estimate!!RACE!!Total population!!One race!!Asian!!Japanese', 'Margin of Error!!SEX AND AGE!!Total population!!Female', 'Margin of Error!!CITIZEN, VOTING AGE POPULATION!!Citizen, 18 and over population', 'Percent Margin of Error!!HISPANIC OR LATINO AND RACE!!Total population!!Hispanic or Latino (of any race)', 'Percent Margin of Error!!RACE!!Total population!!Two or more races', 'Estimate!!SEX AND AGE!!Total population!!Male', 'Percent Margin of Error!!CITIZEN, VOTING AGE POPULATION!!Citizen, 18 and over population!!Female', 'Estimate!!SEX AND AGE!!Total population!!5 to 9 years', 'Percent!!RACE!!Total population!!One race', 'Margin of Error!!RACE!!Total population!!One race!!Native Hawaiian and Other Pacific Islander', 'Percent Margin of Error!!HISPANIC OR LATINO AND RACE!!Total population!!Not Hispanic or Latino!!Two or more races!!Two races excluding Some other race, and Three or more races', 'Margin of Error!!RACE!!Total population!!One race!!American Indian and Alaska Native!!Chippewa tribal grouping', 'Estimate!!RACE!!Total population!!One race', 'Percent Margin of Error!!RACE!!Total population!!One race!!Native Hawaiian and Other Pacific Islander!!Guamanian or Chamorro', 'Margin of Error!!SEX AND AGE!!Total population!!60 to 64 years', 'Margin of Error!!Race alone or in combination with one or more other races!!Total population!!American Indian and Alaska Native', 'Percent Margin of Error!!SEX AND AGE!!Total population!!Under 18 years', 'Percent Margin of Error!!RACE!!Total population!!One race!!Asian', 'Percent!!HISPANIC OR LATINO AND RACE!!Total population!!Not Hispanic or Latino!!Two or more races!!Two races including Some other race', 'Percent Margin of Error!!RACE!!Total population!!One race!!White', 'Estimate!!HISPANIC OR LATINO AND RACE!!Total population!!Not Hispanic or Latino!!Two or more races!!Two races excluding Some other race, and Three or more races', 'Percent Margin of Error!!RACE!!Total population!!One race', 'Margin of Error!!SEX AND AGE!!Total population!!55 to 59 years', 'Margin of Error!!RACE!!Total population!!One race!!Asian!!Korean', 'Margin of Error!!RACE!!Total population!!One race!!Asian!!Vietnamese', 'Percent Margin of Error!!RACE!!Total population!!One race!!American Indian and Alaska Native', 'Estimate!!HISPANIC OR LATINO AND RACE!!Total population', 'Margin of Error!!HISPANIC OR LATINO AND RACE!!Total population!!Not Hispanic or Latino!!Black or African American alone', 'Margin of Error!!HISPANIC OR LATINO AND RACE!!Total population!!Hispanic or Latino (of any race)!!Mexican', 'Margin of Error!!HISPANIC OR LATINO AND RACE!!Total population!!Not Hispanic or Latino!!Two or more races!!Two races excluding Some other race, and Three or more races', 'Margin of Error!!RACE!!Total population!!One race!!Asian!!Other Asian', 'Estimate!!SEX AND AGE!!Total population!!35 to 44 years', 'Margin of Error!!RACE!!Total population!!One race!!Native Hawaiian and Other Pacific Islander!!Guamanian or Chamorro', 'Estimate!!Total housing units', 'Margin of Error!!HISPANIC OR LATINO AND RACE!!Total population!!Not Hispanic or Latino!!White alone', 'Margin of Error!!SEX AND AGE!!Total population!!65 years and over!!Male', 'Percent Margin of Error!!HISPANIC OR LATINO AND RACE!!Total population!!Not Hispanic or Latino!!Black or African American alone', 'Percent Margin of Error!!SEX AND AGE!!Total population', 'Percent Margin of Error!!CITIZEN, VOTING AGE POPULATION!!Citizen, 18 and over population', 'Margin of Error!!SEX AND AGE!!Total population!!25 to 34 years', 'Margin of Error!!SEX AND AGE!!Total population!!65 years and over', 'Percent Margin of Error!!Race alone or in combination with one or more other races!!Total population!!American Indian and Alaska Native', 'Estimate!!RACE!!Total population!!One race!!Black or African American', 'Margin of Error!!HISPANIC OR LATINO AND RACE!!Total population', 'Percent Margin of Error!!HISPANIC OR LATINO AND RACE!!Total population!!Not Hispanic or Latino!!White alone', 'Percent Margin of Error!!HISPANIC OR LATINO AND RACE!!Total population!!Not Hispanic or Latino!!Two or more races', 'Margin of Error!!RACE!!Total population!!Two or more races!!White and Black or African American', 'Percent Margin of Error!!RACE!!Total population!!Two or more races!!White and Asian', 'Margin of Error!!RACE!!Total population!!One race!!Asian!!Japanese', 'Percent Margin of Error!!SEX AND AGE!!Total population!!55 to 59 years', 'Estimate!!HISPANIC OR LATINO AND RACE!!Total population!!Not Hispanic or Latino!!Two or more races', 'Percent Margin of Error!!RACE!!Total population', 'Estimate!!SEX AND AGE!!Total population!!60 to 64 years', 'Estimate!!HISPANIC OR LATINO AND RACE!!Total population!!Not Hispanic or Latino!!White alone', 'Estimate!!SEX AND AGE!!Total population!!Median age (years)', 'Percent!!HISPANIC OR LATINO AND RACE!!Total population!!Not Hispanic or Latino!!Black or African American alone', 'Estimate!!SEX AND AGE!!Total population!!65 to 74 years', 'Percent!!RACE!!Total population!!Two or more races', 'Percent Margin of Error!!Race alone or in combination with one or more other races!!Total population!!Asian', 'Percent Margin of Error!!SEX AND AGE!!Total population!!65 years and over', 'Percent Margin of Error!!Race alone or in combination with one or more other races!!Total population!!Native Hawaiian and Other Pacific Islander', 'Margin of Error!!SEX AND AGE!!Total population', 'Margin of Error!!SEX AND AGE!!Total population!!85 years and over', 'Percent!!HISPANIC OR LATINO AND RACE!!Total population!!Not Hispanic or Latino!!White alone', 'Estimate!!HISPANIC OR LATINO AND RACE!!Total population!!Hispanic or Latino (of any race)!!Cuban', 'Estimate!!CITIZEN, VOTING AGE POPULATION!!Citizen, 18 and over population!!Female', 'Percent Margin of Error!!SEX AND AGE!!Total population!!20 to 24 years', 'Margin of Error!!RACE!!Total population!!One race!!American Indian and Alaska Native!!Sioux tribal grouping', 'Estimate!!HISPANIC OR LATINO AND RACE!!Total population!!Not Hispanic or Latino!!Asian alone', 'Estimate!!SEX AND AGE!!Total population!!Female']\n",
            "\n",
            "2021\n",
            "['Estimate!!HISPANIC OR LATINO AND RACE!!Total population!!Not Hispanic or Latino', 'Estimate!!CITIZEN, VOTING AGE POPULATION!!Citizen, 18 and over population', 'Margin of Error!!SEX AND AGE!!Total population!!10 to 14 years', 'Margin of Error!!RACE!!Total population!!One race!!American Indian and Alaska Native!!Navajo tribal grouping', 'Margin of Error!!RACE!!Total population!!One race!!Some other race', 'Margin of Error!!Race alone or in combination with one or more other races!!Total population', 'Percent!!SEX AND AGE!!Total population!!45 to 54 years', 'Percent Margin of Error!!SEX AND AGE!!Total population!!10 to 14 years', 'Margin of Error!!CITIZEN, VOTING AGE POPULATION!!Citizen, 18 and over population!!Female', 'Percent!!SEX AND AGE!!Total population!!15 to 19 years', 'Margin of Error!!SEX AND AGE!!Total population!!18 years and over!!Male', 'Estimate!!HISPANIC OR LATINO AND RACE!!Total population!!Not Hispanic or Latino!!Some other race alone', 'Estimate!!SEX AND AGE!!Total population!!Under 5 years', 'Margin of Error!!HISPANIC OR LATINO AND RACE!!Total population!!Hispanic or Latino (of any race)!!Puerto Rican', 'Estimate!!SEX AND AGE!!Total population!!10 to 14 years', 'Percent Margin of Error!!RACE!!Total population!!One race!!Native Hawaiian and Other Pacific Islander!!Native Hawaiian', 'Margin of Error!!RACE!!Total population!!One race!!American Indian and Alaska Native!!Cherokee tribal grouping', 'Percent Margin of Error!!RACE!!Total population!!One race!!Asian!!Korean', 'Percent Margin of Error!!SEX AND AGE!!Total population!!16 years and over', 'Estimate!!Race alone or in combination with one or more other races!!Total population!!Native Hawaiian and Other Pacific Islander', 'Percent!!SEX AND AGE!!Total population!!65 years and over!!Male', 'Margin of Error!!SEX AND AGE!!Total population!!5 to 9 years', 'Percent Margin of Error!!HISPANIC OR LATINO AND RACE!!Total population!!Not Hispanic or Latino', 'Margin of Error!!RACE!!Total population!!One race', 'Estimate!!SEX AND AGE!!Total population!!21 years and over', 'Percent Margin of Error!!HISPANIC OR LATINO AND RACE!!Total population!!Hispanic or Latino (of any race)!!Cuban', 'Estimate!!HISPANIC OR LATINO AND RACE!!Total population!!Not Hispanic or Latino!!Native Hawaiian and Other Pacific Islander alone', 'Percent!!HISPANIC OR LATINO AND RACE!!Total population!!Not Hispanic or Latino!!Asian alone', 'Percent Margin of Error!!SEX AND AGE!!Total population!!5 to 9 years', 'Percent!!HISPANIC OR LATINO AND RACE!!Total population!!Not Hispanic or Latino!!Two or more races!!Two races excluding Some other race, and Three or more races', 'Estimate!!RACE!!Total population!!One race!!Native Hawaiian and Other Pacific Islander', 'Percent Margin of Error!!HISPANIC OR LATINO AND RACE!!Total population', 'Percent Margin of Error!!SEX AND AGE!!Total population!!60 to 64 years', 'Margin of Error!!RACE!!Total population!!One race!!Asian!!Asian Indian', 'Percent!!SEX AND AGE!!Total population!!Sex ratio (males per 100 females)', 'Percent Margin of Error!!SEX AND AGE!!Total population!!35 to 44 years', 'Percent!!RACE!!Total population!!One race!!Native Hawaiian and Other Pacific Islander!!Native Hawaiian', 'Percent!!HISPANIC OR LATINO AND RACE!!Total population!!Hispanic or Latino (of any race)!!Cuban', 'Percent!!RACE!!Total population!!One race!!Native Hawaiian and Other Pacific Islander!!Other Pacific Islander', 'Estimate!!RACE!!Total population!!One race!!Asian', 'Percent!!RACE!!Total population!!One race!!Native Hawaiian and Other Pacific Islander', 'Percent!!HISPANIC OR LATINO AND RACE!!Total population!!Not Hispanic or Latino!!Some other race alone', 'Estimate!!HISPANIC OR LATINO AND RACE!!Total population!!Not Hispanic or Latino!!American Indian and Alaska Native alone', 'Estimate!!RACE!!Total population!!One race!!American Indian and Alaska Native!!Chippewa tribal grouping', 'Margin of Error!!RACE!!Total population', 'Percent!!RACE!!Total population!!One race!!Asian!!Chinese', 'Percent Margin of Error!!RACE!!Total population!!One race!!Asian!!Japanese', 'Estimate!!SEX AND AGE!!Total population!!45 to 54 years', 'Estimate!!SEX AND AGE!!Total population!!18 years and over!!Sex ratio (males per 100 females)', 'Margin of Error!!Race alone or in combination with one or more other races!!Total population!!Some other race', 'Estimate!!RACE!!Total population!!One race!!Native Hawaiian and Other Pacific Islander!!Samoan', 'Percent!!SEX AND AGE!!Total population!!Male', 'Percent Margin of Error!!HISPANIC OR LATINO AND RACE!!Total population!!Not Hispanic or Latino!!Some other race alone', 'Margin of Error!!SEX AND AGE!!Total population!!45 to 54 years', 'Estimate!!RACE!!Total population!!Two or more races!!White and Asian', 'Margin of Error!!SEX AND AGE!!Total population!!65 years and over!!Sex ratio (males per 100 females)', 'Margin of Error!!HISPANIC OR LATINO AND RACE!!Total population!!Hispanic or Latino (of any race)!!Other Hispanic or Latino', 'Margin of Error!!HISPANIC OR LATINO AND RACE!!Total population!!Not Hispanic or Latino!!Native Hawaiian and Other Pacific Islander alone', 'Margin of Error!!SEX AND AGE!!Total population!!Female', 'Margin of Error!!CITIZEN, VOTING AGE POPULATION!!Citizen, 18 and over population', 'Percent!!SEX AND AGE!!Total population!!35 to 44 years', 'Percent!!SEX AND AGE!!Total population!!75 to 84 years', 'Percent!!SEX AND AGE!!Total population!!62 years and over', 'Percent!!RACE!!Total population!!One race!!Native Hawaiian and Other Pacific Islander!!Samoan', 'Margin of Error!!SEX AND AGE!!Total population!!60 to 64 years', 'Percent Margin of Error!!RACE!!Total population!!One race!!Asian', 'Percent!!HISPANIC OR LATINO AND RACE!!Total population!!Not Hispanic or Latino!!Two or more races!!Two races including Some other race', 'Percent Margin of Error!!RACE!!Total population!!One race!!White', 'Margin of Error!!RACE!!Total population!!One race!!Asian!!Vietnamese', 'Margin of Error!!HISPANIC OR LATINO AND RACE!!Total population!!Not Hispanic or Latino!!Black or African American alone', 'Estimate!!Total housing units', 'Percent Margin of Error!!HISPANIC OR LATINO AND RACE!!Total population!!Not Hispanic or Latino!!Black or African American alone', 'Percent Margin of Error!!Race alone or in combination with one or more other races!!Total population!!American Indian and Alaska Native', 'Estimate!!RACE!!Total population!!One race!!Black or African American', 'Percent Margin of Error!!HISPANIC OR LATINO AND RACE!!Total population!!Not Hispanic or Latino!!White alone', 'Margin of Error!!RACE!!Total population!!Two or more races!!White and Black or African American', 'Percent!!SEX AND AGE!!Total population!!5 to 9 years', 'Margin of Error!!RACE!!Total population!!One race!!Asian!!Japanese', 'Estimate!!HISPANIC OR LATINO AND RACE!!Total population!!Not Hispanic or Latino!!Two or more races', 'Percent!!HISPANIC OR LATINO AND RACE!!Total population!!Not Hispanic or Latino!!Black or African American alone', 'Margin of Error!!SEX AND AGE!!Total population', 'Percent!!HISPANIC OR LATINO AND RACE!!Total population!!Not Hispanic or Latino!!White alone', 'Margin of Error!!RACE!!Total population!!One race!!American Indian and Alaska Native!!Sioux tribal grouping', 'Estimate!!SEX AND AGE!!Total population!!Female', 'Estimate!!RACE!!Total population!!One race!!Native Hawaiian and Other Pacific Islander!!Other Pacific Islander', 'Estimate!!RACE!!Total population!!One race!!Asian!!Other Asian', 'Estimate!!RACE!!Total population!!One race!!Native Hawaiian and Other Pacific Islander!!Native Hawaiian', 'Percent Margin of Error!!RACE!!Total population!!One race!!Some other race', 'Margin of Error!!RACE!!Total population!!One race!!American Indian and Alaska Native', 'Percent Margin of Error!!SEX AND AGE!!Total population!!45 to 54 years', 'Percent Margin of Error!!RACE!!Total population!!One race!!Native Hawaiian and Other Pacific Islander!!Other Pacific Islander', 'Estimate!!SEX AND AGE!!Total population!!18 years and over!!Male', 'Percent!!HISPANIC OR LATINO AND RACE!!Total population!!Hispanic or Latino (of any race)', 'Percent!!RACE!!Total population!!One race!!American Indian and Alaska Native!!Chippewa tribal grouping', 'Estimate!!Race alone or in combination with one or more other races!!Total population', 'Percent!!RACE!!Total population!!Two or more races!!White and American Indian and Alaska Native', 'Estimate!!SEX AND AGE!!Total population!!65 years and over', 'Percent Margin of Error!!SEX AND AGE!!Total population!!18 years and over!!Male', 'Percent!!Race alone or in combination with one or more other races!!Total population!!Black or African American', 'Margin of Error!!HISPANIC OR LATINO AND RACE!!Total population!!Hispanic or Latino (of any race)!!Cuban', 'Percent Margin of Error!!SEX AND AGE!!Total population!!62 years and over', 'Estimate!!SEX AND AGE!!Total population!!18 years and over', 'Percent!!RACE!!Total population!!One race!!Asian', 'Estimate!!RACE!!Total population!!Two or more races!!Black or African American and American Indian and Alaska Native', 'Margin of Error!!HISPANIC OR LATINO AND RACE!!Total population!!Not Hispanic or Latino!!Asian alone', 'Estimate!!SEX AND AGE!!Total population!!65 years and over!!Female', 'Estimate!!SEX AND AGE!!Total population!!65 years and over!!Male', 'Estimate!!RACE!!Total population!!One race!!American Indian and Alaska Native!!Sioux tribal grouping', 'Percent!!CITIZEN, VOTING AGE POPULATION!!Citizen, 18 and over population!!Male', 'Estimate!!SEX AND AGE!!Total population!!15 to 19 years', 'Estimate!!SEX AND AGE!!Total population!!55 to 59 years', 'Geographic Area Name', 'Estimate!!RACE!!Total population!!One race!!White', 'Percent!!SEX AND AGE!!Total population!!18 years and over!!Female', 'Margin of Error!!SEX AND AGE!!Total population!!18 years and over!!Sex ratio (males per 100 females)', 'Margin of Error!!SEX AND AGE!!Total population!!16 years and over', 'Margin of Error!!HISPANIC OR LATINO AND RACE!!Total population!!Not Hispanic or Latino!!Two or more races', 'Percent!!HISPANIC OR LATINO AND RACE!!Total population!!Not Hispanic or Latino!!Two or more races', 'Estimate!!SEX AND AGE!!Total population!!20 to 24 years', 'Estimate!!HISPANIC OR LATINO AND RACE!!Total population!!Hispanic or Latino (of any race)!!Mexican', 'Margin of Error!!RACE!!Total population!!One race!!Asian!!Filipino', 'Percent!!RACE!!Total population!!One race!!Some other race', 'Percent Margin of Error!!SEX AND AGE!!Total population!!Female', 'Percent Margin of Error!!RACE!!Total population!!One race!!Asian!!Chinese', 'Estimate!!SEX AND AGE!!Total population!!85 years and over', 'Margin of Error!!RACE!!Total population!!One race!!Black or African American', 'Percent!!RACE!!Total population!!One race!!Asian!!Other Asian', 'Estimate!!RACE!!Total population!!One race!!Asian!!Filipino', 'Estimate!!RACE!!Total population!!One race!!Asian!!Korean', 'Percent Margin of Error!!HISPANIC OR LATINO AND RACE!!Total population!!Not Hispanic or Latino!!Native Hawaiian and Other Pacific Islander alone', 'Percent!!SEX AND AGE!!Total population!!16 years and over', 'Estimate!!RACE!!Total population!!One race!!Asian!!Asian Indian', 'Margin of Error!!Race alone or in combination with one or more other races!!Total population!!White', 'Percent!!Race alone or in combination with one or more other races!!Total population!!American Indian and Alaska Native', 'Margin of Error!!SEX AND AGE!!Total population!!18 years and over', 'Margin of Error!!SEX AND AGE!!Total population!!15 to 19 years', 'Percent!!Race alone or in combination with one or more other races!!Total population', 'Percent Margin of Error!!SEX AND AGE!!Total population!!85 years and over', 'Percent!!SEX AND AGE!!Total population!!85 years and over', 'Estimate!!SEX AND AGE!!Total population!!75 to 84 years', 'Margin of Error!!SEX AND AGE!!Total population!!21 years and over', 'Percent!!HISPANIC OR LATINO AND RACE!!Total population!!Hispanic or Latino (of any race)!!Other Hispanic or Latino', 'Margin of Error!!HISPANIC OR LATINO AND RACE!!Total population!!Hispanic or Latino (of any race)', 'Percent Margin of Error!!SEX AND AGE!!Total population!!18 years and over!!Sex ratio (males per 100 females)', 'Estimate!!RACE!!Total population!!One race!!American Indian and Alaska Native!!Cherokee tribal grouping', 'Margin of Error!!RACE!!Total population!!Two or more races!!Black or African American and American Indian and Alaska Native', 'Percent!!RACE!!Total population!!One race!!American Indian and Alaska Native', 'Percent!!RACE!!Total population!!One race!!American Indian and Alaska Native!!Sioux tribal grouping', 'Margin of Error!!SEX AND AGE!!Total population!!35 to 44 years', 'Estimate!!Race alone or in combination with one or more other races!!Total population!!Asian', 'Estimate!!RACE!!Total population!!One race!!American Indian and Alaska Native', 'Percent Margin of Error!!Race alone or in combination with one or more other races!!Total population', 'Margin of Error!!SEX AND AGE!!Total population!!65 to 74 years', 'Estimate!!RACE!!Total population!!One race!!Asian!!Japanese', 'Percent Margin of Error!!HISPANIC OR LATINO AND RACE!!Total population!!Hispanic or Latino (of any race)', 'Percent Margin of Error!!RACE!!Total population!!Two or more races', 'Estimate!!RACE!!Total population!!One race', 'Percent!!SEX AND AGE!!Total population!!Under 5 years', 'Margin of Error!!RACE!!Total population!!One race!!Asian!!Korean', 'Percent Margin of Error!!RACE!!Total population!!One race!!American Indian and Alaska Native', 'Margin of Error!!HISPANIC OR LATINO AND RACE!!Total population!!Hispanic or Latino (of any race)!!Mexican', 'Margin of Error!!HISPANIC OR LATINO AND RACE!!Total population!!Not Hispanic or Latino!!Two or more races!!Two races excluding Some other race, and Three or more races', 'Percent Margin of Error!!SEX AND AGE!!Total population', 'Percent Margin of Error!!CITIZEN, VOTING AGE POPULATION!!Citizen, 18 and over population', 'Percent!!SEX AND AGE!!Total population!!18 years and over!!Male', 'Estimate!!SEX AND AGE!!Total population!!Median age (years)', 'Percent!!RACE!!Total population!!Two or more races', 'Percent Margin of Error!!Race alone or in combination with one or more other races!!Total population!!Native Hawaiian and Other Pacific Islander', 'Percent!!RACE!!Total population!!Two or more races!!Black or African American and American Indian and Alaska Native', 'Margin of Error!!RACE!!Total population!!One race!!White', 'Percent Margin of Error!!Total housing units', 'Percent!!RACE!!Total population!!One race!!Asian!!Japanese', 'Percent Margin of Error!!RACE!!Total population!!One race!!American Indian and Alaska Native!!Sioux tribal grouping', 'Percent!!SEX AND AGE!!Total population!!55 to 59 years', 'Percent!!HISPANIC OR LATINO AND RACE!!Total population!!Hispanic or Latino (of any race)!!Puerto Rican', 'Percent Margin of Error!!CITIZEN, VOTING AGE POPULATION!!Citizen, 18 and over population!!Male', 'Margin of Error!!SEX AND AGE!!Total population!!Under 18 years', 'Margin of Error!!SEX AND AGE!!Total population!!65 years and over!!Female', 'Margin of Error!!SEX AND AGE!!Total population!!Median age (years)', 'Percent Margin of Error!!HISPANIC OR LATINO AND RACE!!Total population!!Hispanic or Latino (of any race)!!Mexican', 'Percent!!RACE!!Total population!!Two or more races!!White and Asian', 'Percent Margin of Error!!SEX AND AGE!!Total population!!Sex ratio (males per 100 females)', 'Estimate!!RACE!!Total population!!Two or more races!!White and American Indian and Alaska Native', 'Estimate!!RACE!!Total population!!One race!!American Indian and Alaska Native!!Navajo tribal grouping', 'Estimate!!SEX AND AGE!!Total population!!16 years and over', 'Percent!!RACE!!Total population!!One race!!Asian!!Asian Indian', 'Margin of Error!!SEX AND AGE!!Total population!!Sex ratio (males per 100 females)', 'Estimate!!SEX AND AGE!!Total population!!Sex ratio (males per 100 females)', 'Margin of Error!!RACE!!Total population!!One race!!Native Hawaiian and Other Pacific Islander!!Samoan', 'Margin of Error!!SEX AND AGE!!Total population!!20 to 24 years', 'Percent Margin of Error!!RACE!!Total population!!One race!!American Indian and Alaska Native!!Chippewa tribal grouping', 'Margin of Error!!SEX AND AGE!!Total population!!62 years and over', 'Estimate!!RACE!!Total population!!Two or more races', 'Percent!!SEX AND AGE!!Total population!!18 years and over!!Sex ratio (males per 100 females)', 'Estimate!!HISPANIC OR LATINO AND RACE!!Total population!!Not Hispanic or Latino!!Two or more races!!Two races including Some other race', 'Percent!!RACE!!Total population!!One race!!Asian!!Filipino', 'Margin of Error!!Race alone or in combination with one or more other races!!Total population!!Black or African American', 'Percent!!SEX AND AGE!!Total population', 'Margin of Error!!RACE!!Total population!!Two or more races!!White and Asian', 'Estimate!!Race alone or in combination with one or more other races!!Total population!!White', 'Percent Margin of Error!!RACE!!Total population!!Two or more races!!Black or African American and American Indian and Alaska Native', 'Percent Margin of Error!!RACE!!Total population!!One race!!Asian!!Asian Indian', 'Percent Margin of Error!!RACE!!Total population!!One race!!Native Hawaiian and Other Pacific Islander!!Samoan', 'Percent!!Race alone or in combination with one or more other races!!Total population!!Asian', 'Margin of Error!!HISPANIC OR LATINO AND RACE!!Total population!!Not Hispanic or Latino!!American Indian and Alaska Native alone', 'Margin of Error!!SEX AND AGE!!Total population!!Under 5 years', 'Estimate!!HISPANIC OR LATINO AND RACE!!Total population!!Hispanic or Latino (of any race)', 'Margin of Error!!Total housing units', 'Percent Margin of Error!!Race alone or in combination with one or more other races!!Total population!!White', 'Percent!!RACE!!Total population!!One race!!White', 'Percent Margin of Error!!HISPANIC OR LATINO AND RACE!!Total population!!Hispanic or Latino (of any race)!!Puerto Rican', 'Margin of Error!!RACE!!Total population!!One race!!Asian', 'Percent!!Race alone or in combination with one or more other races!!Total population!!White', 'Margin of Error!!Race alone or in combination with one or more other races!!Total population!!Native Hawaiian and Other Pacific Islander', 'Percent Margin of Error!!HISPANIC OR LATINO AND RACE!!Total population!!Not Hispanic or Latino!!Asian alone', 'Percent Margin of Error!!SEX AND AGE!!Total population!!15 to 19 years', 'Percent!!SEX AND AGE!!Total population!!Female', 'Percent!!Total housing units', 'Estimate!!RACE!!Total population!!Two or more races!!White and Black or African American', 'Percent Margin of Error!!RACE!!Total population!!Two or more races!!White and Black or African American', 'Percent Margin of Error!!SEX AND AGE!!Total population!!75 to 84 years', 'Estimate!!HISPANIC OR LATINO AND RACE!!Total population!!Hispanic or Latino (of any race)!!Puerto Rican', 'Percent Margin of Error!!SEX AND AGE!!Total population!!Median age (years)', 'Margin of Error!!HISPANIC OR LATINO AND RACE!!Total population!!Not Hispanic or Latino', 'Percent Margin of Error!!RACE!!Total population!!One race!!Asian!!Other Asian', 'Percent!!CITIZEN, VOTING AGE POPULATION!!Citizen, 18 and over population!!Female', 'Margin of Error!!RACE!!Total population!!One race!!Asian!!Chinese', 'Margin of Error!!SEX AND AGE!!Total population!!Male', 'Estimate!!SEX AND AGE!!Total population!!62 years and over', 'Percent Margin of Error!!SEX AND AGE!!Total population!!65 years and over!!Female', 'Estimate!!SEX AND AGE!!Total population', 'Estimate!!Race alone or in combination with one or more other races!!Total population!!American Indian and Alaska Native', 'Percent!!HISPANIC OR LATINO AND RACE!!Total population!!Not Hispanic or Latino!!Native Hawaiian and Other Pacific Islander alone', 'Estimate!!SEX AND AGE!!Total population!!65 years and over!!Sex ratio (males per 100 females)', 'Estimate!!HISPANIC OR LATINO AND RACE!!Total population!!Hispanic or Latino (of any race)!!Other Hispanic or Latino', 'Estimate!!SEX AND AGE!!Total population!!Male', 'Percent!!RACE!!Total population!!One race', 'Percent!!Race alone or in combination with one or more other races!!Total population!!Native Hawaiian and Other Pacific Islander', 'Estimate!!HISPANIC OR LATINO AND RACE!!Total population!!Not Hispanic or Latino!!Two or more races!!Two races excluding Some other race, and Three or more races', 'Percent Margin of Error!!RACE!!Total population!!One race', 'Estimate!!HISPANIC OR LATINO AND RACE!!Total population', 'Margin of Error!!SEX AND AGE!!Total population!!65 years and over!!Male', 'Margin of Error!!SEX AND AGE!!Total population!!25 to 34 years', 'Margin of Error!!HISPANIC OR LATINO AND RACE!!Total population', 'Percent Margin of Error!!RACE!!Total population!!Two or more races!!White and Asian', 'Percent!!SEX AND AGE!!Total population!!18 years and over', 'Estimate!!SEX AND AGE!!Total population!!60 to 64 years', 'Percent!!SEX AND AGE!!Total population!!21 years and over', 'Percent Margin of Error!!Race alone or in combination with one or more other races!!Total population!!Asian', 'Percent Margin of Error!!SEX AND AGE!!Total population!!65 years and over', 'Percent Margin of Error!!SEX AND AGE!!Total population!!20 to 24 years', 'Estimate!!HISPANIC OR LATINO AND RACE!!Total population!!Not Hispanic or Latino!!Asian alone', 'Percent Margin of Error!!HISPANIC OR LATINO AND RACE!!Total population!!Not Hispanic or Latino!!Two or more races!!Two races including Some other race', 'Percent!!RACE!!Total population!!One race!!Asian!!Vietnamese', 'Percent Margin of Error!!SEX AND AGE!!Total population!!Under 5 years', 'Estimate!!SEX AND AGE!!Total population!!Under 18 years', 'Percent Margin of Error!!SEX AND AGE!!Total population!!18 years and over', 'Percent Margin of Error!!SEX AND AGE!!Total population!!25 to 34 years', 'Margin of Error!!SEX AND AGE!!Total population!!75 to 84 years', 'Percent!!RACE!!Total population!!Two or more races!!White and Black or African American', 'Estimate!!Race alone or in combination with one or more other races!!Total population!!Some other race', 'Estimate!!HISPANIC OR LATINO AND RACE!!Total population!!Not Hispanic or Latino!!Black or African American alone', 'Percent Margin of Error!!SEX AND AGE!!Total population!!21 years and over', 'Margin of Error!!RACE!!Total population!!One race!!Native Hawaiian and Other Pacific Islander!!Native Hawaiian', 'Percent Margin of Error!!RACE!!Total population!!One race!!Native Hawaiian and Other Pacific Islander', 'Percent Margin of Error!!Race alone or in combination with one or more other races!!Total population!!Some other race', 'Estimate!!SEX AND AGE!!Total population!!25 to 34 years', 'Percent Margin of Error!!RACE!!Total population!!One race!!Asian!!Vietnamese', 'Percent!!HISPANIC OR LATINO AND RACE!!Total population!!Hispanic or Latino (of any race)!!Mexican', 'Geography', 'Percent Margin of Error!!Race alone or in combination with one or more other races!!Total population!!Black or African American', 'Estimate!!SEX AND AGE!!Total population!!18 years and over!!Female', 'Margin of Error!!HISPANIC OR LATINO AND RACE!!Total population!!Not Hispanic or Latino!!Some other race alone', 'Estimate!!RACE!!Total population!!One race!!Asian!!Chinese', 'Percent Margin of Error!!RACE!!Total population!!One race!!American Indian and Alaska Native!!Cherokee tribal grouping', 'Percent Margin of Error!!RACE!!Total population!!One race!!American Indian and Alaska Native!!Navajo tribal grouping', 'Percent!!RACE!!Total population!!One race!!Asian!!Korean', 'Percent!!SEX AND AGE!!Total population!!65 to 74 years', 'Percent Margin of Error!!HISPANIC OR LATINO AND RACE!!Total population!!Hispanic or Latino (of any race)!!Other Hispanic or Latino', 'Percent Margin of Error!!RACE!!Total population!!Two or more races!!White and American Indian and Alaska Native', 'Percent Margin of Error!!RACE!!Total population!!One race!!Asian!!Filipino', 'Margin of Error!!SEX AND AGE!!Total population!!18 years and over!!Female', 'Margin of Error!!RACE!!Total population!!Two or more races!!White and American Indian and Alaska Native', 'Percent!!SEX AND AGE!!Total population!!10 to 14 years', 'Estimate!!RACE!!Total population!!One race!!Some other race', 'Percent!!SEX AND AGE!!Total population!!65 years and over', 'Percent!!RACE!!Total population!!One race!!American Indian and Alaska Native!!Navajo tribal grouping', 'Estimate!!Race alone or in combination with one or more other races!!Total population!!Black or African American', 'Percent Margin of Error!!SEX AND AGE!!Total population!!65 to 74 years', 'Percent Margin of Error!!SEX AND AGE!!Total population!!18 years and over!!Female', 'Percent!!SEX AND AGE!!Total population!!Under 18 years', 'Percent!!HISPANIC OR LATINO AND RACE!!Total population', 'Margin of Error!!RACE!!Total population!!One race!!Native Hawaiian and Other Pacific Islander!!Other Pacific Islander', 'Estimate!!RACE!!Total population!!One race!!Asian!!Vietnamese', 'Margin of Error!!HISPANIC OR LATINO AND RACE!!Total population!!Not Hispanic or Latino!!Two or more races!!Two races including Some other race', 'Estimate!!CITIZEN, VOTING AGE POPULATION!!Citizen, 18 and over population!!Male', 'Percent Margin of Error!!SEX AND AGE!!Total population!!Male', 'Percent!!CITIZEN, VOTING AGE POPULATION!!Citizen, 18 and over population', 'Percent Margin of Error!!HISPANIC OR LATINO AND RACE!!Total population!!Not Hispanic or Latino!!American Indian and Alaska Native alone', 'Percent Margin of Error!!SEX AND AGE!!Total population!!65 years and over!!Male', 'Percent!!SEX AND AGE!!Total population!!65 years and over!!Female', 'Percent!!RACE!!Total population!!One race!!Black or African American', 'Percent Margin of Error!!SEX AND AGE!!Total population!!65 years and over!!Sex ratio (males per 100 females)', 'Percent!!RACE!!Total population', 'year', 'Estimate!!RACE!!Total population', 'Margin of Error!!CITIZEN, VOTING AGE POPULATION!!Citizen, 18 and over population!!Male', 'Margin of Error!!RACE!!Total population!!Two or more races', 'Percent Margin of Error!!RACE!!Total population!!One race!!Black or African American', 'Margin of Error!!Race alone or in combination with one or more other races!!Total population!!Asian', 'Percent!!HISPANIC OR LATINO AND RACE!!Total population!!Not Hispanic or Latino', 'Percent!!HISPANIC OR LATINO AND RACE!!Total population!!Not Hispanic or Latino!!American Indian and Alaska Native alone', 'Percent Margin of Error!!CITIZEN, VOTING AGE POPULATION!!Citizen, 18 and over population!!Female', 'Estimate!!SEX AND AGE!!Total population!!5 to 9 years', 'Percent!!RACE!!Total population!!One race!!American Indian and Alaska Native!!Cherokee tribal grouping', 'Margin of Error!!RACE!!Total population!!One race!!Native Hawaiian and Other Pacific Islander', 'Percent Margin of Error!!HISPANIC OR LATINO AND RACE!!Total population!!Not Hispanic or Latino!!Two or more races!!Two races excluding Some other race, and Three or more races', 'Margin of Error!!RACE!!Total population!!One race!!American Indian and Alaska Native!!Chippewa tribal grouping', 'Margin of Error!!Race alone or in combination with one or more other races!!Total population!!American Indian and Alaska Native', 'Percent!!SEX AND AGE!!Total population!!20 to 24 years', 'Percent Margin of Error!!SEX AND AGE!!Total population!!Under 18 years', 'Percent!!SEX AND AGE!!Total population!!Median age (years)', 'Margin of Error!!SEX AND AGE!!Total population!!55 to 59 years', 'Margin of Error!!RACE!!Total population!!One race!!Asian!!Other Asian', 'Estimate!!SEX AND AGE!!Total population!!35 to 44 years', 'Margin of Error!!HISPANIC OR LATINO AND RACE!!Total population!!Not Hispanic or Latino!!White alone', 'Percent!!Race alone or in combination with one or more other races!!Total population!!Some other race', 'Margin of Error!!SEX AND AGE!!Total population!!65 years and over', 'Percent Margin of Error!!HISPANIC OR LATINO AND RACE!!Total population!!Not Hispanic or Latino!!Two or more races', 'Percent!!SEX AND AGE!!Total population!!60 to 64 years', 'Percent Margin of Error!!SEX AND AGE!!Total population!!55 to 59 years', 'Percent Margin of Error!!RACE!!Total population', 'Percent!!SEX AND AGE!!Total population!!65 years and over!!Sex ratio (males per 100 females)', 'Estimate!!HISPANIC OR LATINO AND RACE!!Total population!!Not Hispanic or Latino!!White alone', 'Estimate!!SEX AND AGE!!Total population!!65 to 74 years', 'Percent!!SEX AND AGE!!Total population!!25 to 34 years', 'Margin of Error!!SEX AND AGE!!Total population!!85 years and over', 'Estimate!!HISPANIC OR LATINO AND RACE!!Total population!!Hispanic or Latino (of any race)!!Cuban', 'Estimate!!CITIZEN, VOTING AGE POPULATION!!Citizen, 18 and over population!!Female']\n",
            "\n",
            "2022\n",
            "['Margin of Error!!RACE!!Total population!!One race!!White', 'Estimate!!HISPANIC OR LATINO AND RACE!!Total population!!Not Hispanic or Latino', 'Estimate!!CITIZEN, VOTING AGE POPULATION!!Citizen, 18 and over population', 'Percent Margin of Error!!Total housing units', 'Estimate!!RACE!!Total population!!One race!!Asian!!Other Asian', 'Margin of Error!!SEX AND AGE!!Total population!!10 to 14 years', 'Estimate!!RACE!!Total population!!One race!!Native Hawaiian and Other Pacific Islander!!Native Hawaiian', 'Percent!!RACE!!Total population!!One race!!Asian!!Japanese', 'Percent!!RACE!!Total population!!One race!!Asian!!Vietnamese', 'Margin of Error!!RACE!!Total population!!One race!!American Indian and Alaska Native!!Navajo tribal grouping', 'Margin of Error!!RACE!!Total population!!One race!!American Indian and Alaska Native', 'Percent Margin of Error!!SEX AND AGE!!Total population!!Under 5 years', 'Percent Margin of Error!!SEX AND AGE!!Total population!!45 to 54 years', 'Percent Margin of Error!!RACE!!Total population!!One race!!American Indian and Alaska Native!!Sioux tribal grouping', 'Margin of Error!!RACE!!Total population!!One race!!Native Hawaiian and Other Pacific Islander!!Chamorro', 'Estimate!!SEX AND AGE!!Total population!!Under 18 years', 'Percent!!SEX AND AGE!!Total population!!55 to 59 years', 'Percent!!HISPANIC OR LATINO AND RACE!!Total population!!Hispanic or Latino (of any race)!!Puerto Rican', 'Percent Margin of Error!!SEX AND AGE!!Total population!!18 years and over', 'Margin of Error!!Race alone or in combination with one or more other races!!Total population', 'Percent!!SEX AND AGE!!Total population!!45 to 54 years', 'Percent Margin of Error!!CITIZEN, VOTING AGE POPULATION!!Citizen, 18 and over population!!Male', 'Estimate!!SEX AND AGE!!Total population!!18 years and over!!Male', 'Margin of Error!!SEX AND AGE!!Total population!!Under 18 years', 'Margin of Error!!SEX AND AGE!!Total population!!65 years and over!!Female', 'Percent Margin of Error!!SEX AND AGE!!Total population!!10 to 14 years', 'Percent Margin of Error!!SEX AND AGE!!Total population!!25 to 34 years', 'Margin of Error!!SEX AND AGE!!Total population!!Median age (years)', 'Margin of Error!!CITIZEN, VOTING AGE POPULATION!!Citizen, 18 and over population!!Female', 'Percent!!SEX AND AGE!!Total population!!15 to 19 years', 'Percent!!HISPANIC OR LATINO AND RACE!!Total population!!Hispanic or Latino (of any race)', 'Percent!!RACE!!Total population!!One race!!American Indian and Alaska Native!!Chippewa tribal grouping', 'Estimate!!Race alone or in combination with one or more other races!!Total population', 'Percent Margin of Error!!HISPANIC OR LATINO AND RACE!!Total population!!Hispanic or Latino (of any race)!!Mexican', 'Margin of Error!!SEX AND AGE!!Total population!!75 to 84 years', 'Percent Margin of Error!!RACE!!Total population!!One race!!Native Hawaiian and Other Pacific Islander!!Chamorro', 'Estimate!!HISPANIC OR LATINO AND RACE!!Total population!!Not Hispanic or Latino!!Black or African American alone', 'Percent Margin of Error!!SEX AND AGE!!Total population!!Sex ratio (males per 100 females)', 'Percent Margin of Error!!SEX AND AGE!!Total population!!21 years and over', 'Estimate!!RACE!!Total population!!One race!!American Indian and Alaska Native!!Navajo tribal grouping', 'Estimate!!SEX AND AGE!!Total population!!16 years and over', 'Percent!!RACE!!Total population!!One race!!Asian!!Asian Indian', 'Margin of Error!!RACE!!Total population!!One race!!Native Hawaiian and Other Pacific Islander!!Native Hawaiian', 'Margin of Error!!SEX AND AGE!!Total population!!Sex ratio (males per 100 females)', 'Estimate!!SEX AND AGE!!Total population!!65 years and over', 'Estimate!!SEX AND AGE!!Total population!!Sex ratio (males per 100 females)', 'Percent Margin of Error!!RACE!!Total population!!One race!!Native Hawaiian and Other Pacific Islander', 'Margin of Error!!RACE!!Total population!!One race!!Native Hawaiian and Other Pacific Islander!!Samoan', 'Percent Margin of Error!!SEX AND AGE!!Total population!!18 years and over!!Male', 'Margin of Error!!SEX AND AGE!!Total population!!20 to 24 years', 'Percent!!Race alone or in combination with one or more other races!!Total population!!Black or African American', 'Margin of Error!!SEX AND AGE!!Total population!!18 years and over!!Male', 'Percent Margin of Error!!RACE!!Total population!!One race!!American Indian and Alaska Native!!Chippewa tribal grouping', 'Percent!!RACE!!Total population!!One race!!Native Hawaiian and Other Pacific Islander!!Chamorro', 'Margin of Error!!SEX AND AGE!!Total population!!62 years and over', 'Estimate!!SEX AND AGE!!Total population!!25 to 34 years', 'Estimate!!SEX AND AGE!!Total population!!Under 5 years', 'Margin of Error!!HISPANIC OR LATINO AND RACE!!Total population!!Hispanic or Latino (of any race)!!Puerto Rican', 'Estimate!!SEX AND AGE!!Total population!!10 to 14 years', 'Percent Margin of Error!!RACE!!Total population!!One race!!Native Hawaiian and Other Pacific Islander!!Native Hawaiian', 'Percent!!SEX AND AGE!!Total population!!18 years and over!!Sex ratio (males per 100 females)', 'Percent Margin of Error!!RACE!!Total population!!One race!!Asian!!Vietnamese', 'Percent!!HISPANIC OR LATINO AND RACE!!Total population!!Hispanic or Latino (of any race)!!Mexican', 'Geography', 'Margin of Error!!HISPANIC OR LATINO AND RACE!!Total population!!Hispanic or Latino (of any race)!!Cuban', 'Margin of Error!!RACE!!Total population!!One race!!American Indian and Alaska Native!!Cherokee tribal grouping', 'Percent Margin of Error!!SEX AND AGE!!Total population!!62 years and over', 'Estimate!!SEX AND AGE!!Total population!!18 years and over', 'Percent Margin of Error!!RACE!!Total population!!One race!!Asian!!Korean', 'Percent Margin of Error!!SEX AND AGE!!Total population!!16 years and over', 'Estimate!!Race alone or in combination with one or more other races!!Total population!!Native Hawaiian and Other Pacific Islander', 'Percent!!SEX AND AGE!!Total population!!65 years and over!!Male', 'Margin of Error!!SEX AND AGE!!Total population!!5 to 9 years', 'Percent!!RACE!!Total population!!One race!!Asian', 'Percent Margin of Error!!Race alone or in combination with one or more other races!!Total population!!Black or African American', 'Percent!!RACE!!Total population!!One race!!Asian!!Filipino', 'Margin of Error!!HISPANIC OR LATINO AND RACE!!Total population!!Not Hispanic or Latino!!Asian alone', 'Percent Margin of Error!!HISPANIC OR LATINO AND RACE!!Total population!!Not Hispanic or Latino', 'Margin of Error!!Race alone or in combination with one or more other races!!Total population!!Black or African American', 'Estimate!!SEX AND AGE!!Total population!!65 years and over!!Female', 'Estimate!!SEX AND AGE!!Total population!!18 years and over!!Female', 'Margin of Error!!RACE!!Total population!!One race', 'Estimate!!SEX AND AGE!!Total population!!21 years and over', 'Percent Margin of Error!!HISPANIC OR LATINO AND RACE!!Total population!!Hispanic or Latino (of any race)!!Cuban', 'Estimate!!SEX AND AGE!!Total population!!65 years and over!!Male', 'Estimate!!RACE!!Total population!!One race!!American Indian and Alaska Native!!Sioux tribal grouping', 'Percent!!SEX AND AGE!!Total population', 'Percent!!CITIZEN, VOTING AGE POPULATION!!Citizen, 18 and over population!!Male', 'Estimate!!Race alone or in combination with one or more other races!!Total population!!White', 'Percent Margin of Error!!RACE!!Total population!!One race!!Asian!!Asian Indian', 'Estimate!!SEX AND AGE!!Total population!!15 to 19 years', 'Percent Margin of Error!!RACE!!Total population!!One race!!Native Hawaiian and Other Pacific Islander!!Samoan', 'Percent!!Race alone or in combination with one or more other races!!Total population!!Asian', 'Estimate!!SEX AND AGE!!Total population!!55 to 59 years', 'Margin of Error!!HISPANIC OR LATINO AND RACE!!Total population!!Not Hispanic or Latino!!American Indian and Alaska Native alone', 'Geographic Area Name', 'Estimate!!RACE!!Total population!!One race!!Asian!!Chinese', 'Estimate!!HISPANIC OR LATINO AND RACE!!Total population!!Not Hispanic or Latino!!Native Hawaiian and Other Pacific Islander alone', 'Percent!!HISPANIC OR LATINO AND RACE!!Total population!!Not Hispanic or Latino!!Asian alone', 'Percent Margin of Error!!SEX AND AGE!!Total population!!5 to 9 years', 'Estimate!!RACE!!Total population!!One race!!White', 'Percent Margin of Error!!RACE!!Total population!!One race!!American Indian and Alaska Native!!Cherokee tribal grouping', 'Estimate!!RACE!!Total population!!One race!!Native Hawaiian and Other Pacific Islander', 'Percent Margin of Error!!HISPANIC OR LATINO AND RACE!!Total population', 'Percent Margin of Error!!RACE!!Total population!!One race!!American Indian and Alaska Native!!Navajo tribal grouping', 'Margin of Error!!SEX AND AGE!!Total population!!Under 5 years', 'Percent Margin of Error!!SEX AND AGE!!Total population!!60 to 64 years', 'Percent!!SEX AND AGE!!Total population!!18 years and over!!Female', 'Percent!!RACE!!Total population!!One race!!Asian!!Korean', 'Margin of Error!!SEX AND AGE!!Total population!!18 years and over!!Sex ratio (males per 100 females)', 'Estimate!!HISPANIC OR LATINO AND RACE!!Total population!!Hispanic or Latino (of any race)', 'Margin of Error!!SEX AND AGE!!Total population!!16 years and over', 'Margin of Error!!RACE!!Total population!!One race!!Asian!!Asian Indian', 'Percent!!SEX AND AGE!!Total population!!65 to 74 years', 'Margin of Error!!Total housing units', 'Percent Margin of Error!!Race alone or in combination with one or more other races!!Total population!!White', 'Percent!!SEX AND AGE!!Total population!!Sex ratio (males per 100 females)', 'Percent!!RACE!!Total population!!One race!!White', 'Percent Margin of Error!!HISPANIC OR LATINO AND RACE!!Total population!!Hispanic or Latino (of any race)!!Other Hispanic or Latino', 'Percent Margin of Error!!SEX AND AGE!!Total population!!35 to 44 years', 'Percent!!RACE!!Total population!!One race!!Native Hawaiian and Other Pacific Islander!!Native Hawaiian', 'Percent!!HISPANIC OR LATINO AND RACE!!Total population!!Hispanic or Latino (of any race)!!Cuban', 'Percent Margin of Error!!HISPANIC OR LATINO AND RACE!!Total population!!Hispanic or Latino (of any race)!!Puerto Rican', 'Margin of Error!!RACE!!Total population!!One race!!Asian', 'Estimate!!SEX AND AGE!!Total population!!20 to 24 years', 'Estimate!!HISPANIC OR LATINO AND RACE!!Total population!!Hispanic or Latino (of any race)!!Mexican', 'Margin of Error!!RACE!!Total population!!One race!!Asian!!Filipino', 'Percent Margin of Error!!RACE!!Total population!!One race!!Asian!!Filipino', 'Percent!!Race alone or in combination with one or more other races!!Total population!!White', 'Percent Margin of Error!!SEX AND AGE!!Total population!!Female', 'Margin of Error!!Race alone or in combination with one or more other races!!Total population!!Native Hawaiian and Other Pacific Islander', 'Margin of Error!!SEX AND AGE!!Total population!!18 years and over!!Female', 'Estimate!!RACE!!Total population!!One race!!Asian', 'Percent!!RACE!!Total population!!One race!!Native Hawaiian and Other Pacific Islander', 'Percent Margin of Error!!RACE!!Total population!!One race!!Asian!!Chinese', 'Estimate!!SEX AND AGE!!Total population!!85 years and over', 'Percent Margin of Error!!HISPANIC OR LATINO AND RACE!!Total population!!Not Hispanic or Latino!!Asian alone', 'Percent Margin of Error!!SEX AND AGE!!Total population!!15 to 19 years', 'Percent!!SEX AND AGE!!Total population!!Female', 'Percent!!SEX AND AGE!!Total population!!10 to 14 years', 'Margin of Error!!RACE!!Total population!!One race!!Black or African American', 'Percent!!Total housing units', 'Percent!!RACE!!Total population!!One race!!Asian!!Other Asian', 'Estimate!!HISPANIC OR LATINO AND RACE!!Total population!!Not Hispanic or Latino!!American Indian and Alaska Native alone', 'Estimate!!RACE!!Total population!!One race!!American Indian and Alaska Native!!Chippewa tribal grouping', 'Estimate!!RACE!!Total population!!One race!!Asian!!Filipino', 'Percent Margin of Error!!SEX AND AGE!!Total population!!75 to 84 years', 'Percent!!SEX AND AGE!!Total population!!65 years and over', 'Estimate!!RACE!!Total population!!One race!!Asian!!Korean', 'Percent Margin of Error!!HISPANIC OR LATINO AND RACE!!Total population!!Not Hispanic or Latino!!Native Hawaiian and Other Pacific Islander alone', 'Margin of Error!!RACE!!Total population', 'Percent!!SEX AND AGE!!Total population!!16 years and over', 'Estimate!!HISPANIC OR LATINO AND RACE!!Total population!!Hispanic or Latino (of any race)!!Puerto Rican', 'Estimate!!RACE!!Total population!!One race!!Asian!!Asian Indian', 'Margin of Error!!Race alone or in combination with one or more other races!!Total population!!White', 'Percent!!RACE!!Total population!!One race!!American Indian and Alaska Native!!Navajo tribal grouping', 'Percent!!Race alone or in combination with one or more other races!!Total population!!American Indian and Alaska Native', 'Margin of Error!!SEX AND AGE!!Total population!!18 years and over', 'Percent!!RACE!!Total population!!One race!!Asian!!Chinese', 'Percent Margin of Error!!SEX AND AGE!!Total population!!Median age (years)', 'Margin of Error!!HISPANIC OR LATINO AND RACE!!Total population!!Not Hispanic or Latino', 'Estimate!!Race alone or in combination with one or more other races!!Total population!!Black or African American', 'Percent Margin of Error!!RACE!!Total population!!One race!!Asian!!Japanese', 'Percent Margin of Error!!SEX AND AGE!!Total population!!65 to 74 years', 'Percent Margin of Error!!SEX AND AGE!!Total population!!18 years and over!!Female', 'Estimate!!SEX AND AGE!!Total population!!45 to 54 years', 'Percent Margin of Error!!RACE!!Total population!!One race!!Asian!!Other Asian', 'Percent!!SEX AND AGE!!Total population!!Under 18 years', 'Estimate!!SEX AND AGE!!Total population!!18 years and over!!Sex ratio (males per 100 females)', 'Margin of Error!!SEX AND AGE!!Total population!!15 to 19 years', 'Percent!!HISPANIC OR LATINO AND RACE!!Total population', 'Percent!!Race alone or in combination with one or more other races!!Total population', 'Estimate!!RACE!!Total population!!One race!!Asian!!Vietnamese', 'Estimate!!RACE!!Total population!!One race!!Native Hawaiian and Other Pacific Islander!!Samoan', 'Percent Margin of Error!!SEX AND AGE!!Total population!!85 years and over', 'Percent!!CITIZEN, VOTING AGE POPULATION!!Citizen, 18 and over population!!Female', 'Margin of Error!!RACE!!Total population!!One race!!Asian!!Chinese', 'Percent!!SEX AND AGE!!Total population!!Male', 'Estimate!!CITIZEN, VOTING AGE POPULATION!!Citizen, 18 and over population!!Male', 'Percent!!SEX AND AGE!!Total population!!85 years and over', 'Percent Margin of Error!!SEX AND AGE!!Total population!!Male', 'Estimate!!SEX AND AGE!!Total population!!75 to 84 years', 'Margin of Error!!SEX AND AGE!!Total population!!45 to 54 years', 'Margin of Error!!SEX AND AGE!!Total population!!Male', 'Percent!!CITIZEN, VOTING AGE POPULATION!!Citizen, 18 and over population', 'Percent Margin of Error!!HISPANIC OR LATINO AND RACE!!Total population!!Not Hispanic or Latino!!American Indian and Alaska Native alone', 'Estimate!!SEX AND AGE!!Total population!!62 years and over', 'Percent Margin of Error!!SEX AND AGE!!Total population!!65 years and over!!Male', 'Percent!!SEX AND AGE!!Total population!!65 years and over!!Female', 'Margin of Error!!SEX AND AGE!!Total population!!21 years and over', 'Margin of Error!!SEX AND AGE!!Total population!!65 years and over!!Sex ratio (males per 100 females)', 'Percent!!HISPANIC OR LATINO AND RACE!!Total population!!Hispanic or Latino (of any race)!!Other Hispanic or Latino', 'Percent!!RACE!!Total population!!One race!!Black or African American', 'Percent Margin of Error!!SEX AND AGE!!Total population!!65 years and over!!Sex ratio (males per 100 females)', 'Percent Margin of Error!!SEX AND AGE!!Total population!!65 years and over!!Female', 'Percent!!RACE!!Total population', 'Margin of Error!!HISPANIC OR LATINO AND RACE!!Total population!!Hispanic or Latino (of any race)', 'Percent Margin of Error!!SEX AND AGE!!Total population!!18 years and over!!Sex ratio (males per 100 females)', 'year', 'Estimate!!RACE!!Total population', 'Estimate!!RACE!!Total population!!One race!!American Indian and Alaska Native!!Cherokee tribal grouping', 'Estimate!!SEX AND AGE!!Total population', 'Estimate!!Race alone or in combination with one or more other races!!Total population!!American Indian and Alaska Native', 'Percent!!RACE!!Total population!!One race!!American Indian and Alaska Native', 'Percent!!RACE!!Total population!!One race!!American Indian and Alaska Native!!Sioux tribal grouping', 'Margin of Error!!SEX AND AGE!!Total population!!35 to 44 years', 'Margin of Error!!CITIZEN, VOTING AGE POPULATION!!Citizen, 18 and over population!!Male', 'Estimate!!Race alone or in combination with one or more other races!!Total population!!Asian', 'Percent Margin of Error!!RACE!!Total population!!One race!!Black or African American', 'Margin of Error!!HISPANIC OR LATINO AND RACE!!Total population!!Hispanic or Latino (of any race)!!Other Hispanic or Latino', 'Margin of Error!!HISPANIC OR LATINO AND RACE!!Total population!!Not Hispanic or Latino!!Native Hawaiian and Other Pacific Islander alone', 'Percent!!HISPANIC OR LATINO AND RACE!!Total population!!Not Hispanic or Latino!!Native Hawaiian and Other Pacific Islander alone', 'Estimate!!RACE!!Total population!!One race!!American Indian and Alaska Native', 'Margin of Error!!Race alone or in combination with one or more other races!!Total population!!Asian', 'Percent Margin of Error!!Race alone or in combination with one or more other races!!Total population', 'Estimate!!SEX AND AGE!!Total population!!65 years and over!!Sex ratio (males per 100 females)', 'Percent!!HISPANIC OR LATINO AND RACE!!Total population!!Not Hispanic or Latino', 'Margin of Error!!SEX AND AGE!!Total population!!65 to 74 years', 'Percent!!HISPANIC OR LATINO AND RACE!!Total population!!Not Hispanic or Latino!!American Indian and Alaska Native alone', 'Estimate!!HISPANIC OR LATINO AND RACE!!Total population!!Hispanic or Latino (of any race)!!Other Hispanic or Latino', 'Estimate!!RACE!!Total population!!One race!!Asian!!Japanese', 'Margin of Error!!SEX AND AGE!!Total population!!Female', 'Margin of Error!!CITIZEN, VOTING AGE POPULATION!!Citizen, 18 and over population', 'Percent Margin of Error!!HISPANIC OR LATINO AND RACE!!Total population!!Hispanic or Latino (of any race)', 'Estimate!!SEX AND AGE!!Total population!!Male', 'Percent Margin of Error!!CITIZEN, VOTING AGE POPULATION!!Citizen, 18 and over population!!Female', 'Estimate!!SEX AND AGE!!Total population!!5 to 9 years', 'Percent!!RACE!!Total population!!One race!!American Indian and Alaska Native!!Cherokee tribal grouping', 'Percent!!RACE!!Total population!!One race', 'Margin of Error!!RACE!!Total population!!One race!!Native Hawaiian and Other Pacific Islander', 'Percent!!SEX AND AGE!!Total population!!35 to 44 years', 'Percent!!SEX AND AGE!!Total population!!75 to 84 years', 'Percent!!SEX AND AGE!!Total population!!62 years and over', 'Estimate!!RACE!!Total population!!One race', 'Percent!!RACE!!Total population!!One race!!Native Hawaiian and Other Pacific Islander!!Samoan', 'Margin of Error!!RACE!!Total population!!One race!!American Indian and Alaska Native!!Chippewa tribal grouping', 'Percent!!Race alone or in combination with one or more other races!!Total population!!Native Hawaiian and Other Pacific Islander', 'Margin of Error!!SEX AND AGE!!Total population!!60 to 64 years', 'Margin of Error!!Race alone or in combination with one or more other races!!Total population!!American Indian and Alaska Native', 'Percent!!SEX AND AGE!!Total population!!20 to 24 years', 'Percent Margin of Error!!SEX AND AGE!!Total population!!Under 18 years', 'Estimate!!RACE!!Total population!!One race!!Native Hawaiian and Other Pacific Islander!!Chamorro', 'Percent Margin of Error!!RACE!!Total population!!One race!!Asian', 'Percent!!SEX AND AGE!!Total population!!Median age (years)', 'Percent Margin of Error!!RACE!!Total population!!One race!!White', 'Percent!!SEX AND AGE!!Total population!!Under 5 years', 'Percent Margin of Error!!RACE!!Total population!!One race', 'Margin of Error!!SEX AND AGE!!Total population!!55 to 59 years', 'Margin of Error!!RACE!!Total population!!One race!!Asian!!Korean', 'Margin of Error!!RACE!!Total population!!One race!!Asian!!Vietnamese', 'Percent Margin of Error!!RACE!!Total population!!One race!!American Indian and Alaska Native', 'Estimate!!HISPANIC OR LATINO AND RACE!!Total population', 'Margin of Error!!HISPANIC OR LATINO AND RACE!!Total population!!Not Hispanic or Latino!!Black or African American alone', 'Margin of Error!!HISPANIC OR LATINO AND RACE!!Total population!!Hispanic or Latino (of any race)!!Mexican', 'Margin of Error!!RACE!!Total population!!One race!!Asian!!Other Asian', 'Estimate!!SEX AND AGE!!Total population!!35 to 44 years', 'Estimate!!Total housing units', 'Margin of Error!!HISPANIC OR LATINO AND RACE!!Total population!!Not Hispanic or Latino!!White alone', 'Margin of Error!!SEX AND AGE!!Total population!!65 years and over!!Male', 'Percent Margin of Error!!HISPANIC OR LATINO AND RACE!!Total population!!Not Hispanic or Latino!!Black or African American alone', 'Percent Margin of Error!!SEX AND AGE!!Total population', 'Percent Margin of Error!!CITIZEN, VOTING AGE POPULATION!!Citizen, 18 and over population', 'Margin of Error!!SEX AND AGE!!Total population!!25 to 34 years', 'Margin of Error!!SEX AND AGE!!Total population!!65 years and over', 'Percent Margin of Error!!Race alone or in combination with one or more other races!!Total population!!American Indian and Alaska Native', 'Estimate!!RACE!!Total population!!One race!!Black or African American', 'Margin of Error!!HISPANIC OR LATINO AND RACE!!Total population', 'Percent Margin of Error!!HISPANIC OR LATINO AND RACE!!Total population!!Not Hispanic or Latino!!White alone', 'Percent!!SEX AND AGE!!Total population!!60 to 64 years', 'Percent!!SEX AND AGE!!Total population!!18 years and over!!Male', 'Percent!!SEX AND AGE!!Total population!!5 to 9 years', 'Percent!!SEX AND AGE!!Total population!!18 years and over', 'Margin of Error!!RACE!!Total population!!One race!!Asian!!Japanese', 'Percent Margin of Error!!SEX AND AGE!!Total population!!55 to 59 years', 'Percent Margin of Error!!RACE!!Total population', 'Estimate!!SEX AND AGE!!Total population!!60 to 64 years', 'Percent!!SEX AND AGE!!Total population!!65 years and over!!Sex ratio (males per 100 females)', 'Estimate!!HISPANIC OR LATINO AND RACE!!Total population!!Not Hispanic or Latino!!White alone', 'Percent!!SEX AND AGE!!Total population!!21 years and over', 'Estimate!!SEX AND AGE!!Total population!!Median age (years)', 'Percent!!HISPANIC OR LATINO AND RACE!!Total population!!Not Hispanic or Latino!!Black or African American alone', 'Estimate!!SEX AND AGE!!Total population!!65 to 74 years', 'Percent Margin of Error!!Race alone or in combination with one or more other races!!Total population!!Asian', 'Percent Margin of Error!!SEX AND AGE!!Total population!!65 years and over', 'Percent Margin of Error!!Race alone or in combination with one or more other races!!Total population!!Native Hawaiian and Other Pacific Islander', 'Percent!!SEX AND AGE!!Total population!!25 to 34 years', 'Margin of Error!!SEX AND AGE!!Total population', 'Margin of Error!!SEX AND AGE!!Total population!!85 years and over', 'Percent!!HISPANIC OR LATINO AND RACE!!Total population!!Not Hispanic or Latino!!White alone', 'Estimate!!HISPANIC OR LATINO AND RACE!!Total population!!Hispanic or Latino (of any race)!!Cuban', 'Estimate!!CITIZEN, VOTING AGE POPULATION!!Citizen, 18 and over population!!Female', 'Percent Margin of Error!!SEX AND AGE!!Total population!!20 to 24 years', 'Margin of Error!!RACE!!Total population!!One race!!American Indian and Alaska Native!!Sioux tribal grouping', 'Estimate!!HISPANIC OR LATINO AND RACE!!Total population!!Not Hispanic or Latino!!Asian alone', 'Estimate!!SEX AND AGE!!Total population!!Female']\n"
          ]
        }
      ]
    },
    {
      "cell_type": "code",
      "execution_count": null,
      "metadata": {
        "id": "SZGKtGV7dXrF"
      },
      "outputs": [],
      "source": [
        "ethnicity_race_cols = list(set(pd.read_csv(\"https://raw.githubusercontent.com/IsaacFigNewton/Analyzing-Hate-Crime-Data/main/demographics/county/ethnicity_race_col_names\", sep=\";\")[\"Percent!!RACE!!One race\"]))\n",
        "# ethnicity_race_cols"
      ]
    },
    {
      "cell_type": "code",
      "source": [
        "county_demo_df.head()"
      ],
      "metadata": {
        "id": "Xfzc_K4L3SV8"
      },
      "execution_count": null,
      "outputs": []
    },
    {
      "cell_type": "markdown",
      "metadata": {
        "id": "CMmPAMsD4kTu"
      },
      "source": [
        "#Data Cleaning"
      ]
    },
    {
      "cell_type": "code",
      "execution_count": null,
      "metadata": {
        "id": "ad1nsDl75WNg"
      },
      "outputs": [],
      "source": [
        "#only consider county data from 2002-2022; had to expand scope since sample sizes were unreliably small using only 2022\n",
        "crime_df = crime_df[(crime_df['data_year'] in years) & ((crime_df['agency_type_name'] == \"County\"))]"
      ]
    },
    {
      "cell_type": "code",
      "execution_count": null,
      "metadata": {
        "id": "fSBcXZN7d7Xc"
      },
      "outputs": [],
      "source": [
        "crime_df.reset_index(inplace=True)"
      ]
    },
    {
      "cell_type": "markdown",
      "metadata": {
        "id": "FD7BLMPTzjTk"
      },
      "source": [
        "##Important Functions"
      ]
    },
    {
      "cell_type": "code",
      "execution_count": null,
      "metadata": {
        "id": "PYJHYTae3LOK"
      },
      "outputs": [],
      "source": [
        "def get_col_counts(df, unique_cols):\n",
        "    # get the frequencies of categorical data based\n",
        "    unique_col_counts = {}\n",
        "    for value in unique_cols:\n",
        "        if value in set(df.columns):\n",
        "          unique_col_counts[value] = df[value].sum()\n",
        "          # print(value)\n",
        "\n",
        "    return unique_col_counts"
      ]
    },
    {
      "cell_type": "code",
      "execution_count": null,
      "metadata": {
        "id": "rp_DMzmuJQVG"
      },
      "outputs": [],
      "source": [
        "def drop_outliers(df, numerical_cols, z_threshold=default_z_threshold_for_outliers):\n",
        "    df_out = df.copy()  # Create a copy to avoid modifying the original DataFrame\n",
        "\n",
        "    for column in numerical_cols:\n",
        "        # Calculate Z-score for each value in the column\n",
        "        z_scores = np.abs((df_out[column] - df_out[column].mean()) / df_out[column].std())\n",
        "\n",
        "        print(z_scores.head())\n",
        "\n",
        "        # Identify outliers based on Z-score\n",
        "        outliers = df_out[z_scores > z_threshold]\n",
        "\n",
        "        # Drop outliers from the DataFrame\n",
        "        df_out = df_out.drop(outliers.index)\n",
        "\n",
        "    return df_out"
      ]
    },
    {
      "cell_type": "markdown",
      "metadata": {
        "id": "91_ky8rB7u13"
      },
      "source": [
        "##Clean county demographic dataset"
      ]
    },
    {
      "cell_type": "markdown",
      "metadata": {
        "id": "oYwpwcA8aqsI"
      },
      "source": [
        "###Create area columns"
      ]
    },
    {
      "cell_type": "code",
      "execution_count": null,
      "metadata": {
        "id": "wptIjBBS43De"
      },
      "outputs": [],
      "source": [
        "def split_area_name(area):\n",
        "    result = [np.nan, np.nan, np.nan]\n",
        "    if \", \" in area:\n",
        "        result = area.split(\", \") + [np.nan]\n",
        "    if \" city\" in result[0].lower():\n",
        "        result[0] = result[0][0:-5]\n",
        "        result[2] = result[1]\n",
        "        result[1] = \"City\"\n",
        "    elif \" county\" in result[0].lower():\n",
        "        result[0] = result[0][0:-7]\n",
        "        result[2] = result[1]\n",
        "        result[1] = \"County\"\n",
        "\n",
        "    return result + [np.nan] * (3 - len(result))\n",
        "\n",
        "def splitArea(df):\n",
        "    df[[\"pug_agency_name\", \"agency_type_name\", \"state_name\"]] = df[\"Geographic Area Name\"].map(split_area_name).apply(pd.Series)"
      ]
    },
    {
      "cell_type": "code",
      "execution_count": null,
      "metadata": {
        "id": "vDxDbqFs5ax-"
      },
      "outputs": [],
      "source": [
        "splitArea(county_demo_df)"
      ]
    },
    {
      "cell_type": "markdown",
      "metadata": {
        "id": "zouCbvk6_ccD"
      },
      "source": [
        "###Fix column names\n",
        "\n"
      ]
    },
    {
      "cell_type": "code",
      "execution_count": null,
      "metadata": {
        "id": "ZfZR5Bv1OalM"
      },
      "outputs": [],
      "source": [
        "def fix_column_names(df):\n",
        "  removalList = {\"SEX AND AGE!!\", \"SEX AND \", \"Estimate!!\", \"Total!!\", \"Total population!!\", \"CITIZEN, VOTING AGE POPULATION!!\", \"AGE!!\"}\n",
        "\n",
        "  new_cols = []\n",
        "  for col in df.columns:\n",
        "    col = str(col)\n",
        "    for term in removalList:\n",
        "      if term in col:\n",
        "        col = col.replace(term, \"\")\n",
        "    new_cols.append(col)\n",
        "\n",
        "  return new_cols\n",
        "\n",
        "county_demo_df.columns = fix_column_names(county_demo_df)"
      ]
    },
    {
      "cell_type": "markdown",
      "metadata": {
        "id": "Ns7wjEW0bLTL"
      },
      "source": [
        "###Remove irrelevant/bad columns and rows to line the dataframes up"
      ]
    },
    {
      "cell_type": "code",
      "execution_count": null,
      "metadata": {
        "id": "yUk3NyAxVAc2"
      },
      "outputs": [],
      "source": [
        "# fix any missing values\n",
        "county_demo_df = county_demo_df.replace(\"(X)\", np.nan)"
      ]
    },
    {
      "cell_type": "code",
      "execution_count": null,
      "metadata": {
        "id": "G7cTb7FkY-Rl"
      },
      "outputs": [],
      "source": [
        "#drop all margin of error columns from the county dataframe\n",
        "def drop_cols_containing(df, pattern):\n",
        "    df.drop(columns=list(df.filter(regex = pattern)), inplace = True)\n",
        "\n",
        "drop_cols_containing(county_demo_df, \"Margin of Error|SUMMARY INDICATORS|PERCENT ALLOCATED\")"
      ]
    },
    {
      "cell_type": "code",
      "execution_count": null,
      "metadata": {
        "id": "rktUyoEJ4iZm"
      },
      "outputs": [],
      "source": [
        "# Drop columns that only contain NaN values\n",
        "new_county_df = county_demo_df.dropna(how='all', axis=1)\n",
        "\n",
        "# get a list of the cols in the original df that aren't in the new one\n",
        "dropped_cols = (set(county_demo_df.columns)).difference(set(new_county_df.columns))\n",
        "\n",
        "# remove the deleted columns from ethnicity_race_cols\n",
        "ethnicity_race_cols = list((set(ethnicity_race_cols)).difference(set(dropped_cols)))\n",
        "\n",
        "county_demo_df = new_county_df\n",
        "\n",
        "print(ethnicity_race_cols)\n",
        "\n",
        "# Drop rows with NaN values in any of the ethnicity_race_cols\n",
        "county_demo_df.dropna(subset=ethnicity_race_cols, how='any', inplace=True)"
      ]
    },
    {
      "cell_type": "markdown",
      "metadata": {
        "id": "8hlE0Oe8bUbd"
      },
      "source": [
        "###Fix column data types"
      ]
    },
    {
      "cell_type": "code",
      "execution_count": null,
      "metadata": {
        "id": "ALM0fmMBEJAC"
      },
      "outputs": [],
      "source": [
        "counts = county_demo_df.columns.value_counts()\n",
        "mask = counts > 1\n",
        "duplicates = list(counts[mask].index)\n",
        "county_demo_df[duplicates].dtypes"
      ]
    },
    {
      "cell_type": "code",
      "execution_count": null,
      "metadata": {
        "id": "fAyrAm9yFOvt"
      },
      "outputs": [],
      "source": [
        "county_demo_df = county_demo_df.loc[:, ~county_demo_df.columns.duplicated(keep='last')]"
      ]
    },
    {
      "cell_type": "code",
      "execution_count": null,
      "metadata": {
        "collapsed": true,
        "id": "jZYIR6d-iPJR"
      },
      "outputs": [],
      "source": [
        "county_percent_age_cols = list(set(list(county_demo_df.filter(regex = \"Percent\"))\\\n",
        "                                  + list(county_demo_df.filter(regex = \"ratio\"))\\\n",
        "                                  + list(county_demo_df.filter(regex = \"years\"))))\n",
        "\n",
        "for column in county_percent_age_cols:\n",
        "    contaminated_indices_mask = county_demo_df[column]\\\n",
        "                                  .astype(str)\\\n",
        "                                  .str\\\n",
        "                                  .contains('N')\n",
        "    county_demo_df.loc[contaminated_indices_mask, column] = 0"
      ]
    },
    {
      "cell_type": "code",
      "execution_count": null,
      "metadata": {
        "id": "ZrdOlh7lGDt9"
      },
      "outputs": [],
      "source": [
        "county_demo_df[county_percent_age_cols] = county_demo_df[county_percent_age_cols].astype(float)"
      ]
    },
    {
      "cell_type": "code",
      "execution_count": null,
      "metadata": {
        "id": "ySz7aNd9gQSl"
      },
      "outputs": [],
      "source": [
        "county_demo_df[ethnicity_race_cols] = county_demo_df[ethnicity_race_cols].astype(float)"
      ]
    },
    {
      "cell_type": "code",
      "execution_count": null,
      "metadata": {
        "id": "Q8BIgfCuZ3cS"
      },
      "outputs": [],
      "source": [
        "# Convert the quantitative columns to int types\n",
        "# continuous quantitative variables\n",
        "county_continuous_int_columns = [\"Total population\", \"Under 5 years\", \"5 to 9 years\", \"45 to 54 years\", \"10 to 14 years\", \"75 to 84 years\", \"60 to 64 years\",\\\n",
        "                      \"25 to 34 years\", \"15 to 19 years\", \"20 to 24 years\", \"35 to 44 years\", \"55 to 59 years\", \"65 to 74 years\",\\\n",
        "                      \"85 years and over\"] + ethnicity_race_cols\n",
        "\n",
        "county_demo_df[county_continuous_int_columns].replace(\"N\", 0, inplace=True)\n",
        "\n",
        "\n",
        "county_demo_df[county_continuous_int_columns] = county_demo_df[county_continuous_int_columns].astype(int)"
      ]
    },
    {
      "cell_type": "code",
      "execution_count": null,
      "metadata": {
        "id": "fdq9xxRHsFiM"
      },
      "outputs": [],
      "source": [
        "age_groups = ['Under 5 years', '5 to 9 years', '10 to 14 years', '15 to 19 years', '20 to 24 years', '25 to 34 years', '35 to 44 years', '45 to 54 years', '55 to 59 years', '60 to 64 years', '65 to 74 years', '75 to 84 years', '85 years and over']"
      ]
    },
    {
      "cell_type": "markdown",
      "metadata": {
        "id": "DOTL5sepL1RN"
      },
      "source": [
        "###Drop outliers"
      ]
    },
    {
      "cell_type": "code",
      "execution_count": null,
      "metadata": {
        "id": "rVMoztBfJzkM"
      },
      "outputs": [],
      "source": [
        "county_demo_df = drop_outliers(county_demo_df, county_continuous_int_columns)"
      ]
    },
    {
      "cell_type": "code",
      "execution_count": null,
      "metadata": {
        "id": "0eA1lcnkVbbC"
      },
      "outputs": [],
      "source": [
        "county_demo_df[\"Geography\"].count()"
      ]
    },
    {
      "cell_type": "markdown",
      "metadata": {
        "id": "Cxkvqx0R8A29"
      },
      "source": [
        "##Clean crime dataset"
      ]
    },
    {
      "cell_type": "code",
      "execution_count": null,
      "metadata": {
        "id": "d1Wnaq6vKUqC"
      },
      "outputs": [],
      "source": [
        "crime_continuous_int_columns = [\"index\", \"incident_id\", \"data_year\"] + list(crime_df.select_dtypes(\"float64\").columns)"
      ]
    },
    {
      "cell_type": "code",
      "execution_count": null,
      "metadata": {
        "id": "lFDfPklpbaZW"
      },
      "outputs": [],
      "source": [
        "crime_df[crime_continuous_int_columns].head()"
      ]
    },
    {
      "cell_type": "code",
      "execution_count": null,
      "metadata": {
        "id": "cL7TQR8MLGwB"
      },
      "outputs": [],
      "source": [
        "crime_continuous_int_columns"
      ]
    },
    {
      "cell_type": "markdown",
      "metadata": {
        "id": "74NO2i3rLppC"
      },
      "source": [
        "###Drop outliers and bad rows"
      ]
    },
    {
      "cell_type": "code",
      "execution_count": null,
      "metadata": {
        "id": "fRrnLAIvTIF2"
      },
      "outputs": [],
      "source": [
        "crime_df.head()"
      ]
    },
    {
      "cell_type": "code",
      "execution_count": null,
      "metadata": {
        "id": "6gjZjCSbLrid"
      },
      "outputs": [],
      "source": [
        "# crime_df.reset_index(inplace=True)\n",
        "crime_df = drop_outliers(crime_df, crime_continuous_int_columns)"
      ]
    },
    {
      "cell_type": "code",
      "execution_count": null,
      "metadata": {
        "id": "1EZIwUfWSgTM"
      },
      "outputs": [],
      "source": [
        "crime_df.head()"
      ]
    },
    {
      "cell_type": "markdown",
      "metadata": {
        "id": "_jVRTkrMofxu"
      },
      "source": [
        "###Break up incident date information"
      ]
    },
    {
      "cell_type": "code",
      "execution_count": null,
      "metadata": {
        "id": "LWs_l73xYNHa"
      },
      "outputs": [],
      "source": [
        "def split_incident_date(date):\n",
        "    result = date.split(\"-\")\n",
        "\n",
        "    return result + [np.nan] * (3 - len(result))\n",
        "\n",
        "crime_df[[\"data_year\", \"incident_month\", \"incident_day\"]] = crime_df[\"incident_date\"]\\\n",
        "                                                              .map(split_incident_date)\\\n",
        "                                                              .apply(pd.Series)\\\n",
        "                                                              .astype(int)"
      ]
    },
    {
      "cell_type": "code",
      "execution_count": null,
      "metadata": {
        "id": "PIGhD_Tao52g"
      },
      "outputs": [],
      "source": [
        "crime_df[[\"data_year\", \"incident_month\", \"incident_day\"]].dtypes"
      ]
    },
    {
      "cell_type": "markdown",
      "metadata": {
        "id": "8xOo7lDlSHDU"
      },
      "source": [
        "###Break up crime_df categorical columns containing multiple categories into dummies"
      ]
    },
    {
      "cell_type": "code",
      "execution_count": null,
      "metadata": {
        "id": "ZBlzZXg662lW"
      },
      "outputs": [],
      "source": [
        "def multicol_parse(df, column, delimiter):\n",
        "  prefix = column + \"_\"\n",
        "\n",
        "  dummies = df[column]\\\n",
        "              .str\\\n",
        "              .get_dummies(sep=delimiter)\\\n",
        "              .add_prefix(prefix)\n",
        "  dummies = dummies.astype(int)\n",
        "  dummies.head()\n",
        "\n",
        "  dummy_cols = list(dummies.columns)\n",
        "  unique_values = [val.replace(prefix, \"\") for val in dummy_cols]\n",
        "\n",
        "  # combine the dataframes\n",
        "  new_df = pd.concat([df, dummies], axis=1)\n",
        "\n",
        "  return unique_values, dummy_cols, new_df"
      ]
    },
    {
      "cell_type": "code",
      "execution_count": null,
      "metadata": {
        "id": "nQusbBSc6VOV"
      },
      "outputs": [],
      "source": [
        "crime_df.reset_index(inplace=True)"
      ]
    },
    {
      "cell_type": "code",
      "execution_count": null,
      "metadata": {
        "id": "7PYIcRq2hNT8"
      },
      "outputs": [],
      "source": [
        "#Break up bias_desc column into dummy columns\n",
        "unique_biases, bias_cols, crime_df = multicol_parse(crime_df, \"bias_desc\", \";\")"
      ]
    },
    {
      "cell_type": "code",
      "execution_count": null,
      "metadata": {
        "id": "riHZGPmLATVm"
      },
      "outputs": [],
      "source": [
        "#Break up victim_types column into dummy columns\n",
        "unique_victim_types, victim_cols, crime_df = multicol_parse(crime_df, \"victim_types\", \";\")"
      ]
    },
    {
      "cell_type": "code",
      "execution_count": null,
      "metadata": {
        "id": "7TdBaaZMAwb0"
      },
      "outputs": [],
      "source": [
        "#Break up offense_names column into dummy columns\n",
        "unique_offense_names, offense_cols, crime_df = multicol_parse(crime_df, \"offense_name\", \";\")"
      ]
    },
    {
      "cell_type": "code",
      "execution_count": null,
      "metadata": {
        "id": "6HuAV-IGBErU"
      },
      "outputs": [],
      "source": [
        "#Break up location_names column into dummy columns\n",
        "unique_location_names, location_cols, crime_df = multicol_parse(crime_df, \"location_name\", \";\")"
      ]
    },
    {
      "cell_type": "markdown",
      "metadata": {
        "id": "7s_ph3jfiVxi"
      },
      "source": [
        "###Create dummy columns for other categorical variables"
      ]
    },
    {
      "cell_type": "code",
      "execution_count": null,
      "metadata": {
        "id": "1wlb0NsBibhK"
      },
      "outputs": [],
      "source": [
        "other_categorical_cols = [\"pug_agency_name\", \"agency_type_name\", \"division_name\", \"offender_race\",\n",
        "                          \"offender_ethnicity\", \"state_name\", \"multiple_offense\", \"multiple_bias\"]"
      ]
    },
    {
      "cell_type": "code",
      "execution_count": null,
      "metadata": {
        "id": "E_x7hmrplsgg"
      },
      "outputs": [],
      "source": [
        "other_categorical_cols"
      ]
    },
    {
      "cell_type": "code",
      "execution_count": null,
      "metadata": {
        "id": "8b-U9DOKO3zO"
      },
      "outputs": [],
      "source": [
        "crime_df.head()"
      ]
    },
    {
      "cell_type": "code",
      "execution_count": null,
      "metadata": {
        "id": "mlHAMWFaJvVC"
      },
      "outputs": [],
      "source": [
        "other_unique_categorical_cols = {}\n",
        "for col in other_categorical_cols:\n",
        "    unique_values = crime_df[col].unique()\n",
        "    # print(unique_values)\n",
        "    other_unique_categorical_cols[col] = [col + \"_\" + str(val) for val in unique_values]\n",
        "print(other_unique_categorical_cols[\"pug_agency_name\"])"
      ]
    },
    {
      "cell_type": "code",
      "execution_count": null,
      "metadata": {
        "id": "FS9mO9kYmujy"
      },
      "outputs": [],
      "source": [
        "dummies = pd.get_dummies(crime_df[other_categorical_cols]).astype(int)\n",
        "dummies.drop(columns=['multiple_offense_S', 'multiple_bias_S'], inplace=True)\n",
        "other_unique_categorical_cols[\"multiple_offense\"] = [\"multiple_offense_M\"]\n",
        "other_unique_categorical_cols[\"multiple_bias\"] = [\"multiple_bias_M\"]\n",
        "\n",
        "# combine the dummy columns with crime_df\n",
        "crime_df = pd.concat([crime_df, dummies], axis=1)"
      ]
    },
    {
      "cell_type": "markdown",
      "metadata": {
        "id": "qnO1RJXYLZnx"
      },
      "source": [
        "###List the categorical columns"
      ]
    },
    {
      "cell_type": "code",
      "execution_count": null,
      "metadata": {
        "id": "GYalMvMqF2Cv"
      },
      "outputs": [],
      "source": [
        "# break up other_unique_categorical_cols because Python is being stupid\n",
        "crime_categorical_cols = bias_cols\\\n",
        "                          + victim_cols\\\n",
        "                          + offense_cols\\\n",
        "                          + location_cols\n",
        "for key, value in other_unique_categorical_cols.items():\n",
        "  crime_categorical_cols += value"
      ]
    },
    {
      "cell_type": "markdown",
      "metadata": {
        "id": "f6HOuA_Q340T"
      },
      "source": [
        "#Data Engineering"
      ]
    },
    {
      "cell_type": "markdown",
      "metadata": {
        "id": "ZG88dmq02lIL"
      },
      "source": [
        "##Perform power transformations and normalize data"
      ]
    },
    {
      "cell_type": "markdown",
      "metadata": {
        "id": "_cqKYZsd2lsB"
      },
      "source": [
        "###Transform data to Gaussian distributions"
      ]
    },
    {
      "cell_type": "code",
      "execution_count": null,
      "metadata": {
        "id": "BuRiRuOIAFMw"
      },
      "outputs": [],
      "source": [
        "def transform_standardize_data(df, numerical_cols, categorical_cols):\n",
        "  # increase subsampling size if df is bigger than the default size\n",
        "  n_quantiles = len(df)\n",
        "  subsample = 10000\n",
        "  if n_quantiles > subsample:\n",
        "    subsample = n_quantiles * 10\n",
        "\n",
        "  print(\"Performing quantile transformation process...\")\n",
        "  # use a quantile transformer to normalize the data and since the PowerTransformer keeps shitting itself\n",
        "  scaler = sk.preprocessing.QuantileTransformer(output_distribution=\"normal\", n_quantiles=n_quantiles, subsample=subsample)\n",
        "  transformed_data = scaler.fit_transform(df[numerical_cols])\n",
        "\n",
        "  print(\"Renaming numerical columns...\")\n",
        "  for i, col in enumerate(numerical_cols):\n",
        "    new_column_header = \"transformed_\" + col\n",
        "\n",
        "    # update the list of numerical column labels\n",
        "    numerical_cols[i] = new_column_header\n",
        "    # add the transformed, standardized data back to the original dataframe\n",
        "    df[new_column_header] = transformed_data[:, i]\n",
        "\n",
        "  print(\"Dropping categorical columns with insufficient sample size...\")\n",
        "  # identify columns with insufficient sample sizes\n",
        "  columns_to_drop = []\n",
        "  for col in categorical_cols:\n",
        "      if df[col].sum() < minimum_categorical_positive_count:\n",
        "          columns_to_drop.append(col)\n",
        "\n",
        "  # drop identified columns\n",
        "  df.drop(columns_to_drop, axis=1, inplace=True)\n",
        "\n",
        "  # update categorical_cols after dropping\n",
        "  categorical_cols = [col for col in categorical_cols if col not in columns_to_drop]"
      ]
    },
    {
      "cell_type": "code",
      "execution_count": null,
      "metadata": {
        "id": "0x4own2D4qDZ"
      },
      "outputs": [],
      "source": [
        "crime_numerical_cols = list(crime_df.select_dtypes(include=['int64', 'float64']).columns)\n",
        "county_numerical_cols = list(county_demo_df.select_dtypes(include=[\"int64\", \"float64\"]).columns)"
      ]
    },
    {
      "cell_type": "code",
      "execution_count": null,
      "metadata": {
        "id": "OzsmDS2VrtR_"
      },
      "outputs": [],
      "source": [
        "# yeo-johnson transformation is super brittle and I'm not sure why\n",
        "#transform the county data\n",
        "transform_standardize_data(county_demo_df, county_numerical_cols, [])"
      ]
    },
    {
      "cell_type": "code",
      "execution_count": null,
      "metadata": {
        "id": "w66gHmdgrwuv"
      },
      "outputs": [],
      "source": [
        "#transform the non-categorical data of crime_df\n",
        "transform_standardize_data(crime_df,\\\n",
        "                            [col for col in crime_numerical_cols\\\n",
        "                                      if not col in crime_categorical_cols],\\\n",
        "                            crime_categorical_cols)"
      ]
    },
    {
      "cell_type": "code",
      "execution_count": null,
      "metadata": {
        "id": "6ta36c5UryVw"
      },
      "outputs": [],
      "source": [
        "# remove columns that were removed from crime_df due to insufficient sample size from consideration\n",
        "county_numerical_cols = [col for col in county_numerical_cols if col in set(county_demo_df.columns)]\n",
        "\n",
        "# remove columns that were removed from crime_df due to insufficient sample size from consideration\n",
        "crime_numerical_cols = [col for col in crime_numerical_cols if col in set(crime_df.columns)]"
      ]
    },
    {
      "cell_type": "code",
      "execution_count": null,
      "metadata": {
        "id": "SjSGmjDVF6vv"
      },
      "outputs": [],
      "source": [
        "print(crime_numerical_cols)"
      ]
    },
    {
      "cell_type": "code",
      "execution_count": null,
      "metadata": {
        "id": "aDChAh3hOC27"
      },
      "outputs": [],
      "source": [
        "# [col for col in crime_numerical_cols if not col in crime_categorical_cols]"
      ]
    },
    {
      "cell_type": "markdown",
      "metadata": {
        "id": "RPFb37dS4RwR"
      },
      "source": [
        "##Extract additional features from the data"
      ]
    },
    {
      "cell_type": "markdown",
      "metadata": {
        "id": "fKxbslPlK9eK"
      },
      "source": [
        "####Get hate crime rate per county"
      ]
    },
    {
      "cell_type": "code",
      "execution_count": null,
      "metadata": {
        "id": "1Jqtxd_sJPMz"
      },
      "outputs": [],
      "source": [
        "crime_df.head()"
      ]
    },
    {
      "cell_type": "code",
      "source": [
        "# print(set([col for col in crime_df.columns if \"pug_agency_name\" in col]))\n",
        "\n",
        "# Remove agencies that were dropped from the list of unique categorical columns\n",
        "other_unique_categorical_cols[\"pug_agency_name\"] = list((set(other_unique_categorical_cols[\"pug_agency_name\"])).intersection(set(crime_df.columns)))\n",
        "# print(other_unique_categorical_cols[\"pug_agency_name\"])"
      ],
      "metadata": {
        "id": "-RuiXMC_ThDG"
      },
      "execution_count": null,
      "outputs": []
    },
    {
      "cell_type": "code",
      "execution_count": null,
      "metadata": {
        "id": "qZXcb7eplNIW"
      },
      "outputs": [],
      "source": [
        "print(other_unique_categorical_cols)"
      ]
    },
    {
      "cell_type": "code",
      "execution_count": null,
      "metadata": {
        "id": "g9VHGEgaLOPy"
      },
      "outputs": [],
      "source": [
        "county_hate_counts = get_col_counts(crime_df, other_unique_categorical_cols[\"pug_agency_name\"])\n",
        "county_hate_rates_df = pd.DataFrame.from_dict(data=county_hate_counts, orient='index', columns=['hate_crime_count'])"
      ]
    },
    {
      "cell_type": "code",
      "execution_count": null,
      "metadata": {
        "id": "__ECROEhaTpQ"
      },
      "outputs": [],
      "source": [
        "county_hate_rates_df[\"pug_agency_name\"] = county_hate_rates_df\\\n",
        "                                            .index\\\n",
        "                                            .str\\\n",
        "                                            .replace(\"pug_agency_name_\", \"\")"
      ]
    },
    {
      "cell_type": "code",
      "source": [
        "county_hate_rates_df[\"pug_agency_name\"].head()"
      ],
      "metadata": {
        "id": "iBgG_fAPZjm2"
      },
      "execution_count": null,
      "outputs": []
    },
    {
      "cell_type": "code",
      "execution_count": null,
      "metadata": {
        "id": "Eus6vFSUT49w"
      },
      "outputs": [],
      "source": [
        "# only include demographic info related to each of the counties in the crime dataset\n",
        "filtered_county_demo_df = county_demo_df[(county_demo_df[\"pug_agency_name\"]).isin(county_hate_rates_df[\"pug_agency_name\"])]\n",
        "filtered_county_demo_df[\"Geography\"].count()"
      ]
    },
    {
      "cell_type": "code",
      "execution_count": null,
      "metadata": {
        "id": "A8CdmU6eZ1Np"
      },
      "outputs": [],
      "source": [
        "# merge the 2 datasets\n",
        "county_hate_rates_df = county_hate_rates_df.merge(filtered_county_demo_df, on=\"pug_agency_name\", how=\"outer\")"
      ]
    },
    {
      "cell_type": "code",
      "source": [
        "# filtered_county_demo_df.head()"
      ],
      "metadata": {
        "id": "UiVuLG4TXmzh"
      },
      "execution_count": null,
      "outputs": []
    },
    {
      "cell_type": "code",
      "source": [
        "county_hate_rates_df = county_hate_rates_df.dropna(subset=['Geography'])"
      ],
      "metadata": {
        "id": "KDShL5ypatsG"
      },
      "execution_count": null,
      "outputs": []
    },
    {
      "cell_type": "code",
      "execution_count": null,
      "metadata": {
        "id": "4aw7855Fay5o"
      },
      "outputs": [],
      "source": [
        "county_hate_rates_df[\"hate_crime_rate\"] = county_hate_rates_df[\"hate_crime_count\"]\\\n",
        "                                            .divide(county_hate_rates_df[\"Total population\"])\\\n",
        "                                            .astype(\"float64\")"
      ]
    },
    {
      "cell_type": "code",
      "source": [
        "county_hate_rates_df.head()"
      ],
      "metadata": {
        "id": "2iIOR9GFbj2r"
      },
      "execution_count": null,
      "outputs": []
    },
    {
      "cell_type": "code",
      "execution_count": null,
      "metadata": {
        "id": "uHe2GZ3ozTYb"
      },
      "outputs": [],
      "source": [
        "county_hate_rates_df[\"hate_crime_rate\"].plot.hist(bins=20)"
      ]
    },
    {
      "cell_type": "markdown",
      "metadata": {
        "id": "SuDKvSRq64ev"
      },
      "source": [
        "####Transform hate_rate data to a Gaussian distribution"
      ]
    },
    {
      "cell_type": "code",
      "execution_count": null,
      "metadata": {
        "id": "FCZKcTw469Qf"
      },
      "outputs": [],
      "source": [
        "hate_features = [\"hate_crime_count\", \"hate_crime_rate\"]\n",
        "# save the hate feature data for adding back later\n",
        "hate_crime_rates_df = county_hate_rates_df[hate_features]\n",
        "\n",
        "# transform the hate_crime_rate data\n",
        "transform_standardize_data(county_hate_rates_df, hate_features, [])\n",
        "county_hate_rates_df = pd.concat([county_hate_rates_df, hate_crime_rates_df], axis=1, join=\"outer\")\n",
        "\n",
        "hate_rate_numerical_cols = [col for col in county_hate_rates_df.select_dtypes(include=[\"int64\", \"float64\"]).columns if ((\"transformed\" in col)\\\n",
        "                                                                                                                        or (col in hate_features))]\n",
        "\n",
        "county_hate_rates_df = county_hate_rates_df[hate_rate_numerical_cols]"
      ]
    },
    {
      "cell_type": "code",
      "execution_count": null,
      "metadata": {
        "id": "StgBsD0Y9LZQ"
      },
      "outputs": [],
      "source": [
        "county_hate_rates_df['transformed_hate_crime_rate'].plot.hist(bins=100)"
      ]
    },
    {
      "cell_type": "markdown",
      "metadata": {
        "id": "Fm5xNM5iePPX"
      },
      "source": [
        "##Merge the datasets"
      ]
    },
    {
      "cell_type": "code",
      "execution_count": null,
      "metadata": {
        "id": "V0Re5w41IIEq"
      },
      "outputs": [],
      "source": [
        "# combine the crime and population datasets\n",
        "merged_df = pd.merge(crime_df, county_demo_df, on=[\"pug_agency_name\", \"agency_type_name\", \"state_name\", \"year\"])"
      ]
    },
    {
      "cell_type": "code",
      "execution_count": null,
      "metadata": {
        "id": "ZTWdt8V0VEhi"
      },
      "outputs": [],
      "source": [
        "merged_df.drop(other_unique_categorical_cols[\"pug_agency_name\"] + [\"ori\", \"state_abbr\", \"population_group_code\", \"pub_agency_unit\",\n",
        "                \"Geography\", \"Percent!!Total population\", \"population_group_description\",\n",
        "                \"Geographic Area Name\", \"incident_date\", \"pub_agency_unit\", \"pug_agency_name\",\n",
        "                \"agency_type_name\", \"state_name\", \"division_name\", \"offender_race\", \"offender_ethnicity\",\n",
        "                \"location_name\", \"bias_desc\", \"victim_types\", \"multiple_offense\",\n",
        "                  \"multiple_bias\"], axis=1, inplace=True)"
      ]
    },
    {
      "cell_type": "markdown",
      "metadata": {
        "id": "lON7Xj2bUrnC"
      },
      "source": [
        "#Data Exploration"
      ]
    },
    {
      "cell_type": "markdown",
      "metadata": {
        "id": "euqmLHcGpyF8"
      },
      "source": [
        "##Important Functions"
      ]
    },
    {
      "cell_type": "code",
      "execution_count": null,
      "metadata": {
        "id": "t2vMKRtlMeoO"
      },
      "outputs": [],
      "source": [
        "def get_sorted_corrs(corr):\n",
        "  # Unstack and rename corr\n",
        "  corr_sorted = pd.DataFrame(corr.unstack()).reset_index()\n",
        "  corr_sorted.rename(columns={\"level_0\":\"feature1\", \"level_1\":\"feature2\", 0:\"corr\"}, inplace=True)\n",
        "\n",
        "  corr_sorted[\"abs_corr\"] = 0\n",
        "\n",
        "  # Get highest correlation coefficient pairs\n",
        "  corr_sorted[\"abs_corr\"] = corr_sorted[\"corr\"].abs()\n",
        "  corr_sorted.sort_values(by=\"abs_corr\", ascending=False, inplace=True)\n",
        "\n",
        "  #reset the indices\n",
        "  corr_sorted.reset_index(inplace=True)\n",
        "\n",
        "  #filter out self-correlations\n",
        "  corr_sorted = corr_sorted[~(corr_sorted[\"feature1\"] == corr_sorted[\"feature2\"])]\n",
        "\n",
        "  # remove duplicates\n",
        "  # only keep even-numbered rows, since there will be 2 of every correlation\n",
        "  corr_sorted = corr_sorted.iloc[::2]\n",
        "  # corr_sorted = corr_sorted.dropna().groupby(\"feature1\")\n",
        "\n",
        "  return corr_sorted"
      ]
    },
    {
      "cell_type": "code",
      "execution_count": null,
      "metadata": {
        "id": "p280f_rOl00v"
      },
      "outputs": [],
      "source": [
        "def do_corr_analysis(corr, minThreshold, maxThreshold, blacklistPhraseRegex, corr_sorted=None):\n",
        "    # get the sorted correlation coefficients\n",
        "    if corr_sorted is None:\n",
        "      sorted_corrs = get_sorted_corrs(crime_corr)\n",
        "    else:\n",
        "      sorted_corrs = corr_sorted\n",
        "\n",
        "    # create subplot display\n",
        "    fig, ax = plt.subplots(3, figsize=(10, 20))\n",
        "\n",
        "    # plot stuff\n",
        "    sorted_corrs[\"corr\"].plot.hist(bins=40, logy=True, ax=ax[0], title=\"Correlation Coefficients\")\n",
        "    sorted_corrs[\"abs_corr\"].plot.hist(bins=40, logy=True, ax=ax[1], title=\"Correlation Coefficients' Absolute Values\")\n",
        "\n",
        "    # filter down to correlations of interest\n",
        "    corrs_of_interest = sorted_corrs[(sorted_corrs[\"abs_corr\"] > minThreshold) & (sorted_corrs[\"abs_corr\"] < maxThreshold)\n",
        "                                      & (~sorted_corrs[\"feature1\"].str.contains(blacklistPhraseRegex))\n",
        "                                      & (~sorted_corrs[\"feature2\"].str.contains(blacklistPhraseRegex))]\n",
        "\n",
        "    # plot the remaining correlations\n",
        "    corrs_of_interest[\"corr\"].plot.hist(bins=50, logy=True, ax=ax[2], title=\"Correlation Coefficients of Interest\")\n",
        "\n",
        "    return sorted_corrs, corrs_of_interest"
      ]
    },
    {
      "cell_type": "markdown",
      "metadata": {
        "id": "bgSAMKYblqV3"
      },
      "source": [
        "##Individual Datasets"
      ]
    },
    {
      "cell_type": "markdown",
      "metadata": {
        "id": "Eh9zD204ltAu"
      },
      "source": [
        "###Hate Crime Dataset"
      ]
    },
    {
      "cell_type": "code",
      "execution_count": null,
      "metadata": {
        "id": "iwJOPMQEemwE"
      },
      "outputs": [],
      "source": [
        "crime_df.head()"
      ]
    },
    {
      "cell_type": "markdown",
      "metadata": {
        "id": "ecZsjBHeaH-W"
      },
      "source": [
        "####Correlation matrix"
      ]
    },
    {
      "cell_type": "code",
      "execution_count": null,
      "metadata": {
        "id": "bnh4AsvJZp0z"
      },
      "outputs": [],
      "source": [
        "for item in ['level_0', 'index', 'incident_id', 'data_year']:\n",
        "  if item in crime_numerical_cols:\n",
        "    crime_numerical_cols.remove(item)"
      ]
    },
    {
      "cell_type": "code",
      "execution_count": null,
      "metadata": {
        "id": "X5kUrqFiae3S"
      },
      "outputs": [],
      "source": [
        "# Create a correlation matrix\n",
        "crime_corr = crime_df[crime_numerical_cols].dropna().corr()"
      ]
    },
    {
      "cell_type": "code",
      "execution_count": null,
      "metadata": {
        "id": "ixE6oLzladVB"
      },
      "outputs": [],
      "source": [
        "# # Set the figure size\n",
        "# plt.figure(figsize=(200, 100))\n",
        "\n",
        "# # Create a heatmap of the correlation matrix\n",
        "# sns.heatmap(crime_corr, annot=True)\n",
        "\n",
        "# # Show the plot\n",
        "# plt.show()"
      ]
    },
    {
      "cell_type": "code",
      "execution_count": null,
      "metadata": {
        "id": "QeTwXlW2IiNr"
      },
      "outputs": [],
      "source": [
        "sorted_crime_corrs, crime_corrs_of_interest = do_corr_analysis(crime_corr, 0.1, 1, \"pug_agency_name|state_name\")"
      ]
    },
    {
      "cell_type": "code",
      "execution_count": null,
      "metadata": {
        "id": "yhxqyPqyLfEz"
      },
      "outputs": [],
      "source": [
        "crime_corrs_of_interest"
      ]
    },
    {
      "cell_type": "markdown",
      "metadata": {
        "id": "jAvLA5RDDr_Z"
      },
      "source": [
        "####Quantitative variable figures"
      ]
    },
    {
      "cell_type": "code",
      "execution_count": null,
      "metadata": {
        "id": "MAWBUw5cdDuf"
      },
      "outputs": [],
      "source": [
        "crime_df['total_offender_count'].plot.hist(bins=14, title='total_offender_count', logy=True)"
      ]
    },
    {
      "cell_type": "code",
      "execution_count": null,
      "metadata": {
        "id": "_wJm4Vx5dBUZ"
      },
      "outputs": [],
      "source": [
        "crime_df['adult_victim_count'].plot.hist(bins=15, title='adult_victim_count', logy=True)"
      ]
    },
    {
      "cell_type": "code",
      "execution_count": null,
      "metadata": {
        "id": "vdsK32w2dCMQ"
      },
      "outputs": [],
      "source": [
        "crime_df['juvenile_victim_count'].plot.hist(bins=10, title='juvenile_victim_count', logy=True)"
      ]
    },
    {
      "cell_type": "markdown",
      "metadata": {
        "id": "-misImO6Z-5i"
      },
      "source": [
        "####Categorical variable figures\n"
      ]
    },
    {
      "cell_type": "code",
      "execution_count": null,
      "metadata": {
        "id": "TJ0izC-s7ptE"
      },
      "outputs": [],
      "source": [
        "def plot_column_counts(df, column_name, unique_values, title_phrase, figsize=(20, 5), rotation=90):\n",
        "    # Create a dictionary of unique values and their counts\n",
        "    unique_value_counts = get_col_counts(df, unique_values)\n",
        "\n",
        "    # Sort the dictionary by values in descending order\n",
        "    sorted_value_counts = dict(sorted(unique_value_counts.items(), key=lambda item: item[1], reverse=True))\n",
        "\n",
        "    # Create a bar chart of the sorted valuees and their counts\n",
        "    plt.figure(figsize=figsize)\n",
        "    sns.barplot(x=list(sorted_value_counts.keys()), y=list(sorted_value_counts.values()), log=True)\n",
        "\n",
        "    # Set the title and labels\n",
        "    plt.title(\"Frequency of \" + title_phrase + \" in Hate Crimes\", fontsize=16)\n",
        "    plt.xlabel(title_phrase, fontsize=14)\n",
        "    plt.ylabel(\"Frequency (Log Scale)\", fontsize=14)\n",
        "\n",
        "    # Rotate the x-axis labels for readability\n",
        "    plt.xticks(rotation=rotation)\n",
        "\n",
        "    # Show the plot\n",
        "    plt.show()\n"
      ]
    },
    {
      "cell_type": "code",
      "execution_count": null,
      "metadata": {
        "id": "Fsivn3pPdSRI"
      },
      "outputs": [],
      "source": [
        "crime_df.groupby('region_name').size().sort_values(ascending=False).plot.bar(color=sns.palettes.mpl_palette('Dark2'))\n",
        "plt.xticks(rotation=0)"
      ]
    },
    {
      "cell_type": "code",
      "execution_count": null,
      "metadata": {
        "id": "PpKKqeYKdS9X"
      },
      "outputs": [],
      "source": [
        "crime_df.groupby('offender_race').size().sort_values(ascending=True).plot.barh(color=sns.palettes.mpl_palette('Dark2'), figsize=(10,10), logx=True)"
      ]
    },
    {
      "cell_type": "code",
      "execution_count": null,
      "metadata": {
        "id": "AZsN9S4D738T"
      },
      "outputs": [],
      "source": [
        "plot_column_counts(crime_df, \"bias_desc\", bias_cols, \"Biases\")"
      ]
    },
    {
      "cell_type": "code",
      "execution_count": null,
      "metadata": {
        "id": "fI5Ucyim5aDP"
      },
      "outputs": [],
      "source": [
        "figsize=(20, 5)\n",
        "plot_column_counts(crime_df, \"victim_types\", victim_cols, \"Victims\", figsize, 0)"
      ]
    },
    {
      "cell_type": "code",
      "execution_count": null,
      "metadata": {
        "id": "Iz54ZLzQACIg"
      },
      "outputs": [],
      "source": [
        "plot_column_counts(crime_df, \"offense_name\", offense_cols, \"Offenses\")"
      ]
    },
    {
      "cell_type": "code",
      "execution_count": null,
      "metadata": {
        "id": "xjcHvOOo7E8L"
      },
      "outputs": [],
      "source": [
        "plot_column_counts(crime_df, \"location_names\", location_cols, \"Locations\")"
      ]
    },
    {
      "cell_type": "markdown",
      "metadata": {
        "id": "JgPYBhkAFNHE"
      },
      "source": [
        "####Geographic heat maps"
      ]
    },
    {
      "cell_type": "code",
      "execution_count": null,
      "metadata": {
        "id": "1bSbfApGYkZT"
      },
      "outputs": [],
      "source": [
        "ignore_list = [\"Not Specified\", \"Unknown\", \"Multiple\"]"
      ]
    },
    {
      "cell_type": "code",
      "execution_count": null,
      "metadata": {
        "id": "v0xr78kpdlJQ"
      },
      "outputs": [],
      "source": [
        "plt.subplots(figsize=(8, 8))\n",
        "df_2dhist = pd.DataFrame({\n",
        "    x_label: grp['offender_race'].value_counts()\n",
        "    for x_label, grp in crime_df.groupby('region_name')\n",
        "})\n",
        "\n",
        "# Drop less relevant columns for easier comparison with victim race heatmap\n",
        "for item in ignore_list:\n",
        "  df_2dhist.drop(item, inplace=True)\n",
        "\n",
        "# Apply logarithmic transformation to the counts\n",
        "df_2dhist_log = df_2dhist.applymap(lambda x: 0 if x == 0 else np.log10(x))\n",
        "\n",
        "sns.heatmap(df_2dhist_log, cmap='viridis')\n",
        "plt.title(\"Logarithmic Frequency of Offender Races by Region\")\n",
        "plt.xlabel(\"Region Name\")\n",
        "plt.ylabel(\"Offender Race\")"
      ]
    },
    {
      "cell_type": "code",
      "execution_count": null,
      "metadata": {
        "id": "YvQ1lreAFY9F"
      },
      "outputs": [],
      "source": [
        "# Get some victim races to start with\n",
        "unique_offender_races = crime_df['offender_race'].unique().tolist()\n",
        "\n",
        "# Drop categories absent from victim data\n",
        "for item in ignore_list:\n",
        "  unique_offender_races.remove(item)\n",
        "\n",
        "unique_victim_races = [\"bias_desc_Anti-\" + str(race) for race in unique_offender_races]\n",
        "\n",
        "print(unique_victim_races)"
      ]
    },
    {
      "cell_type": "code",
      "execution_count": null,
      "metadata": {
        "id": "dUBI_MwLKA8K"
      },
      "outputs": [],
      "source": [
        "plt.subplots(figsize=(8, 8))\n",
        "\n",
        "# Initialize an empty DataFrame with the correct index and columns\n",
        "df_2dhist = pd.DataFrame(index=unique_victim_races, columns=crime_df['region_name'].unique())\n",
        "\n",
        "# Iterate over each region and calculate the value counts for each victim race\n",
        "for region in df_2dhist.columns:\n",
        "    region_data = crime_df[crime_df['region_name'] == region]\n",
        "\n",
        "    for victim_race in unique_victim_races:\n",
        "        count = 0\n",
        "        # Sum of occurrences of victim_race in the region\n",
        "        if victim_race in region_data.columns:\n",
        "          count = region_data[victim_race].sum()\n",
        "        # Update the DataFrame cell with the count\n",
        "        df_2dhist.loc[victim_race, region] = count\n",
        "\n",
        "# Convert DataFrame entries to numeric type and drop nan values\n",
        "df_2dhist = df_2dhist.apply(pd.to_numeric)\n",
        "\n",
        "# Apply logarithmic transformation to the counts\n",
        "df_2dhist = df_2dhist.applymap(lambda x: 0 if x == 0 else np.log10(x))\n",
        "\n",
        "# Create the heatmap with logarithmic scale\n",
        "sns.heatmap(df_2dhist, cmap='viridis')\n",
        "\n",
        "# Give the plot a title and axis labels\n",
        "plt.title(\"Logarithmic Frequency of Victim Races by Region\")\n",
        "plt.xlabel(\"Region Name\")\n",
        "plt.ylabel(\"Victim Races\")\n",
        "plt.yticks(rotation=0)\n",
        "\n",
        "plt.show()"
      ]
    },
    {
      "cell_type": "markdown",
      "metadata": {
        "id": "YUTlcM64l91f"
      },
      "source": [
        "###County Demographics Dataset"
      ]
    },
    {
      "cell_type": "code",
      "execution_count": null,
      "metadata": {
        "id": "iGrZDsfNhGau"
      },
      "outputs": [],
      "source": [
        "county_demo_df.head()"
      ]
    },
    {
      "cell_type": "markdown",
      "metadata": {
        "id": "GsRxgRS_a6JV"
      },
      "source": [
        "####Correlation matrix"
      ]
    },
    {
      "cell_type": "code",
      "execution_count": null,
      "metadata": {
        "id": "4MA9UiHVmB2m"
      },
      "outputs": [],
      "source": [
        "county_numerical_cols = list(county_demo_df.select_dtypes(include=[\"int64\", \"float64\"]).columns)"
      ]
    },
    {
      "cell_type": "code",
      "execution_count": null,
      "metadata": {
        "id": "W8fJKoip7jzL"
      },
      "outputs": [],
      "source": [
        "# Create a correlation matrix\n",
        "county_corr = county_demo_df[county_numerical_cols].corr()"
      ]
    },
    {
      "cell_type": "code",
      "execution_count": null,
      "metadata": {
        "id": "9_Q5pIu5IrO-"
      },
      "outputs": [],
      "source": [
        "# # Set the figure size\n",
        "# plt.figure(figsize=(100, 50))\n",
        "\n",
        "# # Create a heatmap of the correlation matrix\n",
        "# sns.heatmap(county_corr, annot=True)\n",
        "\n",
        "# # Show the plot\n",
        "# plt.show()"
      ]
    },
    {
      "cell_type": "code",
      "execution_count": null,
      "metadata": {
        "id": "wZ1tTrdhNMB2"
      },
      "outputs": [],
      "source": [
        "sorted_county_corrs, county_corrs_of_interest = do_corr_analysis(county_corr, 0.2, 0.9, \"pug_agency_name|state_name\")"
      ]
    },
    {
      "cell_type": "code",
      "execution_count": null,
      "metadata": {
        "id": "7agoHmlGDbn9"
      },
      "outputs": [],
      "source": [
        "county_corrs_of_interest"
      ]
    },
    {
      "cell_type": "markdown",
      "metadata": {
        "id": "w30H6uWia9pW"
      },
      "source": [
        "####Other figures"
      ]
    },
    {
      "cell_type": "code",
      "execution_count": null,
      "metadata": {
        "id": "_ZOV2qpz796k"
      },
      "outputs": [],
      "source": [
        "county_demo_df.plot.scatter(x='Under 5 years', y='85 years and over', logx=True, logy=True, s=40, alpha=.8, figsize=(16,8))"
      ]
    },
    {
      "cell_type": "code",
      "execution_count": null,
      "metadata": {
        "id": "l18V6BHn8WZp"
      },
      "outputs": [],
      "source": [
        "county_demo_df[age_groups].mean().plot.bar(figsize=(20,5))\n",
        "plt.xlabel('Age Group')\n",
        "plt.ylabel('Mean Population')\n",
        "plt.title('Mean Population by Age Group in City Demographics')\n",
        "plt.xticks(rotation=0)\n",
        "plt.show()"
      ]
    },
    {
      "cell_type": "markdown",
      "metadata": {
        "id": "Vinl2fh1mEf2"
      },
      "source": [
        "##Merged Datasets"
      ]
    },
    {
      "cell_type": "markdown",
      "metadata": {
        "id": "9HMtDhBPqCjM"
      },
      "source": [
        "###Primary Merged Dataset"
      ]
    },
    {
      "cell_type": "code",
      "execution_count": null,
      "metadata": {
        "id": "QrV7bfizmKKG"
      },
      "outputs": [],
      "source": [
        "merged_df.head()"
      ]
    },
    {
      "cell_type": "markdown",
      "metadata": {
        "id": "409NFkATbD_t"
      },
      "source": [
        "####Correlation Matrix Analysis"
      ]
    },
    {
      "cell_type": "code",
      "execution_count": null,
      "metadata": {
        "id": "Op0QoPC9b2fP"
      },
      "outputs": [],
      "source": [
        "#convert the categorical columns to numerical ones and store the modified df as a new df for correlation analysis\n",
        "categorical_to_int_df = merged_df\\\n",
        "                          .select_dtypes(include=['int64', 'float64', np.number])\\\n",
        "                          .drop(labels=[\"index\", \"incident_id\"], axis=1)\n",
        "# Select only the numerical columns\n",
        "numerical_cols = [col for col in categorical_to_int_df.columns if \"transformed_\" in col]\n",
        "# numerical_cols"
      ]
    },
    {
      "cell_type": "code",
      "execution_count": null,
      "metadata": {
        "id": "PHN8Dby4dvXw"
      },
      "outputs": [],
      "source": [
        "# Create a correlation matrix\n",
        "merged_corr = merged_df[numerical_cols].corr()"
      ]
    },
    {
      "cell_type": "code",
      "execution_count": null,
      "metadata": {
        "id": "dF1JY4Y5u49u"
      },
      "outputs": [],
      "source": [
        "merged_corr_sorted = get_sorted_corrs(merged_corr)\n",
        "merged_corr_sorted.head()"
      ]
    },
    {
      "cell_type": "code",
      "execution_count": null,
      "metadata": {
        "id": "k1gbtXpbYVyq"
      },
      "outputs": [],
      "source": [
        "# remove coefficients that represent variables' correlations with themselves\n",
        "#   and remove feature correlations with other features from the same set (which were reviewed in the individual dataset explorations above)\n",
        "county_cols = list(county_numerical_cols)\n",
        "crime_cols = list(crime_numerical_cols)\n",
        "\n",
        "merged_corr_sorted = merged_corr_sorted[~(\n",
        "    ((merged_corr_sorted[\"feature1\"].isin(county_cols))\n",
        "      & (merged_corr_sorted[\"feature2\"].isin(county_cols)))\n",
        "    | ((merged_corr_sorted[\"feature1\"].isin(crime_cols))\n",
        "      & (merged_corr_sorted[\"feature2\"].isin(crime_cols)))\n",
        ")]"
      ]
    },
    {
      "cell_type": "code",
      "execution_count": null,
      "metadata": {
        "id": "fkz703cbtr2d"
      },
      "outputs": [],
      "source": [
        "merged_corr_sorted.head()"
      ]
    },
    {
      "cell_type": "code",
      "execution_count": null,
      "metadata": {
        "id": "DCFkpsR7rLlN"
      },
      "outputs": [],
      "source": [
        "# drop half the entries, which are essentially duplicates,\n",
        "#   as well as any np.nan entries and entries with low correlation coefficients or exceedingly high correlation coefficients,\n",
        "#   which have already been considered previously or present trivial correlation information\n",
        "#   (ie the number of individuals under 5 years of age is directly correlated with the total population)\n",
        "merged_corr_sorted, merged_corrs_of_interest = do_corr_analysis(merged_corr, 0.1, 1, \"state_name|division_name|pug_agency_name|index|incident_id\", merged_corr_sorted)"
      ]
    },
    {
      "cell_type": "code",
      "execution_count": null,
      "metadata": {
        "id": "XXVOdJ42DWXG"
      },
      "outputs": [],
      "source": [
        "merged_corrs_of_interest"
      ]
    },
    {
      "cell_type": "code",
      "execution_count": null,
      "metadata": {
        "id": "ddWQujwq0hpl"
      },
      "outputs": [],
      "source": [
        "merged_corrs_of_interest.iloc[0][\"feature1\"]"
      ]
    },
    {
      "cell_type": "markdown",
      "metadata": {
        "id": "_7MJ2dxetPHb"
      },
      "source": [
        "####Other Figures"
      ]
    },
    {
      "cell_type": "code",
      "execution_count": null,
      "metadata": {
        "id": "kfLVnlf6tR70"
      },
      "outputs": [],
      "source": [
        "merged_df.plot.scatter(x=\"transformed_Percent!!RACE!!One race!!White\", y=\"transformed_Percent!!45 to 54 years\")"
      ]
    },
    {
      "cell_type": "markdown",
      "metadata": {
        "id": "p_cvZP7ItcMb"
      },
      "source": [
        "###County Feature Prediction Dataset"
      ]
    },
    {
      "cell_type": "code",
      "execution_count": null,
      "metadata": {
        "id": "RijJessKMdV2"
      },
      "outputs": [],
      "source": [
        "county_hate_rates_df.head()"
      ]
    },
    {
      "cell_type": "markdown",
      "metadata": {
        "id": "Ik-1EqR8toM0"
      },
      "source": [
        "####Correlation Analysis"
      ]
    },
    {
      "cell_type": "code",
      "execution_count": null,
      "metadata": {
        "id": "Auo3u5Ltuca7"
      },
      "outputs": [],
      "source": [
        "hate_rate_corr = county_hate_rates_df[hate_rate_numerical_cols].corr()"
      ]
    },
    {
      "cell_type": "code",
      "execution_count": null,
      "metadata": {
        "id": "t0d2j1-Ywr6y"
      },
      "outputs": [],
      "source": [
        "hate_rate_corr.head()"
      ]
    },
    {
      "cell_type": "code",
      "execution_count": null,
      "metadata": {
        "id": "KRZm4Ob7vogE"
      },
      "outputs": [],
      "source": [
        "# # Set the figure size\n",
        "# plt.figure(figsize=(100, 50))\n",
        "\n",
        "# # Create a heatmap of the correlation matrix\n",
        "# sns.heatmap(hate_rate_corr, annot=True)\n",
        "\n",
        "# # Show the plot\n",
        "# plt.show()"
      ]
    },
    {
      "cell_type": "code",
      "execution_count": null,
      "metadata": {
        "id": "j3QQ_oUWtm-9"
      },
      "outputs": [],
      "source": [
        "extracted_sorted_corrs, extracted_corrs_of_interest = do_corr_analysis(hate_rate_corr[\"transformed_hate_crime_rate\"], 0.1, 1.01, \"state_name|division_name|pug_agency_name\")"
      ]
    },
    {
      "cell_type": "code",
      "execution_count": null,
      "metadata": {
        "id": "_ViTVvVHQZRi"
      },
      "outputs": [],
      "source": [
        "# look at just the correlations between the hate crime rate and other features\n",
        "hate_rate_corr.loc[\"transformed_hate_crime_rate\"].sort_values(ascending=False)"
      ]
    },
    {
      "cell_type": "markdown",
      "metadata": {
        "id": "b4dpFN6UWqCx"
      },
      "source": [
        "####Scatter Plots"
      ]
    },
    {
      "cell_type": "code",
      "execution_count": null,
      "metadata": {
        "id": "VAllRLeNVRcq"
      },
      "outputs": [],
      "source": [
        "county_hate_rates_df.plot.scatter(x=\"transformed_Percent!!Race alone or in combination with one or more other races!!White\", y=\"transformed_hate_crime_rate\")"
      ]
    },
    {
      "cell_type": "code",
      "execution_count": null,
      "metadata": {
        "id": "ToSgGyiGVCyh"
      },
      "outputs": [],
      "source": [
        "county_hate_rates_df.plot.scatter(x=\"transformed_Percent!!RACE!!Two or More Races\", y=\"transformed_hate_crime_rate\")"
      ]
    },
    {
      "cell_type": "code",
      "execution_count": null,
      "metadata": {
        "id": "MR56ctT4WAQJ"
      },
      "outputs": [],
      "source": [
        "county_hate_rates_df.plot.scatter(x=\"transformed_Percent!!Race alone or in combination with one or more other races!!American Indian and Alaska Native\", y=\"transformed_hate_crime_rate\")"
      ]
    },
    {
      "cell_type": "code",
      "execution_count": null,
      "metadata": {
        "id": "OmkvNqD2WgsB"
      },
      "outputs": [],
      "source": [
        "county_hate_rates_df.plot.scatter(x=\"transformed_Under 5 years\", y=\"transformed_hate_crime_rate\")"
      ]
    },
    {
      "cell_type": "code",
      "execution_count": null,
      "metadata": {
        "id": "Nxc-Cc2FVpfp"
      },
      "outputs": [],
      "source": [
        "county_hate_rates_df.plot.scatter(x=\"transformed_Percent!!RACE!!One race!!White\", y=\"transformed_hate_crime_rate\")"
      ]
    },
    {
      "cell_type": "code",
      "execution_count": null,
      "metadata": {
        "id": "ZM2IZgkl8Wyw"
      },
      "outputs": [],
      "source": [
        "county_hate_rates_df.plot.scatter(x=\"transformed_Percent!!RACE!!One race\", y=\"transformed_hate_crime_rate\")"
      ]
    },
    {
      "cell_type": "markdown",
      "metadata": {
        "id": "oRvRCE7GT9Dp"
      },
      "source": [
        "#Data Prediction"
      ]
    },
    {
      "cell_type": "code",
      "execution_count": null,
      "metadata": {
        "id": "LSi0eccz3HVN"
      },
      "outputs": [],
      "source": [
        "# designate the training data\n",
        "training_cols = [col for col in hate_rate_numerical_cols if (not \"hate_crime_rate\" in col) and (\"transformed_\" in col)]\n",
        "x_train_df = county_hate_rates_df[training_cols]\n",
        "y_train_df = county_hate_rates_df[\"transformed_hate_crime_rate\"]\n",
        "\n",
        "# designate a single feature for viewing the model's predictions relative to its transformed value\n",
        "review_feature = \"transformed_Percent!!Race alone or in combination with one or more other races!!White\""
      ]
    },
    {
      "cell_type": "code",
      "execution_count": null,
      "metadata": {
        "id": "4yvL2dHu3Iel"
      },
      "outputs": [],
      "source": [
        "x_train_df.head()"
      ]
    },
    {
      "cell_type": "markdown",
      "metadata": {
        "id": "e9zLrddw00yn"
      },
      "source": [
        "##Linear Regression on All Transformed Data"
      ]
    },
    {
      "cell_type": "code",
      "execution_count": null,
      "metadata": {
        "id": "lS88iU_5hoxv"
      },
      "outputs": [],
      "source": [
        "hate_regression_model = LinearRegression()\n",
        "hate_regression_model.fit(\n",
        "    X=x_train_df.dropna(),\n",
        "    y=y_train_df.dropna()\n",
        ")"
      ]
    },
    {
      "cell_type": "markdown",
      "metadata": {
        "id": "ZctrqQhx2Jzg"
      },
      "source": [
        "####Observe regression line for individual feature"
      ]
    },
    {
      "cell_type": "code",
      "execution_count": null,
      "metadata": {
        "id": "Ztqj601UjKSW"
      },
      "outputs": [],
      "source": [
        "coefficients = hate_regression_model.coef_\n",
        "intercept = hate_regression_model.intercept_"
      ]
    },
    {
      "cell_type": "code",
      "execution_count": null,
      "metadata": {
        "id": "0Po277Nmj7vt"
      },
      "outputs": [],
      "source": [
        "# create a scatter plot of the data\n",
        "county_hate_rates_df.plot.scatter(x=review_feature, y=\"transformed_hate_crime_rate\")\n",
        "\n",
        "x = x_train_df[review_feature]\n",
        "plt.plot(x, coefficients[x_train_df.columns.get_loc(review_feature)] * x)"
      ]
    },
    {
      "cell_type": "markdown",
      "metadata": {
        "id": "RdwKbym31BuI"
      },
      "source": [
        "##K-Nearest-Neighbors on Review Feature"
      ]
    },
    {
      "cell_type": "code",
      "execution_count": null,
      "metadata": {
        "id": "1Z3Icvfe3k-w"
      },
      "outputs": [],
      "source": [
        "# reformat the training data\n",
        "x_train_df = pd.DataFrame(x_train_df[review_feature]).dropna()\n",
        "y_train_df.dropna(inplace=True)\n",
        "\n",
        "# create the test data\n",
        "x_test = pd.DataFrame()\n",
        "x_test[review_feature] = np.linspace(-2, 5, 1000)\n",
        "\n",
        "# try various different values of k\n",
        "for k in range(50, len(x_train_df), 50):\n",
        "    # create and fit the model\n",
        "    hate_knn_model = KNeighborsRegressor(n_neighbors=k)\n",
        "    hate_knn_model.fit(X=x_train_df, y=y_train_df)\n",
        "\n",
        "    # get the model's predictions\n",
        "    y_pred = pd.Series(\n",
        "        hate_knn_model.predict(x_test),\n",
        "        index=x_test[review_feature]\n",
        "    )\n",
        "\n",
        "    # plot knn model predictions\n",
        "    y_pred.plot.line(label=(\"k = \" + str(k))).legend()\n",
        "\n",
        "# create a scatter plot of the data\n",
        "county_hate_rates_df.plot.scatter(x=review_feature, y=\"transformed_hate_crime_rate\")"
      ]
    },
    {
      "cell_type": "code",
      "source": [],
      "metadata": {
        "id": "nedCPqMNWEaw"
      },
      "execution_count": null,
      "outputs": []
    }
  ],
  "metadata": {
    "colab": {
      "collapsed_sections": [
        "CMmPAMsD4kTu",
        "FD7BLMPTzjTk",
        "oYwpwcA8aqsI",
        "zouCbvk6_ccD",
        "Ns7wjEW0bLTL",
        "8hlE0Oe8bUbd",
        "DOTL5sepL1RN",
        "_jVRTkrMofxu",
        "7s_ph3jfiVxi",
        "ZG88dmq02lIL",
        "_cqKYZsd2lsB",
        "RPFb37dS4RwR",
        "SuDKvSRq64ev",
        "ecZsjBHeaH-W",
        "-misImO6Z-5i",
        "JgPYBhkAFNHE",
        "GsRxgRS_a6JV",
        "9HMtDhBPqCjM",
        "409NFkATbD_t",
        "_7MJ2dxetPHb",
        "e9zLrddw00yn",
        "ZctrqQhx2Jzg"
      ],
      "provenance": [],
      "include_colab_link": true
    },
    "kernelspec": {
      "display_name": "Python 3",
      "name": "python3"
    },
    "language_info": {
      "name": "python"
    }
  },
  "nbformat": 4,
  "nbformat_minor": 0
}